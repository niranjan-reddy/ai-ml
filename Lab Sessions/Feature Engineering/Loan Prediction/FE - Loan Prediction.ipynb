{
 "cells": [
  {
   "cell_type": "markdown",
   "metadata": {},
   "source": [
    "1. Business Problem Understanding\n",
    "2. Data Acquisition\n",
    "3. Data Preparation\n",
    "4. EDA\n",
    "5. Feature Engineering\n",
    "6. Model Selection and Building"
   ]
  },
  {
   "cell_type": "code",
   "execution_count": 1,
   "metadata": {},
   "outputs": [],
   "source": [
    "import pandas as pd\n",
    "import numpy as np"
   ]
  },
  {
   "cell_type": "code",
   "execution_count": 2,
   "metadata": {},
   "outputs": [
    {
     "data": {
      "text/html": [
       "<div>\n",
       "<style scoped>\n",
       "    .dataframe tbody tr th:only-of-type {\n",
       "        vertical-align: middle;\n",
       "    }\n",
       "\n",
       "    .dataframe tbody tr th {\n",
       "        vertical-align: top;\n",
       "    }\n",
       "\n",
       "    .dataframe thead th {\n",
       "        text-align: right;\n",
       "    }\n",
       "</style>\n",
       "<table border=\"1\" class=\"dataframe\">\n",
       "  <thead>\n",
       "    <tr style=\"text-align: right;\">\n",
       "      <th></th>\n",
       "      <th>Loan_ID</th>\n",
       "      <th>Gender</th>\n",
       "      <th>Married</th>\n",
       "      <th>Self_Employed</th>\n",
       "      <th>Education</th>\n",
       "      <th>Applicant_Income</th>\n",
       "      <th>Dependents</th>\n",
       "      <th>Loan_Amt</th>\n",
       "      <th>Tenure</th>\n",
       "      <th>CoapplicantIncome</th>\n",
       "      <th>Credit_History</th>\n",
       "      <th>Approved</th>\n",
       "    </tr>\n",
       "  </thead>\n",
       "  <tbody>\n",
       "    <tr>\n",
       "      <th>0</th>\n",
       "      <td>L1</td>\n",
       "      <td>M</td>\n",
       "      <td>Yes</td>\n",
       "      <td>NaN</td>\n",
       "      <td>Grad</td>\n",
       "      <td>2600</td>\n",
       "      <td>0</td>\n",
       "      <td>115.0</td>\n",
       "      <td>NaN</td>\n",
       "      <td>3500</td>\n",
       "      <td>Yes</td>\n",
       "      <td>Y</td>\n",
       "    </tr>\n",
       "    <tr>\n",
       "      <th>1</th>\n",
       "      <td>L2</td>\n",
       "      <td>M</td>\n",
       "      <td>Yes</td>\n",
       "      <td>0.0</td>\n",
       "      <td>Grad</td>\n",
       "      <td>5649</td>\n",
       "      <td>1</td>\n",
       "      <td>44.0</td>\n",
       "      <td>360.0</td>\n",
       "      <td>0</td>\n",
       "      <td>Yes</td>\n",
       "      <td>Y</td>\n",
       "    </tr>\n",
       "    <tr>\n",
       "      <th>2</th>\n",
       "      <td>L3</td>\n",
       "      <td>M</td>\n",
       "      <td>Yes</td>\n",
       "      <td>0.0</td>\n",
       "      <td>Grad</td>\n",
       "      <td>3988</td>\n",
       "      <td>1</td>\n",
       "      <td>50.0</td>\n",
       "      <td>240.0</td>\n",
       "      <td>0</td>\n",
       "      <td>Yes</td>\n",
       "      <td>Y</td>\n",
       "    </tr>\n",
       "    <tr>\n",
       "      <th>3</th>\n",
       "      <td>L4</td>\n",
       "      <td>M</td>\n",
       "      <td>Yes</td>\n",
       "      <td>1.0</td>\n",
       "      <td>Grad</td>\n",
       "      <td>3316</td>\n",
       "      <td>2</td>\n",
       "      <td>88.0</td>\n",
       "      <td>360.0</td>\n",
       "      <td>3500</td>\n",
       "      <td>Yes</td>\n",
       "      <td>Y</td>\n",
       "    </tr>\n",
       "    <tr>\n",
       "      <th>4</th>\n",
       "      <td>L5</td>\n",
       "      <td>NaN</td>\n",
       "      <td>Yes</td>\n",
       "      <td>0.0</td>\n",
       "      <td>Grad</td>\n",
       "      <td>51763</td>\n",
       "      <td>3+</td>\n",
       "      <td>700.0</td>\n",
       "      <td>300.0</td>\n",
       "      <td>0</td>\n",
       "      <td>Yes</td>\n",
       "      <td>Y</td>\n",
       "    </tr>\n",
       "  </tbody>\n",
       "</table>\n",
       "</div>"
      ],
      "text/plain": [
       "  Loan_ID Gender Married  Self_Employed Education  Applicant_Income  \\\n",
       "0      L1      M     Yes            NaN      Grad              2600   \n",
       "1      L2      M     Yes            0.0      Grad              5649   \n",
       "2      L3      M     Yes            0.0      Grad              3988   \n",
       "3      L4      M     Yes            1.0      Grad              3316   \n",
       "4      L5    NaN     Yes            0.0      Grad             51763   \n",
       "\n",
       "  Dependents  Loan_Amt  Tenure  CoapplicantIncome Credit_History Approved  \n",
       "0          0     115.0     NaN               3500            Yes        Y  \n",
       "1          1      44.0   360.0                  0            Yes        Y  \n",
       "2          1      50.0   240.0                  0            Yes        Y  \n",
       "3          2      88.0   360.0               3500            Yes        Y  \n",
       "4         3+     700.0   300.0                  0            Yes        Y  "
      ]
     },
     "execution_count": 2,
     "metadata": {},
     "output_type": "execute_result"
    }
   ],
   "source": [
    "dfu = pd.read_csv(\"Case Study 2 - Loan Prediction/Urban_loans.csv\")\n",
    "dfu.head()"
   ]
  },
  {
   "cell_type": "code",
   "execution_count": 3,
   "metadata": {},
   "outputs": [
    {
     "data": {
      "text/html": [
       "<div>\n",
       "<style scoped>\n",
       "    .dataframe tbody tr th:only-of-type {\n",
       "        vertical-align: middle;\n",
       "    }\n",
       "\n",
       "    .dataframe tbody tr th {\n",
       "        vertical-align: top;\n",
       "    }\n",
       "\n",
       "    .dataframe thead th {\n",
       "        text-align: right;\n",
       "    }\n",
       "</style>\n",
       "<table border=\"1\" class=\"dataframe\">\n",
       "  <thead>\n",
       "    <tr style=\"text-align: right;\">\n",
       "      <th></th>\n",
       "      <th>LID</th>\n",
       "      <th>Gender</th>\n",
       "      <th>Applicant_Income</th>\n",
       "      <th>Dependents</th>\n",
       "      <th>Education</th>\n",
       "      <th>Marrital_Status</th>\n",
       "      <th>Self_Employed</th>\n",
       "      <th>LoanAmt</th>\n",
       "      <th>LoanAmountTerm</th>\n",
       "      <th>Coapplicant_Income</th>\n",
       "      <th>Credit_History</th>\n",
       "      <th>Approved</th>\n",
       "    </tr>\n",
       "  </thead>\n",
       "  <tbody>\n",
       "    <tr>\n",
       "      <th>0</th>\n",
       "      <td>Semi76</td>\n",
       "      <td>M</td>\n",
       "      <td>9560</td>\n",
       "      <td>0</td>\n",
       "      <td>G</td>\n",
       "      <td>1.0</td>\n",
       "      <td>Yes</td>\n",
       "      <td>191.0</td>\n",
       "      <td>360</td>\n",
       "      <td>0</td>\n",
       "      <td>1.0</td>\n",
       "      <td>1</td>\n",
       "    </tr>\n",
       "    <tr>\n",
       "      <th>1</th>\n",
       "      <td>Semi77</td>\n",
       "      <td>M</td>\n",
       "      <td>1875</td>\n",
       "      <td>2</td>\n",
       "      <td>NG</td>\n",
       "      <td>1.0</td>\n",
       "      <td>Yes</td>\n",
       "      <td>97.0</td>\n",
       "      <td>360</td>\n",
       "      <td>1875</td>\n",
       "      <td>1.0</td>\n",
       "      <td>1</td>\n",
       "    </tr>\n",
       "    <tr>\n",
       "      <th>2</th>\n",
       "      <td>Semi78</td>\n",
       "      <td>M</td>\n",
       "      <td>6000</td>\n",
       "      <td>0</td>\n",
       "      <td>G</td>\n",
       "      <td>1.0</td>\n",
       "      <td>No</td>\n",
       "      <td>265.0</td>\n",
       "      <td>360</td>\n",
       "      <td>2250</td>\n",
       "      <td>NaN</td>\n",
       "      <td>0</td>\n",
       "    </tr>\n",
       "    <tr>\n",
       "      <th>3</th>\n",
       "      <td>Semi79</td>\n",
       "      <td>M</td>\n",
       "      <td>3748</td>\n",
       "      <td>0</td>\n",
       "      <td>NG</td>\n",
       "      <td>-1.0</td>\n",
       "      <td>No</td>\n",
       "      <td>110.0</td>\n",
       "      <td>360</td>\n",
       "      <td>1668</td>\n",
       "      <td>1.0</td>\n",
       "      <td>1</td>\n",
       "    </tr>\n",
       "    <tr>\n",
       "      <th>4</th>\n",
       "      <td>Semi80</td>\n",
       "      <td>F</td>\n",
       "      <td>4166</td>\n",
       "      <td>0</td>\n",
       "      <td>G</td>\n",
       "      <td>-1.0</td>\n",
       "      <td>No</td>\n",
       "      <td>116.0</td>\n",
       "      <td>360</td>\n",
       "      <td>0</td>\n",
       "      <td>0.0</td>\n",
       "      <td>0</td>\n",
       "    </tr>\n",
       "  </tbody>\n",
       "</table>\n",
       "</div>"
      ],
      "text/plain": [
       "      LID Gender  Applicant_Income Dependents Education  Marrital_Status  \\\n",
       "0  Semi76      M              9560          0         G              1.0   \n",
       "1  Semi77      M              1875          2        NG              1.0   \n",
       "2  Semi78      M              6000          0         G              1.0   \n",
       "3  Semi79      M              3748          0        NG             -1.0   \n",
       "4  Semi80      F              4166          0         G             -1.0   \n",
       "\n",
       "  Self_Employed  LoanAmt  LoanAmountTerm  Coapplicant_Income  Credit_History  \\\n",
       "0           Yes    191.0             360                   0             1.0   \n",
       "1           Yes     97.0             360                1875             1.0   \n",
       "2            No    265.0             360                2250             NaN   \n",
       "3            No    110.0             360                1668             1.0   \n",
       "4            No    116.0             360                   0             0.0   \n",
       "\n",
       "   Approved  \n",
       "0         1  \n",
       "1         1  \n",
       "2         0  \n",
       "3         1  \n",
       "4         0  "
      ]
     },
     "execution_count": 3,
     "metadata": {},
     "output_type": "execute_result"
    }
   ],
   "source": [
    "dfs = pd.read_csv(\"Case Study 2 - Loan Prediction/Semi_Urban_loans.csv\")\n",
    "dfs.head()"
   ]
  },
  {
   "cell_type": "code",
   "execution_count": 4,
   "metadata": {},
   "outputs": [
    {
     "data": {
      "text/html": [
       "<div>\n",
       "<style scoped>\n",
       "    .dataframe tbody tr th:only-of-type {\n",
       "        vertical-align: middle;\n",
       "    }\n",
       "\n",
       "    .dataframe tbody tr th {\n",
       "        vertical-align: top;\n",
       "    }\n",
       "\n",
       "    .dataframe thead th {\n",
       "        text-align: right;\n",
       "    }\n",
       "</style>\n",
       "<table border=\"1\" class=\"dataframe\">\n",
       "  <thead>\n",
       "    <tr style=\"text-align: right;\">\n",
       "      <th></th>\n",
       "      <th>Loan_ID</th>\n",
       "      <th>Sex</th>\n",
       "      <th>Marrital_Status</th>\n",
       "      <th>DependentsCount</th>\n",
       "      <th>Self_Employed</th>\n",
       "      <th>Education</th>\n",
       "      <th>Loan_Term</th>\n",
       "      <th>LoanAmount</th>\n",
       "      <th>Income</th>\n",
       "      <th>Loan_Status</th>\n",
       "    </tr>\n",
       "  </thead>\n",
       "  <tbody>\n",
       "    <tr>\n",
       "      <th>0</th>\n",
       "      <td>R36</td>\n",
       "      <td>NaN</td>\n",
       "      <td>Yes</td>\n",
       "      <td>2</td>\n",
       "      <td>0.0</td>\n",
       "      <td>NG</td>\n",
       "      <td>360</td>\n",
       "      <td>112.0</td>\n",
       "      <td>3365</td>\n",
       "      <td>No</td>\n",
       "    </tr>\n",
       "    <tr>\n",
       "      <th>1</th>\n",
       "      <td>R37</td>\n",
       "      <td>1.0</td>\n",
       "      <td>Yes</td>\n",
       "      <td>1</td>\n",
       "      <td>0.0</td>\n",
       "      <td>NG</td>\n",
       "      <td>180</td>\n",
       "      <td>113.0</td>\n",
       "      <td>2653</td>\n",
       "      <td>No</td>\n",
       "    </tr>\n",
       "    <tr>\n",
       "      <th>2</th>\n",
       "      <td>R38</td>\n",
       "      <td>1.0</td>\n",
       "      <td>No</td>\n",
       "      <td>0</td>\n",
       "      <td>0.0</td>\n",
       "      <td>G</td>\n",
       "      <td>360</td>\n",
       "      <td>NaN</td>\n",
       "      <td>3865</td>\n",
       "      <td>Yes</td>\n",
       "    </tr>\n",
       "    <tr>\n",
       "      <th>3</th>\n",
       "      <td>R39</td>\n",
       "      <td>1.0</td>\n",
       "      <td>Yes</td>\n",
       "      <td>2</td>\n",
       "      <td>0.0</td>\n",
       "      <td>G</td>\n",
       "      <td>360</td>\n",
       "      <td>185.0</td>\n",
       "      <td>5042</td>\n",
       "      <td>No</td>\n",
       "    </tr>\n",
       "    <tr>\n",
       "      <th>4</th>\n",
       "      <td>R40</td>\n",
       "      <td>1.0</td>\n",
       "      <td>Yes</td>\n",
       "      <td>2</td>\n",
       "      <td>0.0</td>\n",
       "      <td>G</td>\n",
       "      <td>360</td>\n",
       "      <td>158.0</td>\n",
       "      <td>4167</td>\n",
       "      <td>Yes</td>\n",
       "    </tr>\n",
       "  </tbody>\n",
       "</table>\n",
       "</div>"
      ],
      "text/plain": [
       "  Loan_ID  Sex Marrital_Status DependentsCount  Self_Employed Education  \\\n",
       "0     R36  NaN             Yes               2            0.0        NG   \n",
       "1     R37  1.0             Yes               1            0.0        NG   \n",
       "2     R38  1.0              No               0            0.0         G   \n",
       "3     R39  1.0             Yes               2            0.0         G   \n",
       "4     R40  1.0             Yes               2            0.0         G   \n",
       "\n",
       "   Loan_Term  LoanAmount  Income Loan_Status  \n",
       "0        360       112.0    3365          No  \n",
       "1        180       113.0    2653          No  \n",
       "2        360         NaN    3865         Yes  \n",
       "3        360       185.0    5042          No  \n",
       "4        360       158.0    4167         Yes  "
      ]
     },
     "execution_count": 4,
     "metadata": {},
     "output_type": "execute_result"
    }
   ],
   "source": [
    "dfr = pd.read_csv(\"Case Study 2 - Loan Prediction/Rural_loans.csv\")\n",
    "dfr.head()"
   ]
  },
  {
   "cell_type": "code",
   "execution_count": 5,
   "metadata": {},
   "outputs": [
    {
     "name": "stdout",
     "output_type": "stream",
     "text": [
      "(35, 12) (39, 12) (40, 10)\n"
     ]
    }
   ],
   "source": [
    "print(dfu.shape, dfs.shape, dfr.shape)"
   ]
  },
  {
   "cell_type": "code",
   "execution_count": 6,
   "metadata": {},
   "outputs": [
    {
     "name": "stdout",
     "output_type": "stream",
     "text": [
      "Index(['Loan_ID', 'Gender', 'Married', 'Self_Employed', 'Education',\n",
      "       'Applicant_Income', 'Dependents', 'Loan_Amt', 'Tenure',\n",
      "       'CoapplicantIncome', 'Credit_History', 'Approved'],\n",
      "      dtype='object')\n",
      "Index(['LID', 'Gender', 'Applicant_Income', 'Dependents', 'Education',\n",
      "       'Marrital_Status', 'Self_Employed', 'LoanAmt', 'LoanAmountTerm',\n",
      "       'Coapplicant_Income', 'Credit_History', 'Approved'],\n",
      "      dtype='object')\n",
      "Index(['Loan_ID', 'Sex', 'Marrital_Status', 'DependentsCount', 'Self_Employed',\n",
      "       'Education', 'Loan_Term', 'LoanAmount', 'Income', 'Loan_Status'],\n",
      "      dtype='object')\n"
     ]
    }
   ],
   "source": [
    "print(dfu.columns)\n",
    "print(dfs.columns)\n",
    "print(dfr.columns)"
   ]
  },
  {
   "cell_type": "markdown",
   "metadata": {},
   "source": [
    "### Data Preparation"
   ]
  },
  {
   "cell_type": "code",
   "execution_count": 7,
   "metadata": {
    "scrolled": false
   },
   "outputs": [
    {
     "data": {
      "text/plain": [
       "{'Applicant_Income',\n",
       " 'Approved',\n",
       " 'CoapplicantIncome',\n",
       " 'Coapplicant_Income',\n",
       " 'Credit_History',\n",
       " 'Dependents',\n",
       " 'DependentsCount',\n",
       " 'Education',\n",
       " 'Gender',\n",
       " 'Income',\n",
       " 'LID',\n",
       " 'LoanAmount',\n",
       " 'LoanAmountTerm',\n",
       " 'LoanAmt',\n",
       " 'Loan_Amt',\n",
       " 'Loan_ID',\n",
       " 'Loan_Status',\n",
       " 'Loan_Term',\n",
       " 'Married',\n",
       " 'Marrital_Status',\n",
       " 'Self_Employed',\n",
       " 'Sex',\n",
       " 'Tenure'}"
      ]
     },
     "execution_count": 7,
     "metadata": {},
     "output_type": "execute_result"
    }
   ],
   "source": [
    "set(dfu.columns.append(dfs.columns).append(dfr.columns))"
   ]
  },
  {
   "cell_type": "markdown",
   "metadata": {},
   "source": [
    "Check Unique Values"
   ]
  },
  {
   "cell_type": "code",
   "execution_count": 8,
   "metadata": {},
   "outputs": [
    {
     "data": {
      "text/plain": [
       "array(['M', nan, 'F'], dtype=object)"
      ]
     },
     "execution_count": 8,
     "metadata": {},
     "output_type": "execute_result"
    }
   ],
   "source": [
    "dfu.Gender.unique()"
   ]
  },
  {
   "cell_type": "code",
   "execution_count": 9,
   "metadata": {},
   "outputs": [
    {
     "data": {
      "text/plain": [
       "array(['Yes', 'No'], dtype=object)"
      ]
     },
     "execution_count": 9,
     "metadata": {},
     "output_type": "execute_result"
    }
   ],
   "source": [
    "dfu.Married.unique()"
   ]
  },
  {
   "cell_type": "code",
   "execution_count": 10,
   "metadata": {},
   "outputs": [
    {
     "data": {
      "text/plain": [
       "array([nan,  0.,  1.])"
      ]
     },
     "execution_count": 10,
     "metadata": {},
     "output_type": "execute_result"
    }
   ],
   "source": [
    "dfu.Self_Employed.unique()"
   ]
  },
  {
   "cell_type": "code",
   "execution_count": 11,
   "metadata": {},
   "outputs": [
    {
     "name": "stdout",
     "output_type": "stream",
     "text": [
      "Gender ['M' nan 'F']\n",
      "------------------\n",
      "Married ['Yes' 'No']\n",
      "------------------\n",
      "Self_Employed [nan  0.  1.]\n",
      "------------------\n",
      "Education ['Grad' 'NonGrad']\n",
      "------------------\n",
      "Credit_History ['Yes' 'No' nan]\n",
      "------------------\n",
      "Approved ['Y' 'N']\n",
      "------------------\n"
     ]
    }
   ],
   "source": [
    "cols = ['Gender', 'Married', 'Self_Employed','Education','Credit_History','Approved']\n",
    "\n",
    "for col in cols:\n",
    "    print(col,dfu[col].unique())\n",
    "    print(\"------------------\")"
   ]
  },
  {
   "cell_type": "code",
   "execution_count": 12,
   "metadata": {},
   "outputs": [
    {
     "name": "stdout",
     "output_type": "stream",
     "text": [
      "Gender ['M' 'F' nan]\n",
      "------------------\n",
      "Marrital_Status [ 1. -1. nan]\n",
      "------------------\n",
      "Self_Employed ['Yes' 'No' nan]\n",
      "------------------\n",
      "Education ['G' 'NG']\n",
      "------------------\n",
      "Credit_History [ 1. nan  0.]\n",
      "------------------\n",
      "Approved [1 0]\n",
      "------------------\n"
     ]
    }
   ],
   "source": [
    "cols = ['Gender', 'Marrital_Status', 'Self_Employed','Education','Credit_History','Approved']\n",
    "\n",
    "for col in cols:\n",
    "    print(col,dfs[col].unique())\n",
    "    print(\"------------------\")"
   ]
  },
  {
   "cell_type": "code",
   "execution_count": 13,
   "metadata": {},
   "outputs": [
    {
     "name": "stdout",
     "output_type": "stream",
     "text": [
      "Sex [nan  1.  0.]\n",
      "------------------\n",
      "Marrital_Status ['Yes' 'No']\n",
      "------------------\n",
      "Self_Employed [ 0.  1. nan]\n",
      "------------------\n",
      "Education ['NG' 'G']\n",
      "------------------\n",
      "Loan_Status ['No' 'Yes']\n",
      "------------------\n"
     ]
    }
   ],
   "source": [
    "cols = ['Sex', 'Marrital_Status', 'Self_Employed','Education','Loan_Status']\n",
    "\n",
    "for col in cols:\n",
    "    print(col,dfr[col].unique())\n",
    "    print(\"------------------\")"
   ]
  },
  {
   "cell_type": "code",
   "execution_count": 14,
   "metadata": {},
   "outputs": [
    {
     "data": {
      "text/plain": [
       "Index(['Loan_ID', 'Gender', 'Married', 'Self_Employed', 'Education',\n",
       "       'Applicant_Income', 'Dependents', 'Loan_Amt', 'Tenure',\n",
       "       'CoapplicantIncome', 'Credit_History', 'Approved'],\n",
       "      dtype='object')"
      ]
     },
     "execution_count": 14,
     "metadata": {},
     "output_type": "execute_result"
    }
   ],
   "source": [
    "dfu.columns"
   ]
  },
  {
   "cell_type": "code",
   "execution_count": 15,
   "metadata": {},
   "outputs": [],
   "source": [
    "dfu['Property_Location'] = 'URBAN'"
   ]
  },
  {
   "cell_type": "code",
   "execution_count": 16,
   "metadata": {},
   "outputs": [],
   "source": [
    "dfs['Property_Location'] = 'SEMI_URBAN'\n",
    "dfr['Property_Location'] = 'RURAL'"
   ]
  },
  {
   "cell_type": "code",
   "execution_count": 17,
   "metadata": {},
   "outputs": [],
   "source": [
    "dfr.Sex = dfr.Sex.replace({1:\"M\",0:\"F\"})"
   ]
  },
  {
   "cell_type": "code",
   "execution_count": 18,
   "metadata": {},
   "outputs": [],
   "source": [
    "dfs.Marrital_Status.replace({1:\"Yes\", -1:\"No\"}, inplace=True)"
   ]
  },
  {
   "cell_type": "code",
   "execution_count": 19,
   "metadata": {},
   "outputs": [],
   "source": [
    "dfs.Self_Employed.replace({\"Yes\":1,\"No\":0},inplace=True)"
   ]
  },
  {
   "cell_type": "code",
   "execution_count": 20,
   "metadata": {},
   "outputs": [],
   "source": [
    "dfu.Education.replace({\"Grad\":\"G\",\"NonGrad\":\"NG\"},inplace=True)"
   ]
  },
  {
   "cell_type": "code",
   "execution_count": 21,
   "metadata": {},
   "outputs": [],
   "source": [
    "dfs.Approved.replace({1:\"Y\",0:\"N\"},inplace=True)\n",
    "dfr.Loan_Status.replace({\"Yes\":\"Y\",\"No\":\"N\"},inplace=True)"
   ]
  },
  {
   "cell_type": "code",
   "execution_count": 22,
   "metadata": {},
   "outputs": [],
   "source": [
    "dfs.Credit_History.replace({1:\"Yes\",0:\"No\"},inplace=True)"
   ]
  },
  {
   "cell_type": "code",
   "execution_count": 23,
   "metadata": {},
   "outputs": [
    {
     "name": "stdout",
     "output_type": "stream",
     "text": [
      "Gender ['M' nan 'F']\n",
      "------------------\n",
      "Married ['Yes' 'No']\n",
      "------------------\n",
      "Self_Employed [nan  0.  1.]\n",
      "------------------\n",
      "Education ['G' 'NG']\n",
      "------------------\n",
      "Credit_History ['Yes' 'No' nan]\n",
      "------------------\n",
      "Approved ['Y' 'N']\n",
      "------------------\n"
     ]
    }
   ],
   "source": [
    "cols = ['Gender', 'Married', 'Self_Employed','Education','Credit_History','Approved']\n",
    "\n",
    "for col in cols:\n",
    "    print(col,dfu[col].unique())\n",
    "    print(\"------------------\")"
   ]
  },
  {
   "cell_type": "code",
   "execution_count": 24,
   "metadata": {},
   "outputs": [
    {
     "name": "stdout",
     "output_type": "stream",
     "text": [
      "Gender ['M' 'F' nan]\n",
      "------------------\n",
      "Marrital_Status ['Yes' 'No' nan]\n",
      "------------------\n",
      "Self_Employed [ 1.  0. nan]\n",
      "------------------\n",
      "Education ['G' 'NG']\n",
      "------------------\n",
      "Credit_History ['Yes' nan 'No']\n",
      "------------------\n",
      "Approved ['Y' 'N']\n",
      "------------------\n"
     ]
    }
   ],
   "source": [
    "cols = ['Gender', 'Marrital_Status', 'Self_Employed','Education','Credit_History','Approved']\n",
    "\n",
    "for col in cols:\n",
    "    print(col,dfs[col].unique())\n",
    "    print(\"------------------\")"
   ]
  },
  {
   "cell_type": "code",
   "execution_count": 25,
   "metadata": {},
   "outputs": [
    {
     "name": "stdout",
     "output_type": "stream",
     "text": [
      "Sex [nan 'M' 'F']\n",
      "------------------\n",
      "Marrital_Status ['Yes' 'No']\n",
      "------------------\n",
      "Self_Employed [ 0.  1. nan]\n",
      "------------------\n",
      "Education ['NG' 'G']\n",
      "------------------\n",
      "Loan_Status ['N' 'Y']\n",
      "------------------\n"
     ]
    }
   ],
   "source": [
    "cols = ['Sex', 'Marrital_Status', 'Self_Employed','Education','Loan_Status']\n",
    "\n",
    "for col in cols:\n",
    "    print(col,dfr[col].unique())\n",
    "    print(\"------------------\")"
   ]
  },
  {
   "cell_type": "code",
   "execution_count": 26,
   "metadata": {},
   "outputs": [
    {
     "name": "stdout",
     "output_type": "stream",
     "text": [
      "Index(['Loan_ID', 'Gender', 'Married', 'Self_Employed', 'Education',\n",
      "       'Applicant_Income', 'Dependents', 'Loan_Amt', 'Tenure',\n",
      "       'CoapplicantIncome', 'Credit_History', 'Approved', 'Property_Location'],\n",
      "      dtype='object')\n",
      "Index(['LID', 'Gender', 'Applicant_Income', 'Dependents', 'Education',\n",
      "       'Marrital_Status', 'Self_Employed', 'LoanAmt', 'LoanAmountTerm',\n",
      "       'Coapplicant_Income', 'Credit_History', 'Approved',\n",
      "       'Property_Location'],\n",
      "      dtype='object')\n",
      "Index(['Loan_ID', 'Sex', 'Marrital_Status', 'DependentsCount', 'Self_Employed',\n",
      "       'Education', 'Loan_Term', 'LoanAmount', 'Income', 'Loan_Status',\n",
      "       'Property_Location'],\n",
      "      dtype='object')\n"
     ]
    }
   ],
   "source": [
    "print(dfu.columns)\n",
    "print(dfs.columns)\n",
    "print(dfr.columns)"
   ]
  },
  {
   "cell_type": "code",
   "execution_count": 27,
   "metadata": {},
   "outputs": [],
   "source": [
    "dfu.columns = ['Loan_ID', 'Gender', 'Marrital_Status', 'Self_Employed', 'Education',\n",
    "       'Applicant_Income', 'Dependents', 'Loan_Amt', 'Tenure',\n",
    "       'CoapplicantIncome', 'Credit_History', 'Approved', 'Property_Location']\n",
    "\n",
    "dfs.columns = ['Loan_ID', 'Gender', 'Applicant_Income', 'Dependents', 'Education',\n",
    "       'Marrital_Status', 'Self_Employed', 'Loan_Amt', 'Tenure',\n",
    "       'CoapplicantIncome', 'Credit_History', 'Approved',\n",
    "       'Property_Location']\n",
    "\n",
    "dfr.columns = ['Loan_ID', 'Gender', 'Marrital_Status', 'Dependents', 'Self_Employed',\n",
    "       'Education', 'Tenure', 'Loan_Amt', 'Applicant_Income', 'Approved',\n",
    "       'Property_Location']"
   ]
  },
  {
   "cell_type": "code",
   "execution_count": 28,
   "metadata": {
    "scrolled": false
   },
   "outputs": [
    {
     "name": "stdout",
     "output_type": "stream",
     "text": [
      "Index(['Loan_ID', 'Gender', 'Marrital_Status', 'Self_Employed', 'Education',\n",
      "       'Applicant_Income', 'Dependents', 'Loan_Amt', 'Tenure',\n",
      "       'CoapplicantIncome', 'Credit_History', 'Approved', 'Property_Location'],\n",
      "      dtype='object')\n",
      "Index(['Loan_ID', 'Gender', 'Applicant_Income', 'Dependents', 'Education',\n",
      "       'Marrital_Status', 'Self_Employed', 'Loan_Amt', 'Tenure',\n",
      "       'CoapplicantIncome', 'Credit_History', 'Approved', 'Property_Location'],\n",
      "      dtype='object')\n",
      "Index(['Loan_ID', 'Gender', 'Marrital_Status', 'Dependents', 'Self_Employed',\n",
      "       'Education', 'Tenure', 'Loan_Amt', 'Applicant_Income', 'Approved',\n",
      "       'Property_Location'],\n",
      "      dtype='object')\n"
     ]
    }
   ],
   "source": [
    "print(dfu.columns)\n",
    "print(dfs.columns)\n",
    "print(dfr.columns)"
   ]
  },
  {
   "cell_type": "code",
   "execution_count": 29,
   "metadata": {},
   "outputs": [],
   "source": [
    "dfs = dfs[['Loan_ID', 'Gender','Marrital_Status', 'Self_Employed','Education','Applicant_Income', 'Dependents',\n",
    "           'Loan_Amt', 'Tenure','CoapplicantIncome', 'Credit_History', 'Approved', 'Property_Location']]\n",
    "\n",
    "dfr['CoapplicantIncome'] = 0\n",
    "dfr['Credit_History'] = 'No'\n",
    "\n",
    "dfr = dfr[['Loan_ID', 'Gender', 'Marrital_Status','Self_Employed','Education','Applicant_Income', 'Dependents',\n",
    "           'Loan_Amt','Tenure','CoapplicantIncome','Credit_History' ,'Approved','Property_Location']]"
   ]
  },
  {
   "cell_type": "code",
   "execution_count": 30,
   "metadata": {},
   "outputs": [
    {
     "name": "stdout",
     "output_type": "stream",
     "text": [
      "Index(['Loan_ID', 'Gender', 'Marrital_Status', 'Self_Employed', 'Education',\n",
      "       'Applicant_Income', 'Dependents', 'Loan_Amt', 'Tenure',\n",
      "       'CoapplicantIncome', 'Credit_History', 'Approved', 'Property_Location'],\n",
      "      dtype='object')\n",
      "Index(['Loan_ID', 'Gender', 'Marrital_Status', 'Self_Employed', 'Education',\n",
      "       'Applicant_Income', 'Dependents', 'Loan_Amt', 'Tenure',\n",
      "       'CoapplicantIncome', 'Credit_History', 'Approved', 'Property_Location'],\n",
      "      dtype='object')\n",
      "Index(['Loan_ID', 'Gender', 'Marrital_Status', 'Self_Employed', 'Education',\n",
      "       'Applicant_Income', 'Dependents', 'Loan_Amt', 'Tenure',\n",
      "       'CoapplicantIncome', 'Credit_History', 'Approved', 'Property_Location'],\n",
      "      dtype='object')\n"
     ]
    }
   ],
   "source": [
    "print(dfu.columns)\n",
    "print(dfs.columns)\n",
    "print(dfr.columns)"
   ]
  },
  {
   "cell_type": "markdown",
   "metadata": {},
   "source": [
    "### Merge 3 dataframes"
   ]
  },
  {
   "cell_type": "code",
   "execution_count": 31,
   "metadata": {},
   "outputs": [
    {
     "data": {
      "text/html": [
       "<div>\n",
       "<style scoped>\n",
       "    .dataframe tbody tr th:only-of-type {\n",
       "        vertical-align: middle;\n",
       "    }\n",
       "\n",
       "    .dataframe tbody tr th {\n",
       "        vertical-align: top;\n",
       "    }\n",
       "\n",
       "    .dataframe thead th {\n",
       "        text-align: right;\n",
       "    }\n",
       "</style>\n",
       "<table border=\"1\" class=\"dataframe\">\n",
       "  <thead>\n",
       "    <tr style=\"text-align: right;\">\n",
       "      <th></th>\n",
       "      <th>Loan_ID</th>\n",
       "      <th>Gender</th>\n",
       "      <th>Marrital_Status</th>\n",
       "      <th>Self_Employed</th>\n",
       "      <th>Education</th>\n",
       "      <th>Applicant_Income</th>\n",
       "      <th>Dependents</th>\n",
       "      <th>Loan_Amt</th>\n",
       "      <th>Tenure</th>\n",
       "      <th>CoapplicantIncome</th>\n",
       "      <th>Credit_History</th>\n",
       "      <th>Approved</th>\n",
       "      <th>Property_Location</th>\n",
       "    </tr>\n",
       "  </thead>\n",
       "  <tbody>\n",
       "    <tr>\n",
       "      <th>0</th>\n",
       "      <td>L1</td>\n",
       "      <td>M</td>\n",
       "      <td>Yes</td>\n",
       "      <td>NaN</td>\n",
       "      <td>G</td>\n",
       "      <td>2600</td>\n",
       "      <td>0</td>\n",
       "      <td>115.0</td>\n",
       "      <td>NaN</td>\n",
       "      <td>3500</td>\n",
       "      <td>Yes</td>\n",
       "      <td>Y</td>\n",
       "      <td>URBAN</td>\n",
       "    </tr>\n",
       "    <tr>\n",
       "      <th>1</th>\n",
       "      <td>L2</td>\n",
       "      <td>M</td>\n",
       "      <td>Yes</td>\n",
       "      <td>0.0</td>\n",
       "      <td>G</td>\n",
       "      <td>5649</td>\n",
       "      <td>1</td>\n",
       "      <td>44.0</td>\n",
       "      <td>360.0</td>\n",
       "      <td>0</td>\n",
       "      <td>Yes</td>\n",
       "      <td>Y</td>\n",
       "      <td>URBAN</td>\n",
       "    </tr>\n",
       "    <tr>\n",
       "      <th>2</th>\n",
       "      <td>L3</td>\n",
       "      <td>M</td>\n",
       "      <td>Yes</td>\n",
       "      <td>0.0</td>\n",
       "      <td>G</td>\n",
       "      <td>3988</td>\n",
       "      <td>1</td>\n",
       "      <td>50.0</td>\n",
       "      <td>240.0</td>\n",
       "      <td>0</td>\n",
       "      <td>Yes</td>\n",
       "      <td>Y</td>\n",
       "      <td>URBAN</td>\n",
       "    </tr>\n",
       "    <tr>\n",
       "      <th>3</th>\n",
       "      <td>L4</td>\n",
       "      <td>M</td>\n",
       "      <td>Yes</td>\n",
       "      <td>1.0</td>\n",
       "      <td>G</td>\n",
       "      <td>3316</td>\n",
       "      <td>2</td>\n",
       "      <td>88.0</td>\n",
       "      <td>360.0</td>\n",
       "      <td>3500</td>\n",
       "      <td>Yes</td>\n",
       "      <td>Y</td>\n",
       "      <td>URBAN</td>\n",
       "    </tr>\n",
       "    <tr>\n",
       "      <th>4</th>\n",
       "      <td>L5</td>\n",
       "      <td>NaN</td>\n",
       "      <td>Yes</td>\n",
       "      <td>0.0</td>\n",
       "      <td>G</td>\n",
       "      <td>51763</td>\n",
       "      <td>3+</td>\n",
       "      <td>700.0</td>\n",
       "      <td>300.0</td>\n",
       "      <td>0</td>\n",
       "      <td>Yes</td>\n",
       "      <td>Y</td>\n",
       "      <td>URBAN</td>\n",
       "    </tr>\n",
       "  </tbody>\n",
       "</table>\n",
       "</div>"
      ],
      "text/plain": [
       "  Loan_ID Gender Marrital_Status  Self_Employed Education  Applicant_Income  \\\n",
       "0      L1      M             Yes            NaN         G              2600   \n",
       "1      L2      M             Yes            0.0         G              5649   \n",
       "2      L3      M             Yes            0.0         G              3988   \n",
       "3      L4      M             Yes            1.0         G              3316   \n",
       "4      L5    NaN             Yes            0.0         G             51763   \n",
       "\n",
       "  Dependents  Loan_Amt  Tenure  CoapplicantIncome Credit_History Approved  \\\n",
       "0          0     115.0     NaN               3500            Yes        Y   \n",
       "1          1      44.0   360.0                  0            Yes        Y   \n",
       "2          1      50.0   240.0                  0            Yes        Y   \n",
       "3          2      88.0   360.0               3500            Yes        Y   \n",
       "4         3+     700.0   300.0                  0            Yes        Y   \n",
       "\n",
       "  Property_Location  \n",
       "0             URBAN  \n",
       "1             URBAN  \n",
       "2             URBAN  \n",
       "3             URBAN  \n",
       "4             URBAN  "
      ]
     },
     "execution_count": 31,
     "metadata": {},
     "output_type": "execute_result"
    }
   ],
   "source": [
    "merged_df = pd.concat([dfu,dfs,dfr])\n",
    "merged_df.head()"
   ]
  },
  {
   "cell_type": "markdown",
   "metadata": {},
   "source": [
    "## EDA"
   ]
  },
  {
   "cell_type": "code",
   "execution_count": 32,
   "metadata": {},
   "outputs": [],
   "source": [
    "import matplotlib.pyplot as plt\n",
    "%matplotlib inline"
   ]
  },
  {
   "cell_type": "code",
   "execution_count": 33,
   "metadata": {
    "scrolled": true
   },
   "outputs": [
    {
     "data": {
      "text/plain": [
       "Y    74\n",
       "N    40\n",
       "Name: Approved, dtype: int64"
      ]
     },
     "execution_count": 33,
     "metadata": {},
     "output_type": "execute_result"
    }
   ],
   "source": [
    "merged_df.Approved.value_counts()"
   ]
  },
  {
   "cell_type": "code",
   "execution_count": 34,
   "metadata": {},
   "outputs": [
    {
     "data": {
      "text/plain": [
       "<matplotlib.axes._subplots.AxesSubplot at 0x7f392170a208>"
      ]
     },
     "execution_count": 34,
     "metadata": {},
     "output_type": "execute_result"
    },
    {
     "data": {
      "image/png": "[encoded data removed]",
      "text/plain": [
       "<Figure size 432x288 with 1 Axes>"
      ]
     },
     "metadata": {},
     "output_type": "display_data"
    }
   ],
   "source": [
    "merged_df.Approved.value_counts().plot.bar()"
   ]
  },
  {
   "cell_type": "code",
   "execution_count": 35,
   "metadata": {},
   "outputs": [
    {
     "data": {
      "text/plain": [
       "<matplotlib.axes._subplots.AxesSubplot at 0x7f391f134e48>"
      ]
     },
     "execution_count": 35,
     "metadata": {},
     "output_type": "execute_result"
    },
    {
     "data": {
      "image/png": "[encoded data removed]",
      "text/plain": [
       "<Figure size 432x288 with 4 Axes>"
      ]
     },
     "metadata": {},
     "output_type": "display_data"
    }
   ],
   "source": [
    "plt.figure(1)\n",
    "\n",
    "plt.subplot(221)\n",
    "merged_df['Gender'].value_counts().plot.barh(title=\"Gender\")\n",
    "\n",
    "plt.subplot(222)\n",
    "merged_df['Marrital_Status'].value_counts().plot.barh(title=\"Married?\")\n",
    "\n",
    "plt.subplot(223)\n",
    "merged_df['Self_Employed'].value_counts().plot.barh(title=\"Employed?\")\n",
    "\n",
    "plt.subplot(224)\n",
    "merged_df['Credit_History'].value_counts().plot.barh(title=\"Credit History\")\n",
    "\n"
   ]
  },
  {
   "cell_type": "code",
   "execution_count": 36,
   "metadata": {
    "scrolled": true
   },
   "outputs": [
    {
     "data": {
      "image/png": "[encoded data removed]",
      "text/plain": [
       "<Figure size 432x288 with 3 Axes>"
      ]
     },
     "metadata": {},
     "output_type": "display_data"
    }
   ],
   "source": [
    "plt.figure(1)\n",
    "\n",
    "plt.subplot(131)\n",
    "merged_df.Dependents.value_counts().plot.bar(title=\"Dependents\")\n",
    "\n",
    "plt.subplot(132)\n",
    "merged_df.Education.value_counts().plot.bar(title=\"Education\")\n",
    "\n",
    "plt.subplot(133)\n",
    "merged_df.Property_Location.value_counts().plot.bar(title=\"Property_Location\")\n",
    "\n",
    "plt.show()"
   ]
  },
  {
   "cell_type": "markdown",
   "metadata": {},
   "source": [
    "Bivariate Analysis"
   ]
  },
  {
   "cell_type": "code",
   "execution_count": 37,
   "metadata": {},
   "outputs": [
    {
     "data": {
      "text/html": [
       "<div>\n",
       "<style scoped>\n",
       "    .dataframe tbody tr th:only-of-type {\n",
       "        vertical-align: middle;\n",
       "    }\n",
       "\n",
       "    .dataframe tbody tr th {\n",
       "        vertical-align: top;\n",
       "    }\n",
       "\n",
       "    .dataframe thead th {\n",
       "        text-align: right;\n",
       "    }\n",
       "</style>\n",
       "<table border=\"1\" class=\"dataframe\">\n",
       "  <thead>\n",
       "    <tr style=\"text-align: right;\">\n",
       "      <th>Approved</th>\n",
       "      <th>N</th>\n",
       "      <th>Y</th>\n",
       "    </tr>\n",
       "    <tr>\n",
       "      <th>Gender</th>\n",
       "      <th></th>\n",
       "      <th></th>\n",
       "    </tr>\n",
       "  </thead>\n",
       "  <tbody>\n",
       "    <tr>\n",
       "      <th>F</th>\n",
       "      <td>15</td>\n",
       "      <td>11</td>\n",
       "    </tr>\n",
       "    <tr>\n",
       "      <th>M</th>\n",
       "      <td>23</td>\n",
       "      <td>60</td>\n",
       "    </tr>\n",
       "  </tbody>\n",
       "</table>\n",
       "</div>"
      ],
      "text/plain": [
       "Approved   N   Y\n",
       "Gender          \n",
       "F         15  11\n",
       "M         23  60"
      ]
     },
     "execution_count": 37,
     "metadata": {},
     "output_type": "execute_result"
    }
   ],
   "source": [
    "gender_ct = pd.crosstab(merged_df.Gender,merged_df.Approved)\n",
    "gender_ct"
   ]
  },
  {
   "cell_type": "code",
   "execution_count": 38,
   "metadata": {},
   "outputs": [
    {
     "data": {
      "text/plain": [
       "<matplotlib.axes._subplots.AxesSubplot at 0x7f391f0c9080>"
      ]
     },
     "execution_count": 38,
     "metadata": {},
     "output_type": "execute_result"
    },
    {
     "data": {
      "image/png": "[encoded data removed]",
      "text/plain": [
       "<Figure size 432x288 with 1 Axes>"
      ]
     },
     "metadata": {},
     "output_type": "display_data"
    }
   ],
   "source": [
    "gender_ct.plot.bar(title=\"Gender\")"
   ]
  },
  {
   "cell_type": "code",
   "execution_count": 39,
   "metadata": {},
   "outputs": [
    {
     "data": {
      "text/plain": [
       "<matplotlib.axes._subplots.AxesSubplot at 0x7f391ef9da90>"
      ]
     },
     "execution_count": 39,
     "metadata": {},
     "output_type": "execute_result"
    },
    {
     "data": {
      "image/png": "[encoded data removed]",
      "text/plain": [
       "<Figure size 432x288 with 1 Axes>"
      ]
     },
     "metadata": {},
     "output_type": "display_data"
    }
   ],
   "source": [
    "married_ct = pd.crosstab(merged_df.Marrital_Status,merged_df.Approved)\n",
    "married_ct.plot.bar()"
   ]
  },
  {
   "cell_type": "code",
   "execution_count": 40,
   "metadata": {},
   "outputs": [
    {
     "data": {
      "text/plain": [
       "<matplotlib.axes._subplots.AxesSubplot at 0x7f391eed0ac8>"
      ]
     },
     "execution_count": 40,
     "metadata": {},
     "output_type": "execute_result"
    },
    {
     "data": {
      "image/png": "[encoded data removed]",
      "text/plain": [
       "<Figure size 432x288 with 1 Axes>"
      ]
     },
     "metadata": {},
     "output_type": "display_data"
    }
   ],
   "source": [
    "edu_ct = pd.crosstab(merged_df.Education,merged_df.Approved)\n",
    "edu_ct.plot.bar()"
   ]
  },
  {
   "cell_type": "code",
   "execution_count": 41,
   "metadata": {},
   "outputs": [
    {
     "data": {
      "text/plain": [
       "<matplotlib.axes._subplots.AxesSubplot at 0x7f391ee3c240>"
      ]
     },
     "execution_count": 41,
     "metadata": {},
     "output_type": "execute_result"
    },
    {
     "data": {
      "image/png": "[encoded data removed]",
      "text/plain": [
       "<Figure size 432x288 with 1 Axes>"
      ]
     },
     "metadata": {},
     "output_type": "display_data"
    }
   ],
   "source": [
    "cred_ct = pd.crosstab(merged_df.Credit_History,merged_df.Approved)\n",
    "cred_ct.plot.bar()"
   ]
  },
  {
   "cell_type": "code",
   "execution_count": 42,
   "metadata": {},
   "outputs": [
    {
     "name": "stderr",
     "output_type": "stream",
     "text": [
      "/home/murtuza/anaconda3/envs/idp3/lib/python3.6/site-packages/statsmodels/tools/_testing.py:19: FutureWarning: pandas.util.testing is deprecated. Use the functions in the public API at pandas.testing instead.\n",
      "  import pandas.util.testing as tm\n"
     ]
    },
    {
     "data": {
      "text/plain": [
       "<matplotlib.axes._subplots.AxesSubplot at 0x7f39119e5eb8>"
      ]
     },
     "execution_count": 42,
     "metadata": {},
     "output_type": "execute_result"
    },
    {
     "data": {
      "image/png": "[encoded data removed]",
      "text/plain": [
       "<Figure size 432x288 with 2 Axes>"
      ]
     },
     "metadata": {},
     "output_type": "display_data"
    }
   ],
   "source": [
    "import seaborn as sns\n",
    "sns.heatmap(merged_df.corr(),annot=True)"
   ]
  },
  {
   "cell_type": "markdown",
   "metadata": {},
   "source": [
    "## Feature Engineering"
   ]
  },
  {
   "cell_type": "markdown",
   "metadata": {},
   "source": [
    "#### Missing Values"
   ]
  },
  {
   "cell_type": "code",
   "execution_count": 43,
   "metadata": {},
   "outputs": [
    {
     "data": {
      "text/plain": [
       "Loan_ID              0\n",
       "Gender               5\n",
       "Marrital_Status      2\n",
       "Self_Employed        7\n",
       "Education            0\n",
       "Applicant_Income     0\n",
       "Dependents           3\n",
       "Loan_Amt             7\n",
       "Tenure               2\n",
       "CoapplicantIncome    0\n",
       "Credit_History       7\n",
       "Approved             0\n",
       "Property_Location    0\n",
       "dtype: int64"
      ]
     },
     "execution_count": 43,
     "metadata": {},
     "output_type": "execute_result"
    }
   ],
   "source": [
    "merged_df.isnull().sum()"
   ]
  },
  {
   "cell_type": "code",
   "execution_count": 44,
   "metadata": {},
   "outputs": [],
   "source": [
    "merged_df['Gender'] = merged_df['Gender'].fillna(merged_df['Gender'].mode()[0])\n",
    "merged_df['Marrital_Status'] = merged_df['Marrital_Status'].fillna(merged_df['Marrital_Status'].mode()[0])\n",
    "merged_df['Self_Employed'] = merged_df['Self_Employed'].fillna(merged_df['Self_Employed'].mode()[0])\n",
    "merged_df['Dependents'] = merged_df['Dependents'].fillna(merged_df['Dependents'].mode()[0])\n",
    "merged_df['Tenure'] = merged_df['Tenure'].fillna(merged_df['Tenure'].mode()[0])\n",
    "merged_df['Credit_History'] = merged_df['Credit_History'].fillna(merged_df['Credit_History'].mode()[0])"
   ]
  },
  {
   "cell_type": "code",
   "execution_count": 45,
   "metadata": {},
   "outputs": [],
   "source": [
    "merged_df['Loan_Amt'] = merged_df['Loan_Amt'].fillna(merged_df['Loan_Amt'].median())"
   ]
  },
  {
   "cell_type": "markdown",
   "metadata": {},
   "source": [
    "## Handling Outliers"
   ]
  },
  {
   "cell_type": "code",
   "execution_count": 46,
   "metadata": {},
   "outputs": [
    {
     "data": {
      "text/plain": [
       "<matplotlib.axes._subplots.AxesSubplot at 0x7f3907ea3908>"
      ]
     },
     "execution_count": 46,
     "metadata": {},
     "output_type": "execute_result"
    },
    {
     "data": {
      "image/png": "[encoded data removed]",
      "text/plain": [
       "<Figure size 432x288 with 1 Axes>"
      ]
     },
     "metadata": {},
     "output_type": "display_data"
    }
   ],
   "source": [
    "merged_df['Applicant_Income'].hist(bins=20,grid=False)"
   ]
  },
  {
   "cell_type": "code",
   "execution_count": 47,
   "metadata": {},
   "outputs": [
    {
     "data": {
      "text/plain": [
       "<matplotlib.axes._subplots.AxesSubplot at 0x7f3907dc6240>"
      ]
     },
     "execution_count": 47,
     "metadata": {},
     "output_type": "execute_result"
    },
    {
     "data": {
      "image/png": "[encoded data removed]",
      "text/plain": [
       "<Figure size 432x288 with 1 Axes>"
      ]
     },
     "metadata": {},
     "output_type": "display_data"
    }
   ],
   "source": [
    "merged_df['Applicant_Income_Log'] = np.log(merged_df['Applicant_Income'])\n",
    "\n",
    "merged_df['Applicant_Income_Log'].hist(bins=20,grid=False)"
   ]
  },
  {
   "cell_type": "code",
   "execution_count": 48,
   "metadata": {},
   "outputs": [
    {
     "data": {
      "text/plain": [
       "<matplotlib.axes._subplots.AxesSubplot at 0x7f3907d5fbe0>"
      ]
     },
     "execution_count": 48,
     "metadata": {},
     "output_type": "execute_result"
    },
    {
     "data": {
      "image/png": "[encoded data removed]",
      "text/plain": [
       "<Figure size 432x288 with 1 Axes>"
      ]
     },
     "metadata": {},
     "output_type": "display_data"
    }
   ],
   "source": [
    "merged_df['Loan_Amt'].hist(bins=20,grid=False)"
   ]
  },
  {
   "cell_type": "code",
   "execution_count": 49,
   "metadata": {},
   "outputs": [
    {
     "data": {
      "text/plain": [
       "<matplotlib.axes._subplots.AxesSubplot at 0x7f3907ce1710>"
      ]
     },
     "execution_count": 49,
     "metadata": {},
     "output_type": "execute_result"
    },
    {
     "data": {
      "image/png": "[encoded data removed]",
      "text/plain": [
       "<Figure size 432x288 with 1 Axes>"
      ]
     },
     "metadata": {},
     "output_type": "display_data"
    }
   ],
   "source": [
    "merged_df['Loan_Amt_Log'] = np.log(merged_df['Loan_Amt'])\n",
    "\n",
    "merged_df['Loan_Amt_Log'].hist(bins=20,grid=False)"
   ]
  },
  {
   "cell_type": "code",
   "execution_count": 50,
   "metadata": {},
   "outputs": [
    {
     "name": "stdout",
     "output_type": "stream",
     "text": [
      "<class 'pandas.core.frame.DataFrame'>\n",
      "Int64Index: 114 entries, 0 to 39\n",
      "Data columns (total 15 columns):\n",
      " #   Column                Non-Null Count  Dtype  \n",
      "---  ------                --------------  -----  \n",
      " 0   Loan_ID               114 non-null    object \n",
      " 1   Gender                114 non-null    object \n",
      " 2   Marrital_Status       114 non-null    object \n",
      " 3   Self_Employed         114 non-null    float64\n",
      " 4   Education             114 non-null    object \n",
      " 5   Applicant_Income      114 non-null    int64  \n",
      " 6   Dependents            114 non-null    object \n",
      " 7   Loan_Amt              114 non-null    float64\n",
      " 8   Tenure                114 non-null    float64\n",
      " 9   CoapplicantIncome     114 non-null    int64  \n",
      " 10  Credit_History        114 non-null    object \n",
      " 11  Approved              114 non-null    object \n",
      " 12  Property_Location     114 non-null    object \n",
      " 13  Applicant_Income_Log  114 non-null    float64\n",
      " 14  Loan_Amt_Log          114 non-null    float64\n",
      "dtypes: float64(5), int64(2), object(8)\n",
      "memory usage: 14.2+ KB\n"
     ]
    }
   ],
   "source": [
    "merged_df.info()"
   ]
  },
  {
   "cell_type": "markdown",
   "metadata": {},
   "source": [
    "#### DataType Conversion"
   ]
  },
  {
   "cell_type": "code",
   "execution_count": 51,
   "metadata": {},
   "outputs": [
    {
     "data": {
      "text/plain": [
       "Index(['Loan_ID', 'Gender', 'Marrital_Status', 'Self_Employed', 'Education',\n",
       "       'Applicant_Income', 'Dependents', 'Loan_Amt', 'Tenure',\n",
       "       'CoapplicantIncome', 'Credit_History', 'Approved', 'Property_Location',\n",
       "       'Applicant_Income_Log', 'Loan_Amt_Log'],\n",
       "      dtype='object')"
      ]
     },
     "execution_count": 51,
     "metadata": {},
     "output_type": "execute_result"
    }
   ],
   "source": [
    "merged_df.columns"
   ]
  },
  {
   "cell_type": "code",
   "execution_count": 52,
   "metadata": {},
   "outputs": [],
   "source": [
    "merged_df = merged_df.astype({'Gender':'category', 'Marrital_Status':'category', 'Self_Employed':'category', \n",
    "                              'Education':'category', 'Dependents':'category', 'Credit_History':'category', \n",
    "                               'Approved':'category', 'Property_Location':'category'})"
   ]
  },
  {
   "cell_type": "code",
   "execution_count": 53,
   "metadata": {},
   "outputs": [
    {
     "name": "stdout",
     "output_type": "stream",
     "text": [
      "<class 'pandas.core.frame.DataFrame'>\n",
      "Int64Index: 114 entries, 0 to 39\n",
      "Data columns (total 15 columns):\n",
      " #   Column                Non-Null Count  Dtype   \n",
      "---  ------                --------------  -----   \n",
      " 0   Loan_ID               114 non-null    object  \n",
      " 1   Gender                114 non-null    category\n",
      " 2   Marrital_Status       114 non-null    category\n",
      " 3   Self_Employed         114 non-null    category\n",
      " 4   Education             114 non-null    category\n",
      " 5   Applicant_Income      114 non-null    int64   \n",
      " 6   Dependents            114 non-null    category\n",
      " 7   Loan_Amt              114 non-null    float64 \n",
      " 8   Tenure                114 non-null    float64 \n",
      " 9   CoapplicantIncome     114 non-null    int64   \n",
      " 10  Credit_History        114 non-null    category\n",
      " 11  Approved              114 non-null    category\n",
      " 12  Property_Location     114 non-null    category\n",
      " 13  Applicant_Income_Log  114 non-null    float64 \n",
      " 14  Loan_Amt_Log          114 non-null    float64 \n",
      "dtypes: category(8), float64(4), int64(2), object(1)\n",
      "memory usage: 8.9+ KB\n"
     ]
    }
   ],
   "source": [
    "merged_df.info()"
   ]
  },
  {
   "cell_type": "markdown",
   "metadata": {},
   "source": [
    "#### Feature Creation"
   ]
  },
  {
   "cell_type": "code",
   "execution_count": 54,
   "metadata": {},
   "outputs": [],
   "source": [
    "merged_df['TotalIncome'] = merged_df['Applicant_Income'] + merged_df['CoapplicantIncome']"
   ]
  },
  {
   "cell_type": "code",
   "execution_count": 55,
   "metadata": {},
   "outputs": [
    {
     "data": {
      "text/plain": [
       "<matplotlib.axes._subplots.AxesSubplot at 0x7f3907c09c50>"
      ]
     },
     "execution_count": 55,
     "metadata": {},
     "output_type": "execute_result"
    },
    {
     "data": {
      "image/png": "[encoded data removed]",
      "text/plain": [
       "<Figure size 432x288 with 1 Axes>"
      ]
     },
     "metadata": {},
     "output_type": "display_data"
    }
   ],
   "source": [
    "merged_df['TotalIncome'].hist(bins=20,grid=False)"
   ]
  },
  {
   "cell_type": "code",
   "execution_count": 56,
   "metadata": {},
   "outputs": [
    {
     "data": {
      "text/plain": [
       "<matplotlib.axes._subplots.AxesSubplot at 0x7f3907bc7c88>"
      ]
     },
     "execution_count": 56,
     "metadata": {},
     "output_type": "execute_result"
    },
    {
     "data": {
      "image/png": "[encoded data removed]",
      "text/plain": [
       "<Figure size 432x288 with 1 Axes>"
      ]
     },
     "metadata": {},
     "output_type": "display_data"
    }
   ],
   "source": [
    "merged_df['TotalIncome_Log'] = np.log(merged_df['TotalIncome'])\n",
    "merged_df['TotalIncome_Log'].hist(bins=20,grid=False)"
   ]
  },
  {
   "cell_type": "code",
   "execution_count": 57,
   "metadata": {},
   "outputs": [],
   "source": [
    "merged_df['EMI'] = merged_df['Loan_Amt']/merged_df['Tenure']"
   ]
  },
  {
   "cell_type": "code",
   "execution_count": 58,
   "metadata": {},
   "outputs": [
    {
     "data": {
      "text/plain": [
       "<matplotlib.axes._subplots.AxesSubplot at 0x7f3907b55b38>"
      ]
     },
     "execution_count": 58,
     "metadata": {},
     "output_type": "execute_result"
    },
    {
     "data": {
      "image/png": "[encoded data removed]",
      "text/plain": [
       "<Figure size 432x288 with 1 Axes>"
      ]
     },
     "metadata": {},
     "output_type": "display_data"
    }
   ],
   "source": [
    "merged_df['EMI'].hist(bins=20,grid=False)"
   ]
  },
  {
   "cell_type": "code",
   "execution_count": 59,
   "metadata": {},
   "outputs": [
    {
     "data": {
      "text/plain": [
       "<matplotlib.axes._subplots.AxesSubplot at 0x7f3907a5a828>"
      ]
     },
     "execution_count": 59,
     "metadata": {},
     "output_type": "execute_result"
    },
    {
     "data": {
      "image/png": "[encoded data removed]",
      "text/plain": [
       "<Figure size 432x288 with 1 Axes>"
      ]
     },
     "metadata": {},
     "output_type": "display_data"
    }
   ],
   "source": [
    "merged_df['EMI_Log'] = np.log(merged_df['EMI'])\n",
    "merged_df['EMI_Log'].hist(bins=20,grid=False)"
   ]
  },
  {
   "cell_type": "code",
   "execution_count": 60,
   "metadata": {},
   "outputs": [
    {
     "data": {
      "text/plain": [
       "0     0.319444\n",
       "1     0.122222\n",
       "2     0.208333\n",
       "3     0.244444\n",
       "4     2.333333\n",
       "        ...   \n",
       "35    0.263889\n",
       "36    0.350000\n",
       "37    0.350000\n",
       "38    0.733333\n",
       "39    0.586111\n",
       "Name: EMI, Length: 114, dtype: float64"
      ]
     },
     "execution_count": 60,
     "metadata": {},
     "output_type": "execute_result"
    }
   ],
   "source": [
    "merged_df['EMI']"
   ]
  },
  {
   "cell_type": "code",
   "execution_count": 61,
   "metadata": {},
   "outputs": [
    {
     "data": {
      "text/html": [
       "<div>\n",
       "<style scoped>\n",
       "    .dataframe tbody tr th:only-of-type {\n",
       "        vertical-align: middle;\n",
       "    }\n",
       "\n",
       "    .dataframe tbody tr th {\n",
       "        vertical-align: top;\n",
       "    }\n",
       "\n",
       "    .dataframe thead th {\n",
       "        text-align: right;\n",
       "    }\n",
       "</style>\n",
       "<table border=\"1\" class=\"dataframe\">\n",
       "  <thead>\n",
       "    <tr style=\"text-align: right;\">\n",
       "      <th></th>\n",
       "      <th>Loan_ID</th>\n",
       "      <th>Gender</th>\n",
       "      <th>Marrital_Status</th>\n",
       "      <th>Self_Employed</th>\n",
       "      <th>Education</th>\n",
       "      <th>Applicant_Income</th>\n",
       "      <th>Dependents</th>\n",
       "      <th>Loan_Amt</th>\n",
       "      <th>Tenure</th>\n",
       "      <th>CoapplicantIncome</th>\n",
       "      <th>Credit_History</th>\n",
       "      <th>Approved</th>\n",
       "      <th>Property_Location</th>\n",
       "      <th>Applicant_Income_Log</th>\n",
       "      <th>Loan_Amt_Log</th>\n",
       "      <th>TotalIncome</th>\n",
       "      <th>TotalIncome_Log</th>\n",
       "      <th>EMI</th>\n",
       "      <th>EMI_Log</th>\n",
       "    </tr>\n",
       "  </thead>\n",
       "  <tbody>\n",
       "    <tr>\n",
       "      <th>0</th>\n",
       "      <td>L1</td>\n",
       "      <td>M</td>\n",
       "      <td>Yes</td>\n",
       "      <td>0.0</td>\n",
       "      <td>G</td>\n",
       "      <td>2600</td>\n",
       "      <td>0</td>\n",
       "      <td>115.0</td>\n",
       "      <td>360.0</td>\n",
       "      <td>3500</td>\n",
       "      <td>Yes</td>\n",
       "      <td>Y</td>\n",
       "      <td>URBAN</td>\n",
       "      <td>7.863267</td>\n",
       "      <td>4.744932</td>\n",
       "      <td>6100</td>\n",
       "      <td>8.716044</td>\n",
       "      <td>0.319444</td>\n",
       "      <td>-1.141172</td>\n",
       "    </tr>\n",
       "    <tr>\n",
       "      <th>1</th>\n",
       "      <td>L2</td>\n",
       "      <td>M</td>\n",
       "      <td>Yes</td>\n",
       "      <td>0.0</td>\n",
       "      <td>G</td>\n",
       "      <td>5649</td>\n",
       "      <td>1</td>\n",
       "      <td>44.0</td>\n",
       "      <td>360.0</td>\n",
       "      <td>0</td>\n",
       "      <td>Yes</td>\n",
       "      <td>Y</td>\n",
       "      <td>URBAN</td>\n",
       "      <td>8.639234</td>\n",
       "      <td>3.784190</td>\n",
       "      <td>5649</td>\n",
       "      <td>8.639234</td>\n",
       "      <td>0.122222</td>\n",
       "      <td>-2.101914</td>\n",
       "    </tr>\n",
       "    <tr>\n",
       "      <th>2</th>\n",
       "      <td>L3</td>\n",
       "      <td>M</td>\n",
       "      <td>Yes</td>\n",
       "      <td>0.0</td>\n",
       "      <td>G</td>\n",
       "      <td>3988</td>\n",
       "      <td>1</td>\n",
       "      <td>50.0</td>\n",
       "      <td>240.0</td>\n",
       "      <td>0</td>\n",
       "      <td>Yes</td>\n",
       "      <td>Y</td>\n",
       "      <td>URBAN</td>\n",
       "      <td>8.291045</td>\n",
       "      <td>3.912023</td>\n",
       "      <td>3988</td>\n",
       "      <td>8.291045</td>\n",
       "      <td>0.208333</td>\n",
       "      <td>-1.568616</td>\n",
       "    </tr>\n",
       "    <tr>\n",
       "      <th>3</th>\n",
       "      <td>L4</td>\n",
       "      <td>M</td>\n",
       "      <td>Yes</td>\n",
       "      <td>1.0</td>\n",
       "      <td>G</td>\n",
       "      <td>3316</td>\n",
       "      <td>2</td>\n",
       "      <td>88.0</td>\n",
       "      <td>360.0</td>\n",
       "      <td>3500</td>\n",
       "      <td>Yes</td>\n",
       "      <td>Y</td>\n",
       "      <td>URBAN</td>\n",
       "      <td>8.106515</td>\n",
       "      <td>4.477337</td>\n",
       "      <td>6816</td>\n",
       "      <td>8.827028</td>\n",
       "      <td>0.244444</td>\n",
       "      <td>-1.408767</td>\n",
       "    </tr>\n",
       "    <tr>\n",
       "      <th>4</th>\n",
       "      <td>L5</td>\n",
       "      <td>M</td>\n",
       "      <td>Yes</td>\n",
       "      <td>0.0</td>\n",
       "      <td>G</td>\n",
       "      <td>51763</td>\n",
       "      <td>3+</td>\n",
       "      <td>700.0</td>\n",
       "      <td>300.0</td>\n",
       "      <td>0</td>\n",
       "      <td>Yes</td>\n",
       "      <td>Y</td>\n",
       "      <td>URBAN</td>\n",
       "      <td>10.854431</td>\n",
       "      <td>6.551080</td>\n",
       "      <td>51763</td>\n",
       "      <td>10.854431</td>\n",
       "      <td>2.333333</td>\n",
       "      <td>0.847298</td>\n",
       "    </tr>\n",
       "    <tr>\n",
       "      <th>...</th>\n",
       "      <td>...</td>\n",
       "      <td>...</td>\n",
       "      <td>...</td>\n",
       "      <td>...</td>\n",
       "      <td>...</td>\n",
       "      <td>...</td>\n",
       "      <td>...</td>\n",
       "      <td>...</td>\n",
       "      <td>...</td>\n",
       "      <td>...</td>\n",
       "      <td>...</td>\n",
       "      <td>...</td>\n",
       "      <td>...</td>\n",
       "      <td>...</td>\n",
       "      <td>...</td>\n",
       "      <td>...</td>\n",
       "      <td>...</td>\n",
       "      <td>...</td>\n",
       "      <td>...</td>\n",
       "    </tr>\n",
       "    <tr>\n",
       "      <th>35</th>\n",
       "      <td>R71</td>\n",
       "      <td>F</td>\n",
       "      <td>No</td>\n",
       "      <td>0.0</td>\n",
       "      <td>NG</td>\n",
       "      <td>3400</td>\n",
       "      <td>0</td>\n",
       "      <td>95.0</td>\n",
       "      <td>360.0</td>\n",
       "      <td>0</td>\n",
       "      <td>No</td>\n",
       "      <td>N</td>\n",
       "      <td>RURAL</td>\n",
       "      <td>8.131531</td>\n",
       "      <td>4.553877</td>\n",
       "      <td>3400</td>\n",
       "      <td>8.131531</td>\n",
       "      <td>0.263889</td>\n",
       "      <td>-1.332227</td>\n",
       "    </tr>\n",
       "    <tr>\n",
       "      <th>36</th>\n",
       "      <td>R72</td>\n",
       "      <td>M</td>\n",
       "      <td>No</td>\n",
       "      <td>0.0</td>\n",
       "      <td>NG</td>\n",
       "      <td>2550</td>\n",
       "      <td>0</td>\n",
       "      <td>126.0</td>\n",
       "      <td>360.0</td>\n",
       "      <td>0</td>\n",
       "      <td>No</td>\n",
       "      <td>Y</td>\n",
       "      <td>RURAL</td>\n",
       "      <td>7.843849</td>\n",
       "      <td>4.836282</td>\n",
       "      <td>2550</td>\n",
       "      <td>7.843849</td>\n",
       "      <td>0.350000</td>\n",
       "      <td>-1.049822</td>\n",
       "    </tr>\n",
       "    <tr>\n",
       "      <th>37</th>\n",
       "      <td>R73</td>\n",
       "      <td>M</td>\n",
       "      <td>Yes</td>\n",
       "      <td>0.0</td>\n",
       "      <td>NG</td>\n",
       "      <td>2492</td>\n",
       "      <td>1</td>\n",
       "      <td>126.0</td>\n",
       "      <td>360.0</td>\n",
       "      <td>0</td>\n",
       "      <td>No</td>\n",
       "      <td>Y</td>\n",
       "      <td>RURAL</td>\n",
       "      <td>7.820841</td>\n",
       "      <td>4.836282</td>\n",
       "      <td>2492</td>\n",
       "      <td>7.820841</td>\n",
       "      <td>0.350000</td>\n",
       "      <td>-1.049822</td>\n",
       "    </tr>\n",
       "    <tr>\n",
       "      <th>38</th>\n",
       "      <td>R74</td>\n",
       "      <td>M</td>\n",
       "      <td>Yes</td>\n",
       "      <td>0.0</td>\n",
       "      <td>G</td>\n",
       "      <td>3593</td>\n",
       "      <td>0</td>\n",
       "      <td>132.0</td>\n",
       "      <td>180.0</td>\n",
       "      <td>0</td>\n",
       "      <td>No</td>\n",
       "      <td>N</td>\n",
       "      <td>RURAL</td>\n",
       "      <td>8.186743</td>\n",
       "      <td>4.882802</td>\n",
       "      <td>3593</td>\n",
       "      <td>8.186743</td>\n",
       "      <td>0.733333</td>\n",
       "      <td>-0.310155</td>\n",
       "    </tr>\n",
       "    <tr>\n",
       "      <th>39</th>\n",
       "      <td>R75</td>\n",
       "      <td>M</td>\n",
       "      <td>Yes</td>\n",
       "      <td>0.0</td>\n",
       "      <td>G</td>\n",
       "      <td>5923</td>\n",
       "      <td>0</td>\n",
       "      <td>211.0</td>\n",
       "      <td>360.0</td>\n",
       "      <td>0</td>\n",
       "      <td>No</td>\n",
       "      <td>Y</td>\n",
       "      <td>RURAL</td>\n",
       "      <td>8.686598</td>\n",
       "      <td>5.351858</td>\n",
       "      <td>5923</td>\n",
       "      <td>8.686598</td>\n",
       "      <td>0.586111</td>\n",
       "      <td>-0.534246</td>\n",
       "    </tr>\n",
       "  </tbody>\n",
       "</table>\n",
       "<p>114 rows × 19 columns</p>\n",
       "</div>"
      ],
      "text/plain": [
       "   Loan_ID Gender Marrital_Status Self_Employed Education  Applicant_Income  \\\n",
       "0       L1      M             Yes           0.0         G              2600   \n",
       "1       L2      M             Yes           0.0         G              5649   \n",
       "2       L3      M             Yes           0.0         G              3988   \n",
       "3       L4      M             Yes           1.0         G              3316   \n",
       "4       L5      M             Yes           0.0         G             51763   \n",
       "..     ...    ...             ...           ...       ...               ...   \n",
       "35     R71      F              No           0.0        NG              3400   \n",
       "36     R72      M              No           0.0        NG              2550   \n",
       "37     R73      M             Yes           0.0        NG              2492   \n",
       "38     R74      M             Yes           0.0         G              3593   \n",
       "39     R75      M             Yes           0.0         G              5923   \n",
       "\n",
       "   Dependents  Loan_Amt  Tenure  CoapplicantIncome Credit_History Approved  \\\n",
       "0           0     115.0   360.0               3500            Yes        Y   \n",
       "1           1      44.0   360.0                  0            Yes        Y   \n",
       "2           1      50.0   240.0                  0            Yes        Y   \n",
       "3           2      88.0   360.0               3500            Yes        Y   \n",
       "4          3+     700.0   300.0                  0            Yes        Y   \n",
       "..        ...       ...     ...                ...            ...      ...   \n",
       "35          0      95.0   360.0                  0             No        N   \n",
       "36          0     126.0   360.0                  0             No        Y   \n",
       "37          1     126.0   360.0                  0             No        Y   \n",
       "38          0     132.0   180.0                  0             No        N   \n",
       "39          0     211.0   360.0                  0             No        Y   \n",
       "\n",
       "   Property_Location  Applicant_Income_Log  Loan_Amt_Log  TotalIncome  \\\n",
       "0              URBAN              7.863267      4.744932         6100   \n",
       "1              URBAN              8.639234      3.784190         5649   \n",
       "2              URBAN              8.291045      3.912023         3988   \n",
       "3              URBAN              8.106515      4.477337         6816   \n",
       "4              URBAN             10.854431      6.551080        51763   \n",
       "..               ...                   ...           ...          ...   \n",
       "35             RURAL              8.131531      4.553877         3400   \n",
       "36             RURAL              7.843849      4.836282         2550   \n",
       "37             RURAL              7.820841      4.836282         2492   \n",
       "38             RURAL              8.186743      4.882802         3593   \n",
       "39             RURAL              8.686598      5.351858         5923   \n",
       "\n",
       "    TotalIncome_Log       EMI   EMI_Log  \n",
       "0          8.716044  0.319444 -1.141172  \n",
       "1          8.639234  0.122222 -2.101914  \n",
       "2          8.291045  0.208333 -1.568616  \n",
       "3          8.827028  0.244444 -1.408767  \n",
       "4         10.854431  2.333333  0.847298  \n",
       "..              ...       ...       ...  \n",
       "35         8.131531  0.263889 -1.332227  \n",
       "36         7.843849  0.350000 -1.049822  \n",
       "37         7.820841  0.350000 -1.049822  \n",
       "38         8.186743  0.733333 -0.310155  \n",
       "39         8.686598  0.586111 -0.534246  \n",
       "\n",
       "[114 rows x 19 columns]"
      ]
     },
     "execution_count": 61,
     "metadata": {},
     "output_type": "execute_result"
    }
   ],
   "source": [
    "merged_df"
   ]
  },
  {
   "cell_type": "code",
   "execution_count": 62,
   "metadata": {},
   "outputs": [
    {
     "data": {
      "text/plain": [
       "78345"
      ]
     },
     "execution_count": 62,
     "metadata": {},
     "output_type": "execute_result"
    }
   ],
   "source": [
    "merged_df['TotalIncome'].max()"
   ]
  },
  {
   "cell_type": "code",
   "execution_count": 63,
   "metadata": {},
   "outputs": [],
   "source": [
    "merged_df['BalanceIncome'] = merged_df['TotalIncome'] - (merged_df['EMI']*1000)"
   ]
  },
  {
   "cell_type": "code",
   "execution_count": 64,
   "metadata": {},
   "outputs": [
    {
     "data": {
      "text/plain": [
       "<matplotlib.axes._subplots.AxesSubplot at 0x7f39079e16a0>"
      ]
     },
     "execution_count": 64,
     "metadata": {},
     "output_type": "execute_result"
    },
    {
     "data": {
      "image/png": "[encoded data removed]",
      "text/plain": [
       "<Figure size 432x288 with 1 Axes>"
      ]
     },
     "metadata": {},
     "output_type": "display_data"
    }
   ],
   "source": [
    "merged_df['BalanceIncome'].hist(bins=20,grid=False)"
   ]
  },
  {
   "cell_type": "code",
   "execution_count": 65,
   "metadata": {},
   "outputs": [
    {
     "data": {
      "text/plain": [
       "<matplotlib.axes._subplots.AxesSubplot at 0x7f3907904b70>"
      ]
     },
     "execution_count": 65,
     "metadata": {},
     "output_type": "execute_result"
    },
    {
     "data": {
      "image/png": "[encoded data removed]",
      "text/plain": [
       "<Figure size 432x288 with 1 Axes>"
      ]
     },
     "metadata": {},
     "output_type": "display_data"
    }
   ],
   "source": [
    "merged_df['BalanceIncome_Log'] = np.log(merged_df['BalanceIncome'])\n",
    "merged_df['BalanceIncome_Log'].hist(bins=20,grid=False)"
   ]
  },
  {
   "cell_type": "code",
   "execution_count": 66,
   "metadata": {},
   "outputs": [
    {
     "name": "stdout",
     "output_type": "stream",
     "text": [
      "<class 'pandas.core.frame.DataFrame'>\n",
      "Int64Index: 114 entries, 0 to 39\n",
      "Data columns (total 21 columns):\n",
      " #   Column                Non-Null Count  Dtype   \n",
      "---  ------                --------------  -----   \n",
      " 0   Loan_ID               114 non-null    object  \n",
      " 1   Gender                114 non-null    category\n",
      " 2   Marrital_Status       114 non-null    category\n",
      " 3   Self_Employed         114 non-null    category\n",
      " 4   Education             114 non-null    category\n",
      " 5   Applicant_Income      114 non-null    int64   \n",
      " 6   Dependents            114 non-null    category\n",
      " 7   Loan_Amt              114 non-null    float64 \n",
      " 8   Tenure                114 non-null    float64 \n",
      " 9   CoapplicantIncome     114 non-null    int64   \n",
      " 10  Credit_History        114 non-null    category\n",
      " 11  Approved              114 non-null    category\n",
      " 12  Property_Location     114 non-null    category\n",
      " 13  Applicant_Income_Log  114 non-null    float64 \n",
      " 14  Loan_Amt_Log          114 non-null    float64 \n",
      " 15  TotalIncome           114 non-null    int64   \n",
      " 16  TotalIncome_Log       114 non-null    float64 \n",
      " 17  EMI                   114 non-null    float64 \n",
      " 18  EMI_Log               114 non-null    float64 \n",
      " 19  BalanceIncome         114 non-null    float64 \n",
      " 20  BalanceIncome_Log     114 non-null    float64 \n",
      "dtypes: category(8), float64(9), int64(3), object(1)\n",
      "memory usage: 14.2+ KB\n"
     ]
    }
   ],
   "source": [
    "merged_df.info()"
   ]
  },
  {
   "cell_type": "code",
   "execution_count": 67,
   "metadata": {},
   "outputs": [],
   "source": [
    "merged_df.drop(['Loan_ID','Applicant_Income','CoapplicantIncome','Loan_Amt','Tenure','TotalIncome','EMI','BalanceIncome'],\n",
    "               axis=1, inplace=True)"
   ]
  },
  {
   "cell_type": "code",
   "execution_count": 68,
   "metadata": {},
   "outputs": [
    {
     "data": {
      "text/plain": [
       "Index(['Gender', 'Marrital_Status', 'Self_Employed', 'Education', 'Dependents',\n",
       "       'Credit_History', 'Approved', 'Property_Location',\n",
       "       'Applicant_Income_Log', 'Loan_Amt_Log', 'TotalIncome_Log', 'EMI_Log',\n",
       "       'BalanceIncome_Log'],\n",
       "      dtype='object')"
      ]
     },
     "execution_count": 68,
     "metadata": {},
     "output_type": "execute_result"
    }
   ],
   "source": [
    "merged_df.columns"
   ]
  }
 ],
 "metadata": {
  "kernelspec": {
   "display_name": "Python 3",
   "language": "python",
   "name": "python3"
  },
  "language_info": {
   "codemirror_mode": {
    "name": "ipython",
    "version": 3
   },
   "file_extension": ".py",
   "mimetype": "text/x-python",
   "name": "python",
   "nbconvert_exporter": "python",
   "pygments_lexer": "ipython3",
   "version": "3.8.8"
  }
 },
 "nbformat": 4,
 "nbformat_minor": 2
}
