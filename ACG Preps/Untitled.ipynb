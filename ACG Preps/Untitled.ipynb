{
 "cells": [
  {
   "cell_type": "code",
   "execution_count": 1,
   "id": "2edf2ee1",
   "metadata": {},
   "outputs": [
    {
     "name": "stdout",
     "output_type": "stream",
     "text": [
      "Performing interactive authentication. Please follow the instructions on the terminal.\n"
     ]
    },
    {
     "name": "stderr",
     "output_type": "stream",
     "text": [
      "The default web browser has been opened at https://login.microsoftonline.com/organizations/oauth2/v2.0/authorize. Please continue the login in the web browser. If no web browser is available or if the web browser fails to open, use device code flow with `az login --use-device-code`.\n"
     ]
    },
    {
     "name": "stdout",
     "output_type": "stream",
     "text": [
      "Interactive authentication successfully completed.\n"
     ]
    },
    {
     "name": "stderr",
     "output_type": "stream",
     "text": [
      "UserWarning: The resource group doesn't exist or was not provided. AzureML SDK is creating a resource group=rg-AIMLTeam in location=eastus using subscription=d8d3f55a-8679-4dad-bbe3-3b851100c78e.\n"
     ]
    },
    {
     "name": "stdout",
     "output_type": "stream",
     "text": [
      "Deploying AppInsights with name myawesominsights4e013c7d.\n",
      "Deployed AppInsights with name myawesominsights4e013c7d. Took 11.07 seconds.\n",
      "Deploying StorageAccount with name myawesomstorage245e97f11.\n",
      "Deploying KeyVault with name myawesomkeyvaultb1627de3.\n",
      "Deployed KeyVault with name myawesomkeyvaultb1627de3. Took 28.46 seconds.\n",
      "Deployed StorageAccount with name myawesomstorage245e97f11. Took 26.2 seconds.\n",
      "Deploying Workspace with name myawesomeworkspace.\n",
      "Deployed Workspace with name myawesomeworkspace. Took 28.86 seconds.\n"
     ]
    }
   ],
   "source": [
    "from azureml.core import Workspace\n",
    "\n",
    "ws = Workspace.create(name='myawesomeworkspace',\n",
    "                     subscription_id='d8d3f55a-8679-4dad-bbe3-3b851100c78e',\n",
    "                     resource_group='rg-AIMLTeam',\n",
    "                     create_resource_group=True,\n",
    "                     location='eastus')\n",
    "\n",
    "ws.write_config(path='.azureml')"
   ]
  },
  {
   "cell_type": "code",
   "execution_count": 6,
   "id": "98c19156",
   "metadata": {},
   "outputs": [
    {
     "name": "stdout",
     "output_type": "stream",
     "text": [
      "SucceededProvisioning operation finished, operation \"Succeeded\"\n",
      "Succeeded\n",
      "AmlCompute wait for completion finished\n",
      "\n",
      "Minimum number of nodes requested have been provisioned\n"
     ]
    }
   ],
   "source": [
    "from azureml.core import Workspace\n",
    "from azureml.core.compute import ComputeTarget, AmlCompute\n",
    "from azureml.core.compute_target import ComputeTargetException\n",
    "\n",
    "ws = Workspace.get(name='myawesomeworkspace',\n",
    "                  subscription_id='d8d3f55a-8679-4dad-bbe3-3b851100c78e',\n",
    "                     resource_group='rg-AIMLTeam')\n",
    "\n",
    "cpu_cluster_name = \"mycluster\"\n",
    "\n",
    "try:\n",
    "    cpu_cluster = ComputeTarget(workspace=ws, name=cpu_cluster_name)\n",
    "    print('Pretty sure we already did this once...')\n",
    "except ComputeTargetException:\n",
    "    compute_config = AmlCompute.provisioning_configuration(vm_size='STANDARD_D2_V2',\n",
    "                                                          idle_seconds_before_scaledown=2400,\n",
    "                                                          min_nodes=0,\n",
    "                                                          max_nodes=4)\n",
    "    cpu_cluster = ComputeTarget.create(ws, cpu_cluster_name, compute_config)\n",
    "\n",
    "cpu_cluster.wait_for_completion(show_output=True)"
   ]
  },
  {
   "cell_type": "code",
   "execution_count": 7,
   "id": "8575e0cc",
   "metadata": {},
   "outputs": [],
   "source": [
    "from azureml.core import Experiment\n",
    "experiment_name = 'creatingtheultimatesnackfood'\n",
    "experiment = Experiment(workspace=ws, name=experiment_name)"
   ]
  },
  {
   "cell_type": "code",
   "execution_count": 8,
   "id": "579ba11f",
   "metadata": {},
   "outputs": [],
   "source": [
    "from azureml.core import Workspace, Environment\n",
    "ws = Workspace.from_config()\n",
    "myenv = Environment.get(workspace=ws, name='AzureML-Minimal')\n",
    "\n",
    "from azureml.core.compute import ComputeTarget\n",
    "myvm = ComputeTarget(workspace=ws, name='mycluster')"
   ]
  },
  {
   "cell_type": "code",
   "execution_count": 9,
   "id": "c88b3cee",
   "metadata": {},
   "outputs": [
    {
     "ename": "NameError",
     "evalue": "name 'project_folder' is not defined",
     "output_type": "error",
     "traceback": [
      "\u001b[1;31m---------------------------------------------------------------------------\u001b[0m",
      "\u001b[1;31mNameError\u001b[0m                                 Traceback (most recent call last)",
      "\u001b[1;32m<ipython-input-9-aed930e1e6a4>\u001b[0m in \u001b[0;36m<module>\u001b[1;34m\u001b[0m\n\u001b[0;32m      1\u001b[0m \u001b[1;32mfrom\u001b[0m \u001b[0mazureml\u001b[0m\u001b[1;33m.\u001b[0m\u001b[0mcore\u001b[0m \u001b[1;32mimport\u001b[0m \u001b[0mScriptRunConfig\u001b[0m\u001b[1;33m\u001b[0m\u001b[1;33m\u001b[0m\u001b[0m\n\u001b[1;32m----> 2\u001b[1;33m src = ScriptRunConfig(source_directory=project_folder,\n\u001b[0m\u001b[0;32m      3\u001b[0m                      \u001b[0mscript\u001b[0m\u001b[1;33m=\u001b[0m\u001b[1;34m'handwaving.py'\u001b[0m\u001b[1;33m,\u001b[0m\u001b[1;33m\u001b[0m\u001b[1;33m\u001b[0m\u001b[0m\n\u001b[0;32m      4\u001b[0m                      \u001b[0mcompute_target\u001b[0m\u001b[1;33m=\u001b[0m\u001b[0mmy_compute_target\u001b[0m\u001b[1;33m,\u001b[0m\u001b[1;33m\u001b[0m\u001b[1;33m\u001b[0m\u001b[0m\n\u001b[0;32m      5\u001b[0m                      \u001b[0menvironment\u001b[0m\u001b[1;33m=\u001b[0m\u001b[0mmyenv\u001b[0m\u001b[1;33m,\u001b[0m\u001b[1;33m\u001b[0m\u001b[1;33m\u001b[0m\u001b[0m\n",
      "\u001b[1;31mNameError\u001b[0m: name 'project_folder' is not defined"
     ]
    }
   ],
   "source": [
    "from azureml.core import ScriptRunConfig\n",
    "src = ScriptRunConfig(source_directory=project_folder,\n",
    "                     script='handwaving.py',\n",
    "                     compute_target=my_compute_target,\n",
    "                     environment=myenv,\n",
    "                     max_run_duration_seconds=4242932)"
   ]
  },
  {
   "cell_type": "code",
   "execution_count": null,
   "id": "cfaaf749",
   "metadata": {},
   "outputs": [],
   "source": [
    "run = experiment.submit(config=src)\n",
    "run.wait_for_completion(show_output=True)"
   ]
  },
  {
   "cell_type": "code",
   "execution_count": null,
   "id": "fc19c4b0",
   "metadata": {},
   "outputs": [],
   "source": []
  },
  {
   "cell_type": "code",
   "execution_count": null,
   "id": "49ffff6b",
   "metadata": {},
   "outputs": [],
   "source": []
  }
 ],
 "metadata": {
  "kernelspec": {
   "display_name": "Python 3",
   "language": "python",
   "name": "python3"
  },
  "language_info": {
   "codemirror_mode": {
    "name": "ipython",
    "version": 3
   },
   "file_extension": ".py",
   "mimetype": "text/x-python",
   "name": "python",
   "nbconvert_exporter": "python",
   "pygments_lexer": "ipython3",
   "version": "3.8.8"
  }
 },
 "nbformat": 4,
 "nbformat_minor": 5
}
