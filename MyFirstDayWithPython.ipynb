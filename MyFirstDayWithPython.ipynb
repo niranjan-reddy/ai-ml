{
 "cells": [
  {
   "cell_type": "markdown",
   "id": "e6154dac",
   "metadata": {},
   "source": [
    "# Python Prelims"
   ]
  },
  {
   "cell_type": "code",
   "execution_count": 2,
   "id": "5330fa60",
   "metadata": {},
   "outputs": [
    {
     "name": "stdout",
     "output_type": "stream",
     "text": [
      "Hello, I got sarted\n"
     ]
    }
   ],
   "source": [
    "print ('Hello, I got sarted')"
   ]
  },
  {
   "cell_type": "raw",
   "id": "d46bec88",
   "metadata": {},
   "source": [
    "Python is an interpreted language. Commands typed are interpreted. "
   ]
  },
  {
   "cell_type": "code",
   "execution_count": 3,
   "id": "fca43418",
   "metadata": {},
   "outputs": [
    {
     "name": "stdout",
     "output_type": "stream",
     "text": [
      "Hello World\n"
     ]
    }
   ],
   "source": [
    "# Comment : This is a cell which will contain code.\n",
    "\n",
    "print ('Hello World')  # Comment again here for test purpose."
   ]
  },
  {
   "cell_type": "code",
   "execution_count": 4,
   "id": "da1ed597",
   "metadata": {},
   "outputs": [
    {
     "data": {
      "text/plain": [
       "11"
      ]
     },
     "execution_count": 4,
     "metadata": {},
     "output_type": "execute_result"
    }
   ],
   "source": [
    "3+8"
   ]
  },
  {
   "cell_type": "code",
   "execution_count": 5,
   "id": "9095bae8",
   "metadata": {},
   "outputs": [
    {
     "data": {
      "text/plain": [
       "153159"
      ]
     },
     "execution_count": 5,
     "metadata": {},
     "output_type": "execute_result"
    }
   ],
   "source": [
    "213+76473*2"
   ]
  },
  {
   "cell_type": "code",
   "execution_count": 6,
   "id": "766ebca7",
   "metadata": {},
   "outputs": [],
   "source": [
    "tot = 55555"
   ]
  },
  {
   "cell_type": "code",
   "execution_count": 7,
   "id": "e826c90f",
   "metadata": {},
   "outputs": [
    {
     "data": {
      "text/plain": [
       "19683"
      ]
     },
     "execution_count": 7,
     "metadata": {},
     "output_type": "execute_result"
    }
   ],
   "source": [
    "3 ** 3 ** 2"
   ]
  },
  {
   "cell_type": "code",
   "execution_count": 8,
   "id": "a67314c6",
   "metadata": {},
   "outputs": [
    {
     "data": {
      "text/plain": [
       "512"
      ]
     },
     "execution_count": 8,
     "metadata": {},
     "output_type": "execute_result"
    }
   ],
   "source": [
    "2 ** 3 ** 2"
   ]
  },
  {
   "cell_type": "code",
   "execution_count": 9,
   "id": "698d0827",
   "metadata": {},
   "outputs": [
    {
     "data": {
      "text/plain": [
       "9"
      ]
     },
     "execution_count": 9,
     "metadata": {},
     "output_type": "execute_result"
    }
   ],
   "source": [
    "3 ** 2"
   ]
  },
  {
   "cell_type": "code",
   "execution_count": 10,
   "id": "f8cf90dc",
   "metadata": {},
   "outputs": [
    {
     "data": {
      "text/plain": [
       "512"
      ]
     },
     "execution_count": 10,
     "metadata": {},
     "output_type": "execute_result"
    }
   ],
   "source": [
    "2 ** 9"
   ]
  },
  {
   "cell_type": "code",
   "execution_count": null,
   "id": "91e5b92c",
   "metadata": {},
   "outputs": [],
   "source": []
  }
 ],
 "metadata": {
  "kernelspec": {
   "display_name": "Python 3",
   "language": "python",
   "name": "python3"
  },
  "language_info": {
   "codemirror_mode": {
    "name": "ipython",
    "version": 3
   },
   "file_extension": ".py",
   "mimetype": "text/x-python",
   "name": "python",
   "nbconvert_exporter": "python",
   "pygments_lexer": "ipython3",
   "version": "3.8.8"
  }
 },
 "nbformat": 4,
 "nbformat_minor": 5
}
