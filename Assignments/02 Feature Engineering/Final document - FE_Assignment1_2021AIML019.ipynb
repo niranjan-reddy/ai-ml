{
 "cells": [
  {
   "cell_type": "markdown",
   "metadata": {},
   "source": [
    "# Assignment Project - Feature Engineering\n",
    "\n",
    "\n",
    "\n",
    "\n",
    "## Problem Statement:\n",
    "\n",
    "The data files Bollywood.csv and Bollywood - 2 .csv contains the box office collection and social media promotion information about the movies released in 2013 – 2015 period. \n",
    ".\n",
    ".\n",
    ".\n",
    "\n",
    "Following is the information about the columns (names can vary):\n",
    "\n",
    "•\tSerial Id of movie\n",
    "\n",
    "•\tRelease date of movie\n",
    "\n",
    "•\tRelease time of movie like Long Weekend (3), Festive Season (1), Holiday Season (2), and Normal (4)\n",
    "\n",
    "•\tGenre of movie like Romance, Thriller, Action, comedy etc.\n",
    "\n",
    "•\tBudget of movie in crores\n",
    "\n",
    "•\tBox office collection of movie in crore\n",
    "\n",
    "•\tYouTube views of movies trailers\n",
    "\n",
    "•\tYouTube likes for the movie trailers\n",
    "\n",
    "•\tYouTube dislikes for the movie trailers\n"
   ]
  },
  {
   "cell_type": "code",
   "execution_count": 1,
   "metadata": {},
   "outputs": [],
   "source": [
    "# Import necessary libraries for carrying out the file, mathematical, graphical, etc. operations.\n",
    "\n",
    "import pandas as pd\n",
    "from pandas import DataFrame as df\n",
    "import matplotlib.pyplot as plt\n",
    "import seaborn as sns\n",
    "%matplotlib inline\n",
    "import numpy as np\n",
    "import warnings\n",
    "warnings.filterwarnings(\"ignore\")"
   ]
  },
  {
   "cell_type": "markdown",
   "metadata": {},
   "source": [
    "Importing movies_listing01 Dataset and looking at the data:"
   ]
  },
  {
   "cell_type": "code",
   "execution_count": 2,
   "metadata": {},
   "outputs": [
    {
     "data": {
      "text/html": [
       "<div>\n",
       "<style scoped>\n",
       "    .dataframe tbody tr th:only-of-type {\n",
       "        vertical-align: middle;\n",
       "    }\n",
       "\n",
       "    .dataframe tbody tr th {\n",
       "        vertical-align: top;\n",
       "    }\n",
       "\n",
       "    .dataframe thead th {\n",
       "        text-align: right;\n",
       "    }\n",
       "</style>\n",
       "<table border=\"1\" class=\"dataframe\">\n",
       "  <thead>\n",
       "    <tr style=\"text-align: right;\">\n",
       "      <th></th>\n",
       "      <th>No</th>\n",
       "      <th>RelDate</th>\n",
       "      <th>MovieName</th>\n",
       "      <th>ReleaseTime</th>\n",
       "      <th>Genre</th>\n",
       "      <th>Budget</th>\n",
       "      <th>BoxOfficeCollection</th>\n",
       "      <th>YoutubeViews</th>\n",
       "      <th>YoutubeLikes</th>\n",
       "      <th>YoutubeDislikes</th>\n",
       "      <th>YoutubeLikeDislikes</th>\n",
       "    </tr>\n",
       "  </thead>\n",
       "  <tbody>\n",
       "    <tr>\n",
       "      <th>0</th>\n",
       "      <td>1</td>\n",
       "      <td>Apr-18-2014</td>\n",
       "      <td>2 States</td>\n",
       "      <td>3</td>\n",
       "      <td>RomanceGenre</td>\n",
       "      <td>36Cr</td>\n",
       "      <td>104</td>\n",
       "      <td>8576361</td>\n",
       "      <td>26622.0</td>\n",
       "      <td>2527.0</td>\n",
       "      <td>29149</td>\n",
       "    </tr>\n",
       "    <tr>\n",
       "      <th>1</th>\n",
       "      <td>2</td>\n",
       "      <td>Jan-4-2013</td>\n",
       "      <td>Table No. 21</td>\n",
       "      <td>4</td>\n",
       "      <td>Thriller</td>\n",
       "      <td>Cr10</td>\n",
       "      <td>12</td>\n",
       "      <td>1087320</td>\n",
       "      <td>1129.0</td>\n",
       "      <td>137.0</td>\n",
       "      <td>1266</td>\n",
       "    </tr>\n",
       "    <tr>\n",
       "      <th>2</th>\n",
       "      <td>3</td>\n",
       "      <td>Jul-18-2014</td>\n",
       "      <td>Amit Sahni Ki List</td>\n",
       "      <td>4</td>\n",
       "      <td>ComedyGenre</td>\n",
       "      <td>10Cr</td>\n",
       "      <td>4</td>\n",
       "      <td>572336</td>\n",
       "      <td>586.0</td>\n",
       "      <td>54.0</td>\n",
       "      <td>640</td>\n",
       "    </tr>\n",
       "    <tr>\n",
       "      <th>3</th>\n",
       "      <td>4</td>\n",
       "      <td>Jan-4-2013</td>\n",
       "      <td>Rajdhani Express</td>\n",
       "      <td>4</td>\n",
       "      <td>DramaGenre</td>\n",
       "      <td>7Cr</td>\n",
       "      <td>383</td>\n",
       "      <td>42626</td>\n",
       "      <td>86.0</td>\n",
       "      <td>19.0</td>\n",
       "      <td>105</td>\n",
       "    </tr>\n",
       "    <tr>\n",
       "      <th>4</th>\n",
       "      <td>5</td>\n",
       "      <td>Jul-4-2014</td>\n",
       "      <td>Bobby Jasoos</td>\n",
       "      <td>44</td>\n",
       "      <td>ComedyGenre</td>\n",
       "      <td>18Cr</td>\n",
       "      <td>10.8</td>\n",
       "      <td>3113427</td>\n",
       "      <td>4512.0</td>\n",
       "      <td>1224.0</td>\n",
       "      <td>5736</td>\n",
       "    </tr>\n",
       "  </tbody>\n",
       "</table>\n",
       "</div>"
      ],
      "text/plain": [
       "   No      RelDate           MovieName  ReleaseTime         Genre Budget  \\\n",
       "0   1  Apr-18-2014            2 States            3  RomanceGenre   36Cr   \n",
       "1   2   Jan-4-2013        Table No. 21            4     Thriller    Cr10   \n",
       "2   3  Jul-18-2014  Amit Sahni Ki List            4   ComedyGenre   10Cr   \n",
       "3   4   Jan-4-2013    Rajdhani Express            4    DramaGenre    7Cr   \n",
       "4   5   Jul-4-2014        Bobby Jasoos           44   ComedyGenre   18Cr   \n",
       "\n",
       "  BoxOfficeCollection  YoutubeViews  YoutubeLikes  YoutubeDislikes  \\\n",
       "0                 104       8576361       26622.0           2527.0   \n",
       "1                  12       1087320        1129.0            137.0   \n",
       "2                   4        572336         586.0             54.0   \n",
       "3                 383         42626          86.0             19.0   \n",
       "4                10.8       3113427        4512.0           1224.0   \n",
       "\n",
       "   YoutubeLikeDislikes  \n",
       "0                29149  \n",
       "1                 1266  \n",
       "2                  640  \n",
       "3                  105  \n",
       "4                 5736  "
      ]
     },
     "execution_count": 2,
     "metadata": {},
     "output_type": "execute_result"
    }
   ],
   "source": [
    "movies_listing01 = pd.read_csv(\"bollywood.csv\")\n",
    "\n",
    "movies_listing01.head()"
   ]
  },
  {
   "cell_type": "markdown",
   "metadata": {},
   "source": [
    "Importing movies_listing02 Dataset and looking at the data:"
   ]
  },
  {
   "cell_type": "code",
   "execution_count": 3,
   "metadata": {},
   "outputs": [
    {
     "data": {
      "text/html": [
       "<div>\n",
       "<style scoped>\n",
       "    .dataframe tbody tr th:only-of-type {\n",
       "        vertical-align: middle;\n",
       "    }\n",
       "\n",
       "    .dataframe tbody tr th {\n",
       "        vertical-align: top;\n",
       "    }\n",
       "\n",
       "    .dataframe thead th {\n",
       "        text-align: right;\n",
       "    }\n",
       "</style>\n",
       "<table border=\"1\" class=\"dataframe\">\n",
       "  <thead>\n",
       "    <tr style=\"text-align: right;\">\n",
       "      <th></th>\n",
       "      <th>Movie_ID</th>\n",
       "      <th>Release_Date</th>\n",
       "      <th>Movie_Name</th>\n",
       "      <th>Release_Time</th>\n",
       "      <th>Genre</th>\n",
       "      <th>BudgetCr</th>\n",
       "      <th>BoxOfficeCollectionCr</th>\n",
       "      <th>Youtube_Views</th>\n",
       "      <th>Youtube_Likes</th>\n",
       "      <th>Youtube_Dislikes</th>\n",
       "    </tr>\n",
       "  </thead>\n",
       "  <tbody>\n",
       "    <tr>\n",
       "      <th>0</th>\n",
       "      <td>51</td>\n",
       "      <td>4-Jul-14</td>\n",
       "      <td>Lekar Hum Deewana Dil</td>\n",
       "      <td>N</td>\n",
       "      <td>Romance</td>\n",
       "      <td>16</td>\n",
       "      <td>2.50</td>\n",
       "      <td>3998331</td>\n",
       "      <td>2307</td>\n",
       "      <td>497</td>\n",
       "    </tr>\n",
       "    <tr>\n",
       "      <th>1</th>\n",
       "      <td>52</td>\n",
       "      <td>22-Mar-13</td>\n",
       "      <td>Aatma</td>\n",
       "      <td>N</td>\n",
       "      <td>Thriller</td>\n",
       "      <td>8</td>\n",
       "      <td>8.78</td>\n",
       "      <td>841891</td>\n",
       "      <td>997</td>\n",
       "      <td>306</td>\n",
       "    </tr>\n",
       "    <tr>\n",
       "      <th>2</th>\n",
       "      <td>53</td>\n",
       "      <td>4-Apr-14</td>\n",
       "      <td>Main Tera Hero</td>\n",
       "      <td>LW</td>\n",
       "      <td>Comedy</td>\n",
       "      <td>40</td>\n",
       "      <td>55.00</td>\n",
       "      <td>4903941</td>\n",
       "      <td>12657</td>\n",
       "      <td>2139</td>\n",
       "    </tr>\n",
       "    <tr>\n",
       "      <th>3</th>\n",
       "      <td>54</td>\n",
       "      <td>22-Mar-13</td>\n",
       "      <td>Sona Spa</td>\n",
       "      <td>N</td>\n",
       "      <td>Thriller</td>\n",
       "      <td>10</td>\n",
       "      <td>0.24</td>\n",
       "      <td>79430</td>\n",
       "      <td>61</td>\n",
       "      <td>112</td>\n",
       "    </tr>\n",
       "    <tr>\n",
       "      <th>4</th>\n",
       "      <td>55</td>\n",
       "      <td>29-Mar-13</td>\n",
       "      <td>Himmatwala</td>\n",
       "      <td>N</td>\n",
       "      <td>Action</td>\n",
       "      <td>50</td>\n",
       "      <td>100.00</td>\n",
       "      <td>2501277</td>\n",
       "      <td>1</td>\n",
       "      <td>1</td>\n",
       "    </tr>\n",
       "  </tbody>\n",
       "</table>\n",
       "</div>"
      ],
      "text/plain": [
       "   Movie_ID Release_Date             Movie_Name Release_Time     Genre  \\\n",
       "0        51     4-Jul-14  Lekar Hum Deewana Dil            N   Romance   \n",
       "1        52    22-Mar-13                  Aatma            N  Thriller   \n",
       "2        53     4-Apr-14         Main Tera Hero           LW    Comedy   \n",
       "3        54    22-Mar-13               Sona Spa            N  Thriller   \n",
       "4        55    29-Mar-13             Himmatwala            N    Action   \n",
       "\n",
       "   BudgetCr  BoxOfficeCollectionCr  Youtube_Views  Youtube_Likes  \\\n",
       "0        16                   2.50        3998331           2307   \n",
       "1         8                   8.78         841891            997   \n",
       "2        40                  55.00        4903941          12657   \n",
       "3        10                   0.24          79430             61   \n",
       "4        50                 100.00        2501277              1   \n",
       "\n",
       "   Youtube_Dislikes  \n",
       "0               497  \n",
       "1               306  \n",
       "2              2139  \n",
       "3               112  \n",
       "4                 1  "
      ]
     },
     "execution_count": 3,
     "metadata": {},
     "output_type": "execute_result"
    }
   ],
   "source": [
    "movies_listing02 = pd.read_csv(\"bollywood - 2.csv\")\n",
    "\n",
    "movies_listing02.head()"
   ]
  },
  {
   "cell_type": "markdown",
   "metadata": {},
   "source": [
    "Looking at both the data sets, we can see that the columns names are different though they signify the same thing. Renaming the columns on the both the datasets to match so that they can be analysed further and used together."
   ]
  },
  {
   "cell_type": "code",
   "execution_count": 4,
   "metadata": {},
   "outputs": [
    {
     "data": {
      "text/plain": [
       "Index(['No', 'RelDate', 'MovieName', 'ReleaseTime', 'Genre', 'Budget',\n",
       "       'BoxOfficeCollection', 'YoutubeViews', 'YoutubeLikes',\n",
       "       'YoutubeDislikes', 'YoutubeLikeDislikes'],\n",
       "      dtype='object')"
      ]
     },
     "execution_count": 4,
     "metadata": {},
     "output_type": "execute_result"
    }
   ],
   "source": [
    "movies_listing01.columns"
   ]
  },
  {
   "cell_type": "code",
   "execution_count": 5,
   "metadata": {},
   "outputs": [
    {
     "data": {
      "text/html": [
       "<div>\n",
       "<style scoped>\n",
       "    .dataframe tbody tr th:only-of-type {\n",
       "        vertical-align: middle;\n",
       "    }\n",
       "\n",
       "    .dataframe tbody tr th {\n",
       "        vertical-align: top;\n",
       "    }\n",
       "\n",
       "    .dataframe thead th {\n",
       "        text-align: right;\n",
       "    }\n",
       "</style>\n",
       "<table border=\"1\" class=\"dataframe\">\n",
       "  <thead>\n",
       "    <tr style=\"text-align: right;\">\n",
       "      <th></th>\n",
       "      <th>No</th>\n",
       "      <th>RelDate</th>\n",
       "      <th>MovieName</th>\n",
       "      <th>ReleaseTime</th>\n",
       "      <th>Genre</th>\n",
       "      <th>Budget</th>\n",
       "      <th>BoxOfficeCollection</th>\n",
       "      <th>YoutubeViews</th>\n",
       "      <th>YoutubeLikes</th>\n",
       "      <th>YoutubeDislikes</th>\n",
       "    </tr>\n",
       "  </thead>\n",
       "  <tbody>\n",
       "    <tr>\n",
       "      <th>0</th>\n",
       "      <td>51</td>\n",
       "      <td>4-Jul-14</td>\n",
       "      <td>Lekar Hum Deewana Dil</td>\n",
       "      <td>N</td>\n",
       "      <td>Romance</td>\n",
       "      <td>16</td>\n",
       "      <td>2.50</td>\n",
       "      <td>3998331</td>\n",
       "      <td>2307</td>\n",
       "      <td>497</td>\n",
       "    </tr>\n",
       "    <tr>\n",
       "      <th>1</th>\n",
       "      <td>52</td>\n",
       "      <td>22-Mar-13</td>\n",
       "      <td>Aatma</td>\n",
       "      <td>N</td>\n",
       "      <td>Thriller</td>\n",
       "      <td>8</td>\n",
       "      <td>8.78</td>\n",
       "      <td>841891</td>\n",
       "      <td>997</td>\n",
       "      <td>306</td>\n",
       "    </tr>\n",
       "    <tr>\n",
       "      <th>2</th>\n",
       "      <td>53</td>\n",
       "      <td>4-Apr-14</td>\n",
       "      <td>Main Tera Hero</td>\n",
       "      <td>LW</td>\n",
       "      <td>Comedy</td>\n",
       "      <td>40</td>\n",
       "      <td>55.00</td>\n",
       "      <td>4903941</td>\n",
       "      <td>12657</td>\n",
       "      <td>2139</td>\n",
       "    </tr>\n",
       "    <tr>\n",
       "      <th>3</th>\n",
       "      <td>54</td>\n",
       "      <td>22-Mar-13</td>\n",
       "      <td>Sona Spa</td>\n",
       "      <td>N</td>\n",
       "      <td>Thriller</td>\n",
       "      <td>10</td>\n",
       "      <td>0.24</td>\n",
       "      <td>79430</td>\n",
       "      <td>61</td>\n",
       "      <td>112</td>\n",
       "    </tr>\n",
       "    <tr>\n",
       "      <th>4</th>\n",
       "      <td>55</td>\n",
       "      <td>29-Mar-13</td>\n",
       "      <td>Himmatwala</td>\n",
       "      <td>N</td>\n",
       "      <td>Action</td>\n",
       "      <td>50</td>\n",
       "      <td>100.00</td>\n",
       "      <td>2501277</td>\n",
       "      <td>1</td>\n",
       "      <td>1</td>\n",
       "    </tr>\n",
       "  </tbody>\n",
       "</table>\n",
       "</div>"
      ],
      "text/plain": [
       "   No    RelDate              MovieName ReleaseTime     Genre  Budget  \\\n",
       "0  51   4-Jul-14  Lekar Hum Deewana Dil           N   Romance      16   \n",
       "1  52  22-Mar-13                  Aatma           N  Thriller       8   \n",
       "2  53   4-Apr-14         Main Tera Hero          LW    Comedy      40   \n",
       "3  54  22-Mar-13               Sona Spa           N  Thriller      10   \n",
       "4  55  29-Mar-13             Himmatwala           N    Action      50   \n",
       "\n",
       "   BoxOfficeCollection  YoutubeViews  YoutubeLikes  YoutubeDislikes  \n",
       "0                 2.50       3998331          2307              497  \n",
       "1                 8.78        841891           997              306  \n",
       "2                55.00       4903941         12657             2139  \n",
       "3                 0.24         79430            61              112  \n",
       "4               100.00       2501277             1                1  "
      ]
     },
     "execution_count": 5,
     "metadata": {},
     "output_type": "execute_result"
    }
   ],
   "source": [
    "movies_listing02.columns = ['No', 'RelDate', 'MovieName', 'ReleaseTime', 'Genre', 'Budget',\n",
    "       'BoxOfficeCollection', 'YoutubeViews', 'YoutubeLikes',\n",
    "       'YoutubeDislikes']\n",
    "\n",
    "movies_listing02.head()"
   ]
  },
  {
   "cell_type": "markdown",
   "metadata": {},
   "source": [
    "Now these datasets have the same columns. Understanding the elements of each of the datasets:"
   ]
  },
  {
   "cell_type": "code",
   "execution_count": 6,
   "metadata": {},
   "outputs": [
    {
     "data": {
      "text/plain": [
       "No                     0\n",
       "RelDate                0\n",
       "MovieName              0\n",
       "ReleaseTime            0\n",
       "Genre                  0\n",
       "Budget                 0\n",
       "BoxOfficeCollection    0\n",
       "YoutubeViews           0\n",
       "YoutubeLikes           1\n",
       "YoutubeDislikes        3\n",
       "YoutubeLikeDislikes    0\n",
       "dtype: int64"
      ]
     },
     "execution_count": 6,
     "metadata": {},
     "output_type": "execute_result"
    }
   ],
   "source": [
    "movies_listing01.isnull().sum()"
   ]
  },
  {
   "cell_type": "markdown",
   "metadata": {},
   "source": [
    "We see that there are null values in YoutubeDislikes and YoutubeLikes"
   ]
  },
  {
   "cell_type": "code",
   "execution_count": 7,
   "metadata": {},
   "outputs": [
    {
     "data": {
      "text/plain": [
       "No                     0\n",
       "RelDate                0\n",
       "MovieName              0\n",
       "ReleaseTime            0\n",
       "Genre                  0\n",
       "Budget                 0\n",
       "BoxOfficeCollection    0\n",
       "YoutubeViews           0\n",
       "YoutubeLikes           0\n",
       "YoutubeDislikes        0\n",
       "dtype: int64"
      ]
     },
     "execution_count": 7,
     "metadata": {},
     "output_type": "execute_result"
    }
   ],
   "source": [
    "movies_listing02.isnull().sum()"
   ]
  },
  {
   "cell_type": "markdown",
   "metadata": {},
   "source": [
    "There are no null values on movies_listing02. So no Additional Validations required."
   ]
  },
  {
   "cell_type": "code",
   "execution_count": 8,
   "metadata": {},
   "outputs": [
    {
     "data": {
      "text/plain": [
       "No                       int64\n",
       "RelDate                 object\n",
       "MovieName               object\n",
       "ReleaseTime              int64\n",
       "Genre                   object\n",
       "Budget                  object\n",
       "BoxOfficeCollection     object\n",
       "YoutubeViews             int64\n",
       "YoutubeLikes           float64\n",
       "YoutubeDislikes        float64\n",
       "YoutubeLikeDislikes      int64\n",
       "dtype: object"
      ]
     },
     "execution_count": 8,
     "metadata": {},
     "output_type": "execute_result"
    }
   ],
   "source": [
    "movies_listing01.dtypes"
   ]
  },
  {
   "cell_type": "code",
   "execution_count": 9,
   "metadata": {},
   "outputs": [
    {
     "data": {
      "text/plain": [
       "No                       int64\n",
       "RelDate                 object\n",
       "MovieName               object\n",
       "ReleaseTime             object\n",
       "Genre                   object\n",
       "Budget                   int64\n",
       "BoxOfficeCollection    float64\n",
       "YoutubeViews             int64\n",
       "YoutubeLikes             int64\n",
       "YoutubeDislikes          int64\n",
       "dtype: object"
      ]
     },
     "execution_count": 9,
     "metadata": {},
     "output_type": "execute_result"
    }
   ],
   "source": [
    "movies_listing02.dtypes"
   ]
  },
  {
   "cell_type": "markdown",
   "metadata": {},
   "source": [
    "Changing the columns to appropriate data types across both the datasets"
   ]
  },
  {
   "cell_type": "markdown",
   "metadata": {},
   "source": [
    "Ideally:\n",
    "    1. RelDate needs to be a Date Field.\n",
    "    2. MovieName, Genre are String Values.\n",
    "    3. Budget, BoxOfficeCollection are Floats.\n",
    "    4. YoutubeViews, YoutubeLikes, YoutubeDislikes and YoutubeLikeDislikes are all integers.\n",
    "    5. ReleaseTime is kind of an ennumerator\n",
    "\n",
    "Working with each of the fields to understand if there are any issues:"
   ]
  },
  {
   "cell_type": "markdown",
   "metadata": {},
   "source": [
    "## Working with Release Date Field:"
   ]
  },
  {
   "cell_type": "markdown",
   "metadata": {},
   "source": [
    "Attempting the convert the Date Field into standard values.\n",
    "\n",
    "Running the below code results in an exception."
   ]
  },
  {
   "cell_type": "markdown",
   "metadata": {},
   "source": [
    "movies_listing01['FormattedRelDate'] = pd.to_datetime(movies_listing01['RelDate'])"
   ]
  },
  {
   "cell_type": "markdown",
   "metadata": {},
   "source": [
    "Doing this we encounter an exception as seen above. This indicates that the string formatting is wrong in the provided dataset. This has to be corrected for all the elements in the dataset.\n",
    "\n",
    "Note: The above code is Markdowned intentionally to enable the code to run smoothly.\n",
    "\n",
    "Further understanding the data by splitting the dates to year, month and dates."
   ]
  },
  {
   "cell_type": "code",
   "execution_count": 10,
   "metadata": {},
   "outputs": [],
   "source": [
    "movies_listing01['MonthOfRel'] = movies_listing01['RelDate'].str[:3]\n",
    "movies_listing01['DateOfRel'] = movies_listing01['RelDate'].str[4:6]\n",
    "movies_listing01['YearOfRel'] = movies_listing01['RelDate'].str[-4:]"
   ]
  },
  {
   "cell_type": "code",
   "execution_count": 11,
   "metadata": {},
   "outputs": [
    {
     "data": {
      "text/plain": [
       "DateOfRel\n",
       "09    1\n",
       "1-    2\n",
       "10    1\n",
       "11    3\n",
       "12    1\n",
       "13    1\n",
       "14    2\n",
       "15    4\n",
       "18    6\n",
       "19    2\n",
       "2-    2\n",
       "20    1\n",
       "21    2\n",
       "22    2\n",
       "23    1\n",
       "24    2\n",
       "25    2\n",
       "27    1\n",
       "28    1\n",
       "30    1\n",
       "4-    3\n",
       "6-    2\n",
       "7-    3\n",
       "8-    4\n",
       "9-    1\n",
       "Name: No, dtype: int64"
      ]
     },
     "execution_count": 11,
     "metadata": {},
     "output_type": "execute_result"
    }
   ],
   "source": [
    "movies_listing01.groupby(['DateOfRel'])['No'].count()"
   ]
  },
  {
   "cell_type": "markdown",
   "metadata": {},
   "source": [
    "Inspecting the dates, they are not having any invalid characters. These need not have any further filteration."
   ]
  },
  {
   "cell_type": "code",
   "execution_count": 12,
   "metadata": {},
   "outputs": [
    {
     "data": {
      "text/plain": [
       "YearOfRel\n",
       "-204     1\n",
       "2013    19\n",
       "2014    31\n",
       "Name: No, dtype: int64"
      ]
     },
     "execution_count": 12,
     "metadata": {},
     "output_type": "execute_result"
    }
   ],
   "source": [
    "movies_listing01.groupby(['YearOfRel'])['No'].count()"
   ]
  },
  {
   "cell_type": "markdown",
   "metadata": {},
   "source": [
    "Looking at the above dataset we see the following incorrectly entered data years:\n",
    "    1. 204\n",
    "It should have been 2014 as the data is between 2013-2015.\n",
    "Identifying the specific sample:    "
   ]
  },
  {
   "cell_type": "code",
   "execution_count": 13,
   "metadata": {
    "scrolled": true
   },
   "outputs": [
    {
     "data": {
      "text/html": [
       "<div>\n",
       "<style scoped>\n",
       "    .dataframe tbody tr th:only-of-type {\n",
       "        vertical-align: middle;\n",
       "    }\n",
       "\n",
       "    .dataframe tbody tr th {\n",
       "        vertical-align: top;\n",
       "    }\n",
       "\n",
       "    .dataframe thead th {\n",
       "        text-align: right;\n",
       "    }\n",
       "</style>\n",
       "<table border=\"1\" class=\"dataframe\">\n",
       "  <thead>\n",
       "    <tr style=\"text-align: right;\">\n",
       "      <th></th>\n",
       "      <th>No</th>\n",
       "      <th>RelDate</th>\n",
       "      <th>MovieName</th>\n",
       "      <th>ReleaseTime</th>\n",
       "      <th>Genre</th>\n",
       "      <th>Budget</th>\n",
       "      <th>BoxOfficeCollection</th>\n",
       "      <th>YoutubeViews</th>\n",
       "      <th>YoutubeLikes</th>\n",
       "      <th>YoutubeDislikes</th>\n",
       "      <th>YoutubeLikeDislikes</th>\n",
       "      <th>MonthOfRel</th>\n",
       "      <th>DateOfRel</th>\n",
       "      <th>YearOfRel</th>\n",
       "    </tr>\n",
       "  </thead>\n",
       "  <tbody>\n",
       "    <tr>\n",
       "      <th>34</th>\n",
       "      <td>35</td>\n",
       "      <td>Feb-21-204</td>\n",
       "      <td>Highway</td>\n",
       "      <td>4</td>\n",
       "      <td>Drama</td>\n",
       "      <td>30Cr</td>\n",
       "      <td>27.25</td>\n",
       "      <td>3043012</td>\n",
       "      <td>9100.0</td>\n",
       "      <td>971.0</td>\n",
       "      <td>10071</td>\n",
       "      <td>Feb</td>\n",
       "      <td>21</td>\n",
       "      <td>-204</td>\n",
       "    </tr>\n",
       "  </tbody>\n",
       "</table>\n",
       "</div>"
      ],
      "text/plain": [
       "    No     RelDate MovieName  ReleaseTime    Genre Budget BoxOfficeCollection  \\\n",
       "34  35  Feb-21-204   Highway            4   Drama    30Cr               27.25   \n",
       "\n",
       "    YoutubeViews  YoutubeLikes  YoutubeDislikes  YoutubeLikeDislikes  \\\n",
       "34       3043012        9100.0            971.0                10071   \n",
       "\n",
       "   MonthOfRel DateOfRel YearOfRel  \n",
       "34        Feb        21      -204  "
      ]
     },
     "execution_count": 13,
     "metadata": {},
     "output_type": "execute_result"
    }
   ],
   "source": [
    "movies_listing01[movies_listing01.YearOfRel.isin(['-204'])]"
   ]
  },
  {
   "cell_type": "markdown",
   "metadata": {},
   "source": [
    "Correcting the dataset by replacing the value by a correct value."
   ]
  },
  {
   "cell_type": "code",
   "execution_count": 14,
   "metadata": {},
   "outputs": [],
   "source": [
    "movies_listing01.RelDate = movies_listing01.RelDate.replace(to_replace=r'204', value='2014', regex=True)"
   ]
  },
  {
   "cell_type": "code",
   "execution_count": 15,
   "metadata": {},
   "outputs": [
    {
     "data": {
      "text/plain": [
       "MonthOfRel\n",
       "Apr     1\n",
       "Aug     1\n",
       "Feb     9\n",
       "Jan    10\n",
       "Jul     6\n",
       "Jum     1\n",
       "Jun     3\n",
       "Mar     7\n",
       "May     5\n",
       "Nov     2\n",
       "Oct     2\n",
       "Sep     2\n",
       "Sqp     1\n",
       "juu     1\n",
       "Name: No, dtype: int64"
      ]
     },
     "execution_count": 15,
     "metadata": {},
     "output_type": "execute_result"
    }
   ],
   "source": [
    "movies_listing01.groupby(['MonthOfRel'])['No'].count()"
   ]
  },
  {
   "cell_type": "markdown",
   "metadata": {},
   "source": [
    "Looking at the above dataset we see the following incorrectly entered data months:\n",
    "    1. Jum\n",
    "    2. Sqp\n",
    "    3. juu\n",
    "    \n",
    "There are two ways of resolving this data issue:\n",
    "    1. Assuming the typos based on character sequence and the wrongly placed character. eg: Jum is Jun with 'm' entered instead of 'n'. Similarly Sqp is Sep.\n",
    "    2. However, we cannot get conclude if juu is Jun ot Jul\n",
    "    3. Alternatively, we can look at the details of the movie to get the exact information to fill this as this dataset is available publicly.\n",
    "\n",
    "Since Sqp and Jum can be corrected through (1), we can use that. For (2) I am using internet as the reference to fill the data element."
   ]
  },
  {
   "cell_type": "code",
   "execution_count": 16,
   "metadata": {},
   "outputs": [
    {
     "data": {
      "text/html": [
       "<div>\n",
       "<style scoped>\n",
       "    .dataframe tbody tr th:only-of-type {\n",
       "        vertical-align: middle;\n",
       "    }\n",
       "\n",
       "    .dataframe tbody tr th {\n",
       "        vertical-align: top;\n",
       "    }\n",
       "\n",
       "    .dataframe thead th {\n",
       "        text-align: right;\n",
       "    }\n",
       "</style>\n",
       "<table border=\"1\" class=\"dataframe\">\n",
       "  <thead>\n",
       "    <tr style=\"text-align: right;\">\n",
       "      <th></th>\n",
       "      <th>No</th>\n",
       "      <th>RelDate</th>\n",
       "      <th>MovieName</th>\n",
       "      <th>ReleaseTime</th>\n",
       "      <th>Genre</th>\n",
       "      <th>Budget</th>\n",
       "      <th>BoxOfficeCollection</th>\n",
       "      <th>YoutubeViews</th>\n",
       "      <th>YoutubeLikes</th>\n",
       "      <th>YoutubeDislikes</th>\n",
       "      <th>YoutubeLikeDislikes</th>\n",
       "      <th>MonthOfRel</th>\n",
       "      <th>DateOfRel</th>\n",
       "      <th>YearOfRel</th>\n",
       "    </tr>\n",
       "  </thead>\n",
       "  <tbody>\n",
       "    <tr>\n",
       "      <th>17</th>\n",
       "      <td>18</td>\n",
       "      <td>juu-6-2014</td>\n",
       "      <td>Filmistaan</td>\n",
       "      <td>2</td>\n",
       "      <td>ComedyGenre</td>\n",
       "      <td>10Cr</td>\n",
       "      <td>6</td>\n",
       "      <td>989096</td>\n",
       "      <td>1608.0</td>\n",
       "      <td>173.0</td>\n",
       "      <td>1781</td>\n",
       "      <td>juu</td>\n",
       "      <td>6-</td>\n",
       "      <td>2014</td>\n",
       "    </tr>\n",
       "  </tbody>\n",
       "</table>\n",
       "</div>"
      ],
      "text/plain": [
       "    No     RelDate   MovieName  ReleaseTime        Genre Budget  \\\n",
       "17  18  juu-6-2014  Filmistaan            2  ComedyGenre   10Cr   \n",
       "\n",
       "   BoxOfficeCollection  YoutubeViews  YoutubeLikes  YoutubeDislikes  \\\n",
       "17                   6        989096        1608.0            173.0   \n",
       "\n",
       "    YoutubeLikeDislikes MonthOfRel DateOfRel YearOfRel  \n",
       "17                 1781        juu        6-      2014  "
      ]
     },
     "execution_count": 16,
     "metadata": {},
     "output_type": "execute_result"
    }
   ],
   "source": [
    "movies_listing01[movies_listing01.MonthOfRel.isin(['juu'])]"
   ]
  },
  {
   "cell_type": "markdown",
   "metadata": {},
   "source": [
    "This confirms, filmistaan released in the month of Jun. Making the appropriate corrections across the bollywood dataset"
   ]
  },
  {
   "cell_type": "code",
   "execution_count": 17,
   "metadata": {},
   "outputs": [
    {
     "data": {
      "text/html": [
       "<div>\n",
       "<style scoped>\n",
       "    .dataframe tbody tr th:only-of-type {\n",
       "        vertical-align: middle;\n",
       "    }\n",
       "\n",
       "    .dataframe tbody tr th {\n",
       "        vertical-align: top;\n",
       "    }\n",
       "\n",
       "    .dataframe thead th {\n",
       "        text-align: right;\n",
       "    }\n",
       "</style>\n",
       "<table border=\"1\" class=\"dataframe\">\n",
       "  <thead>\n",
       "    <tr style=\"text-align: right;\">\n",
       "      <th></th>\n",
       "      <th>No</th>\n",
       "      <th>RelDate</th>\n",
       "      <th>MovieName</th>\n",
       "      <th>ReleaseTime</th>\n",
       "      <th>Genre</th>\n",
       "      <th>Budget</th>\n",
       "      <th>BoxOfficeCollection</th>\n",
       "      <th>YoutubeViews</th>\n",
       "      <th>YoutubeLikes</th>\n",
       "      <th>YoutubeDislikes</th>\n",
       "      <th>YoutubeLikeDislikes</th>\n",
       "      <th>MonthOfRel</th>\n",
       "      <th>DateOfRel</th>\n",
       "      <th>YearOfRel</th>\n",
       "    </tr>\n",
       "  </thead>\n",
       "  <tbody>\n",
       "    <tr>\n",
       "      <th>12</th>\n",
       "      <td>13</td>\n",
       "      <td>Jum-27-2014</td>\n",
       "      <td>Ek Villain</td>\n",
       "      <td>2</td>\n",
       "      <td>RomanceGenre</td>\n",
       "      <td>35Cr</td>\n",
       "      <td>105.5</td>\n",
       "      <td>4518748</td>\n",
       "      <td>13558.0</td>\n",
       "      <td>1094.0</td>\n",
       "      <td>14652</td>\n",
       "      <td>Jum</td>\n",
       "      <td>27</td>\n",
       "      <td>2014</td>\n",
       "    </tr>\n",
       "  </tbody>\n",
       "</table>\n",
       "</div>"
      ],
      "text/plain": [
       "    No      RelDate   MovieName  ReleaseTime         Genre Budget  \\\n",
       "12  13  Jum-27-2014  Ek Villain            2  RomanceGenre   35Cr   \n",
       "\n",
       "   BoxOfficeCollection  YoutubeViews  YoutubeLikes  YoutubeDislikes  \\\n",
       "12               105.5       4518748       13558.0           1094.0   \n",
       "\n",
       "    YoutubeLikeDislikes MonthOfRel DateOfRel YearOfRel  \n",
       "12                14652        Jum        27      2014  "
      ]
     },
     "execution_count": 17,
     "metadata": {},
     "output_type": "execute_result"
    }
   ],
   "source": [
    "movies_listing01[movies_listing01.MonthOfRel.isin(['Jum'])]"
   ]
  },
  {
   "cell_type": "code",
   "execution_count": 18,
   "metadata": {},
   "outputs": [
    {
     "data": {
      "text/html": [
       "<div>\n",
       "<style scoped>\n",
       "    .dataframe tbody tr th:only-of-type {\n",
       "        vertical-align: middle;\n",
       "    }\n",
       "\n",
       "    .dataframe tbody tr th {\n",
       "        vertical-align: top;\n",
       "    }\n",
       "\n",
       "    .dataframe thead th {\n",
       "        text-align: right;\n",
       "    }\n",
       "</style>\n",
       "<table border=\"1\" class=\"dataframe\">\n",
       "  <thead>\n",
       "    <tr style=\"text-align: right;\">\n",
       "      <th></th>\n",
       "      <th>No</th>\n",
       "      <th>RelDate</th>\n",
       "      <th>MovieName</th>\n",
       "      <th>ReleaseTime</th>\n",
       "      <th>Genre</th>\n",
       "      <th>Budget</th>\n",
       "      <th>BoxOfficeCollection</th>\n",
       "      <th>YoutubeViews</th>\n",
       "      <th>YoutubeLikes</th>\n",
       "      <th>YoutubeDislikes</th>\n",
       "      <th>YoutubeLikeDislikes</th>\n",
       "      <th>MonthOfRel</th>\n",
       "      <th>DateOfRel</th>\n",
       "      <th>YearOfRel</th>\n",
       "    </tr>\n",
       "  </thead>\n",
       "  <tbody>\n",
       "    <tr>\n",
       "      <th>6</th>\n",
       "      <td>7</td>\n",
       "      <td>Sqp-19-2014</td>\n",
       "      <td>Daawat-E-Ishq</td>\n",
       "      <td>4</td>\n",
       "      <td>ComedyGenre</td>\n",
       "      <td>30Cr</td>\n",
       "      <td>24.6</td>\n",
       "      <td>3905050</td>\n",
       "      <td>8315.0</td>\n",
       "      <td>1373.0</td>\n",
       "      <td>9688</td>\n",
       "      <td>Sqp</td>\n",
       "      <td>19</td>\n",
       "      <td>2014</td>\n",
       "    </tr>\n",
       "  </tbody>\n",
       "</table>\n",
       "</div>"
      ],
      "text/plain": [
       "   No      RelDate      MovieName  ReleaseTime        Genre Budget  \\\n",
       "6   7  Sqp-19-2014  Daawat-E-Ishq            4  ComedyGenre   30Cr   \n",
       "\n",
       "  BoxOfficeCollection  YoutubeViews  YoutubeLikes  YoutubeDislikes  \\\n",
       "6                24.6       3905050        8315.0           1373.0   \n",
       "\n",
       "   YoutubeLikeDislikes MonthOfRel DateOfRel YearOfRel  \n",
       "6                 9688        Sqp        19      2014  "
      ]
     },
     "execution_count": 18,
     "metadata": {},
     "output_type": "execute_result"
    }
   ],
   "source": [
    "movies_listing01[movies_listing01.MonthOfRel.isin(['Sqp'])]"
   ]
  },
  {
   "cell_type": "code",
   "execution_count": 19,
   "metadata": {},
   "outputs": [
    {
     "data": {
      "text/html": [
       "<div>\n",
       "<style scoped>\n",
       "    .dataframe tbody tr th:only-of-type {\n",
       "        vertical-align: middle;\n",
       "    }\n",
       "\n",
       "    .dataframe tbody tr th {\n",
       "        vertical-align: top;\n",
       "    }\n",
       "\n",
       "    .dataframe thead th {\n",
       "        text-align: right;\n",
       "    }\n",
       "</style>\n",
       "<table border=\"1\" class=\"dataframe\">\n",
       "  <thead>\n",
       "    <tr style=\"text-align: right;\">\n",
       "      <th></th>\n",
       "      <th>No</th>\n",
       "      <th>RelDate</th>\n",
       "      <th>MovieName</th>\n",
       "      <th>ReleaseTime</th>\n",
       "      <th>Genre</th>\n",
       "      <th>Budget</th>\n",
       "      <th>BoxOfficeCollection</th>\n",
       "      <th>YoutubeViews</th>\n",
       "      <th>YoutubeLikes</th>\n",
       "      <th>YoutubeDislikes</th>\n",
       "      <th>YoutubeLikeDislikes</th>\n",
       "      <th>MonthOfRel</th>\n",
       "      <th>DateOfRel</th>\n",
       "      <th>YearOfRel</th>\n",
       "    </tr>\n",
       "  </thead>\n",
       "  <tbody>\n",
       "    <tr>\n",
       "      <th>0</th>\n",
       "      <td>1</td>\n",
       "      <td>Apr-18-2014</td>\n",
       "      <td>2 States</td>\n",
       "      <td>3</td>\n",
       "      <td>RomanceGenre</td>\n",
       "      <td>36Cr</td>\n",
       "      <td>104</td>\n",
       "      <td>8576361</td>\n",
       "      <td>26622.0</td>\n",
       "      <td>2527.0</td>\n",
       "      <td>29149</td>\n",
       "      <td>Apr</td>\n",
       "      <td>18</td>\n",
       "      <td>2014</td>\n",
       "    </tr>\n",
       "    <tr>\n",
       "      <th>1</th>\n",
       "      <td>2</td>\n",
       "      <td>Jan-4-2013</td>\n",
       "      <td>Table No. 21</td>\n",
       "      <td>4</td>\n",
       "      <td>Thriller</td>\n",
       "      <td>Cr10</td>\n",
       "      <td>12</td>\n",
       "      <td>1087320</td>\n",
       "      <td>1129.0</td>\n",
       "      <td>137.0</td>\n",
       "      <td>1266</td>\n",
       "      <td>Jan</td>\n",
       "      <td>4-</td>\n",
       "      <td>2013</td>\n",
       "    </tr>\n",
       "    <tr>\n",
       "      <th>2</th>\n",
       "      <td>3</td>\n",
       "      <td>Jul-18-2014</td>\n",
       "      <td>Amit Sahni Ki List</td>\n",
       "      <td>4</td>\n",
       "      <td>ComedyGenre</td>\n",
       "      <td>10Cr</td>\n",
       "      <td>4</td>\n",
       "      <td>572336</td>\n",
       "      <td>586.0</td>\n",
       "      <td>54.0</td>\n",
       "      <td>640</td>\n",
       "      <td>Jul</td>\n",
       "      <td>18</td>\n",
       "      <td>2014</td>\n",
       "    </tr>\n",
       "    <tr>\n",
       "      <th>3</th>\n",
       "      <td>4</td>\n",
       "      <td>Jan-4-2013</td>\n",
       "      <td>Rajdhani Express</td>\n",
       "      <td>4</td>\n",
       "      <td>DramaGenre</td>\n",
       "      <td>7Cr</td>\n",
       "      <td>383</td>\n",
       "      <td>42626</td>\n",
       "      <td>86.0</td>\n",
       "      <td>19.0</td>\n",
       "      <td>105</td>\n",
       "      <td>Jan</td>\n",
       "      <td>4-</td>\n",
       "      <td>2013</td>\n",
       "    </tr>\n",
       "    <tr>\n",
       "      <th>4</th>\n",
       "      <td>5</td>\n",
       "      <td>Jul-4-2014</td>\n",
       "      <td>Bobby Jasoos</td>\n",
       "      <td>44</td>\n",
       "      <td>ComedyGenre</td>\n",
       "      <td>18Cr</td>\n",
       "      <td>10.8</td>\n",
       "      <td>3113427</td>\n",
       "      <td>4512.0</td>\n",
       "      <td>1224.0</td>\n",
       "      <td>5736</td>\n",
       "      <td>Jul</td>\n",
       "      <td>4-</td>\n",
       "      <td>2014</td>\n",
       "    </tr>\n",
       "  </tbody>\n",
       "</table>\n",
       "</div>"
      ],
      "text/plain": [
       "   No      RelDate           MovieName  ReleaseTime         Genre Budget  \\\n",
       "0   1  Apr-18-2014            2 States            3  RomanceGenre   36Cr   \n",
       "1   2   Jan-4-2013        Table No. 21            4     Thriller    Cr10   \n",
       "2   3  Jul-18-2014  Amit Sahni Ki List            4   ComedyGenre   10Cr   \n",
       "3   4   Jan-4-2013    Rajdhani Express            4    DramaGenre    7Cr   \n",
       "4   5   Jul-4-2014        Bobby Jasoos           44   ComedyGenre   18Cr   \n",
       "\n",
       "  BoxOfficeCollection  YoutubeViews  YoutubeLikes  YoutubeDislikes  \\\n",
       "0                 104       8576361       26622.0           2527.0   \n",
       "1                  12       1087320        1129.0            137.0   \n",
       "2                   4        572336         586.0             54.0   \n",
       "3                 383         42626          86.0             19.0   \n",
       "4                10.8       3113427        4512.0           1224.0   \n",
       "\n",
       "   YoutubeLikeDislikes MonthOfRel DateOfRel YearOfRel  \n",
       "0                29149        Apr        18      2014  \n",
       "1                 1266        Jan        4-      2013  \n",
       "2                  640        Jul        18      2014  \n",
       "3                  105        Jan        4-      2013  \n",
       "4                 5736        Jul        4-      2014  "
      ]
     },
     "execution_count": 19,
     "metadata": {},
     "output_type": "execute_result"
    }
   ],
   "source": [
    "movies_listing01.RelDate = movies_listing01.RelDate.replace(to_replace=r'juu', value='Jun', regex=True)\n",
    "movies_listing01.RelDate = movies_listing01.RelDate.replace(to_replace=r'Jum', value='Jun', regex=True)\n",
    "movies_listing01.RelDate = movies_listing01.RelDate.replace(to_replace=r'Sqp', value='Sep', regex=True)\n",
    "#movies_listing01.RelDate = movies_listing01.RelDate.replace(\"Sqp-19-2014\", \"Sep-19-2014\")\n",
    "movies_listing01.head()"
   ]
  },
  {
   "cell_type": "markdown",
   "metadata": {},
   "source": [
    "These replacements are done, creating another column for storing this formatted date value so that original can be referred to incase of any issues that we might detect."
   ]
  },
  {
   "cell_type": "code",
   "execution_count": 20,
   "metadata": {},
   "outputs": [
    {
     "data": {
      "text/html": [
       "<div>\n",
       "<style scoped>\n",
       "    .dataframe tbody tr th:only-of-type {\n",
       "        vertical-align: middle;\n",
       "    }\n",
       "\n",
       "    .dataframe tbody tr th {\n",
       "        vertical-align: top;\n",
       "    }\n",
       "\n",
       "    .dataframe thead th {\n",
       "        text-align: right;\n",
       "    }\n",
       "</style>\n",
       "<table border=\"1\" class=\"dataframe\">\n",
       "  <thead>\n",
       "    <tr style=\"text-align: right;\">\n",
       "      <th></th>\n",
       "      <th>No</th>\n",
       "      <th>RelDate</th>\n",
       "      <th>MovieName</th>\n",
       "      <th>ReleaseTime</th>\n",
       "      <th>Genre</th>\n",
       "      <th>Budget</th>\n",
       "      <th>BoxOfficeCollection</th>\n",
       "      <th>YoutubeViews</th>\n",
       "      <th>YoutubeLikes</th>\n",
       "      <th>YoutubeDislikes</th>\n",
       "      <th>YoutubeLikeDislikes</th>\n",
       "      <th>MonthOfRel</th>\n",
       "      <th>DateOfRel</th>\n",
       "      <th>YearOfRel</th>\n",
       "      <th>FormattedRelDate</th>\n",
       "    </tr>\n",
       "  </thead>\n",
       "  <tbody>\n",
       "    <tr>\n",
       "      <th>0</th>\n",
       "      <td>1</td>\n",
       "      <td>Apr-18-2014</td>\n",
       "      <td>2 States</td>\n",
       "      <td>3</td>\n",
       "      <td>RomanceGenre</td>\n",
       "      <td>36Cr</td>\n",
       "      <td>104</td>\n",
       "      <td>8576361</td>\n",
       "      <td>26622.0</td>\n",
       "      <td>2527.0</td>\n",
       "      <td>29149</td>\n",
       "      <td>Apr</td>\n",
       "      <td>18</td>\n",
       "      <td>2014</td>\n",
       "      <td>2014-04-18</td>\n",
       "    </tr>\n",
       "    <tr>\n",
       "      <th>1</th>\n",
       "      <td>2</td>\n",
       "      <td>Jan-4-2013</td>\n",
       "      <td>Table No. 21</td>\n",
       "      <td>4</td>\n",
       "      <td>Thriller</td>\n",
       "      <td>Cr10</td>\n",
       "      <td>12</td>\n",
       "      <td>1087320</td>\n",
       "      <td>1129.0</td>\n",
       "      <td>137.0</td>\n",
       "      <td>1266</td>\n",
       "      <td>Jan</td>\n",
       "      <td>4-</td>\n",
       "      <td>2013</td>\n",
       "      <td>2013-01-04</td>\n",
       "    </tr>\n",
       "    <tr>\n",
       "      <th>2</th>\n",
       "      <td>3</td>\n",
       "      <td>Jul-18-2014</td>\n",
       "      <td>Amit Sahni Ki List</td>\n",
       "      <td>4</td>\n",
       "      <td>ComedyGenre</td>\n",
       "      <td>10Cr</td>\n",
       "      <td>4</td>\n",
       "      <td>572336</td>\n",
       "      <td>586.0</td>\n",
       "      <td>54.0</td>\n",
       "      <td>640</td>\n",
       "      <td>Jul</td>\n",
       "      <td>18</td>\n",
       "      <td>2014</td>\n",
       "      <td>2014-07-18</td>\n",
       "    </tr>\n",
       "    <tr>\n",
       "      <th>3</th>\n",
       "      <td>4</td>\n",
       "      <td>Jan-4-2013</td>\n",
       "      <td>Rajdhani Express</td>\n",
       "      <td>4</td>\n",
       "      <td>DramaGenre</td>\n",
       "      <td>7Cr</td>\n",
       "      <td>383</td>\n",
       "      <td>42626</td>\n",
       "      <td>86.0</td>\n",
       "      <td>19.0</td>\n",
       "      <td>105</td>\n",
       "      <td>Jan</td>\n",
       "      <td>4-</td>\n",
       "      <td>2013</td>\n",
       "      <td>2013-01-04</td>\n",
       "    </tr>\n",
       "    <tr>\n",
       "      <th>4</th>\n",
       "      <td>5</td>\n",
       "      <td>Jul-4-2014</td>\n",
       "      <td>Bobby Jasoos</td>\n",
       "      <td>44</td>\n",
       "      <td>ComedyGenre</td>\n",
       "      <td>18Cr</td>\n",
       "      <td>10.8</td>\n",
       "      <td>3113427</td>\n",
       "      <td>4512.0</td>\n",
       "      <td>1224.0</td>\n",
       "      <td>5736</td>\n",
       "      <td>Jul</td>\n",
       "      <td>4-</td>\n",
       "      <td>2014</td>\n",
       "      <td>2014-07-04</td>\n",
       "    </tr>\n",
       "  </tbody>\n",
       "</table>\n",
       "</div>"
      ],
      "text/plain": [
       "   No      RelDate           MovieName  ReleaseTime         Genre Budget  \\\n",
       "0   1  Apr-18-2014            2 States            3  RomanceGenre   36Cr   \n",
       "1   2   Jan-4-2013        Table No. 21            4     Thriller    Cr10   \n",
       "2   3  Jul-18-2014  Amit Sahni Ki List            4   ComedyGenre   10Cr   \n",
       "3   4   Jan-4-2013    Rajdhani Express            4    DramaGenre    7Cr   \n",
       "4   5   Jul-4-2014        Bobby Jasoos           44   ComedyGenre   18Cr   \n",
       "\n",
       "  BoxOfficeCollection  YoutubeViews  YoutubeLikes  YoutubeDislikes  \\\n",
       "0                 104       8576361       26622.0           2527.0   \n",
       "1                  12       1087320        1129.0            137.0   \n",
       "2                   4        572336         586.0             54.0   \n",
       "3                 383         42626          86.0             19.0   \n",
       "4                10.8       3113427        4512.0           1224.0   \n",
       "\n",
       "   YoutubeLikeDislikes MonthOfRel DateOfRel YearOfRel FormattedRelDate  \n",
       "0                29149        Apr        18      2014       2014-04-18  \n",
       "1                 1266        Jan        4-      2013       2013-01-04  \n",
       "2                  640        Jul        18      2014       2014-07-18  \n",
       "3                  105        Jan        4-      2013       2013-01-04  \n",
       "4                 5736        Jul        4-      2014       2014-07-04  "
      ]
     },
     "execution_count": 20,
     "metadata": {},
     "output_type": "execute_result"
    }
   ],
   "source": [
    "movies_listing01['FormattedRelDate'] = pd.to_datetime(movies_listing01['RelDate'])\n",
    "\n",
    "movies_listing01.head()"
   ]
  },
  {
   "cell_type": "markdown",
   "metadata": {},
   "source": [
    "Dropping Columns created for validations"
   ]
  },
  {
   "cell_type": "code",
   "execution_count": 21,
   "metadata": {},
   "outputs": [
    {
     "data": {
      "text/html": [
       "<div>\n",
       "<style scoped>\n",
       "    .dataframe tbody tr th:only-of-type {\n",
       "        vertical-align: middle;\n",
       "    }\n",
       "\n",
       "    .dataframe tbody tr th {\n",
       "        vertical-align: top;\n",
       "    }\n",
       "\n",
       "    .dataframe thead th {\n",
       "        text-align: right;\n",
       "    }\n",
       "</style>\n",
       "<table border=\"1\" class=\"dataframe\">\n",
       "  <thead>\n",
       "    <tr style=\"text-align: right;\">\n",
       "      <th></th>\n",
       "      <th>No</th>\n",
       "      <th>RelDate</th>\n",
       "      <th>MovieName</th>\n",
       "      <th>ReleaseTime</th>\n",
       "      <th>Genre</th>\n",
       "      <th>Budget</th>\n",
       "      <th>BoxOfficeCollection</th>\n",
       "      <th>YoutubeViews</th>\n",
       "      <th>YoutubeLikes</th>\n",
       "      <th>YoutubeDislikes</th>\n",
       "      <th>YoutubeLikeDislikes</th>\n",
       "      <th>FormattedRelDate</th>\n",
       "    </tr>\n",
       "  </thead>\n",
       "  <tbody>\n",
       "    <tr>\n",
       "      <th>0</th>\n",
       "      <td>1</td>\n",
       "      <td>Apr-18-2014</td>\n",
       "      <td>2 States</td>\n",
       "      <td>3</td>\n",
       "      <td>RomanceGenre</td>\n",
       "      <td>36Cr</td>\n",
       "      <td>104</td>\n",
       "      <td>8576361</td>\n",
       "      <td>26622.0</td>\n",
       "      <td>2527.0</td>\n",
       "      <td>29149</td>\n",
       "      <td>2014-04-18</td>\n",
       "    </tr>\n",
       "  </tbody>\n",
       "</table>\n",
       "</div>"
      ],
      "text/plain": [
       "   No      RelDate MovieName  ReleaseTime         Genre Budget  \\\n",
       "0   1  Apr-18-2014  2 States            3  RomanceGenre   36Cr   \n",
       "\n",
       "  BoxOfficeCollection  YoutubeViews  YoutubeLikes  YoutubeDislikes  \\\n",
       "0                 104       8576361       26622.0           2527.0   \n",
       "\n",
       "   YoutubeLikeDislikes FormattedRelDate  \n",
       "0                29149       2014-04-18  "
      ]
     },
     "execution_count": 21,
     "metadata": {},
     "output_type": "execute_result"
    }
   ],
   "source": [
    "movies_listing01 = movies_listing01.drop(['MonthOfRel', 'DateOfRel', 'YearOfRel'], axis = 1)\n",
    "movies_listing01.head(1)"
   ]
  },
  {
   "cell_type": "markdown",
   "metadata": {},
   "source": [
    "Applying the same checks on the bollywood2 dataset:"
   ]
  },
  {
   "cell_type": "markdown",
   "metadata": {},
   "source": [
    "Attempting to format the data field directly to change to a standard format:"
   ]
  },
  {
   "cell_type": "code",
   "execution_count": 22,
   "metadata": {},
   "outputs": [
    {
     "data": {
      "text/html": [
       "<div>\n",
       "<style scoped>\n",
       "    .dataframe tbody tr th:only-of-type {\n",
       "        vertical-align: middle;\n",
       "    }\n",
       "\n",
       "    .dataframe tbody tr th {\n",
       "        vertical-align: top;\n",
       "    }\n",
       "\n",
       "    .dataframe thead th {\n",
       "        text-align: right;\n",
       "    }\n",
       "</style>\n",
       "<table border=\"1\" class=\"dataframe\">\n",
       "  <thead>\n",
       "    <tr style=\"text-align: right;\">\n",
       "      <th></th>\n",
       "      <th>No</th>\n",
       "      <th>RelDate</th>\n",
       "      <th>MovieName</th>\n",
       "      <th>ReleaseTime</th>\n",
       "      <th>Genre</th>\n",
       "      <th>Budget</th>\n",
       "      <th>BoxOfficeCollection</th>\n",
       "      <th>YoutubeViews</th>\n",
       "      <th>YoutubeLikes</th>\n",
       "      <th>YoutubeDislikes</th>\n",
       "      <th>FormattedRelDate</th>\n",
       "    </tr>\n",
       "  </thead>\n",
       "  <tbody>\n",
       "    <tr>\n",
       "      <th>0</th>\n",
       "      <td>51</td>\n",
       "      <td>4-Jul-14</td>\n",
       "      <td>Lekar Hum Deewana Dil</td>\n",
       "      <td>N</td>\n",
       "      <td>Romance</td>\n",
       "      <td>16</td>\n",
       "      <td>2.5</td>\n",
       "      <td>3998331</td>\n",
       "      <td>2307</td>\n",
       "      <td>497</td>\n",
       "      <td>2014-07-04</td>\n",
       "    </tr>\n",
       "  </tbody>\n",
       "</table>\n",
       "</div>"
      ],
      "text/plain": [
       "   No   RelDate              MovieName ReleaseTime    Genre  Budget  \\\n",
       "0  51  4-Jul-14  Lekar Hum Deewana Dil           N  Romance      16   \n",
       "\n",
       "   BoxOfficeCollection  YoutubeViews  YoutubeLikes  YoutubeDislikes  \\\n",
       "0                  2.5       3998331          2307              497   \n",
       "\n",
       "  FormattedRelDate  \n",
       "0       2014-07-04  "
      ]
     },
     "execution_count": 22,
     "metadata": {},
     "output_type": "execute_result"
    }
   ],
   "source": [
    "movies_listing02['FormattedRelDate'] = pd.to_datetime(movies_listing02['RelDate'])\n",
    "movies_listing02.head(1)"
   ]
  },
  {
   "cell_type": "markdown",
   "metadata": {},
   "source": [
    "We see that the formatting is successful and there are no issues here."
   ]
  },
  {
   "cell_type": "markdown",
   "metadata": {},
   "source": [
    "## Working with Genre Field:\n",
    "\n",
    "Looking at the distribution by grouping them by Genres"
   ]
  },
  {
   "cell_type": "code",
   "execution_count": 23,
   "metadata": {
    "scrolled": true
   },
   "outputs": [
    {
     "data": {
      "text/plain": [
       "Genre\n",
       " Drama           1\n",
       " DramaGenre     11\n",
       "Action           1\n",
       "ActionGenre      9\n",
       "ComedyGenre     12\n",
       "RomanceGenre     9\n",
       "Thriller         5\n",
       "Thriller         3\n",
       "Name: No, dtype: int64"
      ]
     },
     "execution_count": 23,
     "metadata": {},
     "output_type": "execute_result"
    }
   ],
   "source": [
    "movies_listing01.groupby(['Genre'])['No'].count()"
   ]
  },
  {
   "cell_type": "code",
   "execution_count": 24,
   "metadata": {},
   "outputs": [
    {
     "data": {
      "text/plain": [
       "Genre\n",
       " Drama      23\n",
       "Action      14\n",
       "Comedy      24\n",
       "Romance     17\n",
       "Thriller    21\n",
       "Name: No, dtype: int64"
      ]
     },
     "execution_count": 24,
     "metadata": {},
     "output_type": "execute_result"
    }
   ],
   "source": [
    "movies_listing02.groupby(['Genre'])['No'].count()"
   ]
  },
  {
   "cell_type": "markdown",
   "metadata": {},
   "source": [
    "The following are the issues that we see:\n",
    "    1. Drama has a space before the text on both the datasets\n",
    "    2. Thriller and Action have a trailing space at the end of the text in bollywood dataset\n",
    "    3. ActionGenre, ComedyGenre and RomanceGenre have 'Genre' appended to the end.\n",
    "    4. DramaGenre has a leading space and 'Genre' appended to the end.\n",
    "Removing these irregularities."
   ]
  },
  {
   "cell_type": "code",
   "execution_count": 25,
   "metadata": {},
   "outputs": [],
   "source": [
    "movies_listing01.Genre = movies_listing01.Genre.str.strip()\n",
    "movies_listing01.Genre = movies_listing01.Genre.replace(\"ActionGenre\", \"Action\")\n",
    "movies_listing01.Genre = movies_listing01.Genre.replace(\"ComedyGenre\", \"Comedy\")\n",
    "movies_listing01.Genre = movies_listing01.Genre.replace(\"RomanceGenre\", \"Romance\")\n",
    "movies_listing01.Genre = movies_listing01.Genre.replace(\"DramaGenre\", \"Drama\")\n",
    "movies_listing02.Genre = movies_listing02.Genre.str.strip()"
   ]
  },
  {
   "cell_type": "markdown",
   "metadata": {},
   "source": [
    "Confirming that this has removed the irregularities:"
   ]
  },
  {
   "cell_type": "code",
   "execution_count": 26,
   "metadata": {},
   "outputs": [
    {
     "data": {
      "text/plain": [
       "Genre\n",
       "Action      10\n",
       "Comedy      12\n",
       "Drama       12\n",
       "Romance      9\n",
       "Thriller     8\n",
       "Name: No, dtype: int64"
      ]
     },
     "execution_count": 26,
     "metadata": {},
     "output_type": "execute_result"
    }
   ],
   "source": [
    "movies_listing01.groupby(['Genre'])['No'].count()"
   ]
  },
  {
   "cell_type": "code",
   "execution_count": 27,
   "metadata": {},
   "outputs": [
    {
     "data": {
      "text/plain": [
       "Genre\n",
       "Action      14\n",
       "Comedy      24\n",
       "Drama       23\n",
       "Romance     17\n",
       "Thriller    21\n",
       "Name: No, dtype: int64"
      ]
     },
     "execution_count": 27,
     "metadata": {},
     "output_type": "execute_result"
    }
   ],
   "source": [
    "movies_listing02.groupby(['Genre'])['No'].count()"
   ]
  },
  {
   "cell_type": "markdown",
   "metadata": {},
   "source": [
    "## Looking at Budget and BoxOfficeCollection:"
   ]
  },
  {
   "cell_type": "code",
   "execution_count": 28,
   "metadata": {},
   "outputs": [
    {
     "data": {
      "text/plain": [
       "Budget\n",
       "100Cr    1\n",
       "10Cr     4\n",
       "11Cr     1\n",
       "120Cr    1\n",
       "125Cr    1\n",
       "12Cr     5\n",
       "15Cr     2\n",
       "16Cr     1\n",
       "18Cr     1\n",
       "20Cr     1\n",
       "21Cr     1\n",
       "24Cr     1\n",
       "27Cr     1\n",
       "28Cr     1\n",
       "2Cr      1\n",
       "30Cr     3\n",
       "31Cr     1\n",
       "33Cr     1\n",
       "35Cr     2\n",
       "36Cr     2\n",
       "42Cr     1\n",
       "48Cr     1\n",
       "4Cr      2\n",
       "50Cr     2\n",
       "5Cr      2\n",
       "60Cr     1\n",
       "75Cr     1\n",
       "7Cr      3\n",
       "8Cr      1\n",
       "Cr10     2\n",
       "Cr30     1\n",
       "Cr5      1\n",
       "Cr60     1\n",
       "Name: No, dtype: int64"
      ]
     },
     "execution_count": 28,
     "metadata": {},
     "output_type": "execute_result"
    }
   ],
   "source": [
    "movies_listing01.groupby(['Budget'])['No'].count()"
   ]
  },
  {
   "cell_type": "code",
   "execution_count": 29,
   "metadata": {},
   "outputs": [
    {
     "data": {
      "text/plain": [
       "Budget\n",
       "2      2\n",
       "3      1\n",
       "4      2\n",
       "5      6\n",
       "6      2\n",
       "8      1\n",
       "9      1\n",
       "10     6\n",
       "11     2\n",
       "12     4\n",
       "13     1\n",
       "14     1\n",
       "15     8\n",
       "16     3\n",
       "18     3\n",
       "19     1\n",
       "20     3\n",
       "21     1\n",
       "22     2\n",
       "23     1\n",
       "24     4\n",
       "25     4\n",
       "26     1\n",
       "27     2\n",
       "29     1\n",
       "30     5\n",
       "31     1\n",
       "32     1\n",
       "35     6\n",
       "40     5\n",
       "45     1\n",
       "50     5\n",
       "60     1\n",
       "70     1\n",
       "75     2\n",
       "85     2\n",
       "90     2\n",
       "100    1\n",
       "115    1\n",
       "140    1\n",
       "150    1\n",
       "Name: No, dtype: int64"
      ]
     },
     "execution_count": 29,
     "metadata": {},
     "output_type": "execute_result"
    }
   ],
   "source": [
    "movies_listing02.groupby(['Budget'])['No'].count()"
   ]
  },
  {
   "cell_type": "markdown",
   "metadata": {},
   "source": [
    "Looking Budget we see the following issues:\n",
    "1. Budget column in bollywood2 has no issues but is all in interger values. This has to be converted to floats.\n",
    "2. Modifying the bollywood data set to match this result set."
   ]
  },
  {
   "cell_type": "code",
   "execution_count": 30,
   "metadata": {},
   "outputs": [],
   "source": [
    "movies_listing02['Budget'] = pd.to_numeric(movies_listing02['Budget'], downcast='float')\n",
    "movies_listing01['Budget'] = movies_listing01['Budget'].replace(to_replace=r'Cr', value='', regex=True)\n",
    "movies_listing01['Budget'] = pd.to_numeric(movies_listing01['Budget'], downcast='float')"
   ]
  },
  {
   "cell_type": "code",
   "execution_count": 31,
   "metadata": {},
   "outputs": [
    {
     "data": {
      "text/plain": [
       "Budget\n",
       "2.0      1\n",
       "4.0      2\n",
       "5.0      3\n",
       "7.0      3\n",
       "8.0      1\n",
       "10.0     6\n",
       "11.0     1\n",
       "12.0     5\n",
       "15.0     2\n",
       "16.0     1\n",
       "18.0     1\n",
       "20.0     1\n",
       "21.0     1\n",
       "24.0     1\n",
       "27.0     1\n",
       "28.0     1\n",
       "30.0     4\n",
       "31.0     1\n",
       "33.0     1\n",
       "35.0     2\n",
       "36.0     2\n",
       "42.0     1\n",
       "48.0     1\n",
       "50.0     2\n",
       "60.0     2\n",
       "75.0     1\n",
       "100.0    1\n",
       "120.0    1\n",
       "125.0    1\n",
       "Name: No, dtype: int64"
      ]
     },
     "execution_count": 31,
     "metadata": {},
     "output_type": "execute_result"
    }
   ],
   "source": [
    "movies_listing01.groupby(['Budget'])['No'].count()"
   ]
  },
  {
   "cell_type": "code",
   "execution_count": 32,
   "metadata": {},
   "outputs": [
    {
     "data": {
      "text/plain": [
       "BoxOfficeCollection\n",
       "1.5       1\n",
       "1.8       1\n",
       "10        1\n",
       "10.25     1\n",
       "10.8      1\n",
       "103       1\n",
       "104       1\n",
       "105.5     1\n",
       "11        1\n",
       "111       1\n",
       "12        1\n",
       "12.6      1\n",
       "129       1\n",
       "130       1\n",
       "14.3      1\n",
       "16        1\n",
       "162       1\n",
       "163       1\n",
       "2         1\n",
       "2.5       1\n",
       "21.5      1\n",
       "22        1\n",
       "24.6      1\n",
       "25        1\n",
       "27        1\n",
       "27.16     1\n",
       "27.25     1\n",
       "3.65      1\n",
       "32        1\n",
       "32.7      1\n",
       "35        1\n",
       "36        1\n",
       "377       1\n",
       "383       2\n",
       "39.4      1\n",
       "4         1\n",
       "40        1\n",
       "44        1\n",
       "5.82      1\n",
       "58.9      1\n",
       "6         2\n",
       "62.2      1\n",
       "63.7      1\n",
       "65        1\n",
       "69        1\n",
       "76.7      1\n",
       "Cr0.01    1\n",
       "Cr0.09    1\n",
       "Cr0.5     1\n",
       "Name: No, dtype: int64"
      ]
     },
     "execution_count": 32,
     "metadata": {},
     "output_type": "execute_result"
    }
   ],
   "source": [
    "movies_listing01.groupby(['BoxOfficeCollection'])['No'].count()"
   ]
  },
  {
   "cell_type": "code",
   "execution_count": 33,
   "metadata": {},
   "outputs": [
    {
     "data": {
      "text/plain": [
       "BoxOfficeCollection\n",
       "0.24      1\n",
       "0.70      1\n",
       "1.10      2\n",
       "1.50      1\n",
       "1.75      1\n",
       "         ..\n",
       "300.00    1\n",
       "311.00    1\n",
       "340.00    1\n",
       "395.00    1\n",
       "735.00    1\n",
       "Name: No, Length: 84, dtype: int64"
      ]
     },
     "execution_count": 33,
     "metadata": {},
     "output_type": "execute_result"
    }
   ],
   "source": [
    "movies_listing02.groupby(['BoxOfficeCollection'])['No'].count()"
   ]
  },
  {
   "cell_type": "markdown",
   "metadata": {},
   "source": [
    "There are basically two issues here with BoxOfficeCollection:\n",
    "    1. Data Type is not consistent. BoxOfficeCollection on bollywood2 should be converted to float.\n",
    "    2. bollywood dataset has 'cr' appended in some cases which is causing the data to not be in a standard format."
   ]
  },
  {
   "cell_type": "code",
   "execution_count": 34,
   "metadata": {},
   "outputs": [],
   "source": [
    "movies_listing02['BoxOfficeCollection'] = pd.to_numeric(movies_listing02['BoxOfficeCollection'], downcast='float')\n",
    "movies_listing01['BoxOfficeCollection'] = movies_listing01['BoxOfficeCollection'].replace(to_replace=r'Cr', value='', regex=True)\n",
    "movies_listing01['BoxOfficeCollection'] = pd.to_numeric(movies_listing01['BoxOfficeCollection'], downcast='float')"
   ]
  },
  {
   "cell_type": "markdown",
   "metadata": {},
   "source": [
    "## Working with YoutubeLikes and YoutubeDislikes:\n",
    "\n",
    "YoutubeLikes:\n",
    "1. We know there is a null value in YoutubeLikes only in bollywood dataset. The other dataset is fine.\n",
    "2. Getting the row where the null value exists:"
   ]
  },
  {
   "cell_type": "code",
   "execution_count": 35,
   "metadata": {},
   "outputs": [
    {
     "data": {
      "text/html": [
       "<div>\n",
       "<style scoped>\n",
       "    .dataframe tbody tr th:only-of-type {\n",
       "        vertical-align: middle;\n",
       "    }\n",
       "\n",
       "    .dataframe tbody tr th {\n",
       "        vertical-align: top;\n",
       "    }\n",
       "\n",
       "    .dataframe thead th {\n",
       "        text-align: right;\n",
       "    }\n",
       "</style>\n",
       "<table border=\"1\" class=\"dataframe\">\n",
       "  <thead>\n",
       "    <tr style=\"text-align: right;\">\n",
       "      <th></th>\n",
       "      <th>No</th>\n",
       "      <th>RelDate</th>\n",
       "      <th>MovieName</th>\n",
       "      <th>ReleaseTime</th>\n",
       "      <th>Genre</th>\n",
       "      <th>Budget</th>\n",
       "      <th>BoxOfficeCollection</th>\n",
       "      <th>YoutubeViews</th>\n",
       "      <th>YoutubeLikes</th>\n",
       "      <th>YoutubeDislikes</th>\n",
       "      <th>YoutubeLikeDislikes</th>\n",
       "      <th>FormattedRelDate</th>\n",
       "    </tr>\n",
       "  </thead>\n",
       "  <tbody>\n",
       "    <tr>\n",
       "      <th>39</th>\n",
       "      <td>40</td>\n",
       "      <td>Jun-20-2014</td>\n",
       "      <td>Humshakals</td>\n",
       "      <td>2</td>\n",
       "      <td>Comedy</td>\n",
       "      <td>75.0</td>\n",
       "      <td>63.700001</td>\n",
       "      <td>6280868</td>\n",
       "      <td>NaN</td>\n",
       "      <td>1.0</td>\n",
       "      <td>2</td>\n",
       "      <td>2014-06-20</td>\n",
       "    </tr>\n",
       "  </tbody>\n",
       "</table>\n",
       "</div>"
      ],
      "text/plain": [
       "    No      RelDate   MovieName  ReleaseTime   Genre  Budget  \\\n",
       "39  40  Jun-20-2014  Humshakals            2  Comedy    75.0   \n",
       "\n",
       "    BoxOfficeCollection  YoutubeViews  YoutubeLikes  YoutubeDislikes  \\\n",
       "39            63.700001       6280868           NaN              1.0   \n",
       "\n",
       "    YoutubeLikeDislikes FormattedRelDate  \n",
       "39                    2       2014-06-20  "
      ]
     },
     "execution_count": 35,
     "metadata": {},
     "output_type": "execute_result"
    }
   ],
   "source": [
    "movies_listing01[movies_listing01.YoutubeLikes.isin([np.nan])]"
   ]
  },
  {
   "cell_type": "markdown",
   "metadata": {},
   "source": [
    "LikesDislikes contains the sum of Likes and Dislikes for a row. So the value of NaN in Youtube Likes can be obtained from YoutubeLikeDislikes - YoutubeDislikes"
   ]
  },
  {
   "cell_type": "code",
   "execution_count": 36,
   "metadata": {},
   "outputs": [
    {
     "data": {
      "text/plain": [
       "No                     0\n",
       "RelDate                0\n",
       "MovieName              0\n",
       "ReleaseTime            0\n",
       "Genre                  0\n",
       "Budget                 0\n",
       "BoxOfficeCollection    0\n",
       "YoutubeViews           0\n",
       "YoutubeLikes           0\n",
       "YoutubeDislikes        3\n",
       "YoutubeLikeDislikes    0\n",
       "FormattedRelDate       0\n",
       "dtype: int64"
      ]
     },
     "execution_count": 36,
     "metadata": {},
     "output_type": "execute_result"
    }
   ],
   "source": [
    "movies_listing01['YoutubeLikes'] = movies_listing01['YoutubeLikes'].fillna(movies_listing01['YoutubeLikeDislikes']- movies_listing01['YoutubeDislikes'])\n",
    "#confirming the null value in YoutubeLikes is replaced\n",
    "movies_listing01.isnull().sum()"
   ]
  },
  {
   "cell_type": "markdown",
   "metadata": {},
   "source": [
    "Youtube Dislikes:\n",
    "    1. We know there are 3 null values in Youtube Dislikes in Bollywood Dataset."
   ]
  },
  {
   "cell_type": "markdown",
   "metadata": {},
   "source": [
    "Identifying the rows where there are null values:"
   ]
  },
  {
   "cell_type": "code",
   "execution_count": 37,
   "metadata": {},
   "outputs": [
    {
     "data": {
      "text/html": [
       "<div>\n",
       "<style scoped>\n",
       "    .dataframe tbody tr th:only-of-type {\n",
       "        vertical-align: middle;\n",
       "    }\n",
       "\n",
       "    .dataframe tbody tr th {\n",
       "        vertical-align: top;\n",
       "    }\n",
       "\n",
       "    .dataframe thead th {\n",
       "        text-align: right;\n",
       "    }\n",
       "</style>\n",
       "<table border=\"1\" class=\"dataframe\">\n",
       "  <thead>\n",
       "    <tr style=\"text-align: right;\">\n",
       "      <th></th>\n",
       "      <th>No</th>\n",
       "      <th>RelDate</th>\n",
       "      <th>MovieName</th>\n",
       "      <th>ReleaseTime</th>\n",
       "      <th>Genre</th>\n",
       "      <th>Budget</th>\n",
       "      <th>BoxOfficeCollection</th>\n",
       "      <th>YoutubeViews</th>\n",
       "      <th>YoutubeLikes</th>\n",
       "      <th>YoutubeDislikes</th>\n",
       "      <th>YoutubeLikeDislikes</th>\n",
       "      <th>FormattedRelDate</th>\n",
       "    </tr>\n",
       "  </thead>\n",
       "  <tbody>\n",
       "    <tr>\n",
       "      <th>9</th>\n",
       "      <td>10</td>\n",
       "      <td>Jan-11-2013</td>\n",
       "      <td>Gangoobai</td>\n",
       "      <td>4</td>\n",
       "      <td>Drama</td>\n",
       "      <td>2.0</td>\n",
       "      <td>0.01</td>\n",
       "      <td>4354</td>\n",
       "      <td>1.0</td>\n",
       "      <td>NaN</td>\n",
       "      <td>2</td>\n",
       "      <td>2013-01-11</td>\n",
       "    </tr>\n",
       "    <tr>\n",
       "      <th>31</th>\n",
       "      <td>32</td>\n",
       "      <td>Feb-15-2013</td>\n",
       "      <td>Murder 3</td>\n",
       "      <td>1</td>\n",
       "      <td>Thriller</td>\n",
       "      <td>12.0</td>\n",
       "      <td>25.00</td>\n",
       "      <td>2249055</td>\n",
       "      <td>1879.0</td>\n",
       "      <td>NaN</td>\n",
       "      <td>2626</td>\n",
       "      <td>2013-02-15</td>\n",
       "    </tr>\n",
       "    <tr>\n",
       "      <th>46</th>\n",
       "      <td>47</td>\n",
       "      <td>Mar-15-2013</td>\n",
       "      <td>Mere Dad Ki Maruti</td>\n",
       "      <td>4</td>\n",
       "      <td>Comedy</td>\n",
       "      <td>5.0</td>\n",
       "      <td>11.00</td>\n",
       "      <td>569711</td>\n",
       "      <td>1226.0</td>\n",
       "      <td>NaN</td>\n",
       "      <td>1359</td>\n",
       "      <td>2013-03-15</td>\n",
       "    </tr>\n",
       "  </tbody>\n",
       "</table>\n",
       "</div>"
      ],
      "text/plain": [
       "    No      RelDate           MovieName  ReleaseTime     Genre  Budget  \\\n",
       "9   10  Jan-11-2013           Gangoobai            4     Drama     2.0   \n",
       "31  32  Feb-15-2013            Murder 3            1  Thriller    12.0   \n",
       "46  47  Mar-15-2013  Mere Dad Ki Maruti            4    Comedy     5.0   \n",
       "\n",
       "    BoxOfficeCollection  YoutubeViews  YoutubeLikes  YoutubeDislikes  \\\n",
       "9                  0.01          4354           1.0              NaN   \n",
       "31                25.00       2249055        1879.0              NaN   \n",
       "46                11.00        569711        1226.0              NaN   \n",
       "\n",
       "    YoutubeLikeDislikes FormattedRelDate  \n",
       "9                     2       2013-01-11  \n",
       "31                 2626       2013-02-15  \n",
       "46                 1359       2013-03-15  "
      ]
     },
     "execution_count": 37,
     "metadata": {},
     "output_type": "execute_result"
    }
   ],
   "source": [
    "movies_listing01[movies_listing01.YoutubeDislikes.isin([np.nan])]"
   ]
  },
  {
   "cell_type": "code",
   "execution_count": 38,
   "metadata": {},
   "outputs": [
    {
     "data": {
      "text/plain": [
       "No                     0\n",
       "RelDate                0\n",
       "MovieName              0\n",
       "ReleaseTime            0\n",
       "Genre                  0\n",
       "Budget                 0\n",
       "BoxOfficeCollection    0\n",
       "YoutubeViews           0\n",
       "YoutubeLikes           0\n",
       "YoutubeDislikes        0\n",
       "YoutubeLikeDislikes    0\n",
       "FormattedRelDate       0\n",
       "dtype: int64"
      ]
     },
     "execution_count": 38,
     "metadata": {},
     "output_type": "execute_result"
    }
   ],
   "source": [
    "movies_listing01['YoutubeDislikes'] = movies_listing01['YoutubeDislikes'].fillna(movies_listing01['YoutubeLikeDislikes']- movies_listing01['YoutubeLikes'])\n",
    "#confirming the null value in YoutubeLikes is replaced\n",
    "movies_listing01.isnull().sum()"
   ]
  },
  {
   "cell_type": "markdown",
   "metadata": {},
   "source": [
    "Identifying any other issues on the Datasets:"
   ]
  },
  {
   "cell_type": "code",
   "execution_count": 39,
   "metadata": {},
   "outputs": [
    {
     "data": {
      "text/html": [
       "<div>\n",
       "<style scoped>\n",
       "    .dataframe tbody tr th:only-of-type {\n",
       "        vertical-align: middle;\n",
       "    }\n",
       "\n",
       "    .dataframe tbody tr th {\n",
       "        vertical-align: top;\n",
       "    }\n",
       "\n",
       "    .dataframe thead th {\n",
       "        text-align: right;\n",
       "    }\n",
       "</style>\n",
       "<table border=\"1\" class=\"dataframe\">\n",
       "  <thead>\n",
       "    <tr style=\"text-align: right;\">\n",
       "      <th></th>\n",
       "      <th>No</th>\n",
       "      <th>ReleaseTime</th>\n",
       "      <th>Budget</th>\n",
       "      <th>BoxOfficeCollection</th>\n",
       "      <th>YoutubeViews</th>\n",
       "      <th>YoutubeLikes</th>\n",
       "      <th>YoutubeDislikes</th>\n",
       "      <th>YoutubeLikeDislikes</th>\n",
       "    </tr>\n",
       "  </thead>\n",
       "  <tbody>\n",
       "    <tr>\n",
       "      <th>count</th>\n",
       "      <td>51.000000</td>\n",
       "      <td>51.000000</td>\n",
       "      <td>51.000000</td>\n",
       "      <td>51.000000</td>\n",
       "      <td>5.100000e+01</td>\n",
       "      <td>51.000000</td>\n",
       "      <td>51.000000</td>\n",
       "      <td>51.000000</td>\n",
       "    </tr>\n",
       "    <tr>\n",
       "      <th>mean</th>\n",
       "      <td>26.000000</td>\n",
       "      <td>4.137255</td>\n",
       "      <td>27.941177</td>\n",
       "      <td>60.988823</td>\n",
       "      <td>3.504813e+06</td>\n",
       "      <td>8607.549020</td>\n",
       "      <td>1265.372549</td>\n",
       "      <td>9872.921569</td>\n",
       "    </tr>\n",
       "    <tr>\n",
       "      <th>std</th>\n",
       "      <td>14.866069</td>\n",
       "      <td>5.779341</td>\n",
       "      <td>27.754934</td>\n",
       "      <td>91.514565</td>\n",
       "      <td>3.547764e+06</td>\n",
       "      <td>15343.365202</td>\n",
       "      <td>2084.735916</td>\n",
       "      <td>17190.943468</td>\n",
       "    </tr>\n",
       "    <tr>\n",
       "      <th>min</th>\n",
       "      <td>1.000000</td>\n",
       "      <td>1.000000</td>\n",
       "      <td>2.000000</td>\n",
       "      <td>0.010000</td>\n",
       "      <td>4.354000e+03</td>\n",
       "      <td>1.000000</td>\n",
       "      <td>1.000000</td>\n",
       "      <td>2.000000</td>\n",
       "    </tr>\n",
       "    <tr>\n",
       "      <th>25%</th>\n",
       "      <td>13.500000</td>\n",
       "      <td>2.500000</td>\n",
       "      <td>10.000000</td>\n",
       "      <td>10.125000</td>\n",
       "      <td>1.059242e+06</td>\n",
       "      <td>1463.500000</td>\n",
       "      <td>150.500000</td>\n",
       "      <td>1683.500000</td>\n",
       "    </tr>\n",
       "    <tr>\n",
       "      <th>50%</th>\n",
       "      <td>26.000000</td>\n",
       "      <td>4.000000</td>\n",
       "      <td>18.000000</td>\n",
       "      <td>27.160000</td>\n",
       "      <td>2.375050e+06</td>\n",
       "      <td>3308.000000</td>\n",
       "      <td>556.000000</td>\n",
       "      <td>3773.000000</td>\n",
       "    </tr>\n",
       "    <tr>\n",
       "      <th>75%</th>\n",
       "      <td>38.500000</td>\n",
       "      <td>4.000000</td>\n",
       "      <td>35.000000</td>\n",
       "      <td>67.000000</td>\n",
       "      <td>5.008115e+06</td>\n",
       "      <td>11578.500000</td>\n",
       "      <td>1512.000000</td>\n",
       "      <td>12991.500000</td>\n",
       "    </tr>\n",
       "    <tr>\n",
       "      <th>max</th>\n",
       "      <td>51.000000</td>\n",
       "      <td>44.000000</td>\n",
       "      <td>125.000000</td>\n",
       "      <td>383.000000</td>\n",
       "      <td>1.898622e+07</td>\n",
       "      <td>101275.000000</td>\n",
       "      <td>10269.000000</td>\n",
       "      <td>111341.000000</td>\n",
       "    </tr>\n",
       "  </tbody>\n",
       "</table>\n",
       "</div>"
      ],
      "text/plain": [
       "              No  ReleaseTime      Budget  BoxOfficeCollection  YoutubeViews  \\\n",
       "count  51.000000    51.000000   51.000000            51.000000  5.100000e+01   \n",
       "mean   26.000000     4.137255   27.941177            60.988823  3.504813e+06   \n",
       "std    14.866069     5.779341   27.754934            91.514565  3.547764e+06   \n",
       "min     1.000000     1.000000    2.000000             0.010000  4.354000e+03   \n",
       "25%    13.500000     2.500000   10.000000            10.125000  1.059242e+06   \n",
       "50%    26.000000     4.000000   18.000000            27.160000  2.375050e+06   \n",
       "75%    38.500000     4.000000   35.000000            67.000000  5.008115e+06   \n",
       "max    51.000000    44.000000  125.000000           383.000000  1.898622e+07   \n",
       "\n",
       "        YoutubeLikes  YoutubeDislikes  YoutubeLikeDislikes  \n",
       "count      51.000000        51.000000            51.000000  \n",
       "mean     8607.549020      1265.372549          9872.921569  \n",
       "std     15343.365202      2084.735916         17190.943468  \n",
       "min         1.000000         1.000000             2.000000  \n",
       "25%      1463.500000       150.500000          1683.500000  \n",
       "50%      3308.000000       556.000000          3773.000000  \n",
       "75%     11578.500000      1512.000000         12991.500000  \n",
       "max    101275.000000     10269.000000        111341.000000  "
      ]
     },
     "execution_count": 39,
     "metadata": {},
     "output_type": "execute_result"
    }
   ],
   "source": [
    "movies_listing01.describe()"
   ]
  },
  {
   "cell_type": "code",
   "execution_count": 40,
   "metadata": {},
   "outputs": [
    {
     "data": {
      "text/html": [
       "<div>\n",
       "<style scoped>\n",
       "    .dataframe tbody tr th:only-of-type {\n",
       "        vertical-align: middle;\n",
       "    }\n",
       "\n",
       "    .dataframe tbody tr th {\n",
       "        vertical-align: top;\n",
       "    }\n",
       "\n",
       "    .dataframe thead th {\n",
       "        text-align: right;\n",
       "    }\n",
       "</style>\n",
       "<table border=\"1\" class=\"dataframe\">\n",
       "  <thead>\n",
       "    <tr style=\"text-align: right;\">\n",
       "      <th></th>\n",
       "      <th>No</th>\n",
       "      <th>Budget</th>\n",
       "      <th>BoxOfficeCollection</th>\n",
       "      <th>YoutubeViews</th>\n",
       "      <th>YoutubeLikes</th>\n",
       "      <th>YoutubeDislikes</th>\n",
       "    </tr>\n",
       "  </thead>\n",
       "  <tbody>\n",
       "    <tr>\n",
       "      <th>count</th>\n",
       "      <td>99.000000</td>\n",
       "      <td>99.000000</td>\n",
       "      <td>99.000000</td>\n",
       "      <td>9.900000e+01</td>\n",
       "      <td>99.000000</td>\n",
       "      <td>99.000000</td>\n",
       "    </tr>\n",
       "    <tr>\n",
       "      <th>mean</th>\n",
       "      <td>100.000000</td>\n",
       "      <td>30.080809</td>\n",
       "      <td>56.253941</td>\n",
       "      <td>3.258616e+06</td>\n",
       "      <td>7445.202020</td>\n",
       "      <td>1170.989899</td>\n",
       "    </tr>\n",
       "    <tr>\n",
       "      <th>std</th>\n",
       "      <td>28.722813</td>\n",
       "      <td>28.485828</td>\n",
       "      <td>101.429230</td>\n",
       "      <td>3.479723e+06</td>\n",
       "      <td>11187.769162</td>\n",
       "      <td>1722.899736</td>\n",
       "    </tr>\n",
       "    <tr>\n",
       "      <th>min</th>\n",
       "      <td>51.000000</td>\n",
       "      <td>2.000000</td>\n",
       "      <td>0.240000</td>\n",
       "      <td>5.142000e+03</td>\n",
       "      <td>1.000000</td>\n",
       "      <td>1.000000</td>\n",
       "    </tr>\n",
       "    <tr>\n",
       "      <th>25%</th>\n",
       "      <td>75.500000</td>\n",
       "      <td>12.000000</td>\n",
       "      <td>8.390000</td>\n",
       "      <td>1.140044e+06</td>\n",
       "      <td>1099.000000</td>\n",
       "      <td>261.500000</td>\n",
       "    </tr>\n",
       "    <tr>\n",
       "      <th>50%</th>\n",
       "      <td>100.000000</td>\n",
       "      <td>22.000000</td>\n",
       "      <td>29.000000</td>\n",
       "      <td>2.501277e+06</td>\n",
       "      <td>4111.000000</td>\n",
       "      <td>628.000000</td>\n",
       "    </tr>\n",
       "    <tr>\n",
       "      <th>75%</th>\n",
       "      <td>124.500000</td>\n",
       "      <td>35.000000</td>\n",
       "      <td>55.000000</td>\n",
       "      <td>4.185784e+06</td>\n",
       "      <td>8589.000000</td>\n",
       "      <td>1378.000000</td>\n",
       "    </tr>\n",
       "    <tr>\n",
       "      <th>max</th>\n",
       "      <td>149.000000</td>\n",
       "      <td>150.000000</td>\n",
       "      <td>735.000000</td>\n",
       "      <td>2.317107e+07</td>\n",
       "      <td>72070.000000</td>\n",
       "      <td>11888.000000</td>\n",
       "    </tr>\n",
       "  </tbody>\n",
       "</table>\n",
       "</div>"
      ],
      "text/plain": [
       "               No      Budget  BoxOfficeCollection  YoutubeViews  \\\n",
       "count   99.000000   99.000000            99.000000  9.900000e+01   \n",
       "mean   100.000000   30.080809            56.253941  3.258616e+06   \n",
       "std     28.722813   28.485828           101.429230  3.479723e+06   \n",
       "min     51.000000    2.000000             0.240000  5.142000e+03   \n",
       "25%     75.500000   12.000000             8.390000  1.140044e+06   \n",
       "50%    100.000000   22.000000            29.000000  2.501277e+06   \n",
       "75%    124.500000   35.000000            55.000000  4.185784e+06   \n",
       "max    149.000000  150.000000           735.000000  2.317107e+07   \n",
       "\n",
       "       YoutubeLikes  YoutubeDislikes  \n",
       "count     99.000000        99.000000  \n",
       "mean    7445.202020      1170.989899  \n",
       "std    11187.769162      1722.899736  \n",
       "min        1.000000         1.000000  \n",
       "25%     1099.000000       261.500000  \n",
       "50%     4111.000000       628.000000  \n",
       "75%     8589.000000      1378.000000  \n",
       "max    72070.000000     11888.000000  "
      ]
     },
     "execution_count": 40,
     "metadata": {},
     "output_type": "execute_result"
    }
   ],
   "source": [
    "movies_listing02.describe()"
   ]
  },
  {
   "cell_type": "markdown",
   "metadata": {},
   "source": [
    "We see that the YoutubeLikeDislikes is missing in bollywood2 dataset. Adding that column:"
   ]
  },
  {
   "cell_type": "code",
   "execution_count": 41,
   "metadata": {},
   "outputs": [],
   "source": [
    "movies_listing02['YoutubeLikeDislikes'] = movies_listing02['YoutubeDislikes']+ movies_listing02['YoutubeLikes']"
   ]
  },
  {
   "cell_type": "markdown",
   "metadata": {},
   "source": [
    "## Working with ReleaseTime:"
   ]
  },
  {
   "cell_type": "code",
   "execution_count": 42,
   "metadata": {},
   "outputs": [
    {
     "data": {
      "text/plain": [
       "ReleaseTime\n",
       "1      3\n",
       "2     10\n",
       "3      4\n",
       "4     33\n",
       "44     1\n",
       "Name: No, dtype: int64"
      ]
     },
     "execution_count": 42,
     "metadata": {},
     "output_type": "execute_result"
    }
   ],
   "source": [
    "movies_listing01.groupby(['ReleaseTime'])['No'].count()"
   ]
  },
  {
   "cell_type": "code",
   "execution_count": 43,
   "metadata": {},
   "outputs": [
    {
     "data": {
      "text/plain": [
       "ReleaseTime\n",
       "FS    14\n",
       "HS     8\n",
       "LW    11\n",
       "N     66\n",
       "Name: No, dtype: int64"
      ]
     },
     "execution_count": 43,
     "metadata": {},
     "output_type": "execute_result"
    }
   ],
   "source": [
    "movies_listing02.groupby(['ReleaseTime'])['No'].count()"
   ]
  },
  {
   "cell_type": "markdown",
   "metadata": {},
   "source": [
    "There are essentially two issues here:\n",
    "    1. An incorrect value in bollywood data set which has a ReleaseTime as 44\n",
    "    2. The ReleaseTime values are different in the case of both the datasets"
   ]
  },
  {
   "cell_type": "code",
   "execution_count": 44,
   "metadata": {},
   "outputs": [],
   "source": [
    "movies_listing01.ReleaseTime = movies_listing01.ReleaseTime.replace(44,4)\n",
    "#Replacing 44 with 4"
   ]
  },
  {
   "cell_type": "code",
   "execution_count": 45,
   "metadata": {},
   "outputs": [
    {
     "data": {
      "text/plain": [
       "ReleaseTime\n",
       "1     3\n",
       "2    10\n",
       "3     4\n",
       "4    34\n",
       "Name: No, dtype: int64"
      ]
     },
     "execution_count": 45,
     "metadata": {},
     "output_type": "execute_result"
    }
   ],
   "source": [
    "movies_listing01.groupby(['ReleaseTime'])['No'].count()"
   ]
  },
  {
   "cell_type": "markdown",
   "metadata": {},
   "source": [
    "From the Problem Statement we understand that:\n",
    "    1. Release time of movie like Long Weekend (3), Festive Season (1), Holiday Season (2), and Normal (4)\n",
    "    2. Comparing this with strings with data elements in bollywood2, we can infer that LW = Long Weekend, FS = Festive Season, HS=Holiday Season and N = Normal\n",
    "    3. The data is now converted to the given Types of ReleaseTimes as described in (1)"
   ]
  },
  {
   "cell_type": "markdown",
   "metadata": {},
   "source": [
    "Replacing data elements on bollywood2 to match with that of bollywood"
   ]
  },
  {
   "cell_type": "code",
   "execution_count": 46,
   "metadata": {},
   "outputs": [],
   "source": [
    "movies_listing01.ReleaseTime = movies_listing01.ReleaseTime.replace(1,\"Festive Season\")\n",
    "movies_listing01.ReleaseTime = movies_listing01.ReleaseTime.replace(2,\"Holiday Season\")\n",
    "movies_listing01.ReleaseTime = movies_listing01.ReleaseTime.replace(3,\"Long Weekend\")\n",
    "movies_listing01.ReleaseTime = movies_listing01.ReleaseTime.replace(4,\"Normal\")\n",
    "movies_listing02.ReleaseTime = movies_listing02.ReleaseTime.replace('FS',\"Festive Season\")\n",
    "movies_listing02.ReleaseTime = movies_listing02.ReleaseTime.replace('HS',\"Holiday Season\")\n",
    "movies_listing02.ReleaseTime = movies_listing02.ReleaseTime.replace('LW',\"Long Weekend\")\n",
    "movies_listing02.ReleaseTime = movies_listing02.ReleaseTime.replace('N',\"Normal\")"
   ]
  },
  {
   "cell_type": "code",
   "execution_count": 47,
   "metadata": {},
   "outputs": [
    {
     "data": {
      "text/plain": [
       "ReleaseTime\n",
       "Festive Season    14\n",
       "Holiday Season     8\n",
       "Long Weekend      11\n",
       "Normal            66\n",
       "Name: No, dtype: int64"
      ]
     },
     "execution_count": 47,
     "metadata": {},
     "output_type": "execute_result"
    }
   ],
   "source": [
    "movies_listing02.groupby(['ReleaseTime'])['No'].count()\n",
    "#Confirming that both the datasets have the same value sets for ReleaseTime"
   ]
  },
  {
   "cell_type": "markdown",
   "metadata": {},
   "source": [
    "## Looking at Youtube Views:"
   ]
  },
  {
   "cell_type": "code",
   "execution_count": 48,
   "metadata": {},
   "outputs": [
    {
     "data": {
      "text/plain": [
       "YoutubeViews\n",
       "4354        1\n",
       "28391       1\n",
       "42626       1\n",
       "235767      1\n",
       "492344      1\n",
       "569711      1\n",
       "572336      1\n",
       "591838      1\n",
       "764725      1\n",
       "839270      1\n",
       "868743      1\n",
       "989096      1\n",
       "1041892     1\n",
       "1076591     1\n",
       "1077723     1\n",
       "1087320     1\n",
       "1176596     1\n",
       "1200152     1\n",
       "1551786     1\n",
       "1741424     1\n",
       "1829417     1\n",
       "1888754     1\n",
       "2249055     1\n",
       "2333067     1\n",
       "2343109     1\n",
       "2375050     1\n",
       "2397647     1\n",
       "2435283     1\n",
       "3043012     1\n",
       "3113427     1\n",
       "3503887     1\n",
       "3905050     1\n",
       "3998331     1\n",
       "4005695     1\n",
       "4042091     1\n",
       "4518748     1\n",
       "4687259     1\n",
       "4823892     1\n",
       "5192338     1\n",
       "5454349     1\n",
       "6144142     1\n",
       "6280868     1\n",
       "6336058     1\n",
       "6395202     1\n",
       "6604595     1\n",
       "6841635     1\n",
       "7048104     1\n",
       "7641333     1\n",
       "8576361     1\n",
       "13798789    1\n",
       "18986221    1\n",
       "Name: No, dtype: int64"
      ]
     },
     "execution_count": 48,
     "metadata": {},
     "output_type": "execute_result"
    }
   ],
   "source": [
    "movies_listing01.groupby(['YoutubeViews'])['No'].count() "
   ]
  },
  {
   "cell_type": "code",
   "execution_count": 49,
   "metadata": {},
   "outputs": [
    {
     "data": {
      "text/plain": [
       "YoutubeViews\n",
       "5142        1\n",
       "23186       1\n",
       "40450       1\n",
       "68511       1\n",
       "79430       1\n",
       "           ..\n",
       "8788913     1\n",
       "13270623    1\n",
       "13279636    1\n",
       "15889811    1\n",
       "23171067    1\n",
       "Name: No, Length: 99, dtype: int64"
      ]
     },
     "execution_count": 49,
     "metadata": {},
     "output_type": "execute_result"
    }
   ],
   "source": [
    "movies_listing02.groupby(['YoutubeViews'])['No'].count() "
   ]
  },
  {
   "cell_type": "markdown",
   "metadata": {},
   "source": [
    "Looking at the Youtube Views on both the datasets we can see that there are no data quality issues with the dataset."
   ]
  },
  {
   "cell_type": "markdown",
   "metadata": {},
   "source": [
    "## Merging the two datasets:"
   ]
  },
  {
   "cell_type": "code",
   "execution_count": 50,
   "metadata": {},
   "outputs": [
    {
     "data": {
      "text/plain": [
       "(150, 12)"
      ]
     },
     "execution_count": 50,
     "metadata": {},
     "output_type": "execute_result"
    }
   ],
   "source": [
    "merged_dataset = [movies_listing01, movies_listing02]\n",
    "dataset = pd.concat(merged_dataset)\n",
    "dataset.shape"
   ]
  },
  {
   "cell_type": "markdown",
   "metadata": {},
   "source": [
    "Validating the data on the merged data set by looking for nulls:"
   ]
  },
  {
   "cell_type": "code",
   "execution_count": 51,
   "metadata": {},
   "outputs": [
    {
     "data": {
      "text/plain": [
       "No                     0\n",
       "RelDate                0\n",
       "MovieName              0\n",
       "ReleaseTime            0\n",
       "Genre                  0\n",
       "Budget                 0\n",
       "BoxOfficeCollection    0\n",
       "YoutubeViews           0\n",
       "YoutubeLikes           0\n",
       "YoutubeDislikes        0\n",
       "YoutubeLikeDislikes    0\n",
       "FormattedRelDate       0\n",
       "dtype: int64"
      ]
     },
     "execution_count": 51,
     "metadata": {},
     "output_type": "execute_result"
    }
   ],
   "source": [
    "dataset.isnull().sum()"
   ]
  },
  {
   "cell_type": "markdown",
   "metadata": {},
   "source": [
    "There are no null values. Also we see there are 150 rows."
   ]
  },
  {
   "cell_type": "markdown",
   "metadata": {},
   "source": [
    "## Checking for Duplicate Values in the dataset"
   ]
  },
  {
   "cell_type": "markdown",
   "metadata": {},
   "source": [
    "Movie Names cannot be exact duplicates"
   ]
  },
  {
   "cell_type": "code",
   "execution_count": 52,
   "metadata": {},
   "outputs": [
    {
     "data": {
      "text/plain": [
       "(150, 12)"
      ]
     },
     "execution_count": 52,
     "metadata": {},
     "output_type": "execute_result"
    }
   ],
   "source": [
    "dataset.shape"
   ]
  },
  {
   "cell_type": "markdown",
   "metadata": {},
   "source": [
    "Grouping the movies by name:"
   ]
  },
  {
   "cell_type": "code",
   "execution_count": 53,
   "metadata": {},
   "outputs": [],
   "source": [
    "distinct_movies = dataset.groupby(['MovieName'])['Budget'].count().reset_index().rename(columns={\"Budget\":\"Occurrences\"})"
   ]
  },
  {
   "cell_type": "code",
   "execution_count": 54,
   "metadata": {},
   "outputs": [
    {
     "data": {
      "text/plain": [
       "(149, 2)"
      ]
     },
     "execution_count": 54,
     "metadata": {},
     "output_type": "execute_result"
    }
   ],
   "source": [
    "distinct_movies.shape"
   ]
  },
  {
   "cell_type": "markdown",
   "metadata": {},
   "source": [
    "We see that there is a difference of one, this would mean that there is one such value which is a duplicate. Sorting the above by descendening and identifying the duplicate record."
   ]
  },
  {
   "cell_type": "code",
   "execution_count": 55,
   "metadata": {},
   "outputs": [],
   "source": [
    "distinct_movies.sort_values(by=['Occurrences'], inplace=True, ascending=False)"
   ]
  },
  {
   "cell_type": "code",
   "execution_count": 56,
   "metadata": {},
   "outputs": [
    {
     "data": {
      "text/html": [
       "<div>\n",
       "<style scoped>\n",
       "    .dataframe tbody tr th:only-of-type {\n",
       "        vertical-align: middle;\n",
       "    }\n",
       "\n",
       "    .dataframe tbody tr th {\n",
       "        vertical-align: top;\n",
       "    }\n",
       "\n",
       "    .dataframe thead th {\n",
       "        text-align: right;\n",
       "    }\n",
       "</style>\n",
       "<table border=\"1\" class=\"dataframe\">\n",
       "  <thead>\n",
       "    <tr style=\"text-align: right;\">\n",
       "      <th></th>\n",
       "      <th>MovieName</th>\n",
       "      <th>Occurrences</th>\n",
       "    </tr>\n",
       "  </thead>\n",
       "  <tbody>\n",
       "    <tr>\n",
       "      <th>82</th>\n",
       "      <td>Lekar Hum Deewana Dil</td>\n",
       "      <td>2</td>\n",
       "    </tr>\n",
       "  </tbody>\n",
       "</table>\n",
       "</div>"
      ],
      "text/plain": [
       "                MovieName  Occurrences\n",
       "82  Lekar Hum Deewana Dil            2"
      ]
     },
     "execution_count": 56,
     "metadata": {},
     "output_type": "execute_result"
    }
   ],
   "source": [
    "distinct_movies.head(1)"
   ]
  },
  {
   "cell_type": "markdown",
   "metadata": {},
   "source": [
    "We can see that there is a duplicate entry in the movie names. Exploring the other other attributes of this movie."
   ]
  },
  {
   "cell_type": "code",
   "execution_count": 57,
   "metadata": {},
   "outputs": [
    {
     "data": {
      "text/html": [
       "<div>\n",
       "<style scoped>\n",
       "    .dataframe tbody tr th:only-of-type {\n",
       "        vertical-align: middle;\n",
       "    }\n",
       "\n",
       "    .dataframe tbody tr th {\n",
       "        vertical-align: top;\n",
       "    }\n",
       "\n",
       "    .dataframe thead th {\n",
       "        text-align: right;\n",
       "    }\n",
       "</style>\n",
       "<table border=\"1\" class=\"dataframe\">\n",
       "  <thead>\n",
       "    <tr style=\"text-align: right;\">\n",
       "      <th></th>\n",
       "      <th>No</th>\n",
       "      <th>RelDate</th>\n",
       "      <th>MovieName</th>\n",
       "      <th>ReleaseTime</th>\n",
       "      <th>Genre</th>\n",
       "      <th>Budget</th>\n",
       "      <th>BoxOfficeCollection</th>\n",
       "      <th>YoutubeViews</th>\n",
       "      <th>YoutubeLikes</th>\n",
       "      <th>YoutubeDislikes</th>\n",
       "      <th>YoutubeLikeDislikes</th>\n",
       "      <th>FormattedRelDate</th>\n",
       "    </tr>\n",
       "  </thead>\n",
       "  <tbody>\n",
       "    <tr>\n",
       "      <th>50</th>\n",
       "      <td>51</td>\n",
       "      <td>Jul-7-2014</td>\n",
       "      <td>Lekar Hum Deewana Dil</td>\n",
       "      <td>Normal</td>\n",
       "      <td>Romance</td>\n",
       "      <td>16.0</td>\n",
       "      <td>2.5</td>\n",
       "      <td>3998331</td>\n",
       "      <td>2307.0</td>\n",
       "      <td>497.0</td>\n",
       "      <td>2804</td>\n",
       "      <td>2014-07-07</td>\n",
       "    </tr>\n",
       "    <tr>\n",
       "      <th>0</th>\n",
       "      <td>51</td>\n",
       "      <td>4-Jul-14</td>\n",
       "      <td>Lekar Hum Deewana Dil</td>\n",
       "      <td>Normal</td>\n",
       "      <td>Romance</td>\n",
       "      <td>16.0</td>\n",
       "      <td>2.5</td>\n",
       "      <td>3998331</td>\n",
       "      <td>2307.0</td>\n",
       "      <td>497.0</td>\n",
       "      <td>2804</td>\n",
       "      <td>2014-07-04</td>\n",
       "    </tr>\n",
       "  </tbody>\n",
       "</table>\n",
       "</div>"
      ],
      "text/plain": [
       "    No     RelDate              MovieName ReleaseTime    Genre  Budget  \\\n",
       "50  51  Jul-7-2014  Lekar Hum Deewana Dil      Normal  Romance    16.0   \n",
       "0   51    4-Jul-14  Lekar Hum Deewana Dil      Normal  Romance    16.0   \n",
       "\n",
       "    BoxOfficeCollection  YoutubeViews  YoutubeLikes  YoutubeDislikes  \\\n",
       "50                  2.5       3998331        2307.0            497.0   \n",
       "0                   2.5       3998331        2307.0            497.0   \n",
       "\n",
       "    YoutubeLikeDislikes FormattedRelDate  \n",
       "50                 2804       2014-07-07  \n",
       "0                  2804       2014-07-04  "
      ]
     },
     "execution_count": 57,
     "metadata": {},
     "output_type": "execute_result"
    }
   ],
   "source": [
    "dataset[dataset.MovieName.isin(['Lekar Hum Deewana Dil'])]"
   ]
  },
  {
   "cell_type": "markdown",
   "metadata": {},
   "source": [
    "We see all of the other attributes are a match, thus, removing one of the occurrence."
   ]
  },
  {
   "cell_type": "code",
   "execution_count": 58,
   "metadata": {},
   "outputs": [],
   "source": [
    "dataset = dataset.drop_duplicates(subset=['MovieName'])"
   ]
  },
  {
   "cell_type": "markdown",
   "metadata": {},
   "source": [
    "## Q1. Summary of Issues:\n",
    "The following are the issues that have been identified and recitified during the data preparation process:\n",
    "    1. Issues with Release Date:\n",
    "        a. There are three dates with incorrect month names. These are replaced with the correct names.\n",
    "        b. There is an year which is incorrectly entered. This is also corrected by replacing it with the correct value.\n",
    "        c. A formatted date field column  is also created for different types of analytical uses. Original field if leftout with alteration.\n",
    "    2. Issues with Genre field:\n",
    "        a. Drama has a space before the text on both the datasets\n",
    "        b. Thriller and Action have a trailing space at the end of the text in bollywood dataset\n",
    "        c. ActionGenre, ComedyGenre and RomanceGenre have 'Genre' appended to the end.\n",
    "        d. DramaGenre has a leading space and 'Genre' appended to the end.\n",
    "        Leading and Trailing spaces have been removed and where ever 'Genre' is appended to the end, that is removed.\n",
    "    3. Issues with Budget Field:\n",
    "        a. Data Type is not consistent across the datasets.\n",
    "        b. bollywood dataset has 'cr' appended in some cases which is causing the data to not be in a standard format.\n",
    "    4. Issues with BoxOfficeColleciton Field:\n",
    "        a. Data Type is not consistent across the datasets.\n",
    "        b. bollywood dataset has 'cr' appended in some cases which is causing the data to not be in a standard format.\n",
    "    5. Issues with ReleaseTime:\n",
    "        a. A value is incorrectly entered in bollywood dataset. This is manually corrected as it is only one value.\n",
    "        b. The values are not consistent between the two datasets. These have been replaced with the standard values from the Assignment Problem Statement.\n",
    "    6. Issues with YoutubeLikes Field:\n",
    "        a. One Null Value in YoutubeLikes in the bollywood dataset. \n",
    "        b. This has been rectified by the use of the additional column that is provided as YoutubeLikeDislikes. This column contains the sum of likes and dislikes. Using this information, we have replaced the null value in YoutubeLikes with a value that is equal to YoutubeLikeDislikes - YoutubeDislikes from that specific row.\n",
    "    7. Issues with YoutubeDislikes Field:\n",
    "        a. There are three null values in YoutubeDislikes in bollywood dataset. \n",
    "        b. These values also can be obtained as a difference between YoutubeLikeDislikes and YoutubeLikes.\n",
    "    8. Once the data is cleaned on both the datasets and the datasets are merged we see that there is a movie with duplicate entries. One of these is removed."
   ]
  },
  {
   "cell_type": "markdown",
   "metadata": {},
   "source": [
    "## Q2: Meta Information of the Dataset"
   ]
  },
  {
   "cell_type": "code",
   "execution_count": 59,
   "metadata": {},
   "outputs": [
    {
     "name": "stdout",
     "output_type": "stream",
     "text": [
      "<class 'pandas.core.frame.DataFrame'>\n",
      "Int64Index: 149 entries, 0 to 98\n",
      "Data columns (total 12 columns):\n",
      " #   Column               Non-Null Count  Dtype         \n",
      "---  ------               --------------  -----         \n",
      " 0   No                   149 non-null    int64         \n",
      " 1   RelDate              149 non-null    object        \n",
      " 2   MovieName            149 non-null    object        \n",
      " 3   ReleaseTime          149 non-null    object        \n",
      " 4   Genre                149 non-null    object        \n",
      " 5   Budget               149 non-null    float32       \n",
      " 6   BoxOfficeCollection  149 non-null    float32       \n",
      " 7   YoutubeViews         149 non-null    int64         \n",
      " 8   YoutubeLikes         149 non-null    float64       \n",
      " 9   YoutubeDislikes      149 non-null    float64       \n",
      " 10  YoutubeLikeDislikes  149 non-null    int64         \n",
      " 11  FormattedRelDate     149 non-null    datetime64[ns]\n",
      "dtypes: datetime64[ns](1), float32(2), float64(2), int64(3), object(4)\n",
      "memory usage: 14.0+ KB\n"
     ]
    }
   ],
   "source": [
    "dataset.info()#MetaInfo"
   ]
  },
  {
   "cell_type": "markdown",
   "metadata": {},
   "source": [
    "There are a total of 149 entries in the dataset."
   ]
  },
  {
   "cell_type": "markdown",
   "metadata": {},
   "source": [
    "## Q3. Movies in each Genre per ReleaseTime"
   ]
  },
  {
   "cell_type": "code",
   "execution_count": 60,
   "metadata": {},
   "outputs": [],
   "source": [
    "Genre_ReleaseTime = dataset.groupby(['Genre','ReleaseTime'])['Budget'].count().reset_index().rename(columns={\"Budget\":\"Occurrences\"})\n",
    "Genre_ReleaseTime.sort_values(by=['Genre'], inplace=True, ascending=False)\n",
    "#Genre_ReleaseTime"
   ]
  },
  {
   "cell_type": "code",
   "execution_count": 61,
   "metadata": {},
   "outputs": [
    {
     "data": {
      "text/html": [
       "<div>\n",
       "<style scoped>\n",
       "    .dataframe tbody tr th:only-of-type {\n",
       "        vertical-align: middle;\n",
       "    }\n",
       "\n",
       "    .dataframe tbody tr th {\n",
       "        vertical-align: top;\n",
       "    }\n",
       "\n",
       "    .dataframe thead tr th {\n",
       "        text-align: left;\n",
       "    }\n",
       "\n",
       "    .dataframe thead tr:last-of-type th {\n",
       "        text-align: right;\n",
       "    }\n",
       "</style>\n",
       "<table border=\"1\" class=\"dataframe\">\n",
       "  <thead>\n",
       "    <tr>\n",
       "      <th></th>\n",
       "      <th colspan=\"4\" halign=\"left\">Occurrences</th>\n",
       "    </tr>\n",
       "    <tr>\n",
       "      <th>ReleaseTime</th>\n",
       "      <th>Festive Season</th>\n",
       "      <th>Holiday Season</th>\n",
       "      <th>Long Weekend</th>\n",
       "      <th>Normal</th>\n",
       "    </tr>\n",
       "    <tr>\n",
       "      <th>Genre</th>\n",
       "      <th></th>\n",
       "      <th></th>\n",
       "      <th></th>\n",
       "      <th></th>\n",
       "    </tr>\n",
       "  </thead>\n",
       "  <tbody>\n",
       "    <tr>\n",
       "      <th>Action</th>\n",
       "      <td>3</td>\n",
       "      <td>3</td>\n",
       "      <td>3</td>\n",
       "      <td>15</td>\n",
       "    </tr>\n",
       "    <tr>\n",
       "      <th>Comedy</th>\n",
       "      <td>3</td>\n",
       "      <td>5</td>\n",
       "      <td>5</td>\n",
       "      <td>23</td>\n",
       "    </tr>\n",
       "    <tr>\n",
       "      <th>Drama</th>\n",
       "      <td>4</td>\n",
       "      <td>6</td>\n",
       "      <td>1</td>\n",
       "      <td>24</td>\n",
       "    </tr>\n",
       "    <tr>\n",
       "      <th>Romance</th>\n",
       "      <td>3</td>\n",
       "      <td>3</td>\n",
       "      <td>4</td>\n",
       "      <td>15</td>\n",
       "    </tr>\n",
       "    <tr>\n",
       "      <th>Thriller</th>\n",
       "      <td>4</td>\n",
       "      <td>1</td>\n",
       "      <td>2</td>\n",
       "      <td>22</td>\n",
       "    </tr>\n",
       "  </tbody>\n",
       "</table>\n",
       "</div>"
      ],
      "text/plain": [
       "               Occurrences                                   \n",
       "ReleaseTime Festive Season Holiday Season Long Weekend Normal\n",
       "Genre                                                        \n",
       "Action                   3              3            3     15\n",
       "Comedy                   3              5            5     23\n",
       "Drama                    4              6            1     24\n",
       "Romance                  3              3            4     15\n",
       "Thriller                 4              1            2     22"
      ]
     },
     "execution_count": 61,
     "metadata": {},
     "output_type": "execute_result"
    }
   ],
   "source": [
    "pivot = Genre_ReleaseTime.pivot_table(index=['Genre'], columns = 'ReleaseTime', values=['Occurrences'], aggfunc='sum')\n",
    "pivot"
   ]
  },
  {
   "cell_type": "markdown",
   "metadata": {},
   "source": [
    "The above is the distribution for Movies that are released in each Genre for each of the ReleaseTime."
   ]
  },
  {
   "cell_type": "markdown",
   "metadata": {},
   "source": [
    "## Q4. Month of the year where maximum movie releases are seen"
   ]
  },
  {
   "cell_type": "code",
   "execution_count": 62,
   "metadata": {},
   "outputs": [],
   "source": [
    "dataset['yearOfRelease'], dataset['monthOfRelease'] = dataset['FormattedRelDate'].dt.year,dataset['FormattedRelDate'].dt.month"
   ]
  },
  {
   "cell_type": "code",
   "execution_count": 63,
   "metadata": {},
   "outputs": [
    {
     "data": {
      "text/html": [
       "<div>\n",
       "<style scoped>\n",
       "    .dataframe tbody tr th:only-of-type {\n",
       "        vertical-align: middle;\n",
       "    }\n",
       "\n",
       "    .dataframe tbody tr th {\n",
       "        vertical-align: top;\n",
       "    }\n",
       "\n",
       "    .dataframe thead th {\n",
       "        text-align: right;\n",
       "    }\n",
       "</style>\n",
       "<table border=\"1\" class=\"dataframe\">\n",
       "  <thead>\n",
       "    <tr style=\"text-align: right;\">\n",
       "      <th></th>\n",
       "      <th>yearOfRelease</th>\n",
       "      <th>monthOfRelease</th>\n",
       "      <th>Occurrences</th>\n",
       "    </tr>\n",
       "  </thead>\n",
       "  <tbody>\n",
       "    <tr>\n",
       "      <th>15</th>\n",
       "      <td>2014</td>\n",
       "      <td>5</td>\n",
       "      <td>12</td>\n",
       "    </tr>\n",
       "    <tr>\n",
       "      <th>6</th>\n",
       "      <td>2013</td>\n",
       "      <td>7</td>\n",
       "      <td>9</td>\n",
       "    </tr>\n",
       "    <tr>\n",
       "      <th>23</th>\n",
       "      <td>2015</td>\n",
       "      <td>1</td>\n",
       "      <td>5</td>\n",
       "    </tr>\n",
       "  </tbody>\n",
       "</table>\n",
       "</div>"
      ],
      "text/plain": [
       "    yearOfRelease  monthOfRelease  Occurrences\n",
       "15           2014               5           12\n",
       "6            2013               7            9\n",
       "23           2015               1            5"
      ]
     },
     "execution_count": 63,
     "metadata": {},
     "output_type": "execute_result"
    }
   ],
   "source": [
    "Month_Year = dataset.groupby(['yearOfRelease','monthOfRelease'])['Budget'].count().reset_index().rename(columns={\"Budget\":\"Occurrences\"})\n",
    "Month_Year_max = Month_Year.loc[Month_Year.groupby([\"yearOfRelease\"])[\"Occurrences\"].idxmax()]\n",
    "Month_Year_max.sort_values(by=['Occurrences'], inplace=True, ascending=False)\n",
    "Month_Year_max"
   ]
  },
  {
   "cell_type": "markdown",
   "metadata": {},
   "source": [
    "We can see that the year 2014 and Month 5 (May) has the most number of releases followed by July 2013 with 9 Releases and January 2015 with 5 releases."
   ]
  },
  {
   "cell_type": "markdown",
   "metadata": {},
   "source": [
    "## Q5. Month of the year where we see high budgeted movies\n",
    "\n",
    "High Budgeted movies are the ones with budgets over 25 crs. Creating a column that holds this value."
   ]
  },
  {
   "cell_type": "code",
   "execution_count": 64,
   "metadata": {},
   "outputs": [
    {
     "data": {
      "text/html": [
       "<div>\n",
       "<style scoped>\n",
       "    .dataframe tbody tr th:only-of-type {\n",
       "        vertical-align: middle;\n",
       "    }\n",
       "\n",
       "    .dataframe tbody tr th {\n",
       "        vertical-align: top;\n",
       "    }\n",
       "\n",
       "    .dataframe thead th {\n",
       "        text-align: right;\n",
       "    }\n",
       "</style>\n",
       "<table border=\"1\" class=\"dataframe\">\n",
       "  <thead>\n",
       "    <tr style=\"text-align: right;\">\n",
       "      <th></th>\n",
       "      <th>No</th>\n",
       "      <th>RelDate</th>\n",
       "      <th>MovieName</th>\n",
       "      <th>ReleaseTime</th>\n",
       "      <th>Genre</th>\n",
       "      <th>Budget</th>\n",
       "      <th>BoxOfficeCollection</th>\n",
       "      <th>YoutubeViews</th>\n",
       "      <th>YoutubeLikes</th>\n",
       "      <th>YoutubeDislikes</th>\n",
       "      <th>YoutubeLikeDislikes</th>\n",
       "      <th>FormattedRelDate</th>\n",
       "      <th>yearOfRelease</th>\n",
       "      <th>monthOfRelease</th>\n",
       "      <th>HighBudgetMovies</th>\n",
       "    </tr>\n",
       "  </thead>\n",
       "  <tbody>\n",
       "    <tr>\n",
       "      <th>0</th>\n",
       "      <td>1</td>\n",
       "      <td>Apr-18-2014</td>\n",
       "      <td>2 States</td>\n",
       "      <td>Long Weekend</td>\n",
       "      <td>Romance</td>\n",
       "      <td>36.0</td>\n",
       "      <td>104.0</td>\n",
       "      <td>8576361</td>\n",
       "      <td>26622.0</td>\n",
       "      <td>2527.0</td>\n",
       "      <td>29149</td>\n",
       "      <td>2014-04-18</td>\n",
       "      <td>2014</td>\n",
       "      <td>4</td>\n",
       "      <td>High Budget</td>\n",
       "    </tr>\n",
       "  </tbody>\n",
       "</table>\n",
       "</div>"
      ],
      "text/plain": [
       "   No      RelDate MovieName   ReleaseTime    Genre  Budget  \\\n",
       "0   1  Apr-18-2014  2 States  Long Weekend  Romance    36.0   \n",
       "\n",
       "   BoxOfficeCollection  YoutubeViews  YoutubeLikes  YoutubeDislikes  \\\n",
       "0                104.0       8576361       26622.0           2527.0   \n",
       "\n",
       "   YoutubeLikeDislikes FormattedRelDate  yearOfRelease  monthOfRelease  \\\n",
       "0                29149       2014-04-18           2014               4   \n",
       "\n",
       "  HighBudgetMovies  \n",
       "0      High Budget  "
      ]
     },
     "execution_count": 64,
     "metadata": {},
     "output_type": "execute_result"
    }
   ],
   "source": [
    "dataset['HighBudgetMovies'] = np.where((dataset['Budget'] >= 25), 'High Budget', 'Low Budget')\n",
    "\n",
    "dataset.head(1)"
   ]
  },
  {
   "cell_type": "markdown",
   "metadata": {},
   "source": [
    "Understanding the general spread of High Budget Movies across all years."
   ]
  },
  {
   "cell_type": "code",
   "execution_count": 65,
   "metadata": {},
   "outputs": [
    {
     "data": {
      "text/html": [
       "<div>\n",
       "<style scoped>\n",
       "    .dataframe tbody tr th:only-of-type {\n",
       "        vertical-align: middle;\n",
       "    }\n",
       "\n",
       "    .dataframe tbody tr th {\n",
       "        vertical-align: top;\n",
       "    }\n",
       "\n",
       "    .dataframe thead th {\n",
       "        text-align: right;\n",
       "    }\n",
       "</style>\n",
       "<table border=\"1\" class=\"dataframe\">\n",
       "  <thead>\n",
       "    <tr style=\"text-align: right;\">\n",
       "      <th></th>\n",
       "      <th>yearOfRelease</th>\n",
       "      <th>monthOfRelease</th>\n",
       "      <th>HighBudgetMovies</th>\n",
       "      <th>Occurrences</th>\n",
       "      <th>ConcatVal</th>\n",
       "    </tr>\n",
       "  </thead>\n",
       "  <tbody>\n",
       "    <tr>\n",
       "      <th>43</th>\n",
       "      <td>2015</td>\n",
       "      <td>1</td>\n",
       "      <td>High Budget</td>\n",
       "      <td>3</td>\n",
       "      <td>2015:3</td>\n",
       "    </tr>\n",
       "    <tr>\n",
       "      <th>45</th>\n",
       "      <td>2015</td>\n",
       "      <td>2</td>\n",
       "      <td>High Budget</td>\n",
       "      <td>2</td>\n",
       "      <td>2015:2</td>\n",
       "    </tr>\n",
       "    <tr>\n",
       "      <th>47</th>\n",
       "      <td>2015</td>\n",
       "      <td>3</td>\n",
       "      <td>High Budget</td>\n",
       "      <td>1</td>\n",
       "      <td>2015:1</td>\n",
       "    </tr>\n",
       "    <tr>\n",
       "      <th>22</th>\n",
       "      <td>2014</td>\n",
       "      <td>2</td>\n",
       "      <td>High Budget</td>\n",
       "      <td>4</td>\n",
       "      <td>2014:4</td>\n",
       "    </tr>\n",
       "    <tr>\n",
       "      <th>24</th>\n",
       "      <td>2014</td>\n",
       "      <td>3</td>\n",
       "      <td>High Budget</td>\n",
       "      <td>4</td>\n",
       "      <td>2014:4</td>\n",
       "    </tr>\n",
       "    <tr>\n",
       "      <th>26</th>\n",
       "      <td>2014</td>\n",
       "      <td>4</td>\n",
       "      <td>High Budget</td>\n",
       "      <td>4</td>\n",
       "      <td>2014:4</td>\n",
       "    </tr>\n",
       "    <tr>\n",
       "      <th>20</th>\n",
       "      <td>2014</td>\n",
       "      <td>1</td>\n",
       "      <td>High Budget</td>\n",
       "      <td>3</td>\n",
       "      <td>2014:3</td>\n",
       "    </tr>\n",
       "    <tr>\n",
       "      <th>30</th>\n",
       "      <td>2014</td>\n",
       "      <td>6</td>\n",
       "      <td>High Budget</td>\n",
       "      <td>3</td>\n",
       "      <td>2014:3</td>\n",
       "    </tr>\n",
       "    <tr>\n",
       "      <th>34</th>\n",
       "      <td>2014</td>\n",
       "      <td>8</td>\n",
       "      <td>High Budget</td>\n",
       "      <td>3</td>\n",
       "      <td>2014:3</td>\n",
       "    </tr>\n",
       "    <tr>\n",
       "      <th>40</th>\n",
       "      <td>2014</td>\n",
       "      <td>11</td>\n",
       "      <td>High Budget</td>\n",
       "      <td>3</td>\n",
       "      <td>2014:3</td>\n",
       "    </tr>\n",
       "    <tr>\n",
       "      <th>38</th>\n",
       "      <td>2014</td>\n",
       "      <td>10</td>\n",
       "      <td>High Budget</td>\n",
       "      <td>2</td>\n",
       "      <td>2014:2</td>\n",
       "    </tr>\n",
       "    <tr>\n",
       "      <th>42</th>\n",
       "      <td>2014</td>\n",
       "      <td>12</td>\n",
       "      <td>High Budget</td>\n",
       "      <td>2</td>\n",
       "      <td>2014:2</td>\n",
       "    </tr>\n",
       "    <tr>\n",
       "      <th>28</th>\n",
       "      <td>2014</td>\n",
       "      <td>5</td>\n",
       "      <td>High Budget</td>\n",
       "      <td>1</td>\n",
       "      <td>2014:1</td>\n",
       "    </tr>\n",
       "    <tr>\n",
       "      <th>32</th>\n",
       "      <td>2014</td>\n",
       "      <td>7</td>\n",
       "      <td>High Budget</td>\n",
       "      <td>1</td>\n",
       "      <td>2014:1</td>\n",
       "    </tr>\n",
       "    <tr>\n",
       "      <th>36</th>\n",
       "      <td>2014</td>\n",
       "      <td>9</td>\n",
       "      <td>High Budget</td>\n",
       "      <td>1</td>\n",
       "      <td>2014:1</td>\n",
       "    </tr>\n",
       "    <tr>\n",
       "      <th>11</th>\n",
       "      <td>2013</td>\n",
       "      <td>7</td>\n",
       "      <td>High Budget</td>\n",
       "      <td>5</td>\n",
       "      <td>2013:5</td>\n",
       "    </tr>\n",
       "    <tr>\n",
       "      <th>13</th>\n",
       "      <td>2013</td>\n",
       "      <td>8</td>\n",
       "      <td>High Budget</td>\n",
       "      <td>4</td>\n",
       "      <td>2013:4</td>\n",
       "    </tr>\n",
       "    <tr>\n",
       "      <th>14</th>\n",
       "      <td>2013</td>\n",
       "      <td>9</td>\n",
       "      <td>High Budget</td>\n",
       "      <td>4</td>\n",
       "      <td>2013:4</td>\n",
       "    </tr>\n",
       "    <tr>\n",
       "      <th>2</th>\n",
       "      <td>2013</td>\n",
       "      <td>2</td>\n",
       "      <td>High Budget</td>\n",
       "      <td>3</td>\n",
       "      <td>2013:3</td>\n",
       "    </tr>\n",
       "    <tr>\n",
       "      <th>18</th>\n",
       "      <td>2013</td>\n",
       "      <td>11</td>\n",
       "      <td>High Budget</td>\n",
       "      <td>3</td>\n",
       "      <td>2013:3</td>\n",
       "    </tr>\n",
       "    <tr>\n",
       "      <th>0</th>\n",
       "      <td>2013</td>\n",
       "      <td>1</td>\n",
       "      <td>High Budget</td>\n",
       "      <td>2</td>\n",
       "      <td>2013:2</td>\n",
       "    </tr>\n",
       "    <tr>\n",
       "      <th>4</th>\n",
       "      <td>2013</td>\n",
       "      <td>3</td>\n",
       "      <td>High Budget</td>\n",
       "      <td>2</td>\n",
       "      <td>2013:2</td>\n",
       "    </tr>\n",
       "    <tr>\n",
       "      <th>7</th>\n",
       "      <td>2013</td>\n",
       "      <td>5</td>\n",
       "      <td>High Budget</td>\n",
       "      <td>2</td>\n",
       "      <td>2013:2</td>\n",
       "    </tr>\n",
       "    <tr>\n",
       "      <th>9</th>\n",
       "      <td>2013</td>\n",
       "      <td>6</td>\n",
       "      <td>High Budget</td>\n",
       "      <td>2</td>\n",
       "      <td>2013:2</td>\n",
       "    </tr>\n",
       "    <tr>\n",
       "      <th>16</th>\n",
       "      <td>2013</td>\n",
       "      <td>10</td>\n",
       "      <td>High Budget</td>\n",
       "      <td>2</td>\n",
       "      <td>2013:2</td>\n",
       "    </tr>\n",
       "  </tbody>\n",
       "</table>\n",
       "</div>"
      ],
      "text/plain": [
       "    yearOfRelease  monthOfRelease HighBudgetMovies  Occurrences ConcatVal\n",
       "43           2015               1      High Budget            3    2015:3\n",
       "45           2015               2      High Budget            2    2015:2\n",
       "47           2015               3      High Budget            1    2015:1\n",
       "22           2014               2      High Budget            4    2014:4\n",
       "24           2014               3      High Budget            4    2014:4\n",
       "26           2014               4      High Budget            4    2014:4\n",
       "20           2014               1      High Budget            3    2014:3\n",
       "30           2014               6      High Budget            3    2014:3\n",
       "34           2014               8      High Budget            3    2014:3\n",
       "40           2014              11      High Budget            3    2014:3\n",
       "38           2014              10      High Budget            2    2014:2\n",
       "42           2014              12      High Budget            2    2014:2\n",
       "28           2014               5      High Budget            1    2014:1\n",
       "32           2014               7      High Budget            1    2014:1\n",
       "36           2014               9      High Budget            1    2014:1\n",
       "11           2013               7      High Budget            5    2013:5\n",
       "13           2013               8      High Budget            4    2013:4\n",
       "14           2013               9      High Budget            4    2013:4\n",
       "2            2013               2      High Budget            3    2013:3\n",
       "18           2013              11      High Budget            3    2013:3\n",
       "0            2013               1      High Budget            2    2013:2\n",
       "4            2013               3      High Budget            2    2013:2\n",
       "7            2013               5      High Budget            2    2013:2\n",
       "9            2013               6      High Budget            2    2013:2\n",
       "16           2013              10      High Budget            2    2013:2"
      ]
     },
     "execution_count": 65,
     "metadata": {},
     "output_type": "execute_result"
    }
   ],
   "source": [
    "Month_Year_Budget = dataset.groupby(['yearOfRelease','monthOfRelease','HighBudgetMovies'])['Budget'].count().reset_index().rename(columns={\"Budget\":\"Occurrences\"})\n",
    "Month_Year_Budget_HighBudget = Month_Year_Budget[Month_Year_Budget.HighBudgetMovies.isin(['High Budget'])]\n",
    "Month_Year_Budget_HighBudget.sort_values(by=['yearOfRelease','Occurrences'], inplace=True, ascending=False)\n",
    "Month_Year_Budget_HighBudget['ConcatVal'] = Month_Year_Budget_HighBudget[\"yearOfRelease\"].astype(str)+\":\"+Month_Year_Budget_HighBudget[\"Occurrences\"].astype(str)\n",
    "\n",
    "Month_Year_Budget_HighBudget"
   ]
  },
  {
   "cell_type": "markdown",
   "metadata": {},
   "source": [
    "We see that the year 2014 has three months that have the same results. Retaining all the results:"
   ]
  },
  {
   "cell_type": "code",
   "execution_count": 66,
   "metadata": {},
   "outputs": [
    {
     "data": {
      "text/html": [
       "<div>\n",
       "<style scoped>\n",
       "    .dataframe tbody tr th:only-of-type {\n",
       "        vertical-align: middle;\n",
       "    }\n",
       "\n",
       "    .dataframe tbody tr th {\n",
       "        vertical-align: top;\n",
       "    }\n",
       "\n",
       "    .dataframe thead th {\n",
       "        text-align: right;\n",
       "    }\n",
       "</style>\n",
       "<table border=\"1\" class=\"dataframe\">\n",
       "  <thead>\n",
       "    <tr style=\"text-align: right;\">\n",
       "      <th></th>\n",
       "      <th>yearOfRelease_x</th>\n",
       "      <th>monthOfRelease</th>\n",
       "      <th>Occurrences_y</th>\n",
       "    </tr>\n",
       "  </thead>\n",
       "  <tbody>\n",
       "    <tr>\n",
       "      <th>0</th>\n",
       "      <td>2013</td>\n",
       "      <td>7</td>\n",
       "      <td>5</td>\n",
       "    </tr>\n",
       "    <tr>\n",
       "      <th>1</th>\n",
       "      <td>2014</td>\n",
       "      <td>2</td>\n",
       "      <td>4</td>\n",
       "    </tr>\n",
       "    <tr>\n",
       "      <th>2</th>\n",
       "      <td>2014</td>\n",
       "      <td>3</td>\n",
       "      <td>4</td>\n",
       "    </tr>\n",
       "    <tr>\n",
       "      <th>3</th>\n",
       "      <td>2014</td>\n",
       "      <td>4</td>\n",
       "      <td>4</td>\n",
       "    </tr>\n",
       "    <tr>\n",
       "      <th>4</th>\n",
       "      <td>2015</td>\n",
       "      <td>1</td>\n",
       "      <td>3</td>\n",
       "    </tr>\n",
       "  </tbody>\n",
       "</table>\n",
       "</div>"
      ],
      "text/plain": [
       "   yearOfRelease_x  monthOfRelease  Occurrences_y\n",
       "0             2013               7              5\n",
       "1             2014               2              4\n",
       "2             2014               3              4\n",
       "3             2014               4              4\n",
       "4             2015               1              3"
      ]
     },
     "execution_count": 66,
     "metadata": {},
     "output_type": "execute_result"
    }
   ],
   "source": [
    "Month_Year_Budget_HighBudget_max = Month_Year_Budget_HighBudget.loc[Month_Year_Budget_HighBudget.groupby([\"yearOfRelease\"])[\"Occurrences\"].idxmax()]\n",
    "Month_Year_Budget_HighBudget_max.sort_values(by=['Occurrences'], inplace=True, ascending=False)\n",
    "Summarized_Budget = Month_Year_Budget_HighBudget_max[['yearOfRelease','Occurrences']]\n",
    "Summarized_Budget['ConcatVal'] = Summarized_Budget[\"yearOfRelease\"].astype(str)+\":\"+Summarized_Budget[\"Occurrences\"].astype(str)\n",
    "Summarized_Budget\n",
    "budget_result = pd.merge(Summarized_Budget, Month_Year_Budget_HighBudget, on=['ConcatVal'])\n",
    "budget_result[['yearOfRelease_x','monthOfRelease','Occurrences_y']]"
   ]
  },
  {
   "cell_type": "markdown",
   "metadata": {},
   "source": [
    "We can see that the year 2013 and Month 7 (July) has the most number of high budget releases that is 5 followed by February, Match and April of 2014 with 4 Releases and January 2015 with 3 releases."
   ]
  },
  {
   "cell_type": "markdown",
   "metadata": {},
   "source": [
    "## Q6. Top 10 movies with max ROI:"
   ]
  },
  {
   "cell_type": "markdown",
   "metadata": {},
   "source": [
    "Calculation for ROI:"
   ]
  },
  {
   "cell_type": "markdown",
   "metadata": {},
   "source": [
    "ROI = (Box Office Collection - Budget)/ Budget"
   ]
  },
  {
   "cell_type": "code",
   "execution_count": 67,
   "metadata": {},
   "outputs": [
    {
     "data": {
      "text/html": [
       "<div>\n",
       "<style scoped>\n",
       "    .dataframe tbody tr th:only-of-type {\n",
       "        vertical-align: middle;\n",
       "    }\n",
       "\n",
       "    .dataframe tbody tr th {\n",
       "        vertical-align: top;\n",
       "    }\n",
       "\n",
       "    .dataframe thead th {\n",
       "        text-align: right;\n",
       "    }\n",
       "</style>\n",
       "<table border=\"1\" class=\"dataframe\">\n",
       "  <thead>\n",
       "    <tr style=\"text-align: right;\">\n",
       "      <th></th>\n",
       "      <th>No</th>\n",
       "      <th>RelDate</th>\n",
       "      <th>MovieName</th>\n",
       "      <th>ReleaseTime</th>\n",
       "      <th>Genre</th>\n",
       "      <th>Budget</th>\n",
       "      <th>BoxOfficeCollection</th>\n",
       "      <th>YoutubeViews</th>\n",
       "      <th>YoutubeLikes</th>\n",
       "      <th>YoutubeDislikes</th>\n",
       "      <th>YoutubeLikeDislikes</th>\n",
       "      <th>FormattedRelDate</th>\n",
       "      <th>yearOfRelease</th>\n",
       "      <th>monthOfRelease</th>\n",
       "      <th>HighBudgetMovies</th>\n",
       "      <th>ROI</th>\n",
       "    </tr>\n",
       "  </thead>\n",
       "  <tbody>\n",
       "    <tr>\n",
       "      <th>0</th>\n",
       "      <td>1</td>\n",
       "      <td>Apr-18-2014</td>\n",
       "      <td>2 States</td>\n",
       "      <td>Long Weekend</td>\n",
       "      <td>Romance</td>\n",
       "      <td>36.0</td>\n",
       "      <td>104.0</td>\n",
       "      <td>8576361</td>\n",
       "      <td>26622.0</td>\n",
       "      <td>2527.0</td>\n",
       "      <td>29149</td>\n",
       "      <td>2014-04-18</td>\n",
       "      <td>2014</td>\n",
       "      <td>4</td>\n",
       "      <td>High Budget</td>\n",
       "      <td>1.888889</td>\n",
       "    </tr>\n",
       "  </tbody>\n",
       "</table>\n",
       "</div>"
      ],
      "text/plain": [
       "   No      RelDate MovieName   ReleaseTime    Genre  Budget  \\\n",
       "0   1  Apr-18-2014  2 States  Long Weekend  Romance    36.0   \n",
       "\n",
       "   BoxOfficeCollection  YoutubeViews  YoutubeLikes  YoutubeDislikes  \\\n",
       "0                104.0       8576361       26622.0           2527.0   \n",
       "\n",
       "   YoutubeLikeDislikes FormattedRelDate  yearOfRelease  monthOfRelease  \\\n",
       "0                29149       2014-04-18           2014               4   \n",
       "\n",
       "  HighBudgetMovies       ROI  \n",
       "0      High Budget  1.888889  "
      ]
     },
     "execution_count": 67,
     "metadata": {},
     "output_type": "execute_result"
    }
   ],
   "source": [
    "dataset['ROI'] = (dataset['BoxOfficeCollection'] - dataset['Budget'])/dataset['Budget']\n",
    "\n",
    "dataset.head(1)"
   ]
  },
  {
   "cell_type": "code",
   "execution_count": 68,
   "metadata": {},
   "outputs": [
    {
     "data": {
      "text/html": [
       "<div>\n",
       "<style scoped>\n",
       "    .dataframe tbody tr th:only-of-type {\n",
       "        vertical-align: middle;\n",
       "    }\n",
       "\n",
       "    .dataframe tbody tr th {\n",
       "        vertical-align: top;\n",
       "    }\n",
       "\n",
       "    .dataframe thead th {\n",
       "        text-align: right;\n",
       "    }\n",
       "</style>\n",
       "<table border=\"1\" class=\"dataframe\">\n",
       "  <thead>\n",
       "    <tr style=\"text-align: right;\">\n",
       "      <th></th>\n",
       "      <th>MovieName</th>\n",
       "      <th>FormattedRelDate</th>\n",
       "      <th>ROI</th>\n",
       "    </tr>\n",
       "  </thead>\n",
       "  <tbody>\n",
       "    <tr>\n",
       "      <th>3</th>\n",
       "      <td>Rajdhani Express</td>\n",
       "      <td>2013-01-04</td>\n",
       "      <td>53.714287</td>\n",
       "    </tr>\n",
       "    <tr>\n",
       "      <th>14</th>\n",
       "      <td>Aashiqui 2</td>\n",
       "      <td>2013-04-26</td>\n",
       "      <td>8.166667</td>\n",
       "    </tr>\n",
       "    <tr>\n",
       "      <th>39</th>\n",
       "      <td>PK</td>\n",
       "      <td>2014-12-19</td>\n",
       "      <td>7.647059</td>\n",
       "    </tr>\n",
       "    <tr>\n",
       "      <th>82</th>\n",
       "      <td>Grand Masti</td>\n",
       "      <td>2013-09-13</td>\n",
       "      <td>7.514286</td>\n",
       "    </tr>\n",
       "    <tr>\n",
       "      <th>85</th>\n",
       "      <td>The Lunchbox</td>\n",
       "      <td>2013-09-20</td>\n",
       "      <td>7.500000</td>\n",
       "    </tr>\n",
       "    <tr>\n",
       "      <th>37</th>\n",
       "      <td>Fukrey</td>\n",
       "      <td>2013-06-14</td>\n",
       "      <td>6.240000</td>\n",
       "    </tr>\n",
       "    <tr>\n",
       "      <th>8</th>\n",
       "      <td>Mary Kom</td>\n",
       "      <td>2014-09-05</td>\n",
       "      <td>5.933333</td>\n",
       "    </tr>\n",
       "    <tr>\n",
       "      <th>78</th>\n",
       "      <td>Shahid</td>\n",
       "      <td>2013-10-18</td>\n",
       "      <td>5.666667</td>\n",
       "    </tr>\n",
       "    <tr>\n",
       "      <th>37</th>\n",
       "      <td>Humpty Sharma Ki Dulhania</td>\n",
       "      <td>2014-07-11</td>\n",
       "      <td>5.500000</td>\n",
       "    </tr>\n",
       "    <tr>\n",
       "      <th>51</th>\n",
       "      <td>Bhaag Milkha Bhaag</td>\n",
       "      <td>2013-07-12</td>\n",
       "      <td>4.466667</td>\n",
       "    </tr>\n",
       "  </tbody>\n",
       "</table>\n",
       "</div>"
      ],
      "text/plain": [
       "                    MovieName FormattedRelDate        ROI\n",
       "3            Rajdhani Express       2013-01-04  53.714287\n",
       "14                 Aashiqui 2       2013-04-26   8.166667\n",
       "39                         PK       2014-12-19   7.647059\n",
       "82                Grand Masti       2013-09-13   7.514286\n",
       "85               The Lunchbox       2013-09-20   7.500000\n",
       "37                     Fukrey       2013-06-14   6.240000\n",
       "8                    Mary Kom       2014-09-05   5.933333\n",
       "78                     Shahid       2013-10-18   5.666667\n",
       "37  Humpty Sharma Ki Dulhania       2014-07-11   5.500000\n",
       "51         Bhaag Milkha Bhaag       2013-07-12   4.466667"
      ]
     },
     "execution_count": 68,
     "metadata": {},
     "output_type": "execute_result"
    }
   ],
   "source": [
    "HighROI  = dataset[['MovieName','FormattedRelDate','ROI']]\n",
    "HighROI.sort_values(by=['ROI'], inplace=True, ascending=False)\n",
    "HighROI.head(10)"
   ]
  },
  {
   "cell_type": "code",
   "execution_count": null,
   "metadata": {},
   "outputs": [],
   "source": []
  }
 ],
 "metadata": {
  "kernelspec": {
   "display_name": "Python 3",
   "language": "python",
   "name": "python3"
  },
  "language_info": {
   "codemirror_mode": {
    "name": "ipython",
    "version": 3
   },
   "file_extension": ".py",
   "mimetype": "text/x-python",
   "name": "python",
   "nbconvert_exporter": "python",
   "pygments_lexer": "ipython3",
   "version": "3.8.8"
  }
 },
 "nbformat": 4,
 "nbformat_minor": 2
}
