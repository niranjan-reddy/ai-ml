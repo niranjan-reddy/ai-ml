{
 "cells": [
  {
   "cell_type": "markdown",
   "id": "d1760546",
   "metadata": {},
   "source": [
    "# Question No 2\n",
    "\n",
    "## Solve the following matrix using simultaneous equations in Python.\n",
    "\n"
   ]
  },
  {
   "cell_type": "markdown",
   "id": "d1ead7f9",
   "metadata": {},
   "source": [
    "x + y + z = 6\n",
    "\n",
    "2y + 5z = -4\n",
    "\n",
    "2x + 5y -z = 27"
   ]
  },
  {
   "cell_type": "code",
   "execution_count": 71,
   "id": "8a6a9328",
   "metadata": {},
   "outputs": [
    {
     "name": "stdout",
     "output_type": "stream",
     "text": [
      "[ 5.  3. -2.]\n"
     ]
    }
   ],
   "source": [
    "## To solve the simultaneous equations for the given 3 equations, I prefer to go with the following approach.\n",
    "\n",
    "## Step 01- Derive matrix from the equations\n",
    "\n",
    "## |  1   1   1   |   x  |    6\n",
    "## |  0   2   5   |   y  | =  -4\n",
    "## |  2   5   -1  |   z  |    27\n",
    "\n",
    "\n",
    "## Step 02- Using the required library/ies. Here \"numpy\"\n",
    "\n",
    "## Step 03- identify/define the coefficient and result\n",
    "\n",
    "## Step 04- Linear Algebra function to solve the given problem:\n",
    "\n",
    "import numpy as np\n",
    "coef = np.array([[1, 1, 1], [0, 2, 5], [2, 5, -1]])\n",
    "result = np.array([6, -4, 27])\n",
    "solution = np.linalg.solve(coef, result)\n",
    "print(solution)\n",
    "\n",
    "\n"
   ]
  },
  {
   "cell_type": "markdown",
   "id": "f9fb5ad4",
   "metadata": {},
   "source": [
    "## Alternate approach:"
   ]
  },
  {
   "cell_type": "code",
   "execution_count": 72,
   "id": "a6a2d30d",
   "metadata": {},
   "outputs": [
    {
     "name": "stdout",
     "output_type": "stream",
     "text": [
      "[ 5.  3. -2.]\n"
     ]
    }
   ],
   "source": [
    "import numpy as np\n",
    "coef_a = [[1, 1, 1], [0, 2, 5], [2, 5, -1]]\n",
    "result_a = [6, -4, 27]\n",
    "\n",
    "solution_a = np.linalg.inv(coef_a).dot(result_a)\n",
    "print(solution_a)"
   ]
  },
  {
   "cell_type": "markdown",
   "id": "56f312ee",
   "metadata": {},
   "source": [
    "...\n",
    "\n",
    "\n",
    "\n",
    "\n",
    "\n",
    "\n",
    "\n",
    "\n",
    "\n",
    "# Question No 3\n",
    "## Find the intercept, coefficient value and error term for this regression problem in Python. How would you convey (interpret) these results in a business context?\n",
    "\n",
    "N.B.: Question calls out that the dataset size is 31 but I observed the size to be 30. Not sure if I got the right file.\n",
    "\n",
    "\n",
    "\n",
    "\n",
    "\n",
    "..."
   ]
  },
  {
   "cell_type": "code",
   "execution_count": 73,
   "id": "42c3f752",
   "metadata": {},
   "outputs": [
    {
     "data": {
      "text/html": [
       "<div>\n",
       "<style scoped>\n",
       "    .dataframe tbody tr th:only-of-type {\n",
       "        vertical-align: middle;\n",
       "    }\n",
       "\n",
       "    .dataframe tbody tr th {\n",
       "        vertical-align: top;\n",
       "    }\n",
       "\n",
       "    .dataframe thead th {\n",
       "        text-align: right;\n",
       "    }\n",
       "</style>\n",
       "<table border=\"1\" class=\"dataframe\">\n",
       "  <thead>\n",
       "    <tr style=\"text-align: right;\">\n",
       "      <th></th>\n",
       "      <th>YearsExperience</th>\n",
       "      <th>Salary</th>\n",
       "    </tr>\n",
       "  </thead>\n",
       "  <tbody>\n",
       "    <tr>\n",
       "      <th>0</th>\n",
       "      <td>1.1</td>\n",
       "      <td>39343.0</td>\n",
       "    </tr>\n",
       "    <tr>\n",
       "      <th>1</th>\n",
       "      <td>1.3</td>\n",
       "      <td>46205.0</td>\n",
       "    </tr>\n",
       "  </tbody>\n",
       "</table>\n",
       "</div>"
      ],
      "text/plain": [
       "   YearsExperience   Salary\n",
       "0              1.1  39343.0\n",
       "1              1.3  46205.0"
      ]
     },
     "execution_count": 73,
     "metadata": {},
     "output_type": "execute_result"
    }
   ],
   "source": [
    "# The data set consists of exactly 2 input parameters; \"YearsExperience\" and \"Salary\", which can be derived as X and Y. Due to the simple representation of Linear relation the values are directly proportonate to each other. As X increases or decreases, Y follows the same pattern.\n",
    "\n",
    "# The derived formula would be : Y = w0 + w1(x); for the Intercept and Coefficient represented in the form of \"w0\" and \"w1\" and input \"x\"\n",
    "\n",
    "import numpy as np\n",
    "import pandas as pd\n",
    "import matplotlib.pyplot as pypl\n",
    "import seaborn as sns\n",
    "from sklearn.model_selection import train_test_split\n",
    "from sklearn.linear_model import LinearRegression\n",
    "from sklearn.metrics import mean_squared_error, r2_score\n",
    "from sklearn import metrics\n",
    "\n",
    "ctcdataset = pd.read_csv('C:/Users/niranjans3ln/01 BITS Pilani/Assignments/Regression/Salary_Data.csv')\n",
    "ctcdataset.head(2)\n",
    "\n"
   ]
  },
  {
   "cell_type": "code",
   "execution_count": 74,
   "id": "fa9f9065",
   "metadata": {},
   "outputs": [
    {
     "data": {
      "text/plain": [
       "(30, 2)"
      ]
     },
     "execution_count": 74,
     "metadata": {},
     "output_type": "execute_result"
    }
   ],
   "source": [
    "ctcdataset.shape\n"
   ]
  },
  {
   "cell_type": "code",
   "execution_count": 75,
   "id": "45f9d5a1",
   "metadata": {},
   "outputs": [
    {
     "data": {
      "text/plain": [
       "Index(['YearsExperience', 'Salary'], dtype='object')"
      ]
     },
     "execution_count": 75,
     "metadata": {},
     "output_type": "execute_result"
    }
   ],
   "source": [
    "ctcdataset.columns"
   ]
  },
  {
   "cell_type": "code",
   "execution_count": 76,
   "id": "dc1dbf37",
   "metadata": {},
   "outputs": [
    {
     "data": {
      "text/plain": [
       "<bound method DataFrame.info of     YearsExperience    Salary\n",
       "0               1.1   39343.0\n",
       "1               1.3   46205.0\n",
       "2               1.5   37731.0\n",
       "3               2.0   43525.0\n",
       "4               2.2   39891.0\n",
       "5               2.9   56642.0\n",
       "6               3.0   60150.0\n",
       "7               3.2   54445.0\n",
       "8               3.2   64445.0\n",
       "9               3.7   57189.0\n",
       "10              3.9   63218.0\n",
       "11              4.0   55794.0\n",
       "12              4.0   56957.0\n",
       "13              4.1   57081.0\n",
       "14              4.5   61111.0\n",
       "15              4.9   67938.0\n",
       "16              5.1   66029.0\n",
       "17              5.3   83088.0\n",
       "18              5.9   81363.0\n",
       "19              6.0   93940.0\n",
       "20              6.8   91738.0\n",
       "21              7.1   98273.0\n",
       "22              7.9  101302.0\n",
       "23              8.2  113812.0\n",
       "24              8.7  109431.0\n",
       "25              9.0  105582.0\n",
       "26              9.5  116969.0\n",
       "27              9.6  112635.0\n",
       "28             10.3  122391.0\n",
       "29             10.5  121872.0>"
      ]
     },
     "execution_count": 76,
     "metadata": {},
     "output_type": "execute_result"
    }
   ],
   "source": [
    "ctcdataset.info"
   ]
  },
  {
   "cell_type": "code",
   "execution_count": 77,
   "id": "02695292",
   "metadata": {},
   "outputs": [
    {
     "name": "stdout",
     "output_type": "stream",
     "text": [
      "<class 'pandas.core.frame.DataFrame'>\n",
      "RangeIndex: 30 entries, 0 to 29\n",
      "Data columns (total 2 columns):\n",
      " #   Column           Non-Null Count  Dtype  \n",
      "---  ------           --------------  -----  \n",
      " 0   YearsExperience  30 non-null     float64\n",
      " 1   Salary           30 non-null     float64\n",
      "dtypes: float64(2)\n",
      "memory usage: 608.0 bytes\n"
     ]
    }
   ],
   "source": [
    "ctcdataset.info()"
   ]
  },
  {
   "cell_type": "code",
   "execution_count": 78,
   "id": "630eb2bb",
   "metadata": {},
   "outputs": [
    {
     "name": "stdout",
     "output_type": "stream",
     "text": [
      " X : [[ 1.1]\n",
      " [ 1.3]\n",
      " [ 1.5]\n",
      " [ 2. ]\n",
      " [ 2.2]\n",
      " [ 2.9]\n",
      " [ 3. ]\n",
      " [ 3.2]\n",
      " [ 3.2]\n",
      " [ 3.7]\n",
      " [ 3.9]\n",
      " [ 4. ]\n",
      " [ 4. ]\n",
      " [ 4.1]\n",
      " [ 4.5]\n",
      " [ 4.9]\n",
      " [ 5.1]\n",
      " [ 5.3]\n",
      " [ 5.9]\n",
      " [ 6. ]\n",
      " [ 6.8]\n",
      " [ 7.1]\n",
      " [ 7.9]\n",
      " [ 8.2]\n",
      " [ 8.7]\n",
      " [ 9. ]\n",
      " [ 9.5]\n",
      " [ 9.6]\n",
      " [10.3]\n",
      " [10.5]]\n",
      " Y : [ 39343.  46205.  37731.  43525.  39891.  56642.  60150.  54445.  64445.\n",
      "  57189.  63218.  55794.  56957.  57081.  61111.  67938.  66029.  83088.\n",
      "  81363.  93940.  91738.  98273. 101302. 113812. 109431. 105582. 116969.\n",
      " 112635. 122391. 121872.]\n"
     ]
    }
   ],
   "source": [
    "x = ctcdataset.iloc[:, :-1].values\n",
    "y = ctcdataset.iloc[:, 1].values\n",
    "\n",
    "print(' X :', x)\n",
    "print(' Y :', y)"
   ]
  },
  {
   "cell_type": "code",
   "execution_count": 79,
   "id": "8cccff37",
   "metadata": {},
   "outputs": [
    {
     "name": "stdout",
     "output_type": "stream",
     "text": [
      " X :     YearsExperience\n",
      "0               1.1\n",
      "1               1.3\n",
      "2               1.5\n",
      "3               2.0\n",
      "4               2.2\n",
      "5               2.9\n",
      "6               3.0\n",
      "7               3.2\n",
      "8               3.2\n",
      "9               3.7\n",
      "10              3.9\n",
      "11              4.0\n",
      "12              4.0\n",
      "13              4.1\n",
      "14              4.5\n",
      "15              4.9\n",
      "16              5.1\n",
      "17              5.3\n",
      "18              5.9\n",
      "19              6.0\n",
      "20              6.8\n",
      "21              7.1\n",
      "22              7.9\n",
      "23              8.2\n",
      "24              8.7\n",
      "25              9.0\n",
      "26              9.5\n",
      "27              9.6\n",
      "28             10.3\n",
      "29             10.5\n",
      " Y :       Salary\n",
      "0    39343.0\n",
      "1    46205.0\n",
      "2    37731.0\n",
      "3    43525.0\n",
      "4    39891.0\n",
      "5    56642.0\n",
      "6    60150.0\n",
      "7    54445.0\n",
      "8    64445.0\n",
      "9    57189.0\n",
      "10   63218.0\n",
      "11   55794.0\n",
      "12   56957.0\n",
      "13   57081.0\n",
      "14   61111.0\n",
      "15   67938.0\n",
      "16   66029.0\n",
      "17   83088.0\n",
      "18   81363.0\n",
      "19   93940.0\n",
      "20   91738.0\n",
      "21   98273.0\n",
      "22  101302.0\n",
      "23  113812.0\n",
      "24  109431.0\n",
      "25  105582.0\n",
      "26  116969.0\n",
      "27  112635.0\n",
      "28  122391.0\n",
      "29  121872.0\n"
     ]
    }
   ],
   "source": [
    "x = ctcdataset[['YearsExperience']]\n",
    "y = ctcdataset[['Salary']]\n",
    "\n",
    "print(' X :', x)\n",
    "print(' Y :', y)"
   ]
  },
  {
   "cell_type": "code",
   "execution_count": 80,
   "id": "f31fd67f",
   "metadata": {},
   "outputs": [],
   "source": [
    "target_model = LinearRegression().fit(x, y)"
   ]
  },
  {
   "cell_type": "code",
   "execution_count": 81,
   "id": "c91a8425",
   "metadata": {},
   "outputs": [
    {
     "name": "stdout",
     "output_type": "stream",
     "text": [
      "Model:  LinearRegression()\n"
     ]
    }
   ],
   "source": [
    "print(\"Model: \", target_model)"
   ]
  },
  {
   "cell_type": "code",
   "execution_count": 82,
   "id": "edd8afba",
   "metadata": {},
   "outputs": [
    {
     "name": "stdout",
     "output_type": "stream",
     "text": [
      "Model > Intercept:  [25792.20019867]\n"
     ]
    }
   ],
   "source": [
    "print(\"Model > Intercept: \", target_model.intercept_)"
   ]
  },
  {
   "cell_type": "code",
   "execution_count": 83,
   "id": "e0af9c26",
   "metadata": {},
   "outputs": [
    {
     "name": "stdout",
     "output_type": "stream",
     "text": [
      "Model > Coefficient:  [[9449.96232146]]\n"
     ]
    }
   ],
   "source": [
    "print(\"Model > Coefficient: \", target_model.coef_)"
   ]
  },
  {
   "cell_type": "code",
   "execution_count": 84,
   "id": "d8e72355",
   "metadata": {},
   "outputs": [],
   "source": [
    "results = target_model.predict(x)"
   ]
  },
  {
   "cell_type": "code",
   "execution_count": 85,
   "id": "15ebb9e9",
   "metadata": {},
   "outputs": [
    {
     "data": {
      "image/png": "[encoded data removed]",
      "text/plain": [
       "<Figure size 432x288 with 1 Axes>"
      ]
     },
     "metadata": {
      "needs_background": "light"
     },
     "output_type": "display_data"
    }
   ],
   "source": [
    "# Using the entire Dataset for Training and building the Model out of it. This is to achieve the best possible accuracy.\n",
    "\n",
    "# print(pypl.scatter(x, y))\n",
    "# print(pypl.plot(x, results, color='red'))\n",
    "pypl.title('Compensation vs Experience Training Dataset - (100% Master Data)')\n",
    "pypl.xlabel('Years of Experience')\n",
    "pypl.ylabel('Total Compensation')\n",
    "pypl.scatter(x, y)\n",
    "pypl.plot(x, results, color='red')\n",
    "pypl.show()"
   ]
  },
  {
   "cell_type": "markdown",
   "id": "83344708",
   "metadata": {},
   "source": [
    "Mean Squared Error (MSE) = numpy.sum((result -y) ** 2)\n",
    "\n",
    "Root Mean Square Error (RMSE) : numpy.sqrt(MSE / Training Data)\n",
    "\n",
    "RMSE = numpy.sqrt(MSE / n), where n = 30 records\n",
    "\n",
    "\n"
   ]
  },
  {
   "cell_type": "code",
   "execution_count": 86,
   "id": "0f93b262",
   "metadata": {},
   "outputs": [
    {
     "name": "stdout",
     "output_type": "stream",
     "text": [
      "Error Term: RMSE:  5592.043608760662\n"
     ]
    }
   ],
   "source": [
    "rmse = np.sqrt(mean_squared_error(y, results))\n",
    "\n",
    "print(\"Error Term: RMSE: \", rmse)"
   ]
  },
  {
   "cell_type": "code",
   "execution_count": 87,
   "id": "1e007042",
   "metadata": {},
   "outputs": [],
   "source": [
    "r2 = r2_score(y, results)"
   ]
  },
  {
   "attachments": {},
   "cell_type": "markdown",
   "id": "32f4aa1f",
   "metadata": {},
   "source": [
    "Coefficient of Determination Formula:\n",
    "(R)^2 = 1 - (RSS / TSS)\n",
    "\n",
    "R^2\t=\tcoefficient of determination\n",
    "RSS\t=\tsum of squares of residuals\n",
    "TSS\t=\ttotal sum of squares\n",
    "\n",
    "-----------------------------------------------------\n",
    "According to Britannica:\n",
    "\n",
    "The coefficient of determination can also be found with the following formula: R2 = MSS/TSS = (TSS − RSS)/TSS, where MSS is the model sum of squares (also known as ESS, or explained sum of squares), which is the sum of the squares of the prediction from the linear regression minus the mean for that variable; TSS is the total sum of squares associated with the outcome variable, which is the sum of the squares of the measurements minus their mean; and RSS is the residual sum of squares, which is the sum of the squares of the measurements minus the prediction from the linear regression.\n",
    "\n"
   ]
  },
  {
   "cell_type": "code",
   "execution_count": 88,
   "id": "7c89e25c",
   "metadata": {},
   "outputs": [
    {
     "name": "stdout",
     "output_type": "stream",
     "text": [
      "Coefficient of determination is  0.9569566641435086\n"
     ]
    }
   ],
   "source": [
    "print('Coefficient of determination is ', r2)"
   ]
  },
  {
   "cell_type": "markdown",
   "id": "4151b155",
   "metadata": {},
   "source": [
    "Busines Context:\n",
    "\n",
    "The Compensation distribution by Years of Experience is captured in the Master Dataset which we can derive as follows...\n",
    "\n",
    "Y = Compensation or Total Compensation\n",
    "X = Years of Experience\n",
    "\n",
    "Y = W0 + W1(X)\n",
    "        W0 = INTERCEPT\n",
    "        W1 = COEFFICIENT\n",
    "        X  = FEATURE (Years of Experience)\n",
    "        Y  = TARGET VARIABLE (Compensation)\n",
    "\n",
    "The Dataset depict variable linear relation : X -Y\n",
    "\n",
    "\n"
   ]
  },
  {
   "cell_type": "code",
   "execution_count": 89,
   "id": "94015a4b",
   "metadata": {},
   "outputs": [],
   "source": [
    "# END OF FIRST METHOD"
   ]
  },
  {
   "cell_type": "code",
   "execution_count": 90,
   "id": "1a722282",
   "metadata": {},
   "outputs": [
    {
     "name": "stdout",
     "output_type": "stream",
     "text": [
      "                 Coefficient:\n",
      "YearsExperience   9360.261286\n",
      "          Intercept:\n",
      "Salary  26777.391341\n"
     ]
    }
   ],
   "source": [
    "# SECOND METHOD BEGINS\n",
    "\n",
    "# Splitting Training Dataset and Test Dataset from the master Dataset (30 records)\n",
    "# Taking Training Data at 80% of Total Data and keeping 20% (0.2) for Test Data\n",
    "\n",
    "x_trn, x_tst, y_trn, y_tst = train_test_split(x, y, test_size = 0.2, random_state = 0)\n",
    "\n",
    "target_model_2 = LinearRegression().fit(x_train, y_train)\n",
    "\n",
    "#print('Intercept: ', target_model_2.intercept_)\n",
    "\n",
    "coeff_2 = pd.DataFrame(target_model_2.coef_, x.columns, columns = ['Coefficient:'])\n",
    "print(coeff_2)\n",
    "\n",
    "intercept_2 = pd.DataFrame(target_model_2.intercept_, y.columns, columns = ['Intercept:'])\n",
    "print(intercept_2)\n",
    "\n"
   ]
  },
  {
   "cell_type": "code",
   "execution_count": 91,
   "id": "91e4378b",
   "metadata": {},
   "outputs": [
    {
     "data": {
      "text/html": [
       "<div>\n",
       "<style scoped>\n",
       "    .dataframe tbody tr th:only-of-type {\n",
       "        vertical-align: middle;\n",
       "    }\n",
       "\n",
       "    .dataframe tbody tr th {\n",
       "        vertical-align: top;\n",
       "    }\n",
       "\n",
       "    .dataframe thead th {\n",
       "        text-align: right;\n",
       "    }\n",
       "</style>\n",
       "<table border=\"1\" class=\"dataframe\">\n",
       "  <thead>\n",
       "    <tr style=\"text-align: right;\">\n",
       "      <th></th>\n",
       "      <th>Intercept:</th>\n",
       "    </tr>\n",
       "  </thead>\n",
       "  <tbody>\n",
       "    <tr>\n",
       "      <th>Salary</th>\n",
       "      <td>26777.391341</td>\n",
       "    </tr>\n",
       "  </tbody>\n",
       "</table>\n",
       "</div>"
      ],
      "text/plain": [
       "          Intercept:\n",
       "Salary  26777.391341"
      ]
     },
     "execution_count": 91,
     "metadata": {},
     "output_type": "execute_result"
    }
   ],
   "source": [
    "intercept_2"
   ]
  },
  {
   "cell_type": "code",
   "execution_count": 92,
   "id": "3bf7cde7",
   "metadata": {},
   "outputs": [
    {
     "data": {
      "text/html": [
       "<div>\n",
       "<style scoped>\n",
       "    .dataframe tbody tr th:only-of-type {\n",
       "        vertical-align: middle;\n",
       "    }\n",
       "\n",
       "    .dataframe tbody tr th {\n",
       "        vertical-align: top;\n",
       "    }\n",
       "\n",
       "    .dataframe thead th {\n",
       "        text-align: right;\n",
       "    }\n",
       "</style>\n",
       "<table border=\"1\" class=\"dataframe\">\n",
       "  <thead>\n",
       "    <tr style=\"text-align: right;\">\n",
       "      <th></th>\n",
       "      <th>Coefficient:</th>\n",
       "    </tr>\n",
       "  </thead>\n",
       "  <tbody>\n",
       "    <tr>\n",
       "      <th>YearsExperience</th>\n",
       "      <td>9360.261286</td>\n",
       "    </tr>\n",
       "  </tbody>\n",
       "</table>\n",
       "</div>"
      ],
      "text/plain": [
       "                 Coefficient:\n",
       "YearsExperience   9360.261286"
      ]
     },
     "execution_count": 92,
     "metadata": {},
     "output_type": "execute_result"
    }
   ],
   "source": [
    "coeff_2"
   ]
  },
  {
   "cell_type": "code",
   "execution_count": 93,
   "id": "9497ea8e",
   "metadata": {},
   "outputs": [
    {
     "name": "stdout",
     "output_type": "stream",
     "text": [
      "\n"
     ]
    },
    {
     "data": {
      "image/png": "[encoded data removed]",
      "text/plain": [
       "<Figure size 432x288 with 1 Axes>"
      ]
     },
     "metadata": {
      "needs_background": "light"
     },
     "output_type": "display_data"
    },
    {
     "name": "stdout",
     "output_type": "stream",
     "text": [
      "\n"
     ]
    }
   ],
   "source": [
    "\n",
    "predictions = target_model_2.predict(x_tst)\n",
    "print('')\n",
    "pypl.scatter(x_trn, y_trn, color = 'red')\n",
    "pypl.plot(x_trn, target_model_2.predict(x_trn), color = 'blue')\n",
    "pypl.title('Compensation vs Experience Training Dataset - (80% of Master Data)')\n",
    "\n",
    "pypl.xlabel('Years of Experience')\n",
    "pypl.ylabel('Total Compensation')\n",
    "pypl.show()\n",
    "print('')"
   ]
  },
  {
   "cell_type": "code",
   "execution_count": 94,
   "id": "14362b74",
   "metadata": {},
   "outputs": [
    {
     "name": "stdout",
     "output_type": "stream",
     "text": [
      "\n"
     ]
    },
    {
     "data": {
      "image/png": "[encoded data removed]",
      "text/plain": [
       "<Figure size 432x288 with 1 Axes>"
      ]
     },
     "metadata": {
      "needs_background": "light"
     },
     "output_type": "display_data"
    },
    {
     "name": "stdout",
     "output_type": "stream",
     "text": [
      "\n"
     ]
    }
   ],
   "source": [
    "print('')\n",
    "pypl.scatter(x_tst, y_tst, color = 'red')\n",
    "pypl.plot(x_trn, target_model_2.predict(x_trn), color = 'blue')\n",
    "pypl.title('Compensation vs Experience Test Dataset - (20% of Master Data)')\n",
    "pypl.xlabel('Years of Experience')\n",
    "pypl.ylabel('Total Compensation')\n",
    "pypl.show()\n",
    "print('')"
   ]
  },
  {
   "cell_type": "code",
   "execution_count": 95,
   "id": "821e2151",
   "metadata": {},
   "outputs": [
    {
     "name": "stdout",
     "output_type": "stream",
     "text": [
      "Mean Square Error : MSE:           13074329.967059242\n",
      "Root Mean Square Error : RMSE:     3615.8442951901625\n",
      "Mean Absolute Error : MAE:         2418.3667900508567\n"
     ]
    }
   ],
   "source": [
    "print('Mean Square Error : MSE:          ', metrics.mean_squared_error(y_tst, predictions))\n",
    "print('Root Mean Square Error : RMSE:    ', np.sqrt(mean_squared_error(y_tst, predictions)))\n",
    "print('Mean Absolute Error : MAE:        ', metrics.mean_absolute_error(y_tst, predictions))"
   ]
  },
  {
   "cell_type": "markdown",
   "id": "02f370f7",
   "metadata": {},
   "source": [
    "Business Context:\n",
    "\n",
    "Out of the Master Dataset which depicts Compensation against Years of Experience at Linear Relation\n",
    "\n",
    "Y Intercept value at minimum is 26,777 which is at floor level (or zero) Experience.\n",
    "\n",
    "Root Mean Square Error (RMSE) shows the error tolerance level of the built ML Model. It is at 3615 (or 3.6%).\n",
    "\n",
    "The Coefficient is 9360 which depicts year-on-year increase in the Compensation based on the number of Years of Experience.\n",
    "\n",
    "\n",
    "\n"
   ]
  },
  {
   "cell_type": "code",
   "execution_count": 41,
   "id": "5f7181d3",
   "metadata": {},
   "outputs": [],
   "source": [
    "## END OF SECOND METHOD"
   ]
  }
 ],
 "metadata": {
  "kernelspec": {
   "display_name": "Python 3",
   "language": "python",
   "name": "python3"
  },
  "language_info": {
   "codemirror_mode": {
    "name": "ipython",
    "version": 3
   },
   "file_extension": ".py",
   "mimetype": "text/x-python",
   "name": "python",
   "nbconvert_exporter": "python",
   "pygments_lexer": "ipython3",
   "version": "3.8.8"
  }
 },
 "nbformat": 4,
 "nbformat_minor": 5
}
