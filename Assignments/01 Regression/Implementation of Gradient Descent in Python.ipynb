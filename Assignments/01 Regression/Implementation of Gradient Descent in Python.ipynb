{
 "cells": [
  {
   "cell_type": "markdown",
   "metadata": {},
   "source": [
    "# Implementation of Gradient Descent In Python"
   ]
  },
  {
   "cell_type": "markdown",
   "metadata": {},
   "source": [
    "The gradient descent is an optimization algorithm that, in machine learning, is mostly used to minimize a loss function. "
   ]
  },
  {
   "cell_type": "markdown",
   "metadata": {},
   "source": [
    "We will be implementing a simple gradient descent algorithm from scratch using python in this notebook"
   ]
  },
  {
   "cell_type": "markdown",
   "metadata": {},
   "source": [
    "This gradient descent algorithm will help us find a minimum value in a given function which we will create. "
   ]
  },
  {
   "cell_type": "code",
   "execution_count": 2,
   "metadata": {},
   "outputs": [],
   "source": [
    "import numpy as np\n",
    "import matplotlib.pyplot as plt\n",
    "%matplotlib inline"
   ]
  },
  {
   "cell_type": "markdown",
   "metadata": {},
   "source": [
    "We will find the gradient decent of this function - $ f(x) = x^3-3x^2+7$"
   ]
  },
  {
   "cell_type": "code",
   "execution_count": 8,
   "metadata": {},
   "outputs": [
    {
     "data": {
      "image/png": "[encoded data removed]",
      "text/plain": [
       "<Figure size 432x288 with 1 Axes>"
      ]
     },
     "metadata": {
      "needs_background": "light"
     },
     "output_type": "display_data"
    },
    {
     "name": "stdout",
     "output_type": "stream",
     "text": [
      "[-1.00000000e+00 -9.91983968e-01 -9.83967936e-01 -9.75951904e-01\n",
      " -9.67935872e-01 -9.59919840e-01 -9.51903808e-01 -9.43887776e-01\n",
      " -9.35871743e-01 -9.27855711e-01 -9.19839679e-01 -9.11823647e-01\n",
      " -9.03807615e-01 -8.95791583e-01 -8.87775551e-01 -8.79759519e-01\n",
      " -8.71743487e-01 -8.63727455e-01 -8.55711423e-01 -8.47695391e-01\n",
      " -8.39679359e-01 -8.31663327e-01 -8.23647295e-01 -8.15631263e-01\n",
      " -8.07615230e-01 -7.99599198e-01 -7.91583166e-01 -7.83567134e-01\n",
      " -7.75551102e-01 -7.67535070e-01 -7.59519038e-01 -7.51503006e-01\n",
      " -7.43486974e-01 -7.35470942e-01 -7.27454910e-01 -7.19438878e-01\n",
      " -7.11422846e-01 -7.03406814e-01 -6.95390782e-01 -6.87374749e-01\n",
      " -6.79358717e-01 -6.71342685e-01 -6.63326653e-01 -6.55310621e-01\n",
      " -6.47294589e-01 -6.39278557e-01 -6.31262525e-01 -6.23246493e-01\n",
      " -6.15230461e-01 -6.07214429e-01 -5.99198397e-01 -5.91182365e-01\n",
      " -5.83166333e-01 -5.75150301e-01 -5.67134269e-01 -5.59118236e-01\n",
      " -5.51102204e-01 -5.43086172e-01 -5.35070140e-01 -5.27054108e-01\n",
      " -5.19038076e-01 -5.11022044e-01 -5.03006012e-01 -4.94989980e-01\n",
      " -4.86973948e-01 -4.78957916e-01 -4.70941884e-01 -4.62925852e-01\n",
      " -4.54909820e-01 -4.46893788e-01 -4.38877756e-01 -4.30861723e-01\n",
      " -4.22845691e-01 -4.14829659e-01 -4.06813627e-01 -3.98797595e-01\n",
      " -3.90781563e-01 -3.82765531e-01 -3.74749499e-01 -3.66733467e-01\n",
      " -3.58717435e-01 -3.50701403e-01 -3.42685371e-01 -3.34669339e-01\n",
      " -3.26653307e-01 -3.18637275e-01 -3.10621242e-01 -3.02605210e-01\n",
      " -2.94589178e-01 -2.86573146e-01 -2.78557114e-01 -2.70541082e-01\n",
      " -2.62525050e-01 -2.54509018e-01 -2.46492986e-01 -2.38476954e-01\n",
      " -2.30460922e-01 -2.22444890e-01 -2.14428858e-01 -2.06412826e-01\n",
      " -1.98396794e-01 -1.90380762e-01 -1.82364729e-01 -1.74348697e-01\n",
      " -1.66332665e-01 -1.58316633e-01 -1.50300601e-01 -1.42284569e-01\n",
      " -1.34268537e-01 -1.26252505e-01 -1.18236473e-01 -1.10220441e-01\n",
      " -1.02204409e-01 -9.41883768e-02 -8.61723447e-02 -7.81563126e-02\n",
      " -7.01402806e-02 -6.21242485e-02 -5.41082164e-02 -4.60921844e-02\n",
      " -3.80761523e-02 -3.00601202e-02 -2.20440882e-02 -1.40280561e-02\n",
      " -6.01202405e-03  2.00400802e-03  1.00200401e-02  1.80360721e-02\n",
      "  2.60521042e-02  3.40681363e-02  4.20841683e-02  5.01002004e-02\n",
      "  5.81162325e-02  6.61322645e-02  7.41482966e-02  8.21643287e-02\n",
      "  9.01803607e-02  9.81963928e-02  1.06212425e-01  1.14228457e-01\n",
      "  1.22244489e-01  1.30260521e-01  1.38276553e-01  1.46292585e-01\n",
      "  1.54308617e-01  1.62324649e-01  1.70340681e-01  1.78356713e-01\n",
      "  1.86372745e-01  1.94388778e-01  2.02404810e-01  2.10420842e-01\n",
      "  2.18436874e-01  2.26452906e-01  2.34468938e-01  2.42484970e-01\n",
      "  2.50501002e-01  2.58517034e-01  2.66533066e-01  2.74549098e-01\n",
      "  2.82565130e-01  2.90581162e-01  2.98597194e-01  3.06613226e-01\n",
      "  3.14629259e-01  3.22645291e-01  3.30661323e-01  3.38677355e-01\n",
      "  3.46693387e-01  3.54709419e-01  3.62725451e-01  3.70741483e-01\n",
      "  3.78757515e-01  3.86773547e-01  3.94789579e-01  4.02805611e-01\n",
      "  4.10821643e-01  4.18837675e-01  4.26853707e-01  4.34869739e-01\n",
      "  4.42885772e-01  4.50901804e-01  4.58917836e-01  4.66933868e-01\n",
      "  4.74949900e-01  4.82965932e-01  4.90981964e-01  4.98997996e-01\n",
      "  5.07014028e-01  5.15030060e-01  5.23046092e-01  5.31062124e-01\n",
      "  5.39078156e-01  5.47094188e-01  5.55110220e-01  5.63126253e-01\n",
      "  5.71142285e-01  5.79158317e-01  5.87174349e-01  5.95190381e-01\n",
      "  6.03206413e-01  6.11222445e-01  6.19238477e-01  6.27254509e-01\n",
      "  6.35270541e-01  6.43286573e-01  6.51302605e-01  6.59318637e-01\n",
      "  6.67334669e-01  6.75350701e-01  6.83366733e-01  6.91382766e-01\n",
      "  6.99398798e-01  7.07414830e-01  7.15430862e-01  7.23446894e-01\n",
      "  7.31462926e-01  7.39478958e-01  7.47494990e-01  7.55511022e-01\n",
      "  7.63527054e-01  7.71543086e-01  7.79559118e-01  7.87575150e-01\n",
      "  7.95591182e-01  8.03607214e-01  8.11623246e-01  8.19639279e-01\n",
      "  8.27655311e-01  8.35671343e-01  8.43687375e-01  8.51703407e-01\n",
      "  8.59719439e-01  8.67735471e-01  8.75751503e-01  8.83767535e-01\n",
      "  8.91783567e-01  8.99799599e-01  9.07815631e-01  9.15831663e-01\n",
      "  9.23847695e-01  9.31863727e-01  9.39879760e-01  9.47895792e-01\n",
      "  9.55911824e-01  9.63927856e-01  9.71943888e-01  9.79959920e-01\n",
      "  9.87975952e-01  9.95991984e-01  1.00400802e+00  1.01202405e+00\n",
      "  1.02004008e+00  1.02805611e+00  1.03607214e+00  1.04408818e+00\n",
      "  1.05210421e+00  1.06012024e+00  1.06813627e+00  1.07615230e+00\n",
      "  1.08416834e+00  1.09218437e+00  1.10020040e+00  1.10821643e+00\n",
      "  1.11623246e+00  1.12424850e+00  1.13226453e+00  1.14028056e+00\n",
      "  1.14829659e+00  1.15631263e+00  1.16432866e+00  1.17234469e+00\n",
      "  1.18036072e+00  1.18837675e+00  1.19639279e+00  1.20440882e+00\n",
      "  1.21242485e+00  1.22044088e+00  1.22845691e+00  1.23647295e+00\n",
      "  1.24448898e+00  1.25250501e+00  1.26052104e+00  1.26853707e+00\n",
      "  1.27655311e+00  1.28456914e+00  1.29258517e+00  1.30060120e+00\n",
      "  1.30861723e+00  1.31663327e+00  1.32464930e+00  1.33266533e+00\n",
      "  1.34068136e+00  1.34869739e+00  1.35671343e+00  1.36472946e+00\n",
      "  1.37274549e+00  1.38076152e+00  1.38877756e+00  1.39679359e+00\n",
      "  1.40480962e+00  1.41282565e+00  1.42084168e+00  1.42885772e+00\n",
      "  1.43687375e+00  1.44488978e+00  1.45290581e+00  1.46092184e+00\n",
      "  1.46893788e+00  1.47695391e+00  1.48496994e+00  1.49298597e+00\n",
      "  1.50100200e+00  1.50901804e+00  1.51703407e+00  1.52505010e+00\n",
      "  1.53306613e+00  1.54108216e+00  1.54909820e+00  1.55711423e+00\n",
      "  1.56513026e+00  1.57314629e+00  1.58116232e+00  1.58917836e+00\n",
      "  1.59719439e+00  1.60521042e+00  1.61322645e+00  1.62124248e+00\n",
      "  1.62925852e+00  1.63727455e+00  1.64529058e+00  1.65330661e+00\n",
      "  1.66132265e+00  1.66933868e+00  1.67735471e+00  1.68537074e+00\n",
      "  1.69338677e+00  1.70140281e+00  1.70941884e+00  1.71743487e+00\n",
      "  1.72545090e+00  1.73346693e+00  1.74148297e+00  1.74949900e+00\n",
      "  1.75751503e+00  1.76553106e+00  1.77354709e+00  1.78156313e+00\n",
      "  1.78957916e+00  1.79759519e+00  1.80561122e+00  1.81362725e+00\n",
      "  1.82164329e+00  1.82965932e+00  1.83767535e+00  1.84569138e+00\n",
      "  1.85370741e+00  1.86172345e+00  1.86973948e+00  1.87775551e+00\n",
      "  1.88577154e+00  1.89378758e+00  1.90180361e+00  1.90981964e+00\n",
      "  1.91783567e+00  1.92585170e+00  1.93386774e+00  1.94188377e+00\n",
      "  1.94989980e+00  1.95791583e+00  1.96593186e+00  1.97394790e+00\n",
      "  1.98196393e+00  1.98997996e+00  1.99799599e+00  2.00601202e+00\n",
      "  2.01402806e+00  2.02204409e+00  2.03006012e+00  2.03807615e+00\n",
      "  2.04609218e+00  2.05410822e+00  2.06212425e+00  2.07014028e+00\n",
      "  2.07815631e+00  2.08617234e+00  2.09418838e+00  2.10220441e+00\n",
      "  2.11022044e+00  2.11823647e+00  2.12625251e+00  2.13426854e+00\n",
      "  2.14228457e+00  2.15030060e+00  2.15831663e+00  2.16633267e+00\n",
      "  2.17434870e+00  2.18236473e+00  2.19038076e+00  2.19839679e+00\n",
      "  2.20641283e+00  2.21442886e+00  2.22244489e+00  2.23046092e+00\n",
      "  2.23847695e+00  2.24649299e+00  2.25450902e+00  2.26252505e+00\n",
      "  2.27054108e+00  2.27855711e+00  2.28657315e+00  2.29458918e+00\n",
      "  2.30260521e+00  2.31062124e+00  2.31863727e+00  2.32665331e+00\n",
      "  2.33466934e+00  2.34268537e+00  2.35070140e+00  2.35871743e+00\n",
      "  2.36673347e+00  2.37474950e+00  2.38276553e+00  2.39078156e+00\n",
      "  2.39879760e+00  2.40681363e+00  2.41482966e+00  2.42284569e+00\n",
      "  2.43086172e+00  2.43887776e+00  2.44689379e+00  2.45490982e+00\n",
      "  2.46292585e+00  2.47094188e+00  2.47895792e+00  2.48697395e+00\n",
      "  2.49498998e+00  2.50300601e+00  2.51102204e+00  2.51903808e+00\n",
      "  2.52705411e+00  2.53507014e+00  2.54308617e+00  2.55110220e+00\n",
      "  2.55911824e+00  2.56713427e+00  2.57515030e+00  2.58316633e+00\n",
      "  2.59118236e+00  2.59919840e+00  2.60721443e+00  2.61523046e+00\n",
      "  2.62324649e+00  2.63126253e+00  2.63927856e+00  2.64729459e+00\n",
      "  2.65531062e+00  2.66332665e+00  2.67134269e+00  2.67935872e+00\n",
      "  2.68737475e+00  2.69539078e+00  2.70340681e+00  2.71142285e+00\n",
      "  2.71943888e+00  2.72745491e+00  2.73547094e+00  2.74348697e+00\n",
      "  2.75150301e+00  2.75951904e+00  2.76753507e+00  2.77555110e+00\n",
      "  2.78356713e+00  2.79158317e+00  2.79959920e+00  2.80761523e+00\n",
      "  2.81563126e+00  2.82364729e+00  2.83166333e+00  2.83967936e+00\n",
      "  2.84769539e+00  2.85571142e+00  2.86372745e+00  2.87174349e+00\n",
      "  2.87975952e+00  2.88777555e+00  2.89579158e+00  2.90380762e+00\n",
      "  2.91182365e+00  2.91983968e+00  2.92785571e+00  2.93587174e+00\n",
      "  2.94388778e+00  2.95190381e+00  2.95991984e+00  2.96793587e+00\n",
      "  2.97595190e+00  2.98396794e+00  2.99198397e+00  3.00000000e+00]\n"
     ]
    }
   ],
   "source": [
    "#creating the function and plotting it \n",
    "\n",
    "function = lambda x: (x ** 3)-(3 *(x ** 2))+7\n",
    "\n",
    "#Get 1000 evenly spaced numbers between -1 and 3 (arbitratil chosen to ensure steep curve)\n",
    "x = np.linspace(-1,3,500)\n",
    "\n",
    "#Plot the curve\n",
    "plt.plot(x, function(x))\n",
    "plt.show()\n",
    "print(x)"
   ]
  },
  {
   "cell_type": "markdown",
   "metadata": {},
   "source": [
    "We can see that our minimum value should be around 2.0\n",
    "\n",
    "Let us use the gradient descent to find the exact value"
   ]
  },
  {
   "cell_type": "markdown",
   "metadata": {},
   "source": [
    "We will proceed to write out our helper functions:\n",
    "    \n",
    "A function that calculates the derivative of x\n",
    "A function that performs the actual gradient descent step-wise"
   ]
  },
  {
   "cell_type": "code",
   "execution_count": 9,
   "metadata": {},
   "outputs": [],
   "source": [
    "def deriv(x):\n",
    "    \n",
    "    '''\n",
    "    Description: This function takes in a value of x and returns its derivative based on the \n",
    "    initial function we specified.\n",
    "    \n",
    "    Arguments:\n",
    "    \n",
    "    x - a numerical value of x \n",
    "    \n",
    "    Returns:\n",
    "    \n",
    "    x_deriv - a numerical value of the derivative of x\n",
    "    \n",
    "    '''\n",
    "    \n",
    "    x_deriv = 3* (x**2) - (6 * (x))\n",
    "    return x_deriv\n",
    "\n",
    "\n",
    "def step(x_new, x_prev, precision, l_r):\n",
    "    \n",
    "    '''\n",
    "    Description: This function takes in an initial or previous value for x, updates it based on \n",
    "    steps taken via the learning rate and outputs the most minimum value of x that reaches the precision satisfaction.\n",
    "    \n",
    "    Arguments:\n",
    "    \n",
    "    x_new - a starting value of x that will get updated based on the learning rate\n",
    "    \n",
    "    x_prev - the previous value of x that is getting updated to the new one\n",
    "    \n",
    "    precision - a precision that determines the stop of the stepwise descent \n",
    "    \n",
    "    l_r - the learning rate (size of each descent step)\n",
    "    \n",
    "    Output:\n",
    "    \n",
    "    1. Prints out the latest new value of x which equates to the minimum we are looking for\n",
    "    2. Prints out the the number of x values which equates to the number of gradient descent steps\n",
    "    3. Plots a first graph of the function with the gradient descent path\n",
    "    4. Plots a second graph of the function with a zoomed in gradient descent path in the important area\n",
    "    \n",
    "    '''\n",
    "    \n",
    "    # create empty lists where the updated values of x and y wil be appended during each iteration\n",
    "    \n",
    "    x_list, y_list = [x_new], [function(x_new)]\n",
    "    # keep looping until your desired precision\n",
    "    while abs(x_new - x_prev) > precision:\n",
    "        \n",
    "        # change the value of x\n",
    "        x_prev = x_new\n",
    "        \n",
    "        # get the derivation of the old value of x\n",
    "        d_x = - deriv(x_prev)\n",
    "        \n",
    "        # get your new value of x by adding the previous, the multiplication of the derivative and the learning rate\n",
    "        x_new = x_prev + (l_r * d_x)\n",
    "        \n",
    "        # append the new value of x to a list of all x-s for later visualization of path\n",
    "        x_list.append(x_new)\n",
    "        \n",
    "        # append the new value of y to a list of all y-s for later visualization of path\n",
    "        y_list.append(function(x_new))\n",
    "\n",
    "    print (\"Local minimum occurs at: \"+ str(x_new))\n",
    "    print (\"Number of steps: \" + str(len(x_list)))\n",
    "    \n",
    "    \n",
    "    plt.subplot(1,2,2)\n",
    "    plt.scatter(x_list,y_list,c=\"g\")\n",
    "    plt.plot(x_list,y_list,c=\"g\")\n",
    "    plt.plot(x,function(x), c=\"r\")\n",
    "    plt.title(\"Gradient descent\")\n",
    "    plt.show()\n",
    "\n",
    "    plt.subplot(1,2,1)\n",
    "    plt.scatter(x_list,y_list,c=\"g\")\n",
    "    plt.plot(x_list,y_list,c=\"g\")\n",
    "    plt.plot(x,function(x), c=\"r\")\n",
    "    plt.xlim([1.0,2.1])\n",
    "    plt.title(\"Zoomed in Gradient descent to Key Area\")\n",
    "    plt.show()\n",
    "\n",
    "\n"
   ]
  },
  {
   "cell_type": "code",
   "execution_count": 10,
   "metadata": {},
   "outputs": [
    {
     "name": "stdout",
     "output_type": "stream",
     "text": [
      "Local minimum occurs at: 1.9980265135950486\n",
      "Number of steps: 25\n"
     ]
    },
    {
     "data": {
      "image/png": "[encoded data removed]",
      "text/plain": [
       "<Figure size 432x288 with 1 Axes>"
      ]
     },
     "metadata": {
      "needs_background": "light"
     },
     "output_type": "display_data"
    },
    {
     "data": {
      "image/png": "[encoded data removed]",
      "text/plain": [
       "<Figure size 432x288 with 1 Axes>"
      ]
     },
     "metadata": {
      "needs_background": "light"
     },
     "output_type": "display_data"
    }
   ],
   "source": [
    "#Implement gradient descent (all the arguments are arbitrarily chosen)\n",
    "\n",
    "step(0.5, 0, 0.001, 0.05) "
   ]
  },
  {
   "cell_type": "markdown",
   "metadata": {},
   "source": [
    "There you have it - Gradient Descent from scratch in python"
   ]
  },
  {
   "cell_type": "code",
   "execution_count": null,
   "metadata": {},
   "outputs": [],
   "source": []
  }
 ],
 "metadata": {
  "kernelspec": {
   "display_name": "Python 3",
   "language": "python",
   "name": "python3"
  },
  "language_info": {
   "codemirror_mode": {
    "name": "ipython",
    "version": 3
   },
   "file_extension": ".py",
   "mimetype": "text/x-python",
   "name": "python",
   "nbconvert_exporter": "python",
   "pygments_lexer": "ipython3",
   "version": "3.8.8"
  }
 },
 "nbformat": 4,
 "nbformat_minor": 2
}
