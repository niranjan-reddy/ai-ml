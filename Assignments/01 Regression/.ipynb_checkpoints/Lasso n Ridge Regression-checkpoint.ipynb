{
 "cells": [
  {
   "cell_type": "code",
   "execution_count": 1,
   "id": "bd03013b",
   "metadata": {},
   "outputs": [],
   "source": [
    "import pandas as pd\n",
    "import numpy as np\n",
    "import matplotlib.pyplot as plt \n",
    "\n",
    "from sklearn.linear_model import LinearRegression, Lasso, Ridge\n",
    "from sklearn.metrics import mean_squared_error\n",
    "from sklearn.preprocessing import PolynomialFeatures\n",
    "from sklearn.model_selection import train_test_split\n",
    "\n",
    "import math\n",
    "\n",
    "df = pd.read_csv('GDP_Satisfaction.csv')"
   ]
  },
  {
   "cell_type": "code",
   "execution_count": 2,
   "id": "54cd611c",
   "metadata": {},
   "outputs": [],
   "source": [
    "x = df['GDP'].values / 10000\n",
    "x = x.reshape(-1, 1)\n",
    "y = df['Satisfaction'].values.reshape(-1, 1)"
   ]
  },
  {
   "cell_type": "code",
   "execution_count": 18,
   "id": "c2fe5b5c",
   "metadata": {},
   "outputs": [
    {
     "data": {
      "text/plain": [
       "array([[ 3.9343],\n",
       "       [ 4.6205],\n",
       "       [ 3.7731],\n",
       "       [ 4.3525],\n",
       "       [ 3.9891],\n",
       "       [ 5.6642],\n",
       "       [ 6.015 ],\n",
       "       [ 5.4445],\n",
       "       [ 6.4445],\n",
       "       [ 5.7189],\n",
       "       [ 6.3218],\n",
       "       [ 5.5794],\n",
       "       [ 5.6957],\n",
       "       [ 5.7081],\n",
       "       [ 6.1111],\n",
       "       [ 6.7938],\n",
       "       [ 6.6029],\n",
       "       [ 8.3088],\n",
       "       [ 8.1363],\n",
       "       [ 9.394 ],\n",
       "       [ 9.1738],\n",
       "       [ 9.8273],\n",
       "       [10.1302],\n",
       "       [11.3812],\n",
       "       [10.9431],\n",
       "       [10.5582],\n",
       "       [11.6969],\n",
       "       [11.2635],\n",
       "       [12.2391],\n",
       "       [12.1872]])"
      ]
     },
     "execution_count": 18,
     "metadata": {},
     "output_type": "execute_result"
    }
   ],
   "source": [
    "x"
   ]
  },
  {
   "cell_type": "code",
   "execution_count": 19,
   "id": "1fe1f0b9",
   "metadata": {},
   "outputs": [
    {
     "data": {
      "text/plain": [
       "array([[ 1.1],\n",
       "       [ 1.3],\n",
       "       [ 1.5],\n",
       "       [ 2. ],\n",
       "       [ 2.2],\n",
       "       [ 2.9],\n",
       "       [ 3. ],\n",
       "       [ 3.2],\n",
       "       [ 3.2],\n",
       "       [ 3.7],\n",
       "       [ 3.9],\n",
       "       [ 4. ],\n",
       "       [ 4. ],\n",
       "       [ 4.1],\n",
       "       [ 4.5],\n",
       "       [ 4.9],\n",
       "       [ 5.1],\n",
       "       [ 5.3],\n",
       "       [ 5.9],\n",
       "       [ 6. ],\n",
       "       [ 6.8],\n",
       "       [ 7.1],\n",
       "       [ 7.9],\n",
       "       [ 8.2],\n",
       "       [ 8.7],\n",
       "       [ 9. ],\n",
       "       [ 9.5],\n",
       "       [ 9.6],\n",
       "       [10.3],\n",
       "       [10.5]])"
      ]
     },
     "execution_count": 19,
     "metadata": {},
     "output_type": "execute_result"
    }
   ],
   "source": [
    "y"
   ]
  },
  {
   "cell_type": "code",
   "execution_count": 3,
   "id": "b1f26b68",
   "metadata": {},
   "outputs": [],
   "source": [
    "poly = PolynomialFeatures(degree = 11)\n",
    "modified_x = poly.fit_transform(x)"
   ]
  },
  {
   "cell_type": "code",
   "execution_count": 4,
   "id": "d63f4068",
   "metadata": {},
   "outputs": [],
   "source": [
    "x_train, x_test, y_train, y_test = train_test_split(modified_x, y, test_size = 0.30, random_state = 1)"
   ]
  },
  {
   "cell_type": "code",
   "execution_count": 5,
   "id": "67a7ce23",
   "metadata": {},
   "outputs": [
    {
     "name": "stderr",
     "output_type": "stream",
     "text": [
      "C:\\Users\\niranjans3ln\\anaconda3\\lib\\site-packages\\sklearn\\linear_model\\_coordinate_descent.py:530: ConvergenceWarning: Objective did not converge. You might want to increase the number of iterations. Duality gap: 4.459742548950908, tolerance: 0.018334285714285716\n",
      "  model = cd_fast.enet_coordinate_descent(\n"
     ]
    },
    {
     "data": {
      "text/plain": [
       "Lasso(alpha=0.5)"
      ]
     },
     "execution_count": 5,
     "metadata": {},
     "output_type": "execute_result"
    }
   ],
   "source": [
    "reg = Lasso(alpha = 0.5)\n",
    "reg.fit(x_train, y_train)"
   ]
  },
  {
   "cell_type": "code",
   "execution_count": 6,
   "id": "f80ee929",
   "metadata": {},
   "outputs": [
    {
     "name": "stdout",
     "output_type": "stream",
     "text": [
      "Lasso Train RMSE :  0.5835117840540666\n",
      "Lasso Test RMSE :  0.7027611671127949\n"
     ]
    }
   ],
   "source": [
    "print('Lasso Train RMSE : ', math.sqrt(mean_squared_error(y_train, reg.predict(x_train))))\n",
    "print('Lasso Test RMSE : ', math.sqrt(mean_squared_error(y_test, reg.predict(x_test))))\n"
   ]
  },
  {
   "cell_type": "code",
   "execution_count": 7,
   "id": "860d736a",
   "metadata": {},
   "outputs": [
    {
     "name": "stderr",
     "output_type": "stream",
     "text": [
      "C:\\Users\\niranjans3ln\\anaconda3\\lib\\site-packages\\sklearn\\linear_model\\_ridge.py:147: LinAlgWarning: Ill-conditioned matrix (rcond=2.6939e-25): result may not be accurate.\n",
      "  return linalg.solve(A, Xy, sym_pos=True,\n"
     ]
    },
    {
     "data": {
      "text/plain": [
       "Ridge(alpha=0.5)"
      ]
     },
     "execution_count": 7,
     "metadata": {},
     "output_type": "execute_result"
    }
   ],
   "source": [
    "reg = Ridge(alpha = 0.5)\n",
    "reg.fit(x_train, y_train)"
   ]
  },
  {
   "cell_type": "code",
   "execution_count": 8,
   "id": "2010525f",
   "metadata": {},
   "outputs": [
    {
     "name": "stdout",
     "output_type": "stream",
     "text": [
      "Ridge Train RMSE :  0.5544201020755195\n",
      "Ridge Test RMSE :  0.5545864015366629\n"
     ]
    }
   ],
   "source": [
    "print('Ridge Train RMSE : ', math.sqrt(mean_squared_error(y_train, reg.predict(x_train))))\n",
    "print('Ridge Test RMSE : ', math.sqrt(mean_squared_error(y_test, reg.predict(x_test))))\n"
   ]
  },
  {
   "cell_type": "code",
   "execution_count": 11,
   "id": "a5bab742",
   "metadata": {},
   "outputs": [
    {
     "name": "stderr",
     "output_type": "stream",
     "text": [
      "<ipython-input-11-a41b8bcdba0f>:12: UserWarning: With alpha=0, this algorithm does not converge well. You are advised to use the LinearRegression estimator\n",
      "  reg.fit(x_train, y_train)\n",
      "C:\\Users\\niranjans3ln\\anaconda3\\lib\\site-packages\\sklearn\\linear_model\\_coordinate_descent.py:530: UserWarning: Coordinate descent with no regularization may lead to unexpected results and is discouraged.\n",
      "  model = cd_fast.enet_coordinate_descent(\n",
      "C:\\Users\\niranjans3ln\\anaconda3\\lib\\site-packages\\sklearn\\linear_model\\_coordinate_descent.py:530: ConvergenceWarning: Objective did not converge. You might want to increase the number of iterations. Duality gap: 3.526645580232228, tolerance: 0.018334285714285716\n",
      "  model = cd_fast.enet_coordinate_descent(\n",
      "C:\\Users\\niranjans3ln\\anaconda3\\lib\\site-packages\\sklearn\\linear_model\\_coordinate_descent.py:530: ConvergenceWarning: Objective did not converge. You might want to increase the number of iterations. Duality gap: 3.837814934785621, tolerance: 0.018334285714285716\n",
      "  model = cd_fast.enet_coordinate_descent(\n",
      "C:\\Users\\niranjans3ln\\anaconda3\\lib\\site-packages\\sklearn\\linear_model\\_coordinate_descent.py:530: ConvergenceWarning: Objective did not converge. You might want to increase the number of iterations. Duality gap: 4.083964885540221, tolerance: 0.018334285714285716\n",
      "  model = cd_fast.enet_coordinate_descent(\n",
      "C:\\Users\\niranjans3ln\\anaconda3\\lib\\site-packages\\sklearn\\linear_model\\_coordinate_descent.py:530: ConvergenceWarning: Objective did not converge. You might want to increase the number of iterations. Duality gap: 4.277788455335859, tolerance: 0.018334285714285716\n",
      "  model = cd_fast.enet_coordinate_descent(\n",
      "C:\\Users\\niranjans3ln\\anaconda3\\lib\\site-packages\\sklearn\\linear_model\\_coordinate_descent.py:530: ConvergenceWarning: Objective did not converge. You might want to increase the number of iterations. Duality gap: 4.413440230477552, tolerance: 0.018334285714285716\n",
      "  model = cd_fast.enet_coordinate_descent(\n",
      "C:\\Users\\niranjans3ln\\anaconda3\\lib\\site-packages\\sklearn\\linear_model\\_coordinate_descent.py:530: ConvergenceWarning: Objective did not converge. You might want to increase the number of iterations. Duality gap: 4.491638055999238, tolerance: 0.018334285714285716\n",
      "  model = cd_fast.enet_coordinate_descent(\n",
      "C:\\Users\\niranjans3ln\\anaconda3\\lib\\site-packages\\sklearn\\linear_model\\_coordinate_descent.py:530: ConvergenceWarning: Objective did not converge. You might want to increase the number of iterations. Duality gap: 4.512470249534499, tolerance: 0.018334285714285716\n",
      "  model = cd_fast.enet_coordinate_descent(\n",
      "C:\\Users\\niranjans3ln\\anaconda3\\lib\\site-packages\\sklearn\\linear_model\\_coordinate_descent.py:530: ConvergenceWarning: Objective did not converge. You might want to increase the number of iterations. Duality gap: 4.47492835184396, tolerance: 0.018334285714285716\n",
      "  model = cd_fast.enet_coordinate_descent(\n",
      "C:\\Users\\niranjans3ln\\anaconda3\\lib\\site-packages\\sklearn\\linear_model\\_coordinate_descent.py:530: ConvergenceWarning: Objective did not converge. You might want to increase the number of iterations. Duality gap: 4.37659436437044, tolerance: 0.018334285714285716\n",
      "  model = cd_fast.enet_coordinate_descent(\n",
      "C:\\Users\\niranjans3ln\\anaconda3\\lib\\site-packages\\sklearn\\linear_model\\_coordinate_descent.py:530: ConvergenceWarning: Objective did not converge. You might want to increase the number of iterations. Duality gap: 4.216744534623949, tolerance: 0.018334285714285716\n",
      "  model = cd_fast.enet_coordinate_descent(\n"
     ]
    },
    {
     "data": {
      "image/png": "[encoded data removed]",
      "text/plain": [
       "<Figure size 432x288 with 1 Axes>"
      ]
     },
     "metadata": {
      "needs_background": "light"
     },
     "output_type": "display_data"
    }
   ],
   "source": [
    "train_err = []\n",
    "test_err = []\n",
    "poly_11 = PolynomialFeatures(degree = 11)\n",
    "modified_x = poly_11.fit_transform(x)\n",
    "\n",
    "x_train, x_test, y_train, y_test = train_test_split(modified_x, y, test_size = 0.30, random_state = 1)\n",
    "\n",
    "alpha_vals = np.linspace(0, 1, 10)\n",
    "\n",
    "for alpha_v in alpha_vals:\n",
    "    reg = Lasso(alpha = alpha_v)\n",
    "    reg.fit(x_train, y_train)\n",
    "    \n",
    "    train_err.append(math.sqrt(mean_squared_error(y_train, reg.predict(x_train))))\n",
    "    test_err.append(math.sqrt(mean_squared_error(y_test, reg.predict(x_test))))\n",
    "\n",
    "plt.title('LASSO')\n",
    "plt.xlabel('Alpha Value')\n",
    "plt.ylabel('RMSE')\n",
    "plt.plot(np.linspace(1, 1, 10), train_err, 'bo-', label = 'Train')\n",
    "plt.plot(np.linspace(1, 1, 10), test_err, 'ro-', label = 'Test')\n",
    "plt.legend()\n",
    "plt.show()"
   ]
  },
  {
   "cell_type": "code",
   "execution_count": 12,
   "id": "08ba059f",
   "metadata": {},
   "outputs": [
    {
     "name": "stderr",
     "output_type": "stream",
     "text": [
      "C:\\Users\\niranjans3ln\\anaconda3\\lib\\site-packages\\sklearn\\linear_model\\_ridge.py:147: LinAlgWarning: Ill-conditioned matrix (rcond=5.04543e-26): result may not be accurate.\n",
      "  return linalg.solve(A, Xy, sym_pos=True,\n",
      "C:\\Users\\niranjans3ln\\anaconda3\\lib\\site-packages\\sklearn\\linear_model\\_ridge.py:147: LinAlgWarning: Ill-conditioned matrix (rcond=1.28778e-25): result may not be accurate.\n",
      "  return linalg.solve(A, Xy, sym_pos=True,\n",
      "C:\\Users\\niranjans3ln\\anaconda3\\lib\\site-packages\\sklearn\\linear_model\\_ridge.py:147: LinAlgWarning: Ill-conditioned matrix (rcond=1.88851e-25): result may not be accurate.\n",
      "  return linalg.solve(A, Xy, sym_pos=True,\n",
      "C:\\Users\\niranjans3ln\\anaconda3\\lib\\site-packages\\sklearn\\linear_model\\_ridge.py:147: LinAlgWarning: Ill-conditioned matrix (rcond=2.42164e-25): result may not be accurate.\n",
      "  return linalg.solve(A, Xy, sym_pos=True,\n",
      "C:\\Users\\niranjans3ln\\anaconda3\\lib\\site-packages\\sklearn\\linear_model\\_ridge.py:147: LinAlgWarning: Ill-conditioned matrix (rcond=2.96631e-25): result may not be accurate.\n",
      "  return linalg.solve(A, Xy, sym_pos=True,\n",
      "C:\\Users\\niranjans3ln\\anaconda3\\lib\\site-packages\\sklearn\\linear_model\\_ridge.py:147: LinAlgWarning: Ill-conditioned matrix (rcond=3.52357e-25): result may not be accurate.\n",
      "  return linalg.solve(A, Xy, sym_pos=True,\n",
      "C:\\Users\\niranjans3ln\\anaconda3\\lib\\site-packages\\sklearn\\linear_model\\_ridge.py:147: LinAlgWarning: Ill-conditioned matrix (rcond=4.03513e-25): result may not be accurate.\n",
      "  return linalg.solve(A, Xy, sym_pos=True,\n",
      "C:\\Users\\niranjans3ln\\anaconda3\\lib\\site-packages\\sklearn\\linear_model\\_ridge.py:147: LinAlgWarning: Ill-conditioned matrix (rcond=4.57605e-25): result may not be accurate.\n",
      "  return linalg.solve(A, Xy, sym_pos=True,\n",
      "C:\\Users\\niranjans3ln\\anaconda3\\lib\\site-packages\\sklearn\\linear_model\\_ridge.py:147: LinAlgWarning: Ill-conditioned matrix (rcond=5.10503e-25): result may not be accurate.\n",
      "  return linalg.solve(A, Xy, sym_pos=True,\n"
     ]
    },
    {
     "data": {
      "image/png": "[encoded data removed]",
      "text/plain": [
       "<Figure size 432x288 with 1 Axes>"
      ]
     },
     "metadata": {
      "needs_background": "light"
     },
     "output_type": "display_data"
    }
   ],
   "source": [
    "train_err = []\n",
    "test_err = []\n",
    "poly_11 = PolynomialFeatures(degree = 11)\n",
    "modified_x = poly_11.fit_transform(x)\n",
    "\n",
    "x_train, x_test, y_train, y_test = train_test_split(modified_x, y, test_size = 0.30, random_state = 1)\n",
    "\n",
    "alpha_vals = np.linspace(0, 1, 10)\n",
    "\n",
    "for alpha_v in alpha_vals:\n",
    "    reg = Ridge(alpha = alpha_v)\n",
    "    reg.fit(x_train, y_train)\n",
    "    \n",
    "    train_err.append(math.sqrt(mean_squared_error(y_train, reg.predict(x_train))))\n",
    "    test_err.append(math.sqrt(mean_squared_error(y_test, reg.predict(x_test))))\n",
    "\n",
    "plt.title('RIDGE')\n",
    "plt.xlabel('Alpha Value')\n",
    "plt.ylabel('RMSE')\n",
    "plt.plot(np.linspace(1, 1, 10), train_err, 'bo-', label = 'Train')\n",
    "plt.plot(np.linspace(1, 1, 10), test_err, 'ro-', label = 'Test')\n",
    "plt.legend()\n",
    "plt.show()"
   ]
  },
  {
   "cell_type": "code",
   "execution_count": null,
   "id": "94b5bd74",
   "metadata": {},
   "outputs": [],
   "source": []
  }
 ],
 "metadata": {
  "kernelspec": {
   "display_name": "Python 3",
   "language": "python",
   "name": "python3"
  },
  "language_info": {
   "codemirror_mode": {
    "name": "ipython",
    "version": 3
   },
   "file_extension": ".py",
   "mimetype": "text/x-python",
   "name": "python",
   "nbconvert_exporter": "python",
   "pygments_lexer": "ipython3",
   "version": "3.8.8"
  }
 },
 "nbformat": 4,
 "nbformat_minor": 5
}
