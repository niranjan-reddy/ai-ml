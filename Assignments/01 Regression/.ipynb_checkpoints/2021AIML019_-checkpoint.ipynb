{
 "cells": [
  {
   "cell_type": "markdown",
   "id": "6e486547",
   "metadata": {},
   "source": [
    "# Mini Project - Regression\n",
    "\n",
    "### Luggage Bags Cost Prediction\n",
    "\n",
    "The dataset consists of 159 records of bags of different shapes and sizes with their carry capacity and finally price/cost.\n",
    "\n",
    "In the data, I did notice that there is some garbage values and some values too high to be considered either noise or outlier. There are even Zero and NULL/NaN values to be addressed.\n",
    "\n",
    "As the supplied master data is quite less, eliminating or deleting the records/rows is not ideal in the situation. As a result the records are modified for certain cells by different means."
   ]
  },
  {
   "cell_type": "markdown",
   "id": "fb569323",
   "metadata": {},
   "source": [
    "## Exploratory Data Analysis (EDA) :"
   ]
  },
  {
   "cell_type": "code",
   "execution_count": 189,
   "id": "814944d3",
   "metadata": {
    "scrolled": true
   },
   "outputs": [
    {
     "data": {
      "text/html": [
       "<div>\n",
       "<style scoped>\n",
       "    .dataframe tbody tr th:only-of-type {\n",
       "        vertical-align: middle;\n",
       "    }\n",
       "\n",
       "    .dataframe tbody tr th {\n",
       "        vertical-align: top;\n",
       "    }\n",
       "\n",
       "    .dataframe thead th {\n",
       "        text-align: right;\n",
       "    }\n",
       "</style>\n",
       "<table border=\"1\" class=\"dataframe\">\n",
       "  <thead>\n",
       "    <tr style=\"text-align: right;\">\n",
       "      <th></th>\n",
       "      <th>Cost</th>\n",
       "      <th>Weight</th>\n",
       "      <th>Weight1</th>\n",
       "      <th>Length</th>\n",
       "      <th>Height</th>\n",
       "      <th>Width</th>\n",
       "    </tr>\n",
       "  </thead>\n",
       "  <tbody>\n",
       "    <tr>\n",
       "      <th>0</th>\n",
       "      <td>242.0</td>\n",
       "      <td>23.2</td>\n",
       "      <td>25.4</td>\n",
       "      <td>30</td>\n",
       "      <td>11.5200</td>\n",
       "      <td>4.02</td>\n",
       "    </tr>\n",
       "    <tr>\n",
       "      <th>1</th>\n",
       "      <td>290.0</td>\n",
       "      <td>24</td>\n",
       "      <td>26.3</td>\n",
       "      <td>31.2</td>\n",
       "      <td>12.4800</td>\n",
       "      <td>4.3056</td>\n",
       "    </tr>\n",
       "    <tr>\n",
       "      <th>2</th>\n",
       "      <td>340.0</td>\n",
       "      <td>23.9</td>\n",
       "      <td>26.5</td>\n",
       "      <td>31.1</td>\n",
       "      <td>12.3778</td>\n",
       "      <td>4.6961</td>\n",
       "    </tr>\n",
       "    <tr>\n",
       "      <th>3</th>\n",
       "      <td>363.0</td>\n",
       "      <td>26.3</td>\n",
       "      <td>29.0</td>\n",
       "      <td>33.5</td>\n",
       "      <td>12.7300</td>\n",
       "      <td>4.4555</td>\n",
       "    </tr>\n",
       "    <tr>\n",
       "      <th>4</th>\n",
       "      <td>430.0</td>\n",
       "      <td>26.5</td>\n",
       "      <td>29.0</td>\n",
       "      <td>34</td>\n",
       "      <td>12.4440</td>\n",
       "      <td>5.134</td>\n",
       "    </tr>\n",
       "  </tbody>\n",
       "</table>\n",
       "</div>"
      ],
      "text/plain": [
       "    Cost Weight  Weight1 Length   Height   Width\n",
       "0  242.0   23.2     25.4     30  11.5200    4.02\n",
       "1  290.0     24     26.3   31.2  12.4800  4.3056\n",
       "2  340.0   23.9     26.5   31.1  12.3778  4.6961\n",
       "3  363.0   26.3     29.0   33.5  12.7300  4.4555\n",
       "4  430.0   26.5     29.0     34  12.4440   5.134"
      ]
     },
     "execution_count": 189,
     "metadata": {},
     "output_type": "execute_result"
    }
   ],
   "source": [
    "#We import all the necessary libraries as we find useful.\n",
    "\n",
    "import pandas as pd\n",
    "import numpy as np\n",
    "import matplotlib.pyplot as plt\n",
    "import seaborn as sns\n",
    "from sklearn.model_selection import train_test_split\n",
    "from sklearn.linear_model import LinearRegression\n",
    "import statsmodels.formula.api as sm\n",
    "%matplotlib inline\n",
    "\n",
    "\n",
    "# Read the dataset and build pandas DataFrame to operate on in the code.\n",
    "\n",
    "\n",
    "df = pd.read_csv('D:\\PRIVATE\\BITS Pilani\\Google Drive\\Assignments\\AIML_C6_Nov_2021_Data_miniproject.csv')\n",
    "\n",
    "# Visual check of the initial few records for valid data import.\n",
    "df.head()"
   ]
  },
  {
   "cell_type": "code",
   "execution_count": 190,
   "id": "546927ff",
   "metadata": {},
   "outputs": [
    {
     "data": {
      "text/plain": [
       "(159, 6)"
      ]
     },
     "execution_count": 190,
     "metadata": {},
     "output_type": "execute_result"
    }
   ],
   "source": [
    "# Get the count of records (Rows & Columns)\n",
    "df.shape"
   ]
  },
  {
   "cell_type": "code",
   "execution_count": 191,
   "id": "a21214a8",
   "metadata": {},
   "outputs": [
    {
     "data": {
      "text/html": [
       "<div>\n",
       "<style scoped>\n",
       "    .dataframe tbody tr th:only-of-type {\n",
       "        vertical-align: middle;\n",
       "    }\n",
       "\n",
       "    .dataframe tbody tr th {\n",
       "        vertical-align: top;\n",
       "    }\n",
       "\n",
       "    .dataframe thead th {\n",
       "        text-align: right;\n",
       "    }\n",
       "</style>\n",
       "<table border=\"1\" class=\"dataframe\">\n",
       "  <thead>\n",
       "    <tr style=\"text-align: right;\">\n",
       "      <th></th>\n",
       "      <th>Cost</th>\n",
       "      <th>Weight1</th>\n",
       "      <th>Height</th>\n",
       "    </tr>\n",
       "  </thead>\n",
       "  <tbody>\n",
       "    <tr>\n",
       "      <th>count</th>\n",
       "      <td>159.000000</td>\n",
       "      <td>159.000000</td>\n",
       "      <td>158.000000</td>\n",
       "    </tr>\n",
       "    <tr>\n",
       "      <th>mean</th>\n",
       "      <td>398.326415</td>\n",
       "      <td>28.415723</td>\n",
       "      <td>8.933124</td>\n",
       "    </tr>\n",
       "    <tr>\n",
       "      <th>std</th>\n",
       "      <td>357.978317</td>\n",
       "      <td>10.716328</td>\n",
       "      <td>4.273069</td>\n",
       "    </tr>\n",
       "    <tr>\n",
       "      <th>min</th>\n",
       "      <td>0.000000</td>\n",
       "      <td>8.400000</td>\n",
       "      <td>1.728400</td>\n",
       "    </tr>\n",
       "    <tr>\n",
       "      <th>25%</th>\n",
       "      <td>120.000000</td>\n",
       "      <td>21.000000</td>\n",
       "      <td>5.940600</td>\n",
       "    </tr>\n",
       "    <tr>\n",
       "      <th>50%</th>\n",
       "      <td>273.000000</td>\n",
       "      <td>27.300000</td>\n",
       "      <td>7.733000</td>\n",
       "    </tr>\n",
       "    <tr>\n",
       "      <th>75%</th>\n",
       "      <td>650.000000</td>\n",
       "      <td>35.500000</td>\n",
       "      <td>12.248700</td>\n",
       "    </tr>\n",
       "    <tr>\n",
       "      <th>max</th>\n",
       "      <td>1650.000000</td>\n",
       "      <td>63.400000</td>\n",
       "      <td>18.957000</td>\n",
       "    </tr>\n",
       "  </tbody>\n",
       "</table>\n",
       "</div>"
      ],
      "text/plain": [
       "              Cost     Weight1      Height\n",
       "count   159.000000  159.000000  158.000000\n",
       "mean    398.326415   28.415723    8.933124\n",
       "std     357.978317   10.716328    4.273069\n",
       "min       0.000000    8.400000    1.728400\n",
       "25%     120.000000   21.000000    5.940600\n",
       "50%     273.000000   27.300000    7.733000\n",
       "75%     650.000000   35.500000   12.248700\n",
       "max    1650.000000   63.400000   18.957000"
      ]
     },
     "execution_count": 191,
     "metadata": {},
     "output_type": "execute_result"
    }
   ],
   "source": [
    "# Find the statistics of the DataFrame to visually analyze and come up with necessary approach/es for further data processing.\n",
    "\n",
    "df.describe()"
   ]
  },
  {
   "cell_type": "markdown",
   "id": "6c665c97",
   "metadata": {},
   "source": [
    "\n",
    "\n",
    "Here we see that only 3 columns are presented properly and remaining 3 are not. It means, those columns are consisting of malformed/null/NaN/object values instead of numeric values.\n",
    "\n"
   ]
  },
  {
   "cell_type": "code",
   "execution_count": 192,
   "id": "ce990db4",
   "metadata": {},
   "outputs": [
    {
     "data": {
      "text/plain": [
       "Cost       0\n",
       "Weight     0\n",
       "Weight1    0\n",
       "Length     0\n",
       "Height     1\n",
       "Width      1\n",
       "dtype: int64"
      ]
     },
     "execution_count": 192,
     "metadata": {},
     "output_type": "execute_result"
    }
   ],
   "source": [
    "# A quick NULL check for the columns for visual inspection.\n",
    "\n",
    "df.isnull().sum() "
   ]
  },
  {
   "cell_type": "markdown",
   "id": "97b2468c",
   "metadata": {},
   "source": [
    "During visual inspection in the earlier step, it was found that the column 'Cost' has a value 0.0 for remaining valid records. Assuming this is an error as there should not be any price as ZERO, we must fix this by eliminating this value and replacing with the average of the column."
   ]
  },
  {
   "cell_type": "code",
   "execution_count": 193,
   "id": "fe988bd4",
   "metadata": {},
   "outputs": [],
   "source": [
    "df['Cost'] = df['Cost'].replace(0.0, np.nan)"
   ]
  },
  {
   "cell_type": "code",
   "execution_count": 194,
   "id": "a5194595",
   "metadata": {},
   "outputs": [
    {
     "data": {
      "text/plain": [
       "Cost       1\n",
       "Weight     0\n",
       "Weight1    0\n",
       "Length     0\n",
       "Height     1\n",
       "Width      1\n",
       "dtype: int64"
      ]
     },
     "execution_count": 194,
     "metadata": {},
     "output_type": "execute_result"
    }
   ],
   "source": [
    "df.isnull().sum() "
   ]
  },
  {
   "cell_type": "markdown",
   "id": "a0f97c95",
   "metadata": {},
   "source": [
    "Now we have one NaN in Cost column. This will replace with the average of the whole column."
   ]
  },
  {
   "cell_type": "code",
   "execution_count": 195,
   "id": "e7984583",
   "metadata": {},
   "outputs": [
    {
     "name": "stdout",
     "output_type": "stream",
     "text": [
      "<class 'pandas.core.frame.DataFrame'>\n",
      "RangeIndex: 159 entries, 0 to 158\n",
      "Data columns (total 6 columns):\n",
      " #   Column   Non-Null Count  Dtype  \n",
      "---  ------   --------------  -----  \n",
      " 0   Cost     158 non-null    float64\n",
      " 1   Weight   159 non-null    object \n",
      " 2   Weight1  159 non-null    float64\n",
      " 3   Length   159 non-null    object \n",
      " 4   Height   158 non-null    float64\n",
      " 5   Width    158 non-null    object \n",
      "dtypes: float64(3), object(3)\n",
      "memory usage: 7.6+ KB\n"
     ]
    }
   ],
   "source": [
    "df.info()"
   ]
  },
  {
   "cell_type": "markdown",
   "id": "115a7140",
   "metadata": {},
   "source": [
    "A quick DataFrame.info() gives us the summary of the type of the columns. Here we can see that the columns \"Weight\", \"Length\", \"Width\" as object instead of float64. This indicates that the columns have either missing records resulting in NaN or have either characters or string (non-numeric data). We have to work on this now."
   ]
  },
  {
   "cell_type": "code",
   "execution_count": 196,
   "id": "518e942f",
   "metadata": {},
   "outputs": [
    {
     "data": {
      "text/html": [
       "<div>\n",
       "<style scoped>\n",
       "    .dataframe tbody tr th:only-of-type {\n",
       "        vertical-align: middle;\n",
       "    }\n",
       "\n",
       "    .dataframe tbody tr th {\n",
       "        vertical-align: top;\n",
       "    }\n",
       "\n",
       "    .dataframe thead th {\n",
       "        text-align: right;\n",
       "    }\n",
       "</style>\n",
       "<table border=\"1\" class=\"dataframe\">\n",
       "  <thead>\n",
       "    <tr style=\"text-align: right;\">\n",
       "      <th></th>\n",
       "      <th>Cost</th>\n",
       "      <th>Weight</th>\n",
       "      <th>Weight1</th>\n",
       "      <th>Length</th>\n",
       "      <th>Height</th>\n",
       "      <th>Width</th>\n",
       "    </tr>\n",
       "  </thead>\n",
       "  <tbody>\n",
       "    <tr>\n",
       "      <th>0</th>\n",
       "      <td>False</td>\n",
       "      <td>False</td>\n",
       "      <td>False</td>\n",
       "      <td>False</td>\n",
       "      <td>False</td>\n",
       "      <td>False</td>\n",
       "    </tr>\n",
       "    <tr>\n",
       "      <th>1</th>\n",
       "      <td>False</td>\n",
       "      <td>False</td>\n",
       "      <td>False</td>\n",
       "      <td>False</td>\n",
       "      <td>False</td>\n",
       "      <td>False</td>\n",
       "    </tr>\n",
       "    <tr>\n",
       "      <th>2</th>\n",
       "      <td>False</td>\n",
       "      <td>False</td>\n",
       "      <td>False</td>\n",
       "      <td>False</td>\n",
       "      <td>False</td>\n",
       "      <td>False</td>\n",
       "    </tr>\n",
       "    <tr>\n",
       "      <th>3</th>\n",
       "      <td>False</td>\n",
       "      <td>False</td>\n",
       "      <td>False</td>\n",
       "      <td>False</td>\n",
       "      <td>False</td>\n",
       "      <td>False</td>\n",
       "    </tr>\n",
       "    <tr>\n",
       "      <th>4</th>\n",
       "      <td>False</td>\n",
       "      <td>False</td>\n",
       "      <td>False</td>\n",
       "      <td>False</td>\n",
       "      <td>False</td>\n",
       "      <td>False</td>\n",
       "    </tr>\n",
       "  </tbody>\n",
       "</table>\n",
       "</div>"
      ],
      "text/plain": [
       "    Cost  Weight  Weight1  Length  Height  Width\n",
       "0  False   False    False   False   False  False\n",
       "1  False   False    False   False   False  False\n",
       "2  False   False    False   False   False  False\n",
       "3  False   False    False   False   False  False\n",
       "4  False   False    False   False   False  False"
      ]
     },
     "execution_count": 196,
     "metadata": {},
     "output_type": "execute_result"
    }
   ],
   "source": [
    "# A quick visual check.\n",
    "\n",
    "df.isnull().head()"
   ]
  },
  {
   "cell_type": "markdown",
   "id": "98bd8c1d",
   "metadata": {},
   "source": [
    "We will now replace all the non-numeric values with NaN. This function will remove all non-numeric values which in turn will fill them with NULL values."
   ]
  },
  {
   "cell_type": "code",
   "execution_count": 197,
   "id": "84954d4d",
   "metadata": {},
   "outputs": [
    {
     "name": "stdout",
     "output_type": "stream",
     "text": [
      "<class 'pandas.core.frame.DataFrame'>\n",
      "RangeIndex: 159 entries, 0 to 158\n",
      "Data columns (total 6 columns):\n",
      " #   Column   Non-Null Count  Dtype  \n",
      "---  ------   --------------  -----  \n",
      " 0   Cost     158 non-null    float64\n",
      " 1   Weight   157 non-null    float64\n",
      " 2   Weight1  159 non-null    float64\n",
      " 3   Length   158 non-null    float64\n",
      " 4   Height   158 non-null    float64\n",
      " 5   Width    157 non-null    float64\n",
      "dtypes: float64(6)\n",
      "memory usage: 7.6 KB\n"
     ]
    }
   ],
   "source": [
    "df['Weight'] = pd.to_numeric(df['Weight'], errors = 'coerce')\n",
    "df['Length'] = pd.to_numeric(df['Length'], errors = 'coerce')\n",
    "df['Width'] = pd.to_numeric(df['Width'], errors = 'coerce')\n",
    "\n",
    "# We can see that all the columns are now of float64. This gives us easy handle to manipulate the numeric values with different mathematical operations.\n",
    "df.info()"
   ]
  },
  {
   "cell_type": "code",
   "execution_count": 198,
   "id": "3d188140",
   "metadata": {},
   "outputs": [
    {
     "data": {
      "text/plain": [
       "Cost       1\n",
       "Weight     2\n",
       "Weight1    0\n",
       "Length     1\n",
       "Height     1\n",
       "Width      2\n",
       "dtype: int64"
      ]
     },
     "execution_count": 198,
     "metadata": {},
     "output_type": "execute_result"
    }
   ],
   "source": [
    "# A quick NULL check for the column data for visual interpretation.\n",
    "\n",
    "df.isnull().sum() "
   ]
  },
  {
   "cell_type": "markdown",
   "id": "2fe1208f",
   "metadata": {},
   "source": [
    "We can see now (compared to earlier report) that we have more NULL values in the DataFrame as a result of elimination of garbage/string/character/0.0 values.\n",
    "\n",
    "\n",
    "Now is the time to check the overall statistics of the DataFrame..."
   ]
  },
  {
   "cell_type": "code",
   "execution_count": 199,
   "id": "83c137be",
   "metadata": {},
   "outputs": [
    {
     "data": {
      "text/html": [
       "<div>\n",
       "<style scoped>\n",
       "    .dataframe tbody tr th:only-of-type {\n",
       "        vertical-align: middle;\n",
       "    }\n",
       "\n",
       "    .dataframe tbody tr th {\n",
       "        vertical-align: top;\n",
       "    }\n",
       "\n",
       "    .dataframe thead th {\n",
       "        text-align: right;\n",
       "    }\n",
       "</style>\n",
       "<table border=\"1\" class=\"dataframe\">\n",
       "  <thead>\n",
       "    <tr style=\"text-align: right;\">\n",
       "      <th></th>\n",
       "      <th>Cost</th>\n",
       "      <th>Weight</th>\n",
       "      <th>Weight1</th>\n",
       "      <th>Length</th>\n",
       "      <th>Height</th>\n",
       "      <th>Width</th>\n",
       "    </tr>\n",
       "  </thead>\n",
       "  <tbody>\n",
       "    <tr>\n",
       "      <th>count</th>\n",
       "      <td>158.000000</td>\n",
       "      <td>157.000000</td>\n",
       "      <td>159.000000</td>\n",
       "      <td>158.000000</td>\n",
       "      <td>158.000000</td>\n",
       "      <td>157.000000</td>\n",
       "    </tr>\n",
       "    <tr>\n",
       "      <th>mean</th>\n",
       "      <td>400.847468</td>\n",
       "      <td>26.259873</td>\n",
       "      <td>28.415723</td>\n",
       "      <td>31.239241</td>\n",
       "      <td>8.933124</td>\n",
       "      <td>3826.050502</td>\n",
       "    </tr>\n",
       "    <tr>\n",
       "      <th>std</th>\n",
       "      <td>357.697796</td>\n",
       "      <td>10.052942</td>\n",
       "      <td>10.716328</td>\n",
       "      <td>11.646141</td>\n",
       "      <td>4.273069</td>\n",
       "      <td>47884.860134</td>\n",
       "    </tr>\n",
       "    <tr>\n",
       "      <th>min</th>\n",
       "      <td>5.900000</td>\n",
       "      <td>7.500000</td>\n",
       "      <td>8.400000</td>\n",
       "      <td>8.800000</td>\n",
       "      <td>1.728400</td>\n",
       "      <td>1.047600</td>\n",
       "    </tr>\n",
       "    <tr>\n",
       "      <th>25%</th>\n",
       "      <td>121.250000</td>\n",
       "      <td>19.000000</td>\n",
       "      <td>21.000000</td>\n",
       "      <td>23.125000</td>\n",
       "      <td>5.940600</td>\n",
       "      <td>3.395700</td>\n",
       "    </tr>\n",
       "    <tr>\n",
       "      <th>50%</th>\n",
       "      <td>281.500000</td>\n",
       "      <td>25.200000</td>\n",
       "      <td>27.300000</td>\n",
       "      <td>29.700000</td>\n",
       "      <td>7.733000</td>\n",
       "      <td>4.248500</td>\n",
       "    </tr>\n",
       "    <tr>\n",
       "      <th>75%</th>\n",
       "      <td>650.000000</td>\n",
       "      <td>32.700000</td>\n",
       "      <td>35.500000</td>\n",
       "      <td>39.675000</td>\n",
       "      <td>12.248700</td>\n",
       "      <td>5.589000</td>\n",
       "    </tr>\n",
       "    <tr>\n",
       "      <th>max</th>\n",
       "      <td>1650.000000</td>\n",
       "      <td>59.000000</td>\n",
       "      <td>63.400000</td>\n",
       "      <td>68.000000</td>\n",
       "      <td>18.957000</td>\n",
       "      <td>600000.000000</td>\n",
       "    </tr>\n",
       "  </tbody>\n",
       "</table>\n",
       "</div>"
      ],
      "text/plain": [
       "              Cost      Weight     Weight1      Length      Height  \\\n",
       "count   158.000000  157.000000  159.000000  158.000000  158.000000   \n",
       "mean    400.847468   26.259873   28.415723   31.239241    8.933124   \n",
       "std     357.697796   10.052942   10.716328   11.646141    4.273069   \n",
       "min       5.900000    7.500000    8.400000    8.800000    1.728400   \n",
       "25%     121.250000   19.000000   21.000000   23.125000    5.940600   \n",
       "50%     281.500000   25.200000   27.300000   29.700000    7.733000   \n",
       "75%     650.000000   32.700000   35.500000   39.675000   12.248700   \n",
       "max    1650.000000   59.000000   63.400000   68.000000   18.957000   \n",
       "\n",
       "               Width  \n",
       "count     157.000000  \n",
       "mean     3826.050502  \n",
       "std     47884.860134  \n",
       "min         1.047600  \n",
       "25%         3.395700  \n",
       "50%         4.248500  \n",
       "75%         5.589000  \n",
       "max    600000.000000  "
      ]
     },
     "execution_count": 199,
     "metadata": {},
     "output_type": "execute_result"
    }
   ],
   "source": [
    "df.describe()"
   ]
  },
  {
   "cell_type": "markdown",
   "id": "10c31ad4",
   "metadata": {},
   "source": [
    "Now we see the statistics in the above report. Let's go further to draw the BOXPLOTs to determine the outliers."
   ]
  },
  {
   "cell_type": "code",
   "execution_count": 200,
   "id": "ce13328a",
   "metadata": {},
   "outputs": [
    {
     "name": "stdout",
     "output_type": "stream",
     "text": [
      "Index(['Weight', 'Weight1', 'Length', 'Height', 'Width'], dtype='object')\n"
     ]
    },
    {
     "data": {
      "image/png": "[encoded data removed]",
      "text/plain": [
       "<Figure size 432x288 with 1 Axes>"
      ]
     },
     "metadata": {
      "needs_background": "light"
     },
     "output_type": "display_data"
    },
    {
     "data": {
      "image/png": "[encoded data removed]",
      "text/plain": [
       "<Figure size 432x288 with 1 Axes>"
      ]
     },
     "metadata": {
      "needs_background": "light"
     },
     "output_type": "display_data"
    },
    {
     "data": {
      "image/png": "[encoded data removed]",
      "text/plain": [
       "<Figure size 432x288 with 1 Axes>"
      ]
     },
     "metadata": {
      "needs_background": "light"
     },
     "output_type": "display_data"
    },
    {
     "data": {
      "image/png": "[encoded data removed]",
      "text/plain": [
       "<Figure size 432x288 with 1 Axes>"
      ]
     },
     "metadata": {
      "needs_background": "light"
     },
     "output_type": "display_data"
    },
    {
     "data": {
      "image/png": "[encoded data removed]",
      "text/plain": [
       "<Figure size 432x288 with 1 Axes>"
      ]
     },
     "metadata": {
      "needs_background": "light"
     },
     "output_type": "display_data"
    },
    {
     "data": {
      "text/plain": [
       "<AxesSubplot:xlabel='Width'>"
      ]
     },
     "execution_count": 200,
     "metadata": {},
     "output_type": "execute_result"
    },
    {
     "data": {
      "image/png": "[encoded data removed]",
      "text/plain": [
       "<Figure size 432x288 with 1 Axes>"
      ]
     },
     "metadata": {
      "needs_background": "light"
     },
     "output_type": "display_data"
    }
   ],
   "source": [
    "column = df.columns\n",
    "features = column[1:]\n",
    "print(features)\n",
    "\n",
    "for i in features:\n",
    "    plt.subplot(2,1,1)\n",
    "    plt.x = df[i]\n",
    "    df[i].plot(kind = 'box', color='blue')\n",
    "    plt.show()\n",
    "    \n",
    "sns.boxplot(x = df['Width'])"
   ]
  },
  {
   "cell_type": "markdown",
   "id": "12f65dab",
   "metadata": {},
   "source": [
    "We can see there are outliers in different columns: Weight, Weight1, Length. However they are not very far from the box hence we intend to keep them without change.\n",
    "\n",
    "However, the outlier in Width is of real concern to us. In a few trials it is determined that except one value, which is 600000, rest all are below 10 (largest value is 8.142). It may mean that this value is wrongly entered by some means.\n",
    "\n",
    "We have to work on this value.\n",
    "\n",
    "The following approach gets us the values of the Cost column in descending order for visual inspection."
   ]
  },
  {
   "cell_type": "code",
   "execution_count": 201,
   "id": "56c99df0",
   "metadata": {
    "scrolled": true
   },
   "outputs": [
    {
     "name": "stdout",
     "output_type": "stream",
     "text": [
      "TOTAL Count of values \"Width\" above 10 (Outlier - extreme-far):  1\n",
      "[nan, 600000.0, 8.142, 7.7957, 7.5958, 7.4934, 7.48, 7.4624, 7.4165, 7.3514, 7.2772, 7.225, 7.1064, 6.9849, 6.8684, 6.864, 6.7497, 6.7473, 6.7408, 6.63, 6.603, 6.5736, 6.562, 6.525, 6.3875, 6.3705, 6.3666, 6.3063, 6.292, 6.2646, 6.1984, 6.1712, 6.144, 6.1306, 6.09, 6.0532, 6.018, 6.003, 5.8515, 5.7276, 5.589, 5.58, 5.5695, 5.376, 5.3704, 5.355, 5.2854, 5.2801, 5.2785, 5.1975, 5.1708, 5.1373, 5.134, 5.1338, 5.1296, 5.1042, 5.0728, 4.9594, 4.896, 4.87, 4.8438, 4.8146, 4.7736, 4.7716, 4.6961, 4.69, 4.6816, 4.6354, 4.5765, 4.5662, 4.4968, 4.459, 4.4555, 4.3844, 4.368, 4.335, 4.335, 4.3225, 4.3056, 4.2485, 4.2476, 4.239, 4.234, 4.2042, 4.1658, 4.158, 4.144, 4.144, 4.1272, 4.02, 4.0198, 3.995, 3.977, 3.906, 3.8352, 3.825, 3.8203, 3.8, 3.7544, 3.725, 3.723, 3.6835, 3.6675, 3.6636, 3.6312, 3.63, 3.626, 3.624, 3.624, 3.5742, 3.555, 3.5478, 3.534, 3.525, 3.525, 3.525, 3.4104, 3.4075, 3.3957, 3.3756, 3.3516, 3.325, 3.3216, 3.3075, 3.2944, 3.2943, 3.2928, 3.1746, 3.1571, 3.1234, 3.0502, 3.0368, 2.9415, 2.9181, 2.9044, 2.8217, 2.772, 2.673, 2.6316, 2.432, 2.3265, 2.3142, 2.268, nan, 2.0672, 1.9992, 1.8792, 1.408, 1.3936, 1.2852, 1.2838, 1.2772, 1.269, 1.2558, 1.1659, 1.16, 1.1484, 1.1484, 1.0476]\n"
     ]
    }
   ],
   "source": [
    "column_ = np.asarray(df['Width'])\n",
    "count_altered_ = (column_ > 10).sum()\n",
    "print('TOTAL Count of values \"Width\" above 10 (Outlier - extreme-far): ', count_altered_)\n",
    "newlist = sorted(column_, reverse=True)\n",
    "print(newlist)"
   ]
  },
  {
   "cell_type": "code",
   "execution_count": 202,
   "id": "d0005cd3",
   "metadata": {},
   "outputs": [
    {
     "name": "stdout",
     "output_type": "stream",
     "text": [
      "Max Value of COL-Width:  600000.0\n"
     ]
    },
    {
     "data": {
      "text/html": [
       "<div>\n",
       "<style scoped>\n",
       "    .dataframe tbody tr th:only-of-type {\n",
       "        vertical-align: middle;\n",
       "    }\n",
       "\n",
       "    .dataframe tbody tr th {\n",
       "        vertical-align: top;\n",
       "    }\n",
       "\n",
       "    .dataframe thead th {\n",
       "        text-align: right;\n",
       "    }\n",
       "</style>\n",
       "<table border=\"1\" class=\"dataframe\">\n",
       "  <thead>\n",
       "    <tr style=\"text-align: right;\">\n",
       "      <th></th>\n",
       "      <th>Cost</th>\n",
       "      <th>Weight</th>\n",
       "      <th>Weight1</th>\n",
       "      <th>Length</th>\n",
       "      <th>Height</th>\n",
       "      <th>Width</th>\n",
       "    </tr>\n",
       "  </thead>\n",
       "  <tbody>\n",
       "    <tr>\n",
       "      <th>count</th>\n",
       "      <td>158.000000</td>\n",
       "      <td>157.000000</td>\n",
       "      <td>159.000000</td>\n",
       "      <td>158.000000</td>\n",
       "      <td>158.000000</td>\n",
       "      <td>156.000000</td>\n",
       "    </tr>\n",
       "    <tr>\n",
       "      <th>mean</th>\n",
       "      <td>400.847468</td>\n",
       "      <td>26.259873</td>\n",
       "      <td>28.415723</td>\n",
       "      <td>31.239241</td>\n",
       "      <td>8.933124</td>\n",
       "      <td>4.422621</td>\n",
       "    </tr>\n",
       "    <tr>\n",
       "      <th>std</th>\n",
       "      <td>357.697796</td>\n",
       "      <td>10.052942</td>\n",
       "      <td>10.716328</td>\n",
       "      <td>11.646141</td>\n",
       "      <td>4.273069</td>\n",
       "      <td>1.678237</td>\n",
       "    </tr>\n",
       "    <tr>\n",
       "      <th>min</th>\n",
       "      <td>5.900000</td>\n",
       "      <td>7.500000</td>\n",
       "      <td>8.400000</td>\n",
       "      <td>8.800000</td>\n",
       "      <td>1.728400</td>\n",
       "      <td>1.047600</td>\n",
       "    </tr>\n",
       "    <tr>\n",
       "      <th>25%</th>\n",
       "      <td>121.250000</td>\n",
       "      <td>19.000000</td>\n",
       "      <td>21.000000</td>\n",
       "      <td>23.125000</td>\n",
       "      <td>5.940600</td>\n",
       "      <td>3.390675</td>\n",
       "    </tr>\n",
       "    <tr>\n",
       "      <th>50%</th>\n",
       "      <td>281.500000</td>\n",
       "      <td>25.200000</td>\n",
       "      <td>27.300000</td>\n",
       "      <td>29.700000</td>\n",
       "      <td>7.733000</td>\n",
       "      <td>4.248050</td>\n",
       "    </tr>\n",
       "    <tr>\n",
       "      <th>75%</th>\n",
       "      <td>650.000000</td>\n",
       "      <td>32.700000</td>\n",
       "      <td>35.500000</td>\n",
       "      <td>39.675000</td>\n",
       "      <td>12.248700</td>\n",
       "      <td>5.582250</td>\n",
       "    </tr>\n",
       "    <tr>\n",
       "      <th>max</th>\n",
       "      <td>1650.000000</td>\n",
       "      <td>59.000000</td>\n",
       "      <td>63.400000</td>\n",
       "      <td>68.000000</td>\n",
       "      <td>18.957000</td>\n",
       "      <td>8.142000</td>\n",
       "    </tr>\n",
       "  </tbody>\n",
       "</table>\n",
       "</div>"
      ],
      "text/plain": [
       "              Cost      Weight     Weight1      Length      Height       Width\n",
       "count   158.000000  157.000000  159.000000  158.000000  158.000000  156.000000\n",
       "mean    400.847468   26.259873   28.415723   31.239241    8.933124    4.422621\n",
       "std     357.697796   10.052942   10.716328   11.646141    4.273069    1.678237\n",
       "min       5.900000    7.500000    8.400000    8.800000    1.728400    1.047600\n",
       "25%     121.250000   19.000000   21.000000   23.125000    5.940600    3.390675\n",
       "50%     281.500000   25.200000   27.300000   29.700000    7.733000    4.248050\n",
       "75%     650.000000   32.700000   35.500000   39.675000   12.248700    5.582250\n",
       "max    1650.000000   59.000000   63.400000   68.000000   18.957000    8.142000"
      ]
     },
     "execution_count": 202,
     "metadata": {},
     "output_type": "execute_result"
    }
   ],
   "source": [
    "# We will now take the following actions:\n",
    "#     - Remove the outlier value and fill the space with NAN\n",
    "#     - Replace the NAN with the average of the column Cost.\n",
    "\n",
    "# This exercise will get us achieve the replacement of the outlier with the average value\n",
    "\n",
    "df1 = df\n",
    "\n",
    "df1['Width'] = df1['Width'].replace(np.nan, 0.0)\n",
    "\n",
    "column_ = df1['Width']\n",
    "max_value = column_.max()\n",
    "print('Max Value of COL-Width: ', max_value)\n",
    "\n",
    "df['Width'] = df['Width'].replace(max_value, np.nan)\n",
    "df['Width'] = df['Width'].replace(0.0, np.nan)\n",
    "\n",
    "\n",
    "# A quick visual inspection of the statistics.\n",
    "df.describe()"
   ]
  },
  {
   "cell_type": "code",
   "execution_count": 203,
   "id": "a003dad6",
   "metadata": {},
   "outputs": [
    {
     "data": {
      "text/plain": [
       "Cost       1\n",
       "Weight     2\n",
       "Weight1    0\n",
       "Length     1\n",
       "Height     1\n",
       "Width      3\n",
       "dtype: int64"
      ]
     },
     "execution_count": 203,
     "metadata": {},
     "output_type": "execute_result"
    }
   ],
   "source": [
    "# A quick NULL check.\n",
    "\n",
    "df.isnull().sum() "
   ]
  },
  {
   "cell_type": "code",
   "execution_count": 204,
   "id": "148c0eb4",
   "metadata": {},
   "outputs": [
    {
     "name": "stdout",
     "output_type": "stream",
     "text": [
      "TOTAL Count of values \"Width\" above 10:  0\n"
     ]
    },
    {
     "data": {
      "text/plain": [
       "array([4.02  , 4.3056, 4.6961, 4.4555, 5.134 ,    nan, 5.2785, 4.69  ,\n",
       "       4.8438, 4.9594, 5.1042, 4.8146, 4.368 , 5.0728, 5.1708, 5.58  ,\n",
       "       5.2854, 5.1975, 5.1338, 5.7276, 5.5695, 5.3704, 5.2801, 6.1306,\n",
       "       5.589 , 6.0532, 6.09  , 5.8515, 6.1984, 6.603 , 6.3063, 6.292 ,\n",
       "       6.7497, 6.7473, 6.3705, 2.268 , 2.8217, 2.9044, 3.1746, 3.5742,\n",
       "       3.3516, 3.3957, 3.2943, 3.7544, 3.5478, 3.8203, 3.325 , 3.8   ,\n",
       "       3.8352, 3.6312, 4.1272, 3.906 , 4.4968, 4.7736, 5.355 , 4.2476,\n",
       "       4.2485, 4.6816, 6.562 , 6.5736, 6.525 , 2.3265, 2.3142, 2.673 ,\n",
       "       2.9181, 3.2928, 3.2944, 3.4104, 3.1571, 3.6636, 4.144 , 4.234 ,\n",
       "       1.408 , 1.9992, 2.432 , 2.6316, 2.9415, 3.3216, 3.1234, 3.0502,\n",
       "       3.0368, 2.772 , 3.555 , 3.3075, 3.6675, 3.534 , 3.4075, 3.525 ,\n",
       "       3.525 , 3.525 , 3.995 , 3.624 , 3.624 , 3.63  , 3.626 , 3.725 ,\n",
       "       3.723 , 3.825 , 4.1658, 3.6835, 4.239 , 4.144 , 5.1373, 4.335 ,\n",
       "       4.335 , 4.5662, 4.2042, 4.6354, 4.7716, 6.018 , 6.3875, 7.7957,\n",
       "       6.864 , 6.7408, 6.2646, 6.3666, 7.4934, 6.003 , 7.3514, 7.1064,\n",
       "       7.225 , 7.4624, 6.63  , 6.8684, 7.2772, 7.4165, 8.142 , 7.5958,\n",
       "       3.3756, 4.158 , 4.3844, 4.0198, 4.5765, 3.977 , 4.3225, 4.459 ,\n",
       "       5.1296, 4.896 , 4.87  , 5.376 , 6.1712, 6.9849,    nan, 6.144 ,\n",
       "       7.48  , 1.0476, 1.16  , 1.1484,    nan, 1.2772, 1.2852, 1.2838,\n",
       "       1.1659, 1.1484, 1.3936, 1.269 , 1.2558, 2.0672, 1.8792])"
      ]
     },
     "execution_count": 204,
     "metadata": {},
     "output_type": "execute_result"
    }
   ],
   "source": [
    "column_ = np.asarray(df['Width'])\n",
    "count_altered_ = (column_ > 10).sum()\n",
    "print('TOTAL Count of values \"Width\" above 10: ', count_altered_)\n",
    "#newlist = sorted(column_, reverse=True)\n",
    "#newlist\n",
    "column_"
   ]
  },
  {
   "cell_type": "code",
   "execution_count": 205,
   "id": "5c17a8ee",
   "metadata": {},
   "outputs": [
    {
     "name": "stdout",
     "output_type": "stream",
     "text": [
      "TOTAL Count of values \"Cost\" equal to 0.0:  0\n",
      "TOTAL Count of values \"Cost\" equal to NaN:  0\n"
     ]
    },
    {
     "data": {
      "text/plain": [
       "array([ 242. ,  290. ,  340. ,  363. ,  430. ,  450. ,  500. ,  390. ,\n",
       "        450. ,  500. ,  475. ,  500. ,  500. ,  340. ,  600. ,  600. ,\n",
       "        700. ,  700. ,  610. ,  650. ,  575. ,  685. ,  620. ,  680. ,\n",
       "        700. ,  725. ,  720. ,  714. ,  850. , 1000. ,  920. ,  955. ,\n",
       "        925. ,  975. ,  950. ,   40. ,   69. ,   78. ,   87. ,  120. ,\n",
       "          nan,  110. ,  120. ,  150. ,  145. ,  160. ,  140. ,  160. ,\n",
       "        169. ,  161. ,  200. ,  180. ,  290. ,  272. ,  390. ,  270. ,\n",
       "        270. ,  306. ,  540. ,  800. , 1000. ,   55. ,   60. ,   90. ,\n",
       "        120. ,  150. ,  140. ,  170. ,  145. ,  200. ,  273. ,  300. ,\n",
       "          5.9,   32. ,   40. ,   51.5,   70. ,  100. ,   78. ,   80. ,\n",
       "         85. ,   85. ,  110. ,  115. ,  125. ,  130. ,  120. ,  120. ,\n",
       "        130. ,  135. ,  110. ,  130. ,  150. ,  145. ,  150. ,  170. ,\n",
       "        225. ,  145. ,  188. ,  180. ,  197. ,  218. ,  300. ,  260. ,\n",
       "        265. ,  250. ,  250. ,  300. ,  320. ,  514. ,  556. ,  840. ,\n",
       "        685. ,  700. ,  700. ,  690. ,  900. ,  650. ,  820. ,  850. ,\n",
       "        900. , 1015. ,  820. , 1100. , 1000. , 1100. , 1000. , 1000. ,\n",
       "        200. ,  300. ,  300. ,  300. ,  430. ,  345. ,  456. ,  510. ,\n",
       "        540. ,  500. ,  567. ,  770. ,  950. , 1250. , 1600. , 1550. ,\n",
       "       1650. ,    6.7,    7.5,    7. ,    9.7,    9.8,    8.7,   10. ,\n",
       "          9.9,    9.8,   12.2,   13.4,   12.2,   19.7,   19.9])"
      ]
     },
     "execution_count": 205,
     "metadata": {},
     "output_type": "execute_result"
    }
   ],
   "source": [
    "column_ = np.asarray(df['Cost'])\n",
    "count_altered_ = (column_ == 0.0).sum()\n",
    "print('TOTAL Count of values \"Cost\" equal to 0.0: ', count_altered_)\n",
    "count_altered_ = (column_ == np.nan).sum()\n",
    "print('TOTAL Count of values \"Cost\" equal to NaN: ', count_altered_)\n",
    "#newlist = sorted(column_, reverse=True)\n",
    "#newlist\n",
    "column_"
   ]
  },
  {
   "cell_type": "code",
   "execution_count": 206,
   "id": "08ea951b",
   "metadata": {},
   "outputs": [
    {
     "name": "stdout",
     "output_type": "stream",
     "text": [
      "TOTAL Count of values \"Cost\" equal to 0.0:  0\n"
     ]
    },
    {
     "data": {
      "text/plain": [
       "array([ 242. ,  290. ,  340. ,  363. ,  430. ,  450. ,  500. ,  390. ,\n",
       "        450. ,  500. ,  475. ,  500. ,  500. ,  340. ,  600. ,  600. ,\n",
       "        700. ,  700. ,  610. ,  650. ,  575. ,  685. ,  620. ,  680. ,\n",
       "        700. ,  725. ,  720. ,  714. ,  850. , 1000. ,  920. ,  955. ,\n",
       "        925. ,  975. ,  950. ,   40. ,   69. ,   78. ,   87. ,  120. ,\n",
       "          nan,  110. ,  120. ,  150. ,  145. ,  160. ,  140. ,  160. ,\n",
       "        169. ,  161. ,  200. ,  180. ,  290. ,  272. ,  390. ,  270. ,\n",
       "        270. ,  306. ,  540. ,  800. , 1000. ,   55. ,   60. ,   90. ,\n",
       "        120. ,  150. ,  140. ,  170. ,  145. ,  200. ,  273. ,  300. ,\n",
       "          5.9,   32. ,   40. ,   51.5,   70. ,  100. ,   78. ,   80. ,\n",
       "         85. ,   85. ,  110. ,  115. ,  125. ,  130. ,  120. ,  120. ,\n",
       "        130. ,  135. ,  110. ,  130. ,  150. ,  145. ,  150. ,  170. ,\n",
       "        225. ,  145. ,  188. ,  180. ,  197. ,  218. ,  300. ,  260. ,\n",
       "        265. ,  250. ,  250. ,  300. ,  320. ,  514. ,  556. ,  840. ,\n",
       "        685. ,  700. ,  700. ,  690. ,  900. ,  650. ,  820. ,  850. ,\n",
       "        900. , 1015. ,  820. , 1100. , 1000. , 1100. , 1000. , 1000. ,\n",
       "        200. ,  300. ,  300. ,  300. ,  430. ,  345. ,  456. ,  510. ,\n",
       "        540. ,  500. ,  567. ,  770. ,  950. , 1250. , 1600. , 1550. ,\n",
       "       1650. ,    6.7,    7.5,    7. ,    9.7,    9.8,    8.7,   10. ,\n",
       "          9.9,    9.8,   12.2,   13.4,   12.2,   19.7,   19.9])"
      ]
     },
     "execution_count": 206,
     "metadata": {},
     "output_type": "execute_result"
    }
   ],
   "source": [
    "#df[df['Cost'] == 0.0] = np.nan\n",
    "\n",
    "column_ = np.asarray(df['Cost'])\n",
    "count_altered_ = (column_ == 0.0).sum()\n",
    "print('TOTAL Count of values \"Cost\" equal to 0.0: ', count_altered_)\n",
    "#newlist = sorted(column_, reverse=True)\n",
    "#newlist\n",
    "column_"
   ]
  },
  {
   "cell_type": "code",
   "execution_count": 207,
   "id": "6673d690",
   "metadata": {},
   "outputs": [
    {
     "data": {
      "text/plain": [
       "Cost       1\n",
       "Weight     2\n",
       "Weight1    0\n",
       "Length     1\n",
       "Height     1\n",
       "Width      3\n",
       "dtype: int64"
      ]
     },
     "execution_count": 207,
     "metadata": {},
     "output_type": "execute_result"
    }
   ],
   "source": [
    "df.isnull().sum() "
   ]
  },
  {
   "cell_type": "markdown",
   "id": "1e955b65",
   "metadata": {},
   "source": [
    "Let's fill the NaN values with the respective column average."
   ]
  },
  {
   "cell_type": "code",
   "execution_count": 208,
   "id": "39f2b23b",
   "metadata": {},
   "outputs": [
    {
     "name": "stdout",
     "output_type": "stream",
     "text": [
      "<class 'pandas.core.frame.DataFrame'>\n",
      "RangeIndex: 159 entries, 0 to 158\n",
      "Data columns (total 6 columns):\n",
      " #   Column   Non-Null Count  Dtype  \n",
      "---  ------   --------------  -----  \n",
      " 0   Cost     159 non-null    float64\n",
      " 1   Weight   159 non-null    float64\n",
      " 2   Weight1  159 non-null    float64\n",
      " 3   Length   159 non-null    float64\n",
      " 4   Height   159 non-null    float64\n",
      " 5   Width    159 non-null    float64\n",
      "dtypes: float64(6)\n",
      "memory usage: 7.6 KB\n"
     ]
    }
   ],
   "source": [
    "df['Width'].fillna(df['Width'].mean(), inplace=True)\n",
    "df['Weight'].fillna(df['Weight'].mean(), inplace=True)\n",
    "df['Length'].fillna(df['Length'].mean(), inplace=True)\n",
    "df['Height'].fillna(df['Height'].mean(), inplace=True)\n",
    "df['Weight1'].fillna(df['Weight1'].mean(), inplace=True)\n",
    "df['Cost'].fillna(df['Cost'].mean(), inplace=True)\n",
    "\n",
    "df.info()"
   ]
  },
  {
   "cell_type": "code",
   "execution_count": 209,
   "id": "b60d292d",
   "metadata": {},
   "outputs": [
    {
     "data": {
      "text/html": [
       "<div>\n",
       "<style scoped>\n",
       "    .dataframe tbody tr th:only-of-type {\n",
       "        vertical-align: middle;\n",
       "    }\n",
       "\n",
       "    .dataframe tbody tr th {\n",
       "        vertical-align: top;\n",
       "    }\n",
       "\n",
       "    .dataframe thead th {\n",
       "        text-align: right;\n",
       "    }\n",
       "</style>\n",
       "<table border=\"1\" class=\"dataframe\">\n",
       "  <thead>\n",
       "    <tr style=\"text-align: right;\">\n",
       "      <th></th>\n",
       "      <th>Cost</th>\n",
       "      <th>Weight</th>\n",
       "      <th>Weight1</th>\n",
       "      <th>Length</th>\n",
       "      <th>Height</th>\n",
       "      <th>Width</th>\n",
       "    </tr>\n",
       "  </thead>\n",
       "  <tbody>\n",
       "    <tr>\n",
       "      <th>count</th>\n",
       "      <td>159.000000</td>\n",
       "      <td>159.000000</td>\n",
       "      <td>159.000000</td>\n",
       "      <td>159.000000</td>\n",
       "      <td>159.000000</td>\n",
       "      <td>159.000000</td>\n",
       "    </tr>\n",
       "    <tr>\n",
       "      <th>mean</th>\n",
       "      <td>400.847468</td>\n",
       "      <td>26.259873</td>\n",
       "      <td>28.415723</td>\n",
       "      <td>31.239241</td>\n",
       "      <td>8.933124</td>\n",
       "      <td>4.422621</td>\n",
       "    </tr>\n",
       "    <tr>\n",
       "      <th>std</th>\n",
       "      <td>356.564044</td>\n",
       "      <td>9.989113</td>\n",
       "      <td>10.716328</td>\n",
       "      <td>11.609227</td>\n",
       "      <td>4.259525</td>\n",
       "      <td>1.662228</td>\n",
       "    </tr>\n",
       "    <tr>\n",
       "      <th>min</th>\n",
       "      <td>5.900000</td>\n",
       "      <td>7.500000</td>\n",
       "      <td>8.400000</td>\n",
       "      <td>8.800000</td>\n",
       "      <td>1.728400</td>\n",
       "      <td>1.047600</td>\n",
       "    </tr>\n",
       "    <tr>\n",
       "      <th>25%</th>\n",
       "      <td>122.500000</td>\n",
       "      <td>19.050000</td>\n",
       "      <td>21.000000</td>\n",
       "      <td>23.150000</td>\n",
       "      <td>5.944800</td>\n",
       "      <td>3.401600</td>\n",
       "    </tr>\n",
       "    <tr>\n",
       "      <th>50%</th>\n",
       "      <td>290.000000</td>\n",
       "      <td>25.400000</td>\n",
       "      <td>27.300000</td>\n",
       "      <td>30.000000</td>\n",
       "      <td>7.786000</td>\n",
       "      <td>4.305600</td>\n",
       "    </tr>\n",
       "    <tr>\n",
       "      <th>75%</th>\n",
       "      <td>650.000000</td>\n",
       "      <td>32.700000</td>\n",
       "      <td>35.500000</td>\n",
       "      <td>39.650000</td>\n",
       "      <td>12.143400</td>\n",
       "      <td>5.574750</td>\n",
       "    </tr>\n",
       "    <tr>\n",
       "      <th>max</th>\n",
       "      <td>1650.000000</td>\n",
       "      <td>59.000000</td>\n",
       "      <td>63.400000</td>\n",
       "      <td>68.000000</td>\n",
       "      <td>18.957000</td>\n",
       "      <td>8.142000</td>\n",
       "    </tr>\n",
       "  </tbody>\n",
       "</table>\n",
       "</div>"
      ],
      "text/plain": [
       "              Cost      Weight     Weight1      Length      Height       Width\n",
       "count   159.000000  159.000000  159.000000  159.000000  159.000000  159.000000\n",
       "mean    400.847468   26.259873   28.415723   31.239241    8.933124    4.422621\n",
       "std     356.564044    9.989113   10.716328   11.609227    4.259525    1.662228\n",
       "min       5.900000    7.500000    8.400000    8.800000    1.728400    1.047600\n",
       "25%     122.500000   19.050000   21.000000   23.150000    5.944800    3.401600\n",
       "50%     290.000000   25.400000   27.300000   30.000000    7.786000    4.305600\n",
       "75%     650.000000   32.700000   35.500000   39.650000   12.143400    5.574750\n",
       "max    1650.000000   59.000000   63.400000   68.000000   18.957000    8.142000"
      ]
     },
     "execution_count": 209,
     "metadata": {},
     "output_type": "execute_result"
    }
   ],
   "source": [
    "df.describe()"
   ]
  },
  {
   "cell_type": "code",
   "execution_count": 210,
   "id": "e4dd19f9",
   "metadata": {},
   "outputs": [
    {
     "data": {
      "text/plain": [
       "[1.0476, 1.1484, 1.1484, 1.16, 1.1659]"
      ]
     },
     "execution_count": 210,
     "metadata": {},
     "output_type": "execute_result"
    }
   ],
   "source": [
    "column_ = np.asarray(df['Width'])\n",
    "count_altered_ = (column_ > 10).sum()\n",
    "newlist = sorted(column_)\n",
    "newlist[0:5]"
   ]
  },
  {
   "cell_type": "code",
   "execution_count": 211,
   "id": "f16744c4",
   "metadata": {},
   "outputs": [
    {
     "data": {
      "text/plain": [
       "[8.142, 7.7957, 7.5958, 7.4934, 7.48]"
      ]
     },
     "execution_count": 211,
     "metadata": {},
     "output_type": "execute_result"
    }
   ],
   "source": [
    "newlist = sorted(column_, reverse=True)\n",
    "newlist[:5]"
   ]
  },
  {
   "cell_type": "markdown",
   "id": "5a6c76a3",
   "metadata": {},
   "source": [
    "Quick inspection of the Width column shows no ZERO value and the highest value is now replaced with average and the new largest value is the earlier second-largest."
   ]
  },
  {
   "cell_type": "code",
   "execution_count": 212,
   "id": "2de1b463",
   "metadata": {},
   "outputs": [
    {
     "data": {
      "text/plain": [
       "Cost       0\n",
       "Weight     0\n",
       "Weight1    0\n",
       "Length     0\n",
       "Height     0\n",
       "Width      0\n",
       "dtype: int64"
      ]
     },
     "execution_count": 212,
     "metadata": {},
     "output_type": "execute_result"
    }
   ],
   "source": [
    "# A final NULL check.\n",
    "\n",
    "df.isnull().sum() "
   ]
  },
  {
   "cell_type": "code",
   "execution_count": 213,
   "id": "debf29fc",
   "metadata": {},
   "outputs": [
    {
     "data": {
      "text/html": [
       "<div>\n",
       "<style scoped>\n",
       "    .dataframe tbody tr th:only-of-type {\n",
       "        vertical-align: middle;\n",
       "    }\n",
       "\n",
       "    .dataframe tbody tr th {\n",
       "        vertical-align: top;\n",
       "    }\n",
       "\n",
       "    .dataframe thead th {\n",
       "        text-align: right;\n",
       "    }\n",
       "</style>\n",
       "<table border=\"1\" class=\"dataframe\">\n",
       "  <thead>\n",
       "    <tr style=\"text-align: right;\">\n",
       "      <th></th>\n",
       "      <th>Cost</th>\n",
       "      <th>Weight</th>\n",
       "      <th>Weight1</th>\n",
       "      <th>Length</th>\n",
       "      <th>Height</th>\n",
       "      <th>Width</th>\n",
       "    </tr>\n",
       "  </thead>\n",
       "  <tbody>\n",
       "    <tr>\n",
       "      <th>count</th>\n",
       "      <td>159.000000</td>\n",
       "      <td>159.000000</td>\n",
       "      <td>159.000000</td>\n",
       "      <td>159.000000</td>\n",
       "      <td>159.000000</td>\n",
       "      <td>159.000000</td>\n",
       "    </tr>\n",
       "    <tr>\n",
       "      <th>mean</th>\n",
       "      <td>400.847468</td>\n",
       "      <td>26.259873</td>\n",
       "      <td>28.415723</td>\n",
       "      <td>31.239241</td>\n",
       "      <td>8.933124</td>\n",
       "      <td>4.422621</td>\n",
       "    </tr>\n",
       "    <tr>\n",
       "      <th>std</th>\n",
       "      <td>356.564044</td>\n",
       "      <td>9.989113</td>\n",
       "      <td>10.716328</td>\n",
       "      <td>11.609227</td>\n",
       "      <td>4.259525</td>\n",
       "      <td>1.662228</td>\n",
       "    </tr>\n",
       "    <tr>\n",
       "      <th>min</th>\n",
       "      <td>5.900000</td>\n",
       "      <td>7.500000</td>\n",
       "      <td>8.400000</td>\n",
       "      <td>8.800000</td>\n",
       "      <td>1.728400</td>\n",
       "      <td>1.047600</td>\n",
       "    </tr>\n",
       "    <tr>\n",
       "      <th>25%</th>\n",
       "      <td>122.500000</td>\n",
       "      <td>19.050000</td>\n",
       "      <td>21.000000</td>\n",
       "      <td>23.150000</td>\n",
       "      <td>5.944800</td>\n",
       "      <td>3.401600</td>\n",
       "    </tr>\n",
       "    <tr>\n",
       "      <th>50%</th>\n",
       "      <td>290.000000</td>\n",
       "      <td>25.400000</td>\n",
       "      <td>27.300000</td>\n",
       "      <td>30.000000</td>\n",
       "      <td>7.786000</td>\n",
       "      <td>4.305600</td>\n",
       "    </tr>\n",
       "    <tr>\n",
       "      <th>75%</th>\n",
       "      <td>650.000000</td>\n",
       "      <td>32.700000</td>\n",
       "      <td>35.500000</td>\n",
       "      <td>39.650000</td>\n",
       "      <td>12.143400</td>\n",
       "      <td>5.574750</td>\n",
       "    </tr>\n",
       "    <tr>\n",
       "      <th>max</th>\n",
       "      <td>1650.000000</td>\n",
       "      <td>59.000000</td>\n",
       "      <td>63.400000</td>\n",
       "      <td>68.000000</td>\n",
       "      <td>18.957000</td>\n",
       "      <td>8.142000</td>\n",
       "    </tr>\n",
       "  </tbody>\n",
       "</table>\n",
       "</div>"
      ],
      "text/plain": [
       "              Cost      Weight     Weight1      Length      Height       Width\n",
       "count   159.000000  159.000000  159.000000  159.000000  159.000000  159.000000\n",
       "mean    400.847468   26.259873   28.415723   31.239241    8.933124    4.422621\n",
       "std     356.564044    9.989113   10.716328   11.609227    4.259525    1.662228\n",
       "min       5.900000    7.500000    8.400000    8.800000    1.728400    1.047600\n",
       "25%     122.500000   19.050000   21.000000   23.150000    5.944800    3.401600\n",
       "50%     290.000000   25.400000   27.300000   30.000000    7.786000    4.305600\n",
       "75%     650.000000   32.700000   35.500000   39.650000   12.143400    5.574750\n",
       "max    1650.000000   59.000000   63.400000   68.000000   18.957000    8.142000"
      ]
     },
     "execution_count": 213,
     "metadata": {},
     "output_type": "execute_result"
    }
   ],
   "source": [
    "df.describe()"
   ]
  },
  {
   "cell_type": "code",
   "execution_count": 214,
   "id": "8280a242",
   "metadata": {},
   "outputs": [
    {
     "data": {
      "text/plain": [
       "Cost    Weight     Weight1  Length  Height   Width \n",
       "5.9     7.500000   8.4      8.8     2.1120   1.4080    1\n",
       "540.0   28.500000  31.0     34.0    10.7440  6.5620    1\n",
       "500.0   26.259873  30.7     36.2    14.2266  4.9594    1\n",
       "        26.800000  29.7     34.5    14.1795  5.2785    1\n",
       "        28.700000  31.0     36.2    14.3714  4.8146    1\n",
       "                                                      ..\n",
       "150.0   21.000000  23.0     24.5    5.2185   3.6260    1\n",
       "160.0   20.500000  22.5     25.3    7.0334   3.8203    1\n",
       "        21.100000  22.5     25.0    6.4000   3.8000    1\n",
       "161.0   26.259873  23.4     26.7    6.9153   3.6312    1\n",
       "1650.0  59.000000  63.4     68.0    10.8120  7.4800    1\n",
       "Length: 159, dtype: int64"
      ]
     },
     "execution_count": 214,
     "metadata": {},
     "output_type": "execute_result"
    }
   ],
   "source": [
    "df.value_counts()"
   ]
  },
  {
   "cell_type": "code",
   "execution_count": null,
   "id": "2cb67fef",
   "metadata": {},
   "outputs": [],
   "source": []
  },
  {
   "cell_type": "markdown",
   "id": "bd5dc207",
   "metadata": {},
   "source": [
    "## Plotting Graphs & Correlations : "
   ]
  },
  {
   "cell_type": "code",
   "execution_count": 215,
   "id": "2e2eefc8",
   "metadata": {},
   "outputs": [
    {
     "data": {
      "image/png": "[encoded data removed]",
      "text/plain": [
       "<Figure size 1080x1080 with 42 Axes>"
      ]
     },
     "metadata": {
      "needs_background": "light"
     },
     "output_type": "display_data"
    }
   ],
   "source": [
    "sns.pairplot(df)\n",
    "plt.show()"
   ]
  },
  {
   "cell_type": "code",
   "execution_count": 216,
   "id": "b4f97d87",
   "metadata": {},
   "outputs": [
    {
     "data": {
      "image/png": "[encoded data removed]",
      "text/plain": [
       "<Figure size 1080x180 with 7 Axes>"
      ]
     },
     "metadata": {
      "needs_background": "light"
     },
     "output_type": "display_data"
    }
   ],
   "source": [
    "### Graphs\n",
    "sns.pairplot(df, kind = 'reg', y_vars = 'Cost')\n",
    "# hue = 'Cost'\n",
    "# sns.pairplot(df, kind = 'reg', y_vars = 'Cost')\n",
    "\n",
    "plt.show()"
   ]
  },
  {
   "cell_type": "code",
   "execution_count": 217,
   "id": "6ab5702e",
   "metadata": {},
   "outputs": [
    {
     "data": {
      "text/plain": [
       "<AxesSubplot:xlabel='Weight'>"
      ]
     },
     "execution_count": 217,
     "metadata": {},
     "output_type": "execute_result"
    },
    {
     "data": {
      "image/png": "[encoded data removed]",
      "text/plain": [
       "<Figure size 432x288 with 1 Axes>"
      ]
     },
     "metadata": {
      "needs_background": "light"
     },
     "output_type": "display_data"
    }
   ],
   "source": [
    "sns.boxplot(x = df['Weight'])"
   ]
  },
  {
   "cell_type": "code",
   "execution_count": 218,
   "id": "2a14aa2c",
   "metadata": {},
   "outputs": [
    {
     "data": {
      "text/plain": [
       "<AxesSubplot:xlabel='Weight1'>"
      ]
     },
     "execution_count": 218,
     "metadata": {},
     "output_type": "execute_result"
    },
    {
     "data": {
      "image/png": "[encoded data removed]",
      "text/plain": [
       "<Figure size 432x288 with 1 Axes>"
      ]
     },
     "metadata": {
      "needs_background": "light"
     },
     "output_type": "display_data"
    }
   ],
   "source": [
    "sns.boxplot(x = df['Weight1'])"
   ]
  },
  {
   "cell_type": "code",
   "execution_count": 219,
   "id": "a089c8f5",
   "metadata": {},
   "outputs": [
    {
     "data": {
      "text/plain": [
       "<AxesSubplot:xlabel='Length'>"
      ]
     },
     "execution_count": 219,
     "metadata": {},
     "output_type": "execute_result"
    },
    {
     "data": {
      "image/png": "[encoded data removed]",
      "text/plain": [
       "<Figure size 432x288 with 1 Axes>"
      ]
     },
     "metadata": {
      "needs_background": "light"
     },
     "output_type": "display_data"
    }
   ],
   "source": [
    "sns.boxplot(x = df['Length'])"
   ]
  },
  {
   "cell_type": "code",
   "execution_count": 220,
   "id": "f96d19cb",
   "metadata": {},
   "outputs": [
    {
     "data": {
      "text/plain": [
       "<AxesSubplot:xlabel='Height'>"
      ]
     },
     "execution_count": 220,
     "metadata": {},
     "output_type": "execute_result"
    },
    {
     "data": {
      "image/png": "[encoded data removed]",
      "text/plain": [
       "<Figure size 432x288 with 1 Axes>"
      ]
     },
     "metadata": {
      "needs_background": "light"
     },
     "output_type": "display_data"
    }
   ],
   "source": [
    "sns.boxplot(x = df['Height'])"
   ]
  },
  {
   "cell_type": "code",
   "execution_count": 221,
   "id": "af0556c4",
   "metadata": {},
   "outputs": [
    {
     "data": {
      "text/plain": [
       "<AxesSubplot:xlabel='Width'>"
      ]
     },
     "execution_count": 221,
     "metadata": {},
     "output_type": "execute_result"
    },
    {
     "data": {
      "image/png": "[encoded data removed]",
      "text/plain": [
       "<Figure size 432x288 with 1 Axes>"
      ]
     },
     "metadata": {
      "needs_background": "light"
     },
     "output_type": "display_data"
    }
   ],
   "source": [
    "sns.boxplot(x = df['Width'])"
   ]
  },
  {
   "cell_type": "code",
   "execution_count": 222,
   "id": "a607350d",
   "metadata": {},
   "outputs": [
    {
     "data": {
      "text/plain": [
       "<AxesSubplot:ylabel='Cost'>"
      ]
     },
     "execution_count": 222,
     "metadata": {},
     "output_type": "execute_result"
    },
    {
     "data": {
      "image/png": "[encoded data removed]",
      "text/plain": [
       "<Figure size 432x288 with 1 Axes>"
      ]
     },
     "metadata": {
      "needs_background": "light"
     },
     "output_type": "display_data"
    }
   ],
   "source": [
    "sns.boxplot(y = df['Cost'])"
   ]
  },
  {
   "cell_type": "code",
   "execution_count": 223,
   "id": "5b9c54c6",
   "metadata": {},
   "outputs": [
    {
     "data": {
      "text/plain": [
       "<AxesSubplot:>"
      ]
     },
     "execution_count": 223,
     "metadata": {},
     "output_type": "execute_result"
    },
    {
     "data": {
      "image/png": "[encoded data removed]",
      "text/plain": [
       "<Figure size 432x288 with 2 Axes>"
      ]
     },
     "metadata": {
      "needs_background": "light"
     },
     "output_type": "display_data"
    }
   ],
   "source": [
    "df_corr = df.corr()\n",
    "sns.heatmap(df_corr, cmap='viridis', annot=True)"
   ]
  },
  {
   "cell_type": "markdown",
   "id": "37c48867",
   "metadata": {},
   "source": [
    "# Model Building\n",
    "\n",
    "\n",
    "## OLS Approach :"
   ]
  },
  {
   "cell_type": "code",
   "execution_count": 224,
   "id": "18b49f2a",
   "metadata": {},
   "outputs": [
    {
     "name": "stdout",
     "output_type": "stream",
     "text": [
      "Coefficent is [ 11.63095391  36.60710039 -23.9166695   23.79502612  21.02459158]\n",
      "Intercept is -503.2062535260667\n",
      "\n",
      "\n",
      "\n",
      "Intercept   -503.206254\n",
      "Weight        11.630954\n",
      "Weight1       36.607100\n",
      "Length       -23.916669\n",
      "Height        23.795026\n",
      "Width         21.024592\n",
      "dtype: float64\n"
     ]
    }
   ],
   "source": [
    "### model OLS\n",
    "ols_model = LinearRegression()\n",
    "x_data = df.drop(['Cost'], axis = 1)\n",
    "y = df['Cost']\n",
    "ols_model.fit(x_data, y)\n",
    "print(\"Coefficent is {}\".format(ols_model.coef_))\n",
    "print('Intercept is {}'.format(ols_model.intercept_))\n",
    "\n",
    "print('')\n",
    "print('')\n",
    "print('')\n",
    "ols_stats = sm.ols('Cost ~ Weight + Weight1 + Length + Height + Width', df).fit()\n",
    "print(ols_stats.params)"
   ]
  },
  {
   "cell_type": "code",
   "execution_count": 225,
   "id": "26c5fd36",
   "metadata": {},
   "outputs": [
    {
     "data": {
      "text/html": [
       "<table class=\"simpletable\">\n",
       "<caption>OLS Regression Results</caption>\n",
       "<tr>\n",
       "  <th>Dep. Variable:</th>          <td>Cost</td>       <th>  R-squared:         </th> <td>   0.879</td>\n",
       "</tr>\n",
       "<tr>\n",
       "  <th>Model:</th>                   <td>OLS</td>       <th>  Adj. R-squared:    </th> <td>   0.875</td>\n",
       "</tr>\n",
       "<tr>\n",
       "  <th>Method:</th>             <td>Least Squares</td>  <th>  F-statistic:       </th> <td>   222.1</td>\n",
       "</tr>\n",
       "<tr>\n",
       "  <th>Date:</th>             <td>Wed, 01 Dec 2021</td> <th>  Prob (F-statistic):</th> <td>3.07e-68</td>\n",
       "</tr>\n",
       "<tr>\n",
       "  <th>Time:</th>                 <td>22:55:03</td>     <th>  Log-Likelihood:    </th> <td> -991.63</td>\n",
       "</tr>\n",
       "<tr>\n",
       "  <th>No. Observations:</th>      <td>   159</td>      <th>  AIC:               </th> <td>   1995.</td>\n",
       "</tr>\n",
       "<tr>\n",
       "  <th>Df Residuals:</th>          <td>   153</td>      <th>  BIC:               </th> <td>   2014.</td>\n",
       "</tr>\n",
       "<tr>\n",
       "  <th>Df Model:</th>              <td>     5</td>      <th>                     </th>     <td> </td>   \n",
       "</tr>\n",
       "<tr>\n",
       "  <th>Covariance Type:</th>      <td>nonrobust</td>    <th>                     </th>     <td> </td>   \n",
       "</tr>\n",
       "</table>\n",
       "<table class=\"simpletable\">\n",
       "<tr>\n",
       "      <td></td>         <th>coef</th>     <th>std err</th>      <th>t</th>      <th>P>|t|</th>  <th>[0.025</th>    <th>0.975]</th>  \n",
       "</tr>\n",
       "<tr>\n",
       "  <th>Intercept</th> <td> -503.2063</td> <td>   30.167</td> <td>  -16.681</td> <td> 0.000</td> <td> -562.804</td> <td> -443.608</td>\n",
       "</tr>\n",
       "<tr>\n",
       "  <th>Weight</th>    <td>   11.6310</td> <td>   21.700</td> <td>    0.536</td> <td> 0.593</td> <td>  -31.239</td> <td>   54.501</td>\n",
       "</tr>\n",
       "<tr>\n",
       "  <th>Weight1</th>   <td>   36.6071</td> <td>   25.315</td> <td>    1.446</td> <td> 0.150</td> <td>  -13.405</td> <td>   86.619</td>\n",
       "</tr>\n",
       "<tr>\n",
       "  <th>Length</th>    <td>  -23.9167</td> <td>   15.308</td> <td>   -1.562</td> <td> 0.120</td> <td>  -54.160</td> <td>    6.326</td>\n",
       "</tr>\n",
       "<tr>\n",
       "  <th>Height</th>    <td>   23.7950</td> <td>    7.487</td> <td>    3.178</td> <td> 0.002</td> <td>    9.005</td> <td>   38.585</td>\n",
       "</tr>\n",
       "<tr>\n",
       "  <th>Width</th>     <td>   21.0246</td> <td>   17.056</td> <td>    1.233</td> <td> 0.220</td> <td>  -12.671</td> <td>   54.720</td>\n",
       "</tr>\n",
       "</table>\n",
       "<table class=\"simpletable\">\n",
       "<tr>\n",
       "  <th>Omnibus:</th>       <td>18.848</td> <th>  Durbin-Watson:     </th> <td>   0.527</td>\n",
       "</tr>\n",
       "<tr>\n",
       "  <th>Prob(Omnibus):</th> <td> 0.000</td> <th>  Jarque-Bera (JB):  </th> <td>  22.651</td>\n",
       "</tr>\n",
       "<tr>\n",
       "  <th>Skew:</th>          <td> 0.773</td> <th>  Prob(JB):          </th> <td>1.21e-05</td>\n",
       "</tr>\n",
       "<tr>\n",
       "  <th>Kurtosis:</th>      <td> 4.014</td> <th>  Cond. No.          </th> <td>    178.</td>\n",
       "</tr>\n",
       "</table><br/><br/>Notes:<br/>[1] Standard Errors assume that the covariance matrix of the errors is correctly specified."
      ],
      "text/plain": [
       "<class 'statsmodels.iolib.summary.Summary'>\n",
       "\"\"\"\n",
       "                            OLS Regression Results                            \n",
       "==============================================================================\n",
       "Dep. Variable:                   Cost   R-squared:                       0.879\n",
       "Model:                            OLS   Adj. R-squared:                  0.875\n",
       "Method:                 Least Squares   F-statistic:                     222.1\n",
       "Date:                Wed, 01 Dec 2021   Prob (F-statistic):           3.07e-68\n",
       "Time:                        22:55:03   Log-Likelihood:                -991.63\n",
       "No. Observations:                 159   AIC:                             1995.\n",
       "Df Residuals:                     153   BIC:                             2014.\n",
       "Df Model:                           5                                         \n",
       "Covariance Type:            nonrobust                                         \n",
       "==============================================================================\n",
       "                 coef    std err          t      P>|t|      [0.025      0.975]\n",
       "------------------------------------------------------------------------------\n",
       "Intercept   -503.2063     30.167    -16.681      0.000    -562.804    -443.608\n",
       "Weight        11.6310     21.700      0.536      0.593     -31.239      54.501\n",
       "Weight1       36.6071     25.315      1.446      0.150     -13.405      86.619\n",
       "Length       -23.9167     15.308     -1.562      0.120     -54.160       6.326\n",
       "Height        23.7950      7.487      3.178      0.002       9.005      38.585\n",
       "Width         21.0246     17.056      1.233      0.220     -12.671      54.720\n",
       "==============================================================================\n",
       "Omnibus:                       18.848   Durbin-Watson:                   0.527\n",
       "Prob(Omnibus):                  0.000   Jarque-Bera (JB):               22.651\n",
       "Skew:                           0.773   Prob(JB):                     1.21e-05\n",
       "Kurtosis:                       4.014   Cond. No.                         178.\n",
       "==============================================================================\n",
       "\n",
       "Notes:\n",
       "[1] Standard Errors assume that the covariance matrix of the errors is correctly specified.\n",
       "\"\"\""
      ]
     },
     "execution_count": 225,
     "metadata": {},
     "output_type": "execute_result"
    }
   ],
   "source": [
    "ols_stats.summary()"
   ]
  },
  {
   "cell_type": "code",
   "execution_count": 226,
   "id": "2771eced",
   "metadata": {},
   "outputs": [
    {
     "data": {
      "text/html": [
       "<table class=\"simpletable\">\n",
       "<tr>\n",
       "        <td>Model:</td>               <td>OLS</td>         <td>Adj. R-squared:</td>     <td>0.875</td>  \n",
       "</tr>\n",
       "<tr>\n",
       "  <td>Dependent Variable:</td>       <td>Cost</td>              <td>AIC:</td>         <td>1995.2665</td>\n",
       "</tr>\n",
       "<tr>\n",
       "         <td>Date:</td>        <td>2021-12-01 22:55</td>        <td>BIC:</td>         <td>2013.6799</td>\n",
       "</tr>\n",
       "<tr>\n",
       "   <td>No. Observations:</td>         <td>159</td>         <td>Log-Likelihood:</td>    <td>-991.63</td> \n",
       "</tr>\n",
       "<tr>\n",
       "       <td>Df Model:</td>              <td>5</td>           <td>F-statistic:</td>       <td>222.1</td>  \n",
       "</tr>\n",
       "<tr>\n",
       "     <td>Df Residuals:</td>           <td>153</td>       <td>Prob (F-statistic):</td> <td>3.07e-68</td> \n",
       "</tr>\n",
       "<tr>\n",
       "      <td>R-squared:</td>            <td>0.879</td>            <td>Scale:</td>         <td>15898.</td>  \n",
       "</tr>\n",
       "</table>\n",
       "<table class=\"simpletable\">\n",
       "<tr>\n",
       "      <td></td>        <th>Coef.</th>   <th>Std.Err.</th>     <th>t</th>     <th>P>|t|</th>  <th>[0.025</th>    <th>0.975]</th>  \n",
       "</tr>\n",
       "<tr>\n",
       "  <th>Intercept</th> <td>-503.2063</td>  <td>30.1673</td> <td>-16.6805</td> <td>0.0000</td> <td>-562.8045</td> <td>-443.6080</td>\n",
       "</tr>\n",
       "<tr>\n",
       "  <th>Weight</th>     <td>11.6310</td>   <td>21.6998</td>  <td>0.5360</td>  <td>0.5927</td> <td>-31.2390</td>   <td>54.5009</td> \n",
       "</tr>\n",
       "<tr>\n",
       "  <th>Weight1</th>    <td>36.6071</td>   <td>25.3150</td>  <td>1.4461</td>  <td>0.1502</td> <td>-13.4049</td>   <td>86.6191</td> \n",
       "</tr>\n",
       "<tr>\n",
       "  <th>Length</th>    <td>-23.9167</td>   <td>15.3083</td>  <td>-1.5623</td> <td>0.1203</td> <td>-54.1596</td>   <td>6.3262</td>  \n",
       "</tr>\n",
       "<tr>\n",
       "  <th>Height</th>     <td>23.7950</td>   <td>7.4866</td>   <td>3.1784</td>  <td>0.0018</td>  <td>9.0046</td>    <td>38.5854</td> \n",
       "</tr>\n",
       "<tr>\n",
       "  <th>Width</th>      <td>21.0246</td>   <td>17.0559</td>  <td>1.2327</td>  <td>0.2196</td> <td>-12.6709</td>   <td>54.7201</td> \n",
       "</tr>\n",
       "</table>\n",
       "<table class=\"simpletable\">\n",
       "<tr>\n",
       "     <td>Omnibus:</td>    <td>18.848</td>  <td>Durbin-Watson:</td>    <td>0.527</td>\n",
       "</tr>\n",
       "<tr>\n",
       "  <td>Prob(Omnibus):</td>  <td>0.000</td> <td>Jarque-Bera (JB):</td> <td>22.651</td>\n",
       "</tr>\n",
       "<tr>\n",
       "       <td>Skew:</td>      <td>0.773</td>     <td>Prob(JB):</td>      <td>0.000</td>\n",
       "</tr>\n",
       "<tr>\n",
       "     <td>Kurtosis:</td>    <td>4.014</td>  <td>Condition No.:</td>     <td>178</td> \n",
       "</tr>\n",
       "</table>"
      ],
      "text/plain": [
       "<class 'statsmodels.iolib.summary2.Summary'>\n",
       "\"\"\"\n",
       "                 Results: Ordinary least squares\n",
       "==================================================================\n",
       "Model:              OLS              Adj. R-squared:     0.875    \n",
       "Dependent Variable: Cost             AIC:                1995.2665\n",
       "Date:               2021-12-01 22:55 BIC:                2013.6799\n",
       "No. Observations:   159              Log-Likelihood:     -991.63  \n",
       "Df Model:           5                F-statistic:        222.1    \n",
       "Df Residuals:       153              Prob (F-statistic): 3.07e-68 \n",
       "R-squared:          0.879            Scale:              15898.   \n",
       "------------------------------------------------------------------\n",
       "              Coef.   Std.Err.    t     P>|t|    [0.025    0.975] \n",
       "------------------------------------------------------------------\n",
       "Intercept   -503.2063  30.1673 -16.6805 0.0000 -562.8045 -443.6080\n",
       "Weight        11.6310  21.6998   0.5360 0.5927  -31.2390   54.5009\n",
       "Weight1       36.6071  25.3150   1.4461 0.1502  -13.4049   86.6191\n",
       "Length       -23.9167  15.3083  -1.5623 0.1203  -54.1596    6.3262\n",
       "Height        23.7950   7.4866   3.1784 0.0018    9.0046   38.5854\n",
       "Width         21.0246  17.0559   1.2327 0.2196  -12.6709   54.7201\n",
       "------------------------------------------------------------------\n",
       "Omnibus:               18.848       Durbin-Watson:          0.527 \n",
       "Prob(Omnibus):         0.000        Jarque-Bera (JB):       22.651\n",
       "Skew:                  0.773        Prob(JB):               0.000 \n",
       "Kurtosis:              4.014        Condition No.:          178   \n",
       "==================================================================\n",
       "\n",
       "\"\"\""
      ]
     },
     "execution_count": 226,
     "metadata": {},
     "output_type": "execute_result"
    }
   ],
   "source": [
    "ols_stats.summary2()"
   ]
  },
  {
   "cell_type": "markdown",
   "id": "119f5fe3",
   "metadata": {},
   "source": [
    "Splitting the TRAINING data and TEST data at 90% and 10% respectively we can work out our MSE, RMSE, R^2 Errors."
   ]
  },
  {
   "cell_type": "code",
   "execution_count": 227,
   "id": "04e64252",
   "metadata": {},
   "outputs": [],
   "source": [
    "X = df.drop(['Cost'], axis=1)\n",
    "Y = df['Cost']\n",
    "\n",
    "X_train, X_test, Y_train, Y_test = train_test_split(X, Y, test_size = 0.10)"
   ]
  },
  {
   "cell_type": "code",
   "execution_count": 228,
   "id": "9581d6f9",
   "metadata": {},
   "outputs": [
    {
     "data": {
      "text/plain": [
       "LinearRegression()"
      ]
     },
     "execution_count": 228,
     "metadata": {},
     "output_type": "execute_result"
    }
   ],
   "source": [
    "model = LinearRegression()\n",
    "model.fit(X_train, Y_train)"
   ]
  },
  {
   "cell_type": "code",
   "execution_count": 229,
   "id": "823f92c2",
   "metadata": {},
   "outputs": [
    {
     "name": "stdout",
     "output_type": "stream",
     "text": [
      "Coefficent :  [ 10.86272908  47.72873384 -33.59405983  27.25583255  12.60801895]\n",
      "Intercept  :  -491.128610711333\n"
     ]
    }
   ],
   "source": [
    "print('Coefficent : ', model.coef_)\n",
    "print('Intercept  : ', model.intercept_)"
   ]
  },
  {
   "cell_type": "code",
   "execution_count": 231,
   "id": "93ac0a0c",
   "metadata": {},
   "outputs": [],
   "source": [
    "ols_stats\n",
    "Y_predict = model.predict(X_test)"
   ]
  },
  {
   "cell_type": "code",
   "execution_count": 232,
   "id": "a127c343",
   "metadata": {},
   "outputs": [
    {
     "name": "stdout",
     "output_type": "stream",
     "text": [
      "Mean Squared Error (MSE) :  6451.249355249119\n",
      "Root Mean Squared Error (RMSE) :  80.31966979046365\n",
      "R Squared Error (Variance Score) :  0.94108397635597\n"
     ]
    }
   ],
   "source": [
    "import sklearn.metrics as metrics  # To calculate the R Square, MSE & RMSE Errors\n",
    "\n",
    "mse = metrics.mean_squared_error(Y_test, Y_predict)\n",
    "print('Mean Squared Error (MSE) : ', mse)\n",
    "\n",
    "rmse = np.sqrt(mse) # or mse**(0.5) \n",
    "print('Root Mean Squared Error (RMSE) : ', rmse)\n",
    "\n",
    "r2 = metrics.r2_score(Y_test, Y_predict)\n",
    "print('R Squared Error (Variance Score) : ', r2)"
   ]
  },
  {
   "cell_type": "code",
   "execution_count": null,
   "id": "64684c23",
   "metadata": {},
   "outputs": [],
   "source": []
  },
  {
   "cell_type": "markdown",
   "id": "bffd77f6",
   "metadata": {},
   "source": [
    "## Gradient Descent Approach :"
   ]
  },
  {
   "cell_type": "code",
   "execution_count": 233,
   "id": "fcabd9c7",
   "metadata": {},
   "outputs": [
    {
     "data": {
      "text/plain": [
       "159.0"
      ]
     },
     "execution_count": 233,
     "metadata": {},
     "output_type": "execute_result"
    }
   ],
   "source": [
    "x1 = df['Weight']\n",
    "x2 = df['Weight1']\n",
    "x3 = df['Length']\n",
    "x4 = df['Height']\n",
    "x5 = df['Width']\n",
    "\n",
    "nos_data = float(len(x1)) # Total no of the data available for training\n",
    "nos_data"
   ]
  },
  {
   "cell_type": "code",
   "execution_count": 234,
   "id": "613484c0",
   "metadata": {},
   "outputs": [
    {
     "data": {
      "text/plain": [
       "array([0., 0., 0., 0., 0., 0.])"
      ]
     },
     "execution_count": 234,
     "metadata": {},
     "output_type": "execute_result"
    }
   ],
   "source": [
    "coef_ = np.zeros(6)  # Coefficient for the linear model, initial values filled with 0\n",
    "learn_rate = 0.001 # learning Rate\n",
    "\n",
    "coef_"
   ]
  },
  {
   "cell_type": "code",
   "execution_count": 76,
   "id": "bcc76c5b",
   "metadata": {},
   "outputs": [],
   "source": [
    "'''def createInitialValues(X): # Function used to generate initial values for coefficients and intercept\n",
    "    vect = np.array([0.0 for x in range(X.shape[1]+1)])\n",
    "    return vect\n",
    "\n",
    "def gradientDescent(X, Y, iv, learn_rate):\n",
    "    N = len(X)\n",
    "    y = np.dot(X, iv[1:]) + iv[0]\n",
    "    dW0 = (-2 / N) * sum(Y - y)\n",
    "    dW = (-2 / N) * (np.dot(np.transpose(X), (Y - y)))\n",
    "    iv[0] -= learn_rate * dW0\n",
    "    iv[1:] -= learn_rate * dW\n",
    "    \n",
    "    y = np.dot(X, iv[1:]) + iv[0]\n",
    "    loss = (1 / N * sum(val ** 2 for val in (Y - y)))\n",
    "    \n",
    "    return loss\n",
    "    '''"
   ]
  },
  {
   "cell_type": "code",
   "execution_count": null,
   "id": "b464a5d5",
   "metadata": {},
   "outputs": [],
   "source": []
  },
  {
   "cell_type": "code",
   "execution_count": null,
   "id": "65f8e140",
   "metadata": {},
   "outputs": [],
   "source": []
  },
  {
   "cell_type": "markdown",
   "id": "8453e325",
   "metadata": {},
   "source": [
    "## Mini Batch Gradient Descent :"
   ]
  },
  {
   "cell_type": "code",
   "execution_count": 137,
   "id": "471671d7",
   "metadata": {},
   "outputs": [],
   "source": [
    "def minibatch_gradient_descent(X,y,theta,learning_rate=0.01, iterations=10, batch_size =20):\n",
    "    m = len(y)\n",
    "    cost_history = np.zeros(iterations)\n",
    "    n_batches = int(m/batch_size)\n",
    "    for it in range(iterations):\n",
    "        cost =0.0\n",
    "        indices = np.random.permutation(m)\n",
    "        X = X[indices]\n",
    "        y = y[indices]\n",
    "        for i in range(0,m,batch_size):\n",
    "            X_i = X[i:i+batch_size]\n",
    "            y_i = y[i:i+batch_size]\n",
    "            X_i = np.c_[np.ones(len(X_i)),X_i]\n",
    "            prediction = np.dot(X_i,theta)\n",
    "            theta = theta -(1/m)*learning_rate*( X_i.T.dot((prediction - y_i)))\n",
    "            cost += cal_cost(theta,X_i,y_i)\n",
    "        cost_history[it]  = cost\n",
    "    return theta, cost_history"
   ]
  },
  {
   "cell_type": "code",
   "execution_count": 168,
   "id": "9f25c181",
   "metadata": {},
   "outputs": [
    {
     "name": "stdout",
     "output_type": "stream",
     "text": [
      "[[ 0.76888685 -0.12950124  0.39928095  0.29593474 -0.81330181]\n",
      " [ 0.7547801   0.50318322 -0.40165595  0.55644821 -1.35125759]]\n"
     ]
    },
    {
     "ename": "KeyError",
     "evalue": "\"None of [Int64Index([133,  43,  11,  49,  41, 106,  36, 157,  90, 126,\\n            ...\\n             98,  35,  93,  53, 117,   7,   1,  78,  89,   0],\\n           dtype='int64', length=159)] are in the [columns]\"",
     "output_type": "error",
     "traceback": [
      "\u001b[1;31m---------------------------------------------------------------------------\u001b[0m",
      "\u001b[1;31mKeyError\u001b[0m                                  Traceback (most recent call last)",
      "\u001b[1;32m<ipython-input-168-c9fdbcbf253f>\u001b[0m in \u001b[0;36m<module>\u001b[1;34m\u001b[0m\n\u001b[0;32m      3\u001b[0m \u001b[0mtheta\u001b[0m \u001b[1;33m=\u001b[0m \u001b[0mnp\u001b[0m\u001b[1;33m.\u001b[0m\u001b[0mrandom\u001b[0m\u001b[1;33m.\u001b[0m\u001b[0mrandn\u001b[0m\u001b[1;33m(\u001b[0m\u001b[1;36m2\u001b[0m\u001b[1;33m,\u001b[0m\u001b[1;36m5\u001b[0m\u001b[1;33m)\u001b[0m\u001b[1;33m\u001b[0m\u001b[1;33m\u001b[0m\u001b[0m\n\u001b[0;32m      4\u001b[0m \u001b[0mprint\u001b[0m\u001b[1;33m(\u001b[0m\u001b[0mtheta\u001b[0m\u001b[1;33m)\u001b[0m\u001b[1;33m\u001b[0m\u001b[1;33m\u001b[0m\u001b[0m\n\u001b[1;32m----> 5\u001b[1;33m \u001b[0mtheta\u001b[0m\u001b[1;33m,\u001b[0m\u001b[0mcost_history\u001b[0m \u001b[1;33m=\u001b[0m \u001b[0mminibatch_gradient_descent\u001b[0m\u001b[1;33m(\u001b[0m\u001b[0mX\u001b[0m\u001b[1;33m,\u001b[0m\u001b[0my\u001b[0m\u001b[1;33m,\u001b[0m\u001b[0mtheta\u001b[0m\u001b[1;33m,\u001b[0m\u001b[0mlr\u001b[0m\u001b[1;33m,\u001b[0m\u001b[0mn_iter\u001b[0m\u001b[1;33m)\u001b[0m\u001b[1;33m\u001b[0m\u001b[1;33m\u001b[0m\u001b[0m\n\u001b[0m\u001b[0;32m      6\u001b[0m \u001b[0mprint\u001b[0m\u001b[1;33m(\u001b[0m\u001b[1;34m'Theta0:          {:0.3f},\\nTheta1:          {:0.3f}'\u001b[0m\u001b[1;33m.\u001b[0m\u001b[0mformat\u001b[0m\u001b[1;33m(\u001b[0m\u001b[0mtheta\u001b[0m\u001b[1;33m[\u001b[0m\u001b[1;36m0\u001b[0m\u001b[1;33m]\u001b[0m\u001b[1;33m[\u001b[0m\u001b[1;36m0\u001b[0m\u001b[1;33m]\u001b[0m\u001b[1;33m,\u001b[0m\u001b[0mtheta\u001b[0m\u001b[1;33m[\u001b[0m\u001b[1;36m1\u001b[0m\u001b[1;33m]\u001b[0m\u001b[1;33m[\u001b[0m\u001b[1;36m0\u001b[0m\u001b[1;33m]\u001b[0m\u001b[1;33m)\u001b[0m\u001b[1;33m)\u001b[0m\u001b[1;33m\u001b[0m\u001b[1;33m\u001b[0m\u001b[0m\n\u001b[0;32m      7\u001b[0m \u001b[0mprint\u001b[0m\u001b[1;33m(\u001b[0m\u001b[1;34m'Final cost/MSE:  {:0.3f}'\u001b[0m\u001b[1;33m.\u001b[0m\u001b[0mformat\u001b[0m\u001b[1;33m(\u001b[0m\u001b[0mcost_history\u001b[0m\u001b[1;33m[\u001b[0m\u001b[1;33m-\u001b[0m\u001b[1;36m1\u001b[0m\u001b[1;33m]\u001b[0m\u001b[1;33m)\u001b[0m\u001b[1;33m)\u001b[0m\u001b[1;33m\u001b[0m\u001b[1;33m\u001b[0m\u001b[0m\n",
      "\u001b[1;32m<ipython-input-137-a77a1bb8fcf6>\u001b[0m in \u001b[0;36mminibatch_gradient_descent\u001b[1;34m(X, y, theta, learning_rate, iterations, batch_size)\u001b[0m\n\u001b[0;32m      6\u001b[0m         \u001b[0mcost\u001b[0m \u001b[1;33m=\u001b[0m\u001b[1;36m0.0\u001b[0m\u001b[1;33m\u001b[0m\u001b[1;33m\u001b[0m\u001b[0m\n\u001b[0;32m      7\u001b[0m         \u001b[0mindices\u001b[0m \u001b[1;33m=\u001b[0m \u001b[0mnp\u001b[0m\u001b[1;33m.\u001b[0m\u001b[0mrandom\u001b[0m\u001b[1;33m.\u001b[0m\u001b[0mpermutation\u001b[0m\u001b[1;33m(\u001b[0m\u001b[0mm\u001b[0m\u001b[1;33m)\u001b[0m\u001b[1;33m\u001b[0m\u001b[1;33m\u001b[0m\u001b[0m\n\u001b[1;32m----> 8\u001b[1;33m         \u001b[0mX\u001b[0m \u001b[1;33m=\u001b[0m \u001b[0mX\u001b[0m\u001b[1;33m[\u001b[0m\u001b[0mindices\u001b[0m\u001b[1;33m]\u001b[0m\u001b[1;33m\u001b[0m\u001b[1;33m\u001b[0m\u001b[0m\n\u001b[0m\u001b[0;32m      9\u001b[0m         \u001b[0my\u001b[0m \u001b[1;33m=\u001b[0m \u001b[0my\u001b[0m\u001b[1;33m[\u001b[0m\u001b[0mindices\u001b[0m\u001b[1;33m]\u001b[0m\u001b[1;33m\u001b[0m\u001b[1;33m\u001b[0m\u001b[0m\n\u001b[0;32m     10\u001b[0m         \u001b[1;32mfor\u001b[0m \u001b[0mi\u001b[0m \u001b[1;32min\u001b[0m \u001b[0mrange\u001b[0m\u001b[1;33m(\u001b[0m\u001b[1;36m0\u001b[0m\u001b[1;33m,\u001b[0m\u001b[0mm\u001b[0m\u001b[1;33m,\u001b[0m\u001b[0mbatch_size\u001b[0m\u001b[1;33m)\u001b[0m\u001b[1;33m:\u001b[0m\u001b[1;33m\u001b[0m\u001b[1;33m\u001b[0m\u001b[0m\n",
      "\u001b[1;32m~\\anaconda3\\lib\\site-packages\\pandas\\core\\frame.py\u001b[0m in \u001b[0;36m__getitem__\u001b[1;34m(self, key)\u001b[0m\n\u001b[0;32m   3028\u001b[0m             \u001b[1;32mif\u001b[0m \u001b[0mis_iterator\u001b[0m\u001b[1;33m(\u001b[0m\u001b[0mkey\u001b[0m\u001b[1;33m)\u001b[0m\u001b[1;33m:\u001b[0m\u001b[1;33m\u001b[0m\u001b[1;33m\u001b[0m\u001b[0m\n\u001b[0;32m   3029\u001b[0m                 \u001b[0mkey\u001b[0m \u001b[1;33m=\u001b[0m \u001b[0mlist\u001b[0m\u001b[1;33m(\u001b[0m\u001b[0mkey\u001b[0m\u001b[1;33m)\u001b[0m\u001b[1;33m\u001b[0m\u001b[1;33m\u001b[0m\u001b[0m\n\u001b[1;32m-> 3030\u001b[1;33m             \u001b[0mindexer\u001b[0m \u001b[1;33m=\u001b[0m \u001b[0mself\u001b[0m\u001b[1;33m.\u001b[0m\u001b[0mloc\u001b[0m\u001b[1;33m.\u001b[0m\u001b[0m_get_listlike_indexer\u001b[0m\u001b[1;33m(\u001b[0m\u001b[0mkey\u001b[0m\u001b[1;33m,\u001b[0m \u001b[0maxis\u001b[0m\u001b[1;33m=\u001b[0m\u001b[1;36m1\u001b[0m\u001b[1;33m,\u001b[0m \u001b[0mraise_missing\u001b[0m\u001b[1;33m=\u001b[0m\u001b[1;32mTrue\u001b[0m\u001b[1;33m)\u001b[0m\u001b[1;33m[\u001b[0m\u001b[1;36m1\u001b[0m\u001b[1;33m]\u001b[0m\u001b[1;33m\u001b[0m\u001b[1;33m\u001b[0m\u001b[0m\n\u001b[0m\u001b[0;32m   3031\u001b[0m \u001b[1;33m\u001b[0m\u001b[0m\n\u001b[0;32m   3032\u001b[0m         \u001b[1;31m# take() does not accept boolean indexers\u001b[0m\u001b[1;33m\u001b[0m\u001b[1;33m\u001b[0m\u001b[1;33m\u001b[0m\u001b[0m\n",
      "\u001b[1;32m~\\anaconda3\\lib\\site-packages\\pandas\\core\\indexing.py\u001b[0m in \u001b[0;36m_get_listlike_indexer\u001b[1;34m(self, key, axis, raise_missing)\u001b[0m\n\u001b[0;32m   1264\u001b[0m             \u001b[0mkeyarr\u001b[0m\u001b[1;33m,\u001b[0m \u001b[0mindexer\u001b[0m\u001b[1;33m,\u001b[0m \u001b[0mnew_indexer\u001b[0m \u001b[1;33m=\u001b[0m \u001b[0max\u001b[0m\u001b[1;33m.\u001b[0m\u001b[0m_reindex_non_unique\u001b[0m\u001b[1;33m(\u001b[0m\u001b[0mkeyarr\u001b[0m\u001b[1;33m)\u001b[0m\u001b[1;33m\u001b[0m\u001b[1;33m\u001b[0m\u001b[0m\n\u001b[0;32m   1265\u001b[0m \u001b[1;33m\u001b[0m\u001b[0m\n\u001b[1;32m-> 1266\u001b[1;33m         \u001b[0mself\u001b[0m\u001b[1;33m.\u001b[0m\u001b[0m_validate_read_indexer\u001b[0m\u001b[1;33m(\u001b[0m\u001b[0mkeyarr\u001b[0m\u001b[1;33m,\u001b[0m \u001b[0mindexer\u001b[0m\u001b[1;33m,\u001b[0m \u001b[0maxis\u001b[0m\u001b[1;33m,\u001b[0m \u001b[0mraise_missing\u001b[0m\u001b[1;33m=\u001b[0m\u001b[0mraise_missing\u001b[0m\u001b[1;33m)\u001b[0m\u001b[1;33m\u001b[0m\u001b[1;33m\u001b[0m\u001b[0m\n\u001b[0m\u001b[0;32m   1267\u001b[0m         \u001b[1;32mreturn\u001b[0m \u001b[0mkeyarr\u001b[0m\u001b[1;33m,\u001b[0m \u001b[0mindexer\u001b[0m\u001b[1;33m\u001b[0m\u001b[1;33m\u001b[0m\u001b[0m\n\u001b[0;32m   1268\u001b[0m \u001b[1;33m\u001b[0m\u001b[0m\n",
      "\u001b[1;32m~\\anaconda3\\lib\\site-packages\\pandas\\core\\indexing.py\u001b[0m in \u001b[0;36m_validate_read_indexer\u001b[1;34m(self, key, indexer, axis, raise_missing)\u001b[0m\n\u001b[0;32m   1306\u001b[0m             \u001b[1;32mif\u001b[0m \u001b[0mmissing\u001b[0m \u001b[1;33m==\u001b[0m \u001b[0mlen\u001b[0m\u001b[1;33m(\u001b[0m\u001b[0mindexer\u001b[0m\u001b[1;33m)\u001b[0m\u001b[1;33m:\u001b[0m\u001b[1;33m\u001b[0m\u001b[1;33m\u001b[0m\u001b[0m\n\u001b[0;32m   1307\u001b[0m                 \u001b[0maxis_name\u001b[0m \u001b[1;33m=\u001b[0m \u001b[0mself\u001b[0m\u001b[1;33m.\u001b[0m\u001b[0mobj\u001b[0m\u001b[1;33m.\u001b[0m\u001b[0m_get_axis_name\u001b[0m\u001b[1;33m(\u001b[0m\u001b[0maxis\u001b[0m\u001b[1;33m)\u001b[0m\u001b[1;33m\u001b[0m\u001b[1;33m\u001b[0m\u001b[0m\n\u001b[1;32m-> 1308\u001b[1;33m                 \u001b[1;32mraise\u001b[0m \u001b[0mKeyError\u001b[0m\u001b[1;33m(\u001b[0m\u001b[1;34mf\"None of [{key}] are in the [{axis_name}]\"\u001b[0m\u001b[1;33m)\u001b[0m\u001b[1;33m\u001b[0m\u001b[1;33m\u001b[0m\u001b[0m\n\u001b[0m\u001b[0;32m   1309\u001b[0m \u001b[1;33m\u001b[0m\u001b[0m\n\u001b[0;32m   1310\u001b[0m             \u001b[0max\u001b[0m \u001b[1;33m=\u001b[0m \u001b[0mself\u001b[0m\u001b[1;33m.\u001b[0m\u001b[0mobj\u001b[0m\u001b[1;33m.\u001b[0m\u001b[0m_get_axis\u001b[0m\u001b[1;33m(\u001b[0m\u001b[0maxis\u001b[0m\u001b[1;33m)\u001b[0m\u001b[1;33m\u001b[0m\u001b[1;33m\u001b[0m\u001b[0m\n",
      "\u001b[1;31mKeyError\u001b[0m: \"None of [Int64Index([133,  43,  11,  49,  41, 106,  36, 157,  90, 126,\\n            ...\\n             98,  35,  93,  53, 117,   7,   1,  78,  89,   0],\\n           dtype='int64', length=159)] are in the [columns]\""
     ]
    }
   ],
   "source": [
    "lr = 0.05\n",
    "n_iter = 50\n",
    "theta = np.random.randn(2,5)\n",
    "print(theta)\n",
    "theta,cost_history = minibatch_gradient_descent(X,y,theta,lr,n_iter)\n",
    "print('Theta0:          {:0.3f},\\nTheta1:          {:0.3f}'.format(theta[0][0],theta[1][0]))\n",
    "print('Final cost/MSE:  {:0.3f}'.format(cost_history[-1]))"
   ]
  },
  {
   "cell_type": "code",
   "execution_count": 154,
   "id": "917c879a",
   "metadata": {},
   "outputs": [
    {
     "ename": "NameError",
     "evalue": "name 'cost_history' is not defined",
     "output_type": "error",
     "traceback": [
      "\u001b[1;31m---------------------------------------------------------------------------\u001b[0m",
      "\u001b[1;31mNameError\u001b[0m                                 Traceback (most recent call last)",
      "\u001b[1;32m<ipython-input-154-cc4b1fd75f3d>\u001b[0m in \u001b[0;36m<module>\u001b[1;34m\u001b[0m\n\u001b[0;32m      3\u001b[0m \u001b[0max\u001b[0m\u001b[1;33m.\u001b[0m\u001b[0mset_xlabel\u001b[0m\u001b[1;33m(\u001b[0m\u001b[1;34m\"{Iterations}\"\u001b[0m\u001b[1;33m)\u001b[0m\u001b[1;33m\u001b[0m\u001b[1;33m\u001b[0m\u001b[0m\n\u001b[0;32m      4\u001b[0m \u001b[0mtheta\u001b[0m \u001b[1;33m=\u001b[0m \u001b[0mnp\u001b[0m\u001b[1;33m.\u001b[0m\u001b[0mrandom\u001b[0m\u001b[1;33m.\u001b[0m\u001b[0mrandn\u001b[0m\u001b[1;33m(\u001b[0m\u001b[1;36m2\u001b[0m\u001b[1;33m,\u001b[0m \u001b[1;36m1\u001b[0m\u001b[1;33m)\u001b[0m\u001b[1;33m\u001b[0m\u001b[1;33m\u001b[0m\u001b[0m\n\u001b[1;32m----> 5\u001b[1;33m \u001b[0m_\u001b[0m \u001b[1;33m=\u001b[0m \u001b[0max\u001b[0m\u001b[1;33m.\u001b[0m\u001b[0mplot\u001b[0m\u001b[1;33m(\u001b[0m\u001b[0mrange\u001b[0m\u001b[1;33m(\u001b[0m\u001b[0mn_iter\u001b[0m\u001b[1;33m)\u001b[0m\u001b[1;33m,\u001b[0m \u001b[0mcost_history\u001b[0m\u001b[1;33m,\u001b[0m \u001b[1;34m\"b.\"\u001b[0m\u001b[1;33m)\u001b[0m\u001b[1;33m\u001b[0m\u001b[1;33m\u001b[0m\u001b[0m\n\u001b[0m",
      "\u001b[1;31mNameError\u001b[0m: name 'cost_history' is not defined"
     ]
    },
    {
     "data": {
      "image/png": "[encoded data removed]",
      "text/plain": [
       "<Figure size 720x576 with 1 Axes>"
      ]
     },
     "metadata": {},
     "output_type": "display_data"
    }
   ],
   "source": [
    "fig, ax = plt.subplots(figsize=(10, 8))\n",
    "ax.set_ylabel(\"{J(Theta)}\", rotation=0)\n",
    "ax.set_xlabel(\"{Iterations}\")\n",
    "theta = np.random.randn(2, 1)\n",
    "_ = ax.plot(range(n_iter), cost_history, \"b.\")"
   ]
  },
  {
   "cell_type": "code",
   "execution_count": 155,
   "id": "3f0d96bc",
   "metadata": {},
   "outputs": [
    {
     "ename": "NameError",
     "evalue": "name 'cost_history' is not defined",
     "output_type": "error",
     "traceback": [
      "\u001b[1;31m---------------------------------------------------------------------------\u001b[0m",
      "\u001b[1;31mNameError\u001b[0m                                 Traceback (most recent call last)",
      "\u001b[1;32m<ipython-input-155-086b726ddb2e>\u001b[0m in \u001b[0;36m<module>\u001b[1;34m\u001b[0m\n\u001b[0;32m      1\u001b[0m \u001b[0mfig\u001b[0m\u001b[1;33m,\u001b[0m\u001b[0max\u001b[0m \u001b[1;33m=\u001b[0m \u001b[0mplt\u001b[0m\u001b[1;33m.\u001b[0m\u001b[0msubplots\u001b[0m\u001b[1;33m(\u001b[0m\u001b[0mfigsize\u001b[0m\u001b[1;33m=\u001b[0m\u001b[1;33m(\u001b[0m\u001b[1;36m10\u001b[0m\u001b[1;33m,\u001b[0m\u001b[1;36m8\u001b[0m\u001b[1;33m)\u001b[0m\u001b[1;33m)\u001b[0m\u001b[1;33m\u001b[0m\u001b[1;33m\u001b[0m\u001b[0m\n\u001b[1;32m----> 2\u001b[1;33m \u001b[0m_\u001b[0m\u001b[1;33m=\u001b[0m\u001b[0max\u001b[0m\u001b[1;33m.\u001b[0m\u001b[0mplot\u001b[0m\u001b[1;33m(\u001b[0m\u001b[0mrange\u001b[0m\u001b[1;33m(\u001b[0m\u001b[1;36m100\u001b[0m\u001b[1;33m)\u001b[0m\u001b[1;33m,\u001b[0m\u001b[0mcost_history\u001b[0m\u001b[1;33m[\u001b[0m\u001b[1;33m:\u001b[0m\u001b[1;36m100\u001b[0m\u001b[1;33m]\u001b[0m\u001b[1;33m,\u001b[0m\u001b[1;34m'b.'\u001b[0m\u001b[1;33m)\u001b[0m\u001b[1;33m\u001b[0m\u001b[1;33m\u001b[0m\u001b[0m\n\u001b[0m",
      "\u001b[1;31mNameError\u001b[0m: name 'cost_history' is not defined"
     ]
    },
    {
     "data": {
      "image/png": "[encoded data removed]",
      "text/plain": [
       "<Figure size 720x576 with 1 Axes>"
      ]
     },
     "metadata": {},
     "output_type": "display_data"
    }
   ],
   "source": [
    "fig,ax = plt.subplots(figsize=(10,8))\n",
    "_=ax.plot(range(100),cost_history[:100],'b.')"
   ]
  },
  {
   "cell_type": "code",
   "execution_count": null,
   "id": "8ba06125",
   "metadata": {},
   "outputs": [],
   "source": []
  },
  {
   "cell_type": "markdown",
   "id": "90c7beee",
   "metadata": {},
   "source": [
    "## Stochastic Gradient Descent :"
   ]
  },
  {
   "cell_type": "code",
   "execution_count": 116,
   "id": "5fc33574",
   "metadata": {},
   "outputs": [],
   "source": [
    "# Imported necessary libraries\n",
    "from sklearn.model_selection import train_test_split\n",
    "import pandas as pd\n",
    "import numpy as np\n",
    "\n",
    "\n",
    "# Data loaded \n",
    "dataset = df"
   ]
  },
  {
   "cell_type": "code",
   "execution_count": 117,
   "id": "582db874",
   "metadata": {},
   "outputs": [
    {
     "data": {
      "text/plain": [
       "(159, 6)"
      ]
     },
     "execution_count": 117,
     "metadata": {},
     "output_type": "execute_result"
    }
   ],
   "source": [
    "# Data shape\n",
    "dataset.shape\n"
   ]
  },
  {
   "cell_type": "code",
   "execution_count": 118,
   "id": "ca4ee2bc",
   "metadata": {},
   "outputs": [
    {
     "data": {
      "text/plain": [
       "Index(['Cost', 'Weight', 'Weight1', 'Length', 'Height', 'Width'], dtype='object')"
      ]
     },
     "execution_count": 118,
     "metadata": {},
     "output_type": "execute_result"
    }
   ],
   "source": [
    "# Feature name\n",
    "dataset.columns\n"
   ]
  },
  {
   "cell_type": "code",
   "execution_count": 119,
   "id": "ce30e9f9",
   "metadata": {},
   "outputs": [
    {
     "data": {
      "text/plain": [
       "(159, 6)"
      ]
     },
     "execution_count": 119,
     "metadata": {},
     "output_type": "execute_result"
    }
   ],
   "source": [
    "# This is y value i.e. target\n",
    "dataset.shape\n"
   ]
  },
  {
   "cell_type": "code",
   "execution_count": 120,
   "id": "bc9eeb5f",
   "metadata": {},
   "outputs": [
    {
     "data": {
      "text/html": [
       "<div>\n",
       "<style scoped>\n",
       "    .dataframe tbody tr th:only-of-type {\n",
       "        vertical-align: middle;\n",
       "    }\n",
       "\n",
       "    .dataframe tbody tr th {\n",
       "        vertical-align: top;\n",
       "    }\n",
       "\n",
       "    .dataframe thead th {\n",
       "        text-align: right;\n",
       "    }\n",
       "</style>\n",
       "<table border=\"1\" class=\"dataframe\">\n",
       "  <thead>\n",
       "    <tr style=\"text-align: right;\">\n",
       "      <th></th>\n",
       "      <th>Cost</th>\n",
       "      <th>Weight</th>\n",
       "      <th>Weight1</th>\n",
       "      <th>Length</th>\n",
       "      <th>Height</th>\n",
       "      <th>Width</th>\n",
       "    </tr>\n",
       "  </thead>\n",
       "  <tbody>\n",
       "    <tr>\n",
       "      <th>0</th>\n",
       "      <td>242.0</td>\n",
       "      <td>23.2</td>\n",
       "      <td>25.4</td>\n",
       "      <td>30.0</td>\n",
       "      <td>11.5200</td>\n",
       "      <td>4.0200</td>\n",
       "    </tr>\n",
       "    <tr>\n",
       "      <th>1</th>\n",
       "      <td>290.0</td>\n",
       "      <td>24.0</td>\n",
       "      <td>26.3</td>\n",
       "      <td>31.2</td>\n",
       "      <td>12.4800</td>\n",
       "      <td>4.3056</td>\n",
       "    </tr>\n",
       "    <tr>\n",
       "      <th>2</th>\n",
       "      <td>340.0</td>\n",
       "      <td>23.9</td>\n",
       "      <td>26.5</td>\n",
       "      <td>31.1</td>\n",
       "      <td>12.3778</td>\n",
       "      <td>4.6961</td>\n",
       "    </tr>\n",
       "    <tr>\n",
       "      <th>3</th>\n",
       "      <td>363.0</td>\n",
       "      <td>26.3</td>\n",
       "      <td>29.0</td>\n",
       "      <td>33.5</td>\n",
       "      <td>12.7300</td>\n",
       "      <td>4.4555</td>\n",
       "    </tr>\n",
       "    <tr>\n",
       "      <th>4</th>\n",
       "      <td>430.0</td>\n",
       "      <td>26.5</td>\n",
       "      <td>29.0</td>\n",
       "      <td>34.0</td>\n",
       "      <td>12.4440</td>\n",
       "      <td>5.1340</td>\n",
       "    </tr>\n",
       "  </tbody>\n",
       "</table>\n",
       "</div>"
      ],
      "text/plain": [
       "    Cost  Weight  Weight1  Length   Height   Width\n",
       "0  242.0    23.2     25.4    30.0  11.5200  4.0200\n",
       "1  290.0    24.0     26.3    31.2  12.4800  4.3056\n",
       "2  340.0    23.9     26.5    31.1  12.3778  4.6961\n",
       "3  363.0    26.3     29.0    33.5  12.7300  4.4555\n",
       "4  430.0    26.5     29.0    34.0  12.4440  5.1340"
      ]
     },
     "execution_count": 120,
     "metadata": {},
     "output_type": "execute_result"
    }
   ],
   "source": [
    "# Convert it into pandas dataframe\n",
    "data = pd.DataFrame(dataset, columns = dataset.columns)\n",
    "data.head()"
   ]
  },
  {
   "cell_type": "code",
   "execution_count": 121,
   "id": "4f4bd844",
   "metadata": {},
   "outputs": [
    {
     "data": {
      "text/html": [
       "<div>\n",
       "<style scoped>\n",
       "    .dataframe tbody tr th:only-of-type {\n",
       "        vertical-align: middle;\n",
       "    }\n",
       "\n",
       "    .dataframe tbody tr th {\n",
       "        vertical-align: top;\n",
       "    }\n",
       "\n",
       "    .dataframe thead th {\n",
       "        text-align: right;\n",
       "    }\n",
       "</style>\n",
       "<table border=\"1\" class=\"dataframe\">\n",
       "  <thead>\n",
       "    <tr style=\"text-align: right;\">\n",
       "      <th></th>\n",
       "      <th>Cost</th>\n",
       "      <th>Weight</th>\n",
       "      <th>Weight1</th>\n",
       "      <th>Length</th>\n",
       "      <th>Height</th>\n",
       "      <th>Width</th>\n",
       "    </tr>\n",
       "  </thead>\n",
       "  <tbody>\n",
       "    <tr>\n",
       "      <th>count</th>\n",
       "      <td>159.000000</td>\n",
       "      <td>159.000000</td>\n",
       "      <td>159.000000</td>\n",
       "      <td>159.000000</td>\n",
       "      <td>159.000000</td>\n",
       "      <td>159.000000</td>\n",
       "    </tr>\n",
       "    <tr>\n",
       "      <th>mean</th>\n",
       "      <td>400.847468</td>\n",
       "      <td>26.259873</td>\n",
       "      <td>28.415723</td>\n",
       "      <td>31.239241</td>\n",
       "      <td>8.933124</td>\n",
       "      <td>4.422621</td>\n",
       "    </tr>\n",
       "    <tr>\n",
       "      <th>std</th>\n",
       "      <td>356.564044</td>\n",
       "      <td>9.989113</td>\n",
       "      <td>10.716328</td>\n",
       "      <td>11.609227</td>\n",
       "      <td>4.259525</td>\n",
       "      <td>1.662228</td>\n",
       "    </tr>\n",
       "    <tr>\n",
       "      <th>min</th>\n",
       "      <td>5.900000</td>\n",
       "      <td>7.500000</td>\n",
       "      <td>8.400000</td>\n",
       "      <td>8.800000</td>\n",
       "      <td>1.728400</td>\n",
       "      <td>1.047600</td>\n",
       "    </tr>\n",
       "    <tr>\n",
       "      <th>25%</th>\n",
       "      <td>122.500000</td>\n",
       "      <td>19.050000</td>\n",
       "      <td>21.000000</td>\n",
       "      <td>23.150000</td>\n",
       "      <td>5.944800</td>\n",
       "      <td>3.401600</td>\n",
       "    </tr>\n",
       "    <tr>\n",
       "      <th>50%</th>\n",
       "      <td>290.000000</td>\n",
       "      <td>25.400000</td>\n",
       "      <td>27.300000</td>\n",
       "      <td>30.000000</td>\n",
       "      <td>7.786000</td>\n",
       "      <td>4.305600</td>\n",
       "    </tr>\n",
       "    <tr>\n",
       "      <th>75%</th>\n",
       "      <td>650.000000</td>\n",
       "      <td>32.700000</td>\n",
       "      <td>35.500000</td>\n",
       "      <td>39.650000</td>\n",
       "      <td>12.143400</td>\n",
       "      <td>5.574750</td>\n",
       "    </tr>\n",
       "    <tr>\n",
       "      <th>max</th>\n",
       "      <td>1650.000000</td>\n",
       "      <td>59.000000</td>\n",
       "      <td>63.400000</td>\n",
       "      <td>68.000000</td>\n",
       "      <td>18.957000</td>\n",
       "      <td>8.142000</td>\n",
       "    </tr>\n",
       "  </tbody>\n",
       "</table>\n",
       "</div>"
      ],
      "text/plain": [
       "              Cost      Weight     Weight1      Length      Height       Width\n",
       "count   159.000000  159.000000  159.000000  159.000000  159.000000  159.000000\n",
       "mean    400.847468   26.259873   28.415723   31.239241    8.933124    4.422621\n",
       "std     356.564044    9.989113   10.716328   11.609227    4.259525    1.662228\n",
       "min       5.900000    7.500000    8.400000    8.800000    1.728400    1.047600\n",
       "25%     122.500000   19.050000   21.000000   23.150000    5.944800    3.401600\n",
       "50%     290.000000   25.400000   27.300000   30.000000    7.786000    4.305600\n",
       "75%     650.000000   32.700000   35.500000   39.650000   12.143400    5.574750\n",
       "max    1650.000000   59.000000   63.400000   68.000000   18.957000    8.142000"
      ]
     },
     "execution_count": 121,
     "metadata": {},
     "output_type": "execute_result"
    }
   ],
   "source": [
    "dataset.describe()"
   ]
  },
  {
   "cell_type": "code",
   "execution_count": 122,
   "id": "bd0b4f26",
   "metadata": {},
   "outputs": [
    {
     "data": {
      "text/html": [
       "<div>\n",
       "<style scoped>\n",
       "    .dataframe tbody tr th:only-of-type {\n",
       "        vertical-align: middle;\n",
       "    }\n",
       "\n",
       "    .dataframe tbody tr th {\n",
       "        vertical-align: top;\n",
       "    }\n",
       "\n",
       "    .dataframe thead th {\n",
       "        text-align: right;\n",
       "    }\n",
       "</style>\n",
       "<table border=\"1\" class=\"dataframe\">\n",
       "  <thead>\n",
       "    <tr style=\"text-align: right;\">\n",
       "      <th></th>\n",
       "      <th>Cost</th>\n",
       "      <th>Weight</th>\n",
       "      <th>Weight1</th>\n",
       "      <th>Length</th>\n",
       "      <th>Height</th>\n",
       "      <th>Width</th>\n",
       "    </tr>\n",
       "  </thead>\n",
       "  <tbody>\n",
       "    <tr>\n",
       "      <th>0</th>\n",
       "      <td>-0.445495</td>\n",
       "      <td>-0.306321</td>\n",
       "      <td>-0.281414</td>\n",
       "      <td>-0.106746</td>\n",
       "      <td>0.607316</td>\n",
       "      <td>-0.242217</td>\n",
       "    </tr>\n",
       "    <tr>\n",
       "      <th>1</th>\n",
       "      <td>-0.310877</td>\n",
       "      <td>-0.226234</td>\n",
       "      <td>-0.197430</td>\n",
       "      <td>-0.003380</td>\n",
       "      <td>0.832693</td>\n",
       "      <td>-0.070400</td>\n",
       "    </tr>\n",
       "    <tr>\n",
       "      <th>2</th>\n",
       "      <td>-0.170649</td>\n",
       "      <td>-0.236244</td>\n",
       "      <td>-0.178767</td>\n",
       "      <td>-0.011994</td>\n",
       "      <td>0.808700</td>\n",
       "      <td>0.164526</td>\n",
       "    </tr>\n",
       "    <tr>\n",
       "      <th>3</th>\n",
       "      <td>-0.106145</td>\n",
       "      <td>0.004017</td>\n",
       "      <td>0.054522</td>\n",
       "      <td>0.194738</td>\n",
       "      <td>0.891385</td>\n",
       "      <td>0.019780</td>\n",
       "    </tr>\n",
       "    <tr>\n",
       "      <th>4</th>\n",
       "      <td>0.081760</td>\n",
       "      <td>0.024039</td>\n",
       "      <td>0.054522</td>\n",
       "      <td>0.237807</td>\n",
       "      <td>0.824241</td>\n",
       "      <td>0.427967</td>\n",
       "    </tr>\n",
       "  </tbody>\n",
       "</table>\n",
       "</div>"
      ],
      "text/plain": [
       "       Cost    Weight   Weight1    Length    Height     Width\n",
       "0 -0.445495 -0.306321 -0.281414 -0.106746  0.607316 -0.242217\n",
       "1 -0.310877 -0.226234 -0.197430 -0.003380  0.832693 -0.070400\n",
       "2 -0.170649 -0.236244 -0.178767 -0.011994  0.808700  0.164526\n",
       "3 -0.106145  0.004017  0.054522  0.194738  0.891385  0.019780\n",
       "4  0.081760  0.024039  0.054522  0.237807  0.824241  0.427967"
      ]
     },
     "execution_count": 122,
     "metadata": {},
     "output_type": "execute_result"
    }
   ],
   "source": [
    "#standardize for fast convergence to minima\n",
    "data = (data - data.mean())/data.std()\n",
    "'''\n",
    "data[1] = (data[1] - data[1].mean())/data[1].std()\n",
    "data[2] = (data[2] - data[2].mean())/data[2].std()\n",
    "data[3] = (data[3] - data[3].mean())/data[3].std()\n",
    "data[4] = (data[4] - data[4].mean())/data[4].std()\n",
    "data[5] = (data[5] - data[5].mean())/data[5].std()\n",
    "'''\n",
    "data.head()"
   ]
  },
  {
   "cell_type": "code",
   "execution_count": 123,
   "id": "8da8451d",
   "metadata": {},
   "outputs": [
    {
     "data": {
      "text/html": [
       "<div>\n",
       "<style scoped>\n",
       "    .dataframe tbody tr th:only-of-type {\n",
       "        vertical-align: middle;\n",
       "    }\n",
       "\n",
       "    .dataframe tbody tr th {\n",
       "        vertical-align: top;\n",
       "    }\n",
       "\n",
       "    .dataframe thead th {\n",
       "        text-align: right;\n",
       "    }\n",
       "</style>\n",
       "<table border=\"1\" class=\"dataframe\">\n",
       "  <thead>\n",
       "    <tr style=\"text-align: right;\">\n",
       "      <th></th>\n",
       "      <th>Cost</th>\n",
       "      <th>Weight</th>\n",
       "      <th>Weight1</th>\n",
       "      <th>Length</th>\n",
       "      <th>Height</th>\n",
       "      <th>Width</th>\n",
       "      <th>COST</th>\n",
       "    </tr>\n",
       "  </thead>\n",
       "  <tbody>\n",
       "    <tr>\n",
       "      <th>0</th>\n",
       "      <td>-0.445495</td>\n",
       "      <td>-0.306321</td>\n",
       "      <td>-0.281414</td>\n",
       "      <td>-0.106746</td>\n",
       "      <td>0.607316</td>\n",
       "      <td>-0.242217</td>\n",
       "      <td>242.0</td>\n",
       "    </tr>\n",
       "    <tr>\n",
       "      <th>1</th>\n",
       "      <td>-0.310877</td>\n",
       "      <td>-0.226234</td>\n",
       "      <td>-0.197430</td>\n",
       "      <td>-0.003380</td>\n",
       "      <td>0.832693</td>\n",
       "      <td>-0.070400</td>\n",
       "      <td>290.0</td>\n",
       "    </tr>\n",
       "    <tr>\n",
       "      <th>2</th>\n",
       "      <td>-0.170649</td>\n",
       "      <td>-0.236244</td>\n",
       "      <td>-0.178767</td>\n",
       "      <td>-0.011994</td>\n",
       "      <td>0.808700</td>\n",
       "      <td>0.164526</td>\n",
       "      <td>340.0</td>\n",
       "    </tr>\n",
       "    <tr>\n",
       "      <th>3</th>\n",
       "      <td>-0.106145</td>\n",
       "      <td>0.004017</td>\n",
       "      <td>0.054522</td>\n",
       "      <td>0.194738</td>\n",
       "      <td>0.891385</td>\n",
       "      <td>0.019780</td>\n",
       "      <td>363.0</td>\n",
       "    </tr>\n",
       "    <tr>\n",
       "      <th>4</th>\n",
       "      <td>0.081760</td>\n",
       "      <td>0.024039</td>\n",
       "      <td>0.054522</td>\n",
       "      <td>0.237807</td>\n",
       "      <td>0.824241</td>\n",
       "      <td>0.427967</td>\n",
       "      <td>430.0</td>\n",
       "    </tr>\n",
       "  </tbody>\n",
       "</table>\n",
       "</div>"
      ],
      "text/plain": [
       "       Cost    Weight   Weight1    Length    Height     Width   COST\n",
       "0 -0.445495 -0.306321 -0.281414 -0.106746  0.607316 -0.242217  242.0\n",
       "1 -0.310877 -0.226234 -0.197430 -0.003380  0.832693 -0.070400  290.0\n",
       "2 -0.170649 -0.236244 -0.178767 -0.011994  0.808700  0.164526  340.0\n",
       "3 -0.106145  0.004017  0.054522  0.194738  0.891385  0.019780  363.0\n",
       "4  0.081760  0.024039  0.054522  0.237807  0.824241  0.427967  430.0"
      ]
     },
     "execution_count": 123,
     "metadata": {},
     "output_type": "execute_result"
    }
   ],
   "source": [
    "# MEDV(median value is usually target), change it to price\n",
    "data[\"COST\"] = dataset['Cost']\n",
    "data.head()"
   ]
  },
  {
   "cell_type": "code",
   "execution_count": 124,
   "id": "62d8de92",
   "metadata": {},
   "outputs": [],
   "source": [
    "# Target and features\n",
    "Y = data[\"COST\"]\n",
    "X = data.drop(\"COST\", axis = 1)"
   ]
  },
  {
   "cell_type": "code",
   "execution_count": 125,
   "id": "8c1ab7a2",
   "metadata": {},
   "outputs": [
    {
     "name": "stdout",
     "output_type": "stream",
     "text": [
      "Coefficients: \n",
      " [81.29490224 82.00729228 73.14080011 47.88485245 70.62117228]\n",
      "Y_intercept [407.61434424]\n"
     ]
    }
   ],
   "source": [
    "from sklearn.linear_model import SGDRegressor\n",
    "from sklearn.metrics import mean_squared_error, r2_score\n",
    "clf = SGDRegressor()\n",
    "clf.fit(X_train, Y_train)\n",
    "Y_pred = clf.predict(X_test)\n",
    "\n",
    "print(\"Coefficients: \\n\", clf.coef_)\n",
    "print(\"Y_intercept\", clf.intercept_)"
   ]
  },
  {
   "cell_type": "code",
   "execution_count": 126,
   "id": "31af476e",
   "metadata": {},
   "outputs": [],
   "source": [
    "# Standardization\n",
    "\n",
    "from sklearn.preprocessing import StandardScaler\n",
    "std = StandardScaler()\n",
    "X_train = std.fit_transform(X_train)\n",
    "X_test = std.fit_transform(X_test)"
   ]
  },
  {
   "cell_type": "code",
   "execution_count": 127,
   "id": "67084e1e",
   "metadata": {},
   "outputs": [
    {
     "name": "stdout",
     "output_type": "stream",
     "text": [
      "(143, 6) (16, 6) (143,) (16,)\n"
     ]
    }
   ],
   "source": [
    "from sklearn.model_selection import train_test_split\n",
    "x_train, x_test, y_train, y_test = train_test_split(X, Y, test_size = 0.1)\n",
    "print(x_train.shape, x_test.shape, y_train.shape, y_test.shape)"
   ]
  },
  {
   "cell_type": "code",
   "execution_count": 128,
   "id": "2ae7d86e",
   "metadata": {},
   "outputs": [
    {
     "name": "stderr",
     "output_type": "stream",
     "text": [
      "<ipython-input-128-3b1519c83846>:1: SettingWithCopyWarning: \n",
      "A value is trying to be set on a copy of a slice from a DataFrame.\n",
      "Try using .loc[row_indexer,col_indexer] = value instead\n",
      "\n",
      "See the caveats in the documentation: https://pandas.pydata.org/pandas-docs/stable/user_guide/indexing.html#returning-a-view-versus-a-copy\n",
      "  x_train[\"COST\"] = y_train\n"
     ]
    }
   ],
   "source": [
    "x_train[\"COST\"] = y_train\n",
    "#x_test[\"PRICE\"] = y_test"
   ]
  },
  {
   "cell_type": "code",
   "execution_count": 129,
   "id": "ff10f1a1",
   "metadata": {},
   "outputs": [],
   "source": [
    "def cost_function(b, m, features, target):\n",
    "    totalError = 0\n",
    "    for i in range(0, len(features)):\n",
    "        x = features\n",
    "        y = target\n",
    "        totalError += (y[:,i] - (np.dot(x[i] , m) + b)) ** 2\n",
    "    return totalError / len(x)"
   ]
  },
  {
   "cell_type": "code",
   "execution_count": 130,
   "id": "277948be",
   "metadata": {},
   "outputs": [],
   "source": [
    "# The total sum of squares (proportional to the variance of the data)i.e. ss_tot \n",
    "# The sum of squares of residuals, also called the residual sum of squares i.e. ss_res \n",
    "# the coefficient of determination i.e. r^2(r squared)\n",
    "def r_sq_score(b, m, features, target):\n",
    "    for i in range(0, len(features)):\n",
    "        x = features\n",
    "        y = target\n",
    "        mean_y = np.mean(y)\n",
    "        ss_tot = sum((y[:,i] - mean_y) ** 2)\n",
    "        ss_res = sum(((y[:,i]) - (np.dot(x[i], m) + b)) ** 2)\n",
    "        r2 = 1 - (ss_res / ss_tot)\n",
    "    return r2"
   ]
  },
  {
   "cell_type": "code",
   "execution_count": 131,
   "id": "f27a06ea",
   "metadata": {},
   "outputs": [],
   "source": [
    "def gradient_decent(w0, b0, train_data, x_test, y_test, learning_rate):\n",
    "    n_iter = 500\n",
    "    partial_deriv_m = 0\n",
    "    partial_deriv_b = 0\n",
    "    cost_train = []\n",
    "    cost_test = []\n",
    "    for j in range(1, n_iter):\n",
    "        \n",
    "        # Train sample\n",
    "        train_sample = train_data.sample(55)\n",
    "        y = np.asmatrix(train_sample[\"COST\"])\n",
    "        x = np.asmatrix(train_sample.drop(\"COST\", axis = 1))\n",
    "        for i in range(len(x)):\n",
    "            partial_deriv_m += np.dot(-2*x[i].T , (y[:,i] - np.dot(x[i] , w0) + b0))\n",
    "            partial_deriv_b += -2*(y[:,i] - (np.dot(x[i] , w0) + b0))\n",
    "        \n",
    "        w1 = w0 - learning_rate * partial_deriv_m \n",
    "        b1 = b0 - learning_rate * partial_deriv_b\n",
    "        \n",
    "        if (w0==w1).all():\n",
    "            #print(\"W0 are\\n\", w0)\n",
    "            #print(\"\\nW1 are\\n\", w1)\n",
    "            #print(\"\\n X are\\n\", x)\n",
    "            #print(\"\\n y are\\n\", y)\n",
    "            break\n",
    "        else:\n",
    "            w0 = w1\n",
    "            b0 = b1\n",
    "            learning_rate = learning_rate/2\n",
    "       \n",
    "            \n",
    "        error_train = cost_function(b0, w0, x, y)\n",
    "        cost_train.append(error_train)\n",
    "        error_test = cost_function(b0, w0, np.asmatrix(x_test), np.asmatrix(y_test))\n",
    "        cost_test.append(error_test)\n",
    "        \n",
    "        #print(\"After {0} iteration error = {1}\".format(j, error_train))\n",
    "        #print(\"After {0} iteration error = {1}\".format(j, error_test))\n",
    "        \n",
    "    return w0, b0, cost_train, cost_test"
   ]
  },
  {
   "cell_type": "code",
   "execution_count": 132,
   "id": "2f890520",
   "metadata": {},
   "outputs": [
    {
     "name": "stdout",
     "output_type": "stream",
     "text": [
      "Coefficient: [[81.92692986]\n",
      " [69.83191027]\n",
      " [70.10381768]\n",
      " [70.59290469]\n",
      " [63.04222291]\n",
      " [68.09459951]] \n",
      " y_intercept: [[150.44767273]]\n"
     ]
    },
    {
     "data": {
      "image/png": "[encoded data removed]",
      "text/plain": [
       "<Figure size 432x288 with 1 Axes>"
      ]
     },
     "metadata": {
      "needs_background": "light"
     },
     "output_type": "display_data"
    }
   ],
   "source": [
    "# Run our model\n",
    "learning_rate = 0.001\n",
    "w0_random = np.random.rand(6)\n",
    "w0 = np.asmatrix(w0_random).T\n",
    "b0 = np.random.rand()\n",
    "\n",
    "optimal_w, optimal_b, cost_train, cost_test = gradient_decent(w0, b0, x_train, x_test, y_test, learning_rate)\n",
    "print(\"Coefficient: {} \\n y_intercept: {}\".format(optimal_w, optimal_b))\n",
    "\n",
    "# Plot train and test error in each iteration\n",
    "plt.figure()\n",
    "plt.plot(range(len(cost_train)), np.reshape(cost_train,[len(cost_train), 1]), label = \"Train Cost\")\n",
    "plt.plot(range(len(cost_test)), np.reshape(cost_test, [len(cost_test), 1]), label = \"Test Cost\")\n",
    "plt.title(\"Cost/loss per iteration\")\n",
    "plt.xlabel(\"Number of iterations\")\n",
    "plt.ylabel(\"Cost/Loss\")\n",
    "plt.legend()\n",
    "plt.show()"
   ]
  },
  {
   "cell_type": "code",
   "execution_count": 133,
   "id": "54fcde83",
   "metadata": {},
   "outputs": [
    {
     "data": {
      "image/png": "[encoded data removed]",
      "text/plain": [
       "<Figure size 432x288 with 1 Axes>"
      ]
     },
     "metadata": {
      "needs_background": "light"
     },
     "output_type": "display_data"
    },
    {
     "data": {
      "image/png": "[encoded data removed]",
      "text/plain": [
       "<Figure size 432x288 with 1 Axes>"
      ]
     },
     "metadata": {
      "needs_background": "light"
     },
     "output_type": "display_data"
    }
   ],
   "source": [
    "# Scatter plot of test vs predicted\n",
    "# sklearn SGD\n",
    "plt.figure(1)\n",
    "plt.subplot(211)\n",
    "plt.scatter(Y_test, Y_pred)\n",
    "plt.xlabel(\"Prices: $Y_i$\")\n",
    "plt.ylabel(\"Predicted prices: $\\hat{Y}_i$\")\n",
    "plt.title(\"Prices vs Predicted prices: Sklearn SGD\")\n",
    "plt.show()\n",
    "\n",
    "# Implemented SGD\n",
    "plt.subplot(212)\n",
    "plt.scatter([y_test], [(np.dot(np.asmatrix(x_test), optimal_w) + optimal_b)])\n",
    "plt.xlabel(\"Prices: $Y_i$\")\n",
    "plt.ylabel(\"Predicted prices: $\\hat{Y}_i$\")\n",
    "plt.title(\"Prices vs Predicted prices: Implemented SGD\")\n",
    "plt.show()"
   ]
  },
  {
   "cell_type": "code",
   "execution_count": 134,
   "id": "a7734f9f",
   "metadata": {},
   "outputs": [
    {
     "name": "stderr",
     "output_type": "stream",
     "text": [
      "C:\\Users\\niranjans3ln\\anaconda3\\lib\\site-packages\\seaborn\\distributions.py:1657: FutureWarning: The `bw` parameter is deprecated in favor of `bw_method` and `bw_adjust`. Using 0.5 for `bw_method`, but please see the docs for the new parameters and update your code.\n",
      "  warnings.warn(msg, FutureWarning)\n",
      "C:\\Users\\niranjans3ln\\anaconda3\\lib\\site-packages\\seaborn\\distributions.py:1657: FutureWarning: The `bw` parameter is deprecated in favor of `bw_method` and `bw_adjust`. Using 0.5 for `bw_method`, but please see the docs for the new parameters and update your code.\n",
      "  warnings.warn(msg, FutureWarning)\n"
     ]
    },
    {
     "data": {
      "image/png": "[encoded data removed]",
      "text/plain": [
       "<Figure size 432x288 with 1 Axes>"
      ]
     },
     "metadata": {},
     "output_type": "display_data"
    }
   ],
   "source": [
    "# Distribution of error\n",
    "delta_y_im = np.asmatrix(y_test) - (np.dot(np.asmatrix(x_test), optimal_w) + optimal_b)\n",
    "delta_y_sk = Y_test - Y_pred\n",
    "import seaborn as sns;\n",
    "import numpy as np;\n",
    "sns.set_style('whitegrid')\n",
    "sns.kdeplot(np.asarray(delta_y_im)[0], label = \"Implemented SGD\", bw = 0.5)\n",
    "sns.kdeplot(np.array(delta_y_sk), label = \"Sklearn SGD\", bw = 0.5)\n",
    "plt.title(\"Distribution of error: $y_i$ - $\\hat{y}_i$\")\n",
    "plt.xlabel(\"Error\")\n",
    "plt.ylabel(\"Density\")\n",
    "plt.legend()\n",
    "plt.show()"
   ]
  },
  {
   "cell_type": "code",
   "execution_count": 135,
   "id": "78f24541",
   "metadata": {},
   "outputs": [
    {
     "data": {
      "image/png": "[encoded data removed]",
      "text/plain": [
       "<Figure size 432x288 with 1 Axes>"
      ]
     },
     "metadata": {},
     "output_type": "display_data"
    }
   ],
   "source": [
    "# Distribution of predicted value\n",
    "sns.set_style('whitegrid')\n",
    "sns.kdeplot(np.array(np.dot(np.asmatrix(x_test), optimal_w) + optimal_b).T[0], label = \"Implemented SGD\")\n",
    "sns.kdeplot(Y_pred, label = \"Sklearn SGD\")\n",
    "plt.title(\"Distribution of prediction $\\hat{y}_i$\")\n",
    "plt.xlabel(\"predicted values\")\n",
    "plt.ylabel(\"Density\")\n",
    "plt.show()"
   ]
  },
  {
   "cell_type": "code",
   "execution_count": 136,
   "id": "65814a58",
   "metadata": {},
   "outputs": [
    {
     "name": "stdout",
     "output_type": "stream",
     "text": [
      "Mean Squared Srror (MSE) : 90068.41\n",
      "Root Mean Squared Error (RMSE) :  [[300.11399146]]\n",
      "R Squared Error (Variance Score) : -2.81\n"
     ]
    }
   ],
   "source": [
    "# Implemented SGD\n",
    "# The mean squared error\n",
    "mse = cost_function(optimal_b, optimal_w, np.asmatrix(x_test), np.asmatrix(y_test))\n",
    "print(\"Mean Squared Srror (MSE) : %.2f\" % (mse))\n",
    "\n",
    "rmse = np.sqrt(mse) # or mse**(0.5) \n",
    "print('Root Mean Squared Error (RMSE) : ', rmse)\n",
    "\n",
    "# Explained variance score : 1 is perfect prediction\n",
    "r_squared = r_sq_score(optimal_b, optimal_w, np.asmatrix(x_test), np.asmatrix(y_test))\n",
    "print(\"R Squared Error (Variance Score) : %.2f\" % r_squared)\n"
   ]
  },
  {
   "cell_type": "code",
   "execution_count": null,
   "id": "0e2fff3e",
   "metadata": {},
   "outputs": [],
   "source": []
  },
  {
   "cell_type": "code",
   "execution_count": null,
   "id": "db6bb8eb",
   "metadata": {},
   "outputs": [],
   "source": []
  },
  {
   "cell_type": "code",
   "execution_count": null,
   "id": "893faabd",
   "metadata": {},
   "outputs": [],
   "source": []
  },
  {
   "cell_type": "code",
   "execution_count": null,
   "id": "297e4d1c",
   "metadata": {},
   "outputs": [],
   "source": []
  },
  {
   "cell_type": "code",
   "execution_count": null,
   "id": "556618ef",
   "metadata": {},
   "outputs": [],
   "source": []
  },
  {
   "cell_type": "code",
   "execution_count": null,
   "id": "f70ca160",
   "metadata": {},
   "outputs": [],
   "source": []
  },
  {
   "cell_type": "code",
   "execution_count": null,
   "id": "5f861bba",
   "metadata": {},
   "outputs": [],
   "source": []
  },
  {
   "cell_type": "code",
   "execution_count": null,
   "id": "7f2eb49c",
   "metadata": {},
   "outputs": [],
   "source": []
  },
  {
   "cell_type": "code",
   "execution_count": null,
   "id": "0fd856b8",
   "metadata": {},
   "outputs": [],
   "source": [
    "### SPLITTING THE DATA"
   ]
  },
  {
   "cell_type": "code",
   "execution_count": 84,
   "id": "6e4b88bc",
   "metadata": {},
   "outputs": [
    {
     "name": "stdout",
     "output_type": "stream",
     "text": [
      "Total no of training examples (m) = 159 \n",
      "\n",
      "x = [23.2  25.4  30.   11.52  4.02] , y = 242.0\n",
      "x = [24.     26.3    31.2    12.48    4.3056] , y = 290.0\n",
      "x = [23.9    26.5    31.1    12.3778  4.6961] , y = 340.0\n",
      "x = [26.3    29.     33.5    12.73    4.4555] , y = 363.0\n",
      "x = [26.5   29.    34.    12.444  5.134] , y = 430.0\n",
      "x = [26.8        29.7        34.7        13.6024      4.42262051] , y = 450.0\n"
     ]
    }
   ],
   "source": [
    "vals_X = df.values[:, 1:6]\n",
    "vals_y = df.values[:, 0]\n",
    "\n",
    "m = len(vals_y)\n",
    "\n",
    "print('Total no of training examples (m) = %s \\n' %(m))\n",
    "\n",
    "# Show only first 5 records\n",
    "for i in range(6):\n",
    "    print('x =', vals_X[i, ], ', y =', vals_y[i])"
   ]
  },
  {
   "cell_type": "code",
   "execution_count": 85,
   "id": "4d0fa1e6",
   "metadata": {},
   "outputs": [],
   "source": [
    "def feature_normalize(vals_X):\n",
    "  \"\"\"\n",
    "    Normalizes the features(input variables) in X.\n",
    "\n",
    "    Parameters\n",
    "    ----------\n",
    "    X : n dimensional array (matrix), shape (n_samples, n_features)\n",
    "        Features(input varibale) to be normalized.\n",
    "\n",
    "    Returns\n",
    "    -------\n",
    "    X_norm : n dimensional array (matrix), shape (n_samples, n_features)\n",
    "        A normalized version of X.\n",
    "    mu : n dimensional array (matrix), shape (n_features,)\n",
    "        The mean value.\n",
    "    sigma : n dimensional array (matrix), shape (n_features,)\n",
    "        The standard deviation.\n",
    "  \"\"\"\n",
    "  #Note here we need mean of indivdual column here, hence axis = 0\n",
    "  mu = np.mean(vals_X, axis = 0)  \n",
    "  # Notice the parameter ddof (Delta Degrees of Freedom)  value is 1\n",
    "  sigma = np.std(vals_X, axis= 0, ddof = 1)  # Standard deviation (can also use range)\n",
    "  X_norm = (vals_X - mu)/sigma\n",
    "  return X_norm, mu, sigma"
   ]
  },
  {
   "cell_type": "code",
   "execution_count": 86,
   "id": "d7f96cf8",
   "metadata": {},
   "outputs": [
    {
     "name": "stdout",
     "output_type": "stream",
     "text": [
      "mu=  [26.25987261 28.41572327 31.23924051  8.93312405  4.42262051]\n",
      "sigma=  [ 9.98911344 10.7163281  11.60922721  4.25952487  1.66222815]\n",
      "X_norm=  [[-0.30632074 -0.28141386 -0.10674617  0.60731561 -0.24221736]\n",
      " [-0.22623355 -0.19742987 -0.00338011  0.83269286 -0.07039979]\n",
      " [-0.23624445 -0.17876676 -0.01199395  0.80869958  0.16452584]\n",
      " [ 0.00401711  0.0545221   0.19473816  0.89138485  0.01978037]\n",
      " [ 0.02403891  0.0545221   0.23780734  0.82424121  0.42796742]]\n"
     ]
    }
   ],
   "source": [
    "vals_X, mu, sigma = feature_normalize(vals_X)\n",
    "\n",
    "print('mu= ', mu)\n",
    "print('sigma= ', sigma)\n",
    "print('X_norm= ', vals_X[:5])"
   ]
  },
  {
   "cell_type": "code",
   "execution_count": 87,
   "id": "092e67fc",
   "metadata": {},
   "outputs": [
    {
     "data": {
      "text/plain": [
       "array([-2.17855084e-16, -1.45236723e-16,  2.79301390e-16,  1.34064667e-16,\n",
       "       -3.35161668e-16])"
      ]
     },
     "execution_count": 87,
     "metadata": {},
     "output_type": "execute_result"
    }
   ],
   "source": [
    "mu_testing = np.mean(vals_X, axis = 0) # mean\n",
    "mu_testing"
   ]
  },
  {
   "cell_type": "code",
   "execution_count": 89,
   "id": "0bbd5016",
   "metadata": {},
   "outputs": [
    {
     "data": {
      "text/plain": [
       "array([1., 1., 1., 1., 1.])"
      ]
     },
     "execution_count": 89,
     "metadata": {},
     "output_type": "execute_result"
    }
   ],
   "source": [
    "sigma_testing = np.std(vals_X, axis = 0, ddof = 1) # mean\n",
    "sigma_testing"
   ]
  },
  {
   "cell_type": "code",
   "execution_count": 95,
   "id": "a237ebdf",
   "metadata": {},
   "outputs": [
    {
     "data": {
      "text/plain": [
       "array([[ 1.        ,  1.        , -0.30632074, -0.28141386, -0.10674617,\n",
       "         0.60731561, -0.24221736],\n",
       "       [ 1.        ,  1.        , -0.22623355, -0.19742987, -0.00338011,\n",
       "         0.83269286, -0.07039979],\n",
       "       [ 1.        ,  1.        , -0.23624445, -0.17876676, -0.01199395,\n",
       "         0.80869958,  0.16452584],\n",
       "       [ 1.        ,  1.        ,  0.00401711,  0.0545221 ,  0.19473816,\n",
       "         0.89138485,  0.01978037],\n",
       "       [ 1.        ,  1.        ,  0.02403891,  0.0545221 ,  0.23780734,\n",
       "         0.82424121,  0.42796742]])"
      ]
     },
     "execution_count": 95,
     "metadata": {},
     "output_type": "execute_result"
    }
   ],
   "source": [
    "# Lets use hstack() function from numpy to add column of ones to X feature \n",
    "# This will be our final X matrix (feature matrix)\n",
    "vals_X = np.hstack((np.ones((m,1)), vals_X))\n",
    "vals_X[:5]"
   ]
  },
  {
   "cell_type": "code",
   "execution_count": null,
   "id": "d2b53800",
   "metadata": {},
   "outputs": [],
   "source": []
  },
  {
   "cell_type": "code",
   "execution_count": 96,
   "id": "688c81df",
   "metadata": {},
   "outputs": [],
   "source": [
    "### COMPUTE THE COST"
   ]
  },
  {
   "cell_type": "code",
   "execution_count": 97,
   "id": "70c8b124",
   "metadata": {},
   "outputs": [],
   "source": [
    "def compute_cost(vals_X, vals_y, theta):\n",
    "  \"\"\"\n",
    "  Compute the cost of a particular choice of theta for linear regression.\n",
    "\n",
    "  Input Parameters\n",
    "  ----------------\n",
    "  X : 2D array where each row represent the training example and each column represent the feature ndarray. Dimension(m x n)\n",
    "      m= number of training examples\n",
    "      n= number of features (including X_0 column of ones)\n",
    "  y : 1D array of labels/target value for each traing example. dimension(1 x m)\n",
    "\n",
    "  theta : 1D array of fitting parameters or weights. Dimension (1 x n)\n",
    "\n",
    "  Output Parameters\n",
    "  -----------------\n",
    "  J : Scalar value.\n",
    "  \"\"\"\n",
    "  predictions = vals_X.dot(theta)\n",
    "  #print('predictions= ', predictions[:5])\n",
    "  errors = np.subtract(predictions, vals_y)\n",
    "  #print('errors= ', errors[:5]) \n",
    "  sqrErrors = np.square(errors)\n",
    "  #print('sqrErrors= ', sqrErrors[:5]) \n",
    "  #J = 1 / (2 * m) * np.sum(sqrErrors)\n",
    "  # OR\n",
    "  # We can merge 'square' and 'sum' into one by taking the transpose of matrix 'errors' and taking dot product with itself\n",
    "  # If your confuse about this try to do this with few values for better understanding  \n",
    "  J = 1/(2 * m) * errors.T.dot(errors)\n",
    "\n",
    "  return J"
   ]
  },
  {
   "cell_type": "code",
   "execution_count": null,
   "id": "084d9f38",
   "metadata": {},
   "outputs": [],
   "source": []
  },
  {
   "cell_type": "code",
   "execution_count": 98,
   "id": "bfd10928",
   "metadata": {},
   "outputs": [],
   "source": [
    "### GRADIENT DESCENT"
   ]
  },
  {
   "cell_type": "code",
   "execution_count": 99,
   "id": "3d6083c7",
   "metadata": {},
   "outputs": [],
   "source": [
    "def gradient_descent(vals_X, vals_y, theta, alpha, iterations):\n",
    "  \"\"\"\n",
    "  Compute cost for linear regression.\n",
    "\n",
    "  Input Parameters\n",
    "  ----------------\n",
    "  X : 2D array where each row represent the training example and each column represent the feature ndarray. Dimension(m x n)\n",
    "      m= number of training examples\n",
    "      n= number of features (including X_0 column of ones)\n",
    "  y : 1D array of labels/target value for each traing example. dimension(m x 1)\n",
    "  theta : 1D array of fitting parameters or weights. Dimension (1 x n)\n",
    "  alpha : Learning rate. Scalar value\n",
    "  iterations: No of iterations. Scalar value. \n",
    "\n",
    "  Output Parameters\n",
    "  -----------------\n",
    "  theta : Final Value. 1D array of fitting parameters or weights. Dimension (1 x n)\n",
    "  cost_history: Conatins value of cost for each iteration. 1D array. Dimansion(m x 1)\n",
    "  \"\"\"\n",
    "  cost_history = np.zeros(iterations)\n",
    "\n",
    "  for i in range(iterations):\n",
    "    predictions = vals_X.dot(theta)\n",
    "    #print('predictions= ', predictions[:5])\n",
    "    errors = np.subtract(predictions, vals_y)\n",
    "    #print('errors= ', errors[:5])\n",
    "    sum_delta = (alpha / m) * vals_X.transpose().dot(errors);\n",
    "    #print('sum_delta= ', sum_delta[:5])\n",
    "    theta = theta - sum_delta;\n",
    "\n",
    "    cost_history[i] = compute_cost(vals_X, vals_y, theta)  \n",
    "\n",
    "  return theta, cost_history"
   ]
  },
  {
   "cell_type": "code",
   "execution_count": 104,
   "id": "cf92b123",
   "metadata": {},
   "outputs": [],
   "source": [
    "# We need theta parameter for every input variable. since we have three input variable including X_0 (column of ones)\n",
    "theta = np.zeros(7)\n",
    "iterations = 400;\n",
    "alpha = 0.15;"
   ]
  },
  {
   "cell_type": "code",
   "execution_count": 105,
   "id": "bcecba2a",
   "metadata": {},
   "outputs": [
    {
     "name": "stdout",
     "output_type": "stream",
     "text": [
      "Final value of theta = [200.42373418 200.42373418 100.37729435 100.48030767  36.58651542\n",
      "  53.94459682  64.82696689]\n",
      "First 5 values from cost_history = [54210.0857996  28060.59962559 17454.34165556 12531.9072718\n",
      " 10152.3646622 ]\n",
      "Last 5 values from cost_history = [7806.27262693 7806.17532943 7806.07809945 7805.98093696 7805.88384191]\n"
     ]
    }
   ],
   "source": [
    "theta, cost_history = gradient_descent(vals_X, vals_y, theta, alpha, iterations)\n",
    "print('Final value of theta =', theta)\n",
    "print('First 5 values from cost_history =', cost_history[:5])\n",
    "print('Last 5 values from cost_history =', cost_history[-5 :])"
   ]
  },
  {
   "cell_type": "code",
   "execution_count": null,
   "id": "309f8fb2",
   "metadata": {},
   "outputs": [],
   "source": [
    "### VISUALIZATION"
   ]
  },
  {
   "cell_type": "code",
   "execution_count": 106,
   "id": "b2cd5249",
   "metadata": {},
   "outputs": [
    {
     "data": {
      "text/plain": [
       "Text(0.5, 1.0, 'Convergence of gradient descent')"
      ]
     },
     "execution_count": 106,
     "metadata": {},
     "output_type": "execute_result"
    },
    {
     "data": {
      "image/png": "[encoded data removed]",
      "text/plain": [
       "<Figure size 432x288 with 1 Axes>"
      ]
     },
     "metadata": {
      "needs_background": "light"
     },
     "output_type": "display_data"
    }
   ],
   "source": [
    "import matplotlib.pyplot as plt\n",
    "plt.plot(range(1, iterations +1), cost_history, color ='blue')\n",
    "plt.rcParams[\"figure.figsize\"] = (10, 6)\n",
    "plt.grid()\n",
    "plt.xlabel(\"Number of iterations\")\n",
    "plt.ylabel(\"cost (J)\")\n",
    "plt.title(\"Convergence of gradient descent\")"
   ]
  },
  {
   "cell_type": "code",
   "execution_count": 108,
   "id": "089a1497",
   "metadata": {},
   "outputs": [
    {
     "data": {
      "text/plain": [
       "<matplotlib.legend.Legend at 0x1574d877e20>"
      ]
     },
     "execution_count": 108,
     "metadata": {},
     "output_type": "execute_result"
    },
    {
     "data": {
      "image/png": "[encoded data removed]",
      "text/plain": [
       "<Figure size 720x432 with 1 Axes>"
      ]
     },
     "metadata": {
      "needs_background": "light"
     },
     "output_type": "display_data"
    }
   ],
   "source": [
    "iterations = 400;\n",
    "theta = np.zeros(7)\n",
    "\n",
    "alpha = 0.005;\n",
    "theta_1, cost_history_1 = gradient_descent(vals_X, vals_y, theta, alpha, iterations)\n",
    "\n",
    "alpha = 0.01;\n",
    "theta_2, cost_history_2 = gradient_descent(vals_X, vals_y, theta, alpha, iterations)\n",
    "\n",
    "alpha = 0.02;\n",
    "theta_3, cost_history_3 = gradient_descent(vals_X, vals_y, theta, alpha, iterations)\n",
    "\n",
    "alpha = 0.03;\n",
    "theta_4, cost_history_4 = gradient_descent(vals_X, vals_y, theta, alpha, iterations)\n",
    "\n",
    "alpha = 0.15;\n",
    "theta_5, cost_history_5 = gradient_descent(vals_X, vals_y, theta, alpha, iterations)\n",
    "\n",
    "plt.plot(range(1, iterations +1), cost_history_1, color ='purple', label = 'alpha = 0.005')\n",
    "plt.plot(range(1, iterations +1), cost_history_2, color ='red', label = 'alpha = 0.01')\n",
    "plt.plot(range(1, iterations +1), cost_history_3, color ='green', label = 'alpha = 0.02')\n",
    "plt.plot(range(1, iterations +1), cost_history_4, color ='yellow', label = 'alpha = 0.03')\n",
    "plt.plot(range(1, iterations +1), cost_history_5, color ='blue', label = 'alpha = 0.15')\n",
    "\n",
    "plt.rcParams[\"figure.figsize\"] = (10,6)\n",
    "plt.grid()\n",
    "plt.xlabel(\"Number of iterations\")\n",
    "plt.ylabel(\"cost (J)\")\n",
    "plt.title(\"Effect of Learning Rate On Convergence of Gradient Descent\")\n",
    "plt.legend()"
   ]
  },
  {
   "cell_type": "code",
   "execution_count": 109,
   "id": "718932d6",
   "metadata": {},
   "outputs": [
    {
     "data": {
      "text/plain": [
       "Text(0.5, 1.0, 'Effect of Large Learning Rate On Convergence of Gradient Descent')"
      ]
     },
     "execution_count": 109,
     "metadata": {},
     "output_type": "execute_result"
    },
    {
     "data": {
      "image/png": "[encoded data removed]",
      "text/plain": [
       "<Figure size 720x432 with 1 Axes>"
      ]
     },
     "metadata": {
      "needs_background": "light"
     },
     "output_type": "display_data"
    }
   ],
   "source": [
    "iterations = 100;\n",
    "theta = np.zeros(7)\n",
    "\n",
    "alpha = 1.32;\n",
    "theta_6, cost_history_6 = gradient_descent(vals_X, vals_y, theta, alpha, iterations)\n",
    "\n",
    "plt.plot(range(1, iterations +1), cost_history_6, color ='brown')\n",
    "plt.rcParams[\"figure.figsize\"] = (10,6)\n",
    "plt.grid()\n",
    "plt.xlabel(\"Number of iterations\")\n",
    "plt.ylabel(\"cost (J)\")\n",
    "plt.title(\"Effect of Large Learning Rate On Convergence of Gradient Descent\")"
   ]
  },
  {
   "cell_type": "code",
   "execution_count": null,
   "id": "3f992b31",
   "metadata": {},
   "outputs": [],
   "source": [
    "### TESTING THE MODEL"
   ]
  },
  {
   "cell_type": "code",
   "execution_count": 115,
   "id": "d0943996",
   "metadata": {},
   "outputs": [
    {
     "ename": "ValueError",
     "evalue": "shapes (6,) and (7,) not aligned: 6 (dim 0) != 7 (dim 0)",
     "output_type": "error",
     "traceback": [
      "\u001b[1;31m---------------------------------------------------------------------------\u001b[0m",
      "\u001b[1;31mValueError\u001b[0m                                Traceback (most recent call last)",
      "\u001b[1;32m<ipython-input-115-b9f67880f4ad>\u001b[0m in \u001b[0;36m<module>\u001b[1;34m\u001b[0m\n\u001b[0;32m      1\u001b[0m \u001b[0mnormalize_test_data\u001b[0m \u001b[1;33m=\u001b[0m \u001b[1;33m(\u001b[0m\u001b[1;33m(\u001b[0m\u001b[0mnp\u001b[0m\u001b[1;33m.\u001b[0m\u001b[0marray\u001b[0m\u001b[1;33m(\u001b[0m\u001b[1;33m[\u001b[0m\u001b[1;36m28\u001b[0m\u001b[1;33m,\u001b[0m \u001b[1;36m30\u001b[0m\u001b[1;33m,\u001b[0m \u001b[1;36m36\u001b[0m\u001b[1;33m,\u001b[0m \u001b[1;36m15\u001b[0m\u001b[1;33m,\u001b[0m \u001b[1;36m6\u001b[0m\u001b[1;33m]\u001b[0m\u001b[1;33m)\u001b[0m \u001b[1;33m-\u001b[0m \u001b[0mmu\u001b[0m\u001b[1;33m)\u001b[0m \u001b[1;33m/\u001b[0m \u001b[0msigma\u001b[0m\u001b[1;33m)\u001b[0m\u001b[1;33m\u001b[0m\u001b[1;33m\u001b[0m\u001b[0m\n\u001b[0;32m      2\u001b[0m \u001b[0mnormalize_test_data\u001b[0m \u001b[1;33m=\u001b[0m \u001b[0mnp\u001b[0m\u001b[1;33m.\u001b[0m\u001b[0mhstack\u001b[0m\u001b[1;33m(\u001b[0m\u001b[1;33m(\u001b[0m\u001b[0mnp\u001b[0m\u001b[1;33m.\u001b[0m\u001b[0mones\u001b[0m\u001b[1;33m(\u001b[0m\u001b[1;36m1\u001b[0m\u001b[1;33m)\u001b[0m\u001b[1;33m,\u001b[0m \u001b[0mnormalize_test_data\u001b[0m\u001b[1;33m)\u001b[0m\u001b[1;33m)\u001b[0m\u001b[1;33m\u001b[0m\u001b[1;33m\u001b[0m\u001b[0m\n\u001b[1;32m----> 3\u001b[1;33m \u001b[0mprice\u001b[0m \u001b[1;33m=\u001b[0m \u001b[0mnormalize_test_data\u001b[0m\u001b[1;33m.\u001b[0m\u001b[0mdot\u001b[0m\u001b[1;33m(\u001b[0m\u001b[0mtheta\u001b[0m\u001b[1;33m)\u001b[0m\u001b[1;33m\u001b[0m\u001b[1;33m\u001b[0m\u001b[0m\n\u001b[0m\u001b[0;32m      4\u001b[0m \u001b[0mprint\u001b[0m\u001b[1;33m(\u001b[0m\u001b[1;34m'Predicted Cost of :'\u001b[0m\u001b[1;33m,\u001b[0m \u001b[0mprice\u001b[0m\u001b[1;33m)\u001b[0m\u001b[1;33m\u001b[0m\u001b[1;33m\u001b[0m\u001b[0m\n",
      "\u001b[1;31mValueError\u001b[0m: shapes (6,) and (7,) not aligned: 6 (dim 0) != 7 (dim 0)"
     ]
    }
   ],
   "source": [
    "normalize_test_data = ((np.array([28, 30, 36, 15, 6]) - mu) / sigma)\n",
    "normalize_test_data = np.hstack((np.ones(1), normalize_test_data))\n",
    "price = normalize_test_data.dot(theta)\n",
    "print('Predicted Cost of :', price)"
   ]
  }
 ],
 "metadata": {
  "kernelspec": {
   "display_name": "Python 3",
   "language": "python",
   "name": "python3"
  },
  "language_info": {
   "codemirror_mode": {
    "name": "ipython",
    "version": 3
   },
   "file_extension": ".py",
   "mimetype": "text/x-python",
   "name": "python",
   "nbconvert_exporter": "python",
   "pygments_lexer": "ipython3",
   "version": "3.8.8"
  }
 },
 "nbformat": 4,
 "nbformat_minor": 5
}
