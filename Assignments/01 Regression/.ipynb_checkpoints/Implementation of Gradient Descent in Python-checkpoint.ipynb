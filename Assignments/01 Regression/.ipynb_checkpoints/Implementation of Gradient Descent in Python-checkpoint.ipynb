{
 "cells": [
  {
   "cell_type": "markdown",
   "metadata": {},
   "source": [
    "# Implementation of Gradient Descent In Python"
   ]
  },
  {
   "cell_type": "markdown",
   "metadata": {},
   "source": [
    "The gradient descent is an optimization algorithm that, in machine learning, is mostly used to minimize a loss function. "
   ]
  },
  {
   "cell_type": "markdown",
   "metadata": {},
   "source": [
    "We will be implementing a simple gradient descent algorithm from scratch using python in this notebook"
   ]
  },
  {
   "cell_type": "markdown",
   "metadata": {},
   "source": [
    "This gradient descent algorithm will help us find a minimum value in a given function which we will create. "
   ]
  },
  {
   "cell_type": "code",
   "execution_count": 1,
   "metadata": {},
   "outputs": [],
   "source": [
    "import numpy as np\n",
    "import matplotlib.pyplot as plt\n",
    "%matplotlib inline"
   ]
  },
  {
   "cell_type": "markdown",
   "metadata": {},
   "source": [
    "We will find the gradient decent of this function - $ f(x) = x^3-3x^2+7$"
   ]
  },
  {
   "cell_type": "code",
   "execution_count": 2,
   "metadata": {},
   "outputs": [
    {
     "data": {
      "image/png": "[encoded data removed]",
      "text/plain": [
       "<matplotlib.figure.Figure at 0x26123ab3f98>"
      ]
     },
     "metadata": {},
     "output_type": "display_data"
    }
   ],
   "source": [
    "#creating the function and plotting it \n",
    "\n",
    "function = lambda x: (x ** 3)-(3 *(x ** 2))+7\n",
    "\n",
    "#Get 1000 evenly spaced numbers between -1 and 3 (arbitratil chosen to ensure steep curve)\n",
    "x = np.linspace(-1,3,500)\n",
    "\n",
    "#Plot the curve\n",
    "plt.plot(x, function(x))\n",
    "plt.show()"
   ]
  },
  {
   "cell_type": "markdown",
   "metadata": {},
   "source": [
    "We can see that our minimum value should be around 2.0\n",
    "\n",
    "Let us use the gradient descent to find the exact value"
   ]
  },
  {
   "cell_type": "markdown",
   "metadata": {},
   "source": [
    "We will proceed to write out our helper functions:\n",
    "    \n",
    "A function that calculates the derivative of x\n",
    "A function that performs the actual gradient descent step-wise"
   ]
  },
  {
   "cell_type": "code",
   "execution_count": 3,
   "metadata": {},
   "outputs": [],
   "source": [
    "def deriv(x):\n",
    "    \n",
    "    '''\n",
    "    Description: This function takes in a value of x and returns its derivative based on the \n",
    "    initial function we specified.\n",
    "    \n",
    "    Arguments:\n",
    "    \n",
    "    x - a numerical value of x \n",
    "    \n",
    "    Returns:\n",
    "    \n",
    "    x_deriv - a numerical value of the derivative of x\n",
    "    \n",
    "    '''\n",
    "    \n",
    "    x_deriv = 3* (x**2) - (6 * (x))\n",
    "    return x_deriv\n",
    "\n",
    "\n",
    "def step(x_new, x_prev, precision, l_r):\n",
    "    \n",
    "    '''\n",
    "    Description: This function takes in an initial or previous value for x, updates it based on \n",
    "    steps taken via the learning rate and outputs the most minimum value of x that reaches the precision satisfaction.\n",
    "    \n",
    "    Arguments:\n",
    "    \n",
    "    x_new - a starting value of x that will get updated based on the learning rate\n",
    "    \n",
    "    x_prev - the previous value of x that is getting updated to the new one\n",
    "    \n",
    "    precision - a precision that determines the stop of the stepwise descent \n",
    "    \n",
    "    l_r - the learning rate (size of each descent step)\n",
    "    \n",
    "    Output:\n",
    "    \n",
    "    1. Prints out the latest new value of x which equates to the minimum we are looking for\n",
    "    2. Prints out the the number of x values which equates to the number of gradient descent steps\n",
    "    3. Plots a first graph of the function with the gradient descent path\n",
    "    4. Plots a second graph of the function with a zoomed in gradient descent path in the important area\n",
    "    \n",
    "    '''\n",
    "    \n",
    "    # create empty lists where the updated values of x and y wil be appended during each iteration\n",
    "    \n",
    "    x_list, y_list = [x_new], [function(x_new)]\n",
    "    # keep looping until your desired precision\n",
    "    while abs(x_new - x_prev) > precision:\n",
    "        \n",
    "        # change the value of x\n",
    "        x_prev = x_new\n",
    "        \n",
    "        # get the derivation of the old value of x\n",
    "        d_x = - deriv(x_prev)\n",
    "        \n",
    "        # get your new value of x by adding the previous, the multiplication of the derivative and the learning rate\n",
    "        x_new = x_prev + (l_r * d_x)\n",
    "        \n",
    "        # append the new value of x to a list of all x-s for later visualization of path\n",
    "        x_list.append(x_new)\n",
    "        \n",
    "        # append the new value of y to a list of all y-s for later visualization of path\n",
    "        y_list.append(function(x_new))\n",
    "\n",
    "    print (\"Local minimum occurs at: \"+ str(x_new))\n",
    "    print (\"Number of steps: \" + str(len(x_list)))\n",
    "    \n",
    "    \n",
    "    plt.subplot(1,2,2)\n",
    "    plt.scatter(x_list,y_list,c=\"g\")\n",
    "    plt.plot(x_list,y_list,c=\"g\")\n",
    "    plt.plot(x,function(x), c=\"r\")\n",
    "    plt.title(\"Gradient descent\")\n",
    "    plt.show()\n",
    "\n",
    "    plt.subplot(1,2,1)\n",
    "    plt.scatter(x_list,y_list,c=\"g\")\n",
    "    plt.plot(x_list,y_list,c=\"g\")\n",
    "    plt.plot(x,function(x), c=\"r\")\n",
    "    plt.xlim([1.0,2.1])\n",
    "    plt.title(\"Zoomed in Gradient descent to Key Area\")\n",
    "    plt.show()\n",
    "\n",
    "\n"
   ]
  },
  {
   "cell_type": "code",
   "execution_count": 4,
   "metadata": {},
   "outputs": [
    {
     "name": "stdout",
     "output_type": "stream",
     "text": [
      "Local minimum occurs at: 1.9980265135950486\n",
      "Number of steps: 25\n"
     ]
    },
    {
     "data": {
      "image/png": "[encoded data removed]",
      "text/plain": [
       "<matplotlib.figure.Figure at 0x26122b49a20>"
      ]
     },
     "metadata": {},
     "output_type": "display_data"
    },
    {
     "data": {
      "image/png": "[encoded data removed]",
      "text/plain": [
       "<matplotlib.figure.Figure at 0x26123ea59b0>"
      ]
     },
     "metadata": {},
     "output_type": "display_data"
    }
   ],
   "source": [
    "#Implement gradient descent (all the arguments are arbitrarily chosen)\n",
    "\n",
    "step(0.5, 0, 0.001, 0.05) "
   ]
  },
  {
   "cell_type": "markdown",
   "metadata": {},
   "source": [
    "There you have it - Gradient Descent from scratch in python"
   ]
  },
  {
   "cell_type": "code",
   "execution_count": null,
   "metadata": {},
   "outputs": [],
   "source": []
  }
 ],
 "metadata": {
  "kernelspec": {
   "display_name": "Python 3",
   "language": "python",
   "name": "python3"
  },
  "language_info": {
   "codemirror_mode": {
    "name": "ipython",
    "version": 3
   },
   "file_extension": ".py",
   "mimetype": "text/x-python",
   "name": "python",
   "nbconvert_exporter": "python",
   "pygments_lexer": "ipython3",
   "version": "3.8.8"
  }
 },
 "nbformat": 4,
 "nbformat_minor": 2
}
