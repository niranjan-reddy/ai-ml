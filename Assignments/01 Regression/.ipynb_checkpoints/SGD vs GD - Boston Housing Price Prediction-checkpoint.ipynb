{
 "cells": [
  {
   "cell_type": "code",
   "execution_count": 1,
   "id": "c3019912",
   "metadata": {},
   "outputs": [
    {
     "name": "stdout",
     "output_type": "stream",
     "text": [
      "Skipping, found downloaded files in \".\\boston-housing\" (use force=True to force download)\n"
     ]
    }
   ],
   "source": [
    "# necessary imports \n",
    "\n",
    "\n",
    "import plotly.express as px\n",
    "import pandas as pd\n",
    "import numpy as np\n",
    "import matplotlib.pyplot as plt\n",
    "import seaborn as sns\n",
    "\n",
    "from sklearn.linear_model import LinearRegression, SGDRegressor\n",
    "from sklearn.preprocessing import StandardScaler\n",
    "from sklearn.metrics import mean_squared_error\n",
    "\n",
    "import math\n",
    "\n",
    "import opendatasets as od\n",
    "\n",
    "import warnings\n",
    "warnings.filterwarnings('ignore')\n",
    "\n",
    "plt.style.use('fivethirtyeight')\n",
    "%matplotlib inline\n",
    "pd.set_option('display.max_columns', 26)\n",
    "\n",
    "# Downloading the DATASET from the KAGGLE.COM project site. This automatically creates a project directory and places the dataset file there.\n",
    "od.download(\"https://www.kaggle.com/c/boston-housing/overview\")\n",
    "\n",
    "\n"
   ]
  },
  {
   "cell_type": "code",
   "execution_count": 2,
   "id": "9eac60b6",
   "metadata": {},
   "outputs": [
    {
     "data": {
      "text/html": [
       "<div>\n",
       "<style scoped>\n",
       "    .dataframe tbody tr th:only-of-type {\n",
       "        vertical-align: middle;\n",
       "    }\n",
       "\n",
       "    .dataframe tbody tr th {\n",
       "        vertical-align: top;\n",
       "    }\n",
       "\n",
       "    .dataframe thead th {\n",
       "        text-align: right;\n",
       "    }\n",
       "</style>\n",
       "<table border=\"1\" class=\"dataframe\">\n",
       "  <thead>\n",
       "    <tr style=\"text-align: right;\">\n",
       "      <th></th>\n",
       "      <th>ID</th>\n",
       "      <th>crim</th>\n",
       "      <th>zn</th>\n",
       "      <th>indus</th>\n",
       "      <th>chas</th>\n",
       "      <th>nox</th>\n",
       "      <th>rm</th>\n",
       "      <th>age</th>\n",
       "      <th>dis</th>\n",
       "      <th>rad</th>\n",
       "      <th>tax</th>\n",
       "      <th>ptratio</th>\n",
       "      <th>black</th>\n",
       "      <th>lstat</th>\n",
       "      <th>medv</th>\n",
       "    </tr>\n",
       "  </thead>\n",
       "  <tbody>\n",
       "    <tr>\n",
       "      <th>0</th>\n",
       "      <td>1</td>\n",
       "      <td>0.00632</td>\n",
       "      <td>18.0</td>\n",
       "      <td>2.31</td>\n",
       "      <td>0</td>\n",
       "      <td>0.538</td>\n",
       "      <td>6.575</td>\n",
       "      <td>65.2</td>\n",
       "      <td>4.0900</td>\n",
       "      <td>1</td>\n",
       "      <td>296</td>\n",
       "      <td>15.3</td>\n",
       "      <td>396.90</td>\n",
       "      <td>4.98</td>\n",
       "      <td>24.0</td>\n",
       "    </tr>\n",
       "    <tr>\n",
       "      <th>1</th>\n",
       "      <td>2</td>\n",
       "      <td>0.02731</td>\n",
       "      <td>0.0</td>\n",
       "      <td>7.07</td>\n",
       "      <td>0</td>\n",
       "      <td>0.469</td>\n",
       "      <td>6.421</td>\n",
       "      <td>78.9</td>\n",
       "      <td>4.9671</td>\n",
       "      <td>2</td>\n",
       "      <td>242</td>\n",
       "      <td>17.8</td>\n",
       "      <td>396.90</td>\n",
       "      <td>9.14</td>\n",
       "      <td>21.6</td>\n",
       "    </tr>\n",
       "    <tr>\n",
       "      <th>2</th>\n",
       "      <td>4</td>\n",
       "      <td>0.03237</td>\n",
       "      <td>0.0</td>\n",
       "      <td>2.18</td>\n",
       "      <td>0</td>\n",
       "      <td>0.458</td>\n",
       "      <td>6.998</td>\n",
       "      <td>45.8</td>\n",
       "      <td>6.0622</td>\n",
       "      <td>3</td>\n",
       "      <td>222</td>\n",
       "      <td>18.7</td>\n",
       "      <td>394.63</td>\n",
       "      <td>2.94</td>\n",
       "      <td>33.4</td>\n",
       "    </tr>\n",
       "    <tr>\n",
       "      <th>3</th>\n",
       "      <td>5</td>\n",
       "      <td>0.06905</td>\n",
       "      <td>0.0</td>\n",
       "      <td>2.18</td>\n",
       "      <td>0</td>\n",
       "      <td>0.458</td>\n",
       "      <td>7.147</td>\n",
       "      <td>54.2</td>\n",
       "      <td>6.0622</td>\n",
       "      <td>3</td>\n",
       "      <td>222</td>\n",
       "      <td>18.7</td>\n",
       "      <td>396.90</td>\n",
       "      <td>5.33</td>\n",
       "      <td>36.2</td>\n",
       "    </tr>\n",
       "    <tr>\n",
       "      <th>4</th>\n",
       "      <td>7</td>\n",
       "      <td>0.08829</td>\n",
       "      <td>12.5</td>\n",
       "      <td>7.87</td>\n",
       "      <td>0</td>\n",
       "      <td>0.524</td>\n",
       "      <td>6.012</td>\n",
       "      <td>66.6</td>\n",
       "      <td>5.5605</td>\n",
       "      <td>5</td>\n",
       "      <td>311</td>\n",
       "      <td>15.2</td>\n",
       "      <td>395.60</td>\n",
       "      <td>12.43</td>\n",
       "      <td>22.9</td>\n",
       "    </tr>\n",
       "  </tbody>\n",
       "</table>\n",
       "</div>"
      ],
      "text/plain": [
       "   ID     crim    zn  indus  chas    nox     rm   age     dis  rad  tax  \\\n",
       "0   1  0.00632  18.0   2.31     0  0.538  6.575  65.2  4.0900    1  296   \n",
       "1   2  0.02731   0.0   7.07     0  0.469  6.421  78.9  4.9671    2  242   \n",
       "2   4  0.03237   0.0   2.18     0  0.458  6.998  45.8  6.0622    3  222   \n",
       "3   5  0.06905   0.0   2.18     0  0.458  7.147  54.2  6.0622    3  222   \n",
       "4   7  0.08829  12.5   7.87     0  0.524  6.012  66.6  5.5605    5  311   \n",
       "\n",
       "   ptratio   black  lstat  medv  \n",
       "0     15.3  396.90   4.98  24.0  \n",
       "1     17.8  396.90   9.14  21.6  \n",
       "2     18.7  394.63   2.94  33.4  \n",
       "3     18.7  396.90   5.33  36.2  \n",
       "4     15.2  395.60  12.43  22.9  "
      ]
     },
     "execution_count": 2,
     "metadata": {},
     "output_type": "execute_result"
    }
   ],
   "source": [
    "# loading data from the downloaded file path...\n",
    "\n",
    "df= pd.read_csv('./boston-housing/train.csv')\n",
    "df.head()"
   ]
  },
  {
   "cell_type": "code",
   "execution_count": 3,
   "id": "8afbd24b",
   "metadata": {},
   "outputs": [],
   "source": [
    "df = df.drop('ID', axis=1)"
   ]
  },
  {
   "cell_type": "code",
   "execution_count": 4,
   "id": "02fc9f90",
   "metadata": {},
   "outputs": [],
   "source": [
    "y = df.pop('medv')\n",
    "X = df.copy()"
   ]
  },
  {
   "cell_type": "code",
   "execution_count": 5,
   "id": "39136e82",
   "metadata": {},
   "outputs": [],
   "source": [
    "column_names = X.columns\n",
    "scaler = StandardScaler()\n",
    "X = pd.DataFrame(scaler.fit_transform(X), columns=column_names)"
   ]
  },
  {
   "cell_type": "code",
   "execution_count": 6,
   "id": "6a6e5c9f",
   "metadata": {},
   "outputs": [
    {
     "data": {
      "text/html": [
       "<div>\n",
       "<style scoped>\n",
       "    .dataframe tbody tr th:only-of-type {\n",
       "        vertical-align: middle;\n",
       "    }\n",
       "\n",
       "    .dataframe tbody tr th {\n",
       "        vertical-align: top;\n",
       "    }\n",
       "\n",
       "    .dataframe thead th {\n",
       "        text-align: right;\n",
       "    }\n",
       "</style>\n",
       "<table border=\"1\" class=\"dataframe\">\n",
       "  <thead>\n",
       "    <tr style=\"text-align: right;\">\n",
       "      <th></th>\n",
       "      <th>crim</th>\n",
       "      <th>zn</th>\n",
       "      <th>indus</th>\n",
       "      <th>chas</th>\n",
       "      <th>nox</th>\n",
       "      <th>rm</th>\n",
       "      <th>age</th>\n",
       "      <th>dis</th>\n",
       "      <th>rad</th>\n",
       "      <th>tax</th>\n",
       "      <th>ptratio</th>\n",
       "      <th>black</th>\n",
       "      <th>lstat</th>\n",
       "    </tr>\n",
       "  </thead>\n",
       "  <tbody>\n",
       "    <tr>\n",
       "      <th>0</th>\n",
       "      <td>-0.456875</td>\n",
       "      <td>0.322906</td>\n",
       "      <td>-1.285631</td>\n",
       "      <td>-0.25278</td>\n",
       "      <td>-0.166787</td>\n",
       "      <td>0.440154</td>\n",
       "      <td>-0.107736</td>\n",
       "      <td>0.192133</td>\n",
       "      <td>-0.98907</td>\n",
       "      <td>-0.664062</td>\n",
       "      <td>-1.465171</td>\n",
       "      <td>0.432990</td>\n",
       "      <td>-1.067772</td>\n",
       "    </tr>\n",
       "    <tr>\n",
       "      <th>1</th>\n",
       "      <td>-0.454016</td>\n",
       "      <td>-0.472123</td>\n",
       "      <td>-0.604425</td>\n",
       "      <td>-0.25278</td>\n",
       "      <td>-0.767928</td>\n",
       "      <td>0.221060</td>\n",
       "      <td>0.379963</td>\n",
       "      <td>0.635528</td>\n",
       "      <td>-0.87451</td>\n",
       "      <td>-0.980620</td>\n",
       "      <td>-0.301616</td>\n",
       "      <td>0.432990</td>\n",
       "      <td>-0.478299</td>\n",
       "    </tr>\n",
       "    <tr>\n",
       "      <th>2</th>\n",
       "      <td>-0.453327</td>\n",
       "      <td>-0.472123</td>\n",
       "      <td>-1.304235</td>\n",
       "      <td>-0.25278</td>\n",
       "      <td>-0.863762</td>\n",
       "      <td>1.041952</td>\n",
       "      <td>-0.798347</td>\n",
       "      <td>1.189127</td>\n",
       "      <td>-0.75995</td>\n",
       "      <td>-1.097863</td>\n",
       "      <td>0.117264</td>\n",
       "      <td>0.406733</td>\n",
       "      <td>-1.356840</td>\n",
       "    </tr>\n",
       "    <tr>\n",
       "      <th>3</th>\n",
       "      <td>-0.448330</td>\n",
       "      <td>-0.472123</td>\n",
       "      <td>-1.304235</td>\n",
       "      <td>-0.25278</td>\n",
       "      <td>-0.863762</td>\n",
       "      <td>1.253933</td>\n",
       "      <td>-0.499320</td>\n",
       "      <td>1.189127</td>\n",
       "      <td>-0.75995</td>\n",
       "      <td>-1.097863</td>\n",
       "      <td>0.117264</td>\n",
       "      <td>0.432990</td>\n",
       "      <td>-1.018177</td>\n",
       "    </tr>\n",
       "    <tr>\n",
       "      <th>4</th>\n",
       "      <td>-0.445709</td>\n",
       "      <td>0.079980</td>\n",
       "      <td>-0.489936</td>\n",
       "      <td>-0.25278</td>\n",
       "      <td>-0.288758</td>\n",
       "      <td>-0.360821</td>\n",
       "      <td>-0.057898</td>\n",
       "      <td>0.935505</td>\n",
       "      <td>-0.53083</td>\n",
       "      <td>-0.576130</td>\n",
       "      <td>-1.511713</td>\n",
       "      <td>0.417953</td>\n",
       "      <td>-0.012106</td>\n",
       "    </tr>\n",
       "    <tr>\n",
       "      <th>...</th>\n",
       "      <td>...</td>\n",
       "      <td>...</td>\n",
       "      <td>...</td>\n",
       "      <td>...</td>\n",
       "      <td>...</td>\n",
       "      <td>...</td>\n",
       "      <td>...</td>\n",
       "      <td>...</td>\n",
       "      <td>...</td>\n",
       "      <td>...</td>\n",
       "      <td>...</td>\n",
       "      <td>...</td>\n",
       "      <td>...</td>\n",
       "    </tr>\n",
       "    <tr>\n",
       "      <th>328</th>\n",
       "      <td>-0.433512</td>\n",
       "      <td>-0.472123</td>\n",
       "      <td>-0.229475</td>\n",
       "      <td>-0.25278</td>\n",
       "      <td>0.242685</td>\n",
       "      <td>-0.991072</td>\n",
       "      <td>0.187731</td>\n",
       "      <td>-0.662253</td>\n",
       "      <td>-0.41627</td>\n",
       "      <td>-0.107156</td>\n",
       "      <td>0.349975</td>\n",
       "      <td>0.419919</td>\n",
       "      <td>0.366233</td>\n",
       "    </tr>\n",
       "    <tr>\n",
       "      <th>329</th>\n",
       "      <td>-0.449205</td>\n",
       "      <td>-0.472123</td>\n",
       "      <td>0.091092</td>\n",
       "      <td>-0.25278</td>\n",
       "      <td>0.138139</td>\n",
       "      <td>0.465762</td>\n",
       "      <td>0.031098</td>\n",
       "      <td>-0.622468</td>\n",
       "      <td>-0.98907</td>\n",
       "      <td>-0.798892</td>\n",
       "      <td>1.187734</td>\n",
       "      <td>0.376197</td>\n",
       "      <td>-0.403198</td>\n",
       "    </tr>\n",
       "    <tr>\n",
       "      <th>330</th>\n",
       "      <td>-0.451569</td>\n",
       "      <td>-0.472123</td>\n",
       "      <td>0.091092</td>\n",
       "      <td>-0.25278</td>\n",
       "      <td>0.138139</td>\n",
       "      <td>-0.207170</td>\n",
       "      <td>0.301647</td>\n",
       "      <td>-0.719074</td>\n",
       "      <td>-0.98907</td>\n",
       "      <td>-0.798892</td>\n",
       "      <td>1.187734</td>\n",
       "      <td>0.432990</td>\n",
       "      <td>-0.486801</td>\n",
       "    </tr>\n",
       "    <tr>\n",
       "      <th>331</th>\n",
       "      <td>-0.449459</td>\n",
       "      <td>-0.472123</td>\n",
       "      <td>0.091092</td>\n",
       "      <td>-0.25278</td>\n",
       "      <td>0.138139</td>\n",
       "      <td>1.010653</td>\n",
       "      <td>0.810705</td>\n",
       "      <td>-0.779737</td>\n",
       "      <td>-0.98907</td>\n",
       "      <td>-0.798892</td>\n",
       "      <td>1.187734</td>\n",
       "      <td>0.432990</td>\n",
       "      <td>-0.974250</td>\n",
       "    </tr>\n",
       "    <tr>\n",
       "      <th>332</th>\n",
       "      <td>-0.451278</td>\n",
       "      <td>-0.472123</td>\n",
       "      <td>0.091092</td>\n",
       "      <td>-0.25278</td>\n",
       "      <td>0.138139</td>\n",
       "      <td>-0.335212</td>\n",
       "      <td>0.447600</td>\n",
       "      <td>-0.609123</td>\n",
       "      <td>-0.98907</td>\n",
       "      <td>-0.798892</td>\n",
       "      <td>1.187734</td>\n",
       "      <td>0.432990</td>\n",
       "      <td>-0.656841</td>\n",
       "    </tr>\n",
       "  </tbody>\n",
       "</table>\n",
       "<p>333 rows × 13 columns</p>\n",
       "</div>"
      ],
      "text/plain": [
       "         crim        zn     indus     chas       nox        rm       age  \\\n",
       "0   -0.456875  0.322906 -1.285631 -0.25278 -0.166787  0.440154 -0.107736   \n",
       "1   -0.454016 -0.472123 -0.604425 -0.25278 -0.767928  0.221060  0.379963   \n",
       "2   -0.453327 -0.472123 -1.304235 -0.25278 -0.863762  1.041952 -0.798347   \n",
       "3   -0.448330 -0.472123 -1.304235 -0.25278 -0.863762  1.253933 -0.499320   \n",
       "4   -0.445709  0.079980 -0.489936 -0.25278 -0.288758 -0.360821 -0.057898   \n",
       "..        ...       ...       ...      ...       ...       ...       ...   \n",
       "328 -0.433512 -0.472123 -0.229475 -0.25278  0.242685 -0.991072  0.187731   \n",
       "329 -0.449205 -0.472123  0.091092 -0.25278  0.138139  0.465762  0.031098   \n",
       "330 -0.451569 -0.472123  0.091092 -0.25278  0.138139 -0.207170  0.301647   \n",
       "331 -0.449459 -0.472123  0.091092 -0.25278  0.138139  1.010653  0.810705   \n",
       "332 -0.451278 -0.472123  0.091092 -0.25278  0.138139 -0.335212  0.447600   \n",
       "\n",
       "          dis      rad       tax   ptratio     black     lstat  \n",
       "0    0.192133 -0.98907 -0.664062 -1.465171  0.432990 -1.067772  \n",
       "1    0.635528 -0.87451 -0.980620 -0.301616  0.432990 -0.478299  \n",
       "2    1.189127 -0.75995 -1.097863  0.117264  0.406733 -1.356840  \n",
       "3    1.189127 -0.75995 -1.097863  0.117264  0.432990 -1.018177  \n",
       "4    0.935505 -0.53083 -0.576130 -1.511713  0.417953 -0.012106  \n",
       "..        ...      ...       ...       ...       ...       ...  \n",
       "328 -0.662253 -0.41627 -0.107156  0.349975  0.419919  0.366233  \n",
       "329 -0.622468 -0.98907 -0.798892  1.187734  0.376197 -0.403198  \n",
       "330 -0.719074 -0.98907 -0.798892  1.187734  0.432990 -0.486801  \n",
       "331 -0.779737 -0.98907 -0.798892  1.187734  0.432990 -0.974250  \n",
       "332 -0.609123 -0.98907 -0.798892  1.187734  0.432990 -0.656841  \n",
       "\n",
       "[333 rows x 13 columns]"
      ]
     },
     "execution_count": 6,
     "metadata": {},
     "output_type": "execute_result"
    }
   ],
   "source": [
    "X"
   ]
  },
  {
   "cell_type": "code",
   "execution_count": 7,
   "id": "0b787b4f",
   "metadata": {},
   "outputs": [],
   "source": [
    "reg = LinearRegression().fit(X, y)"
   ]
  },
  {
   "cell_type": "code",
   "execution_count": 8,
   "id": "5260ccc9",
   "metadata": {},
   "outputs": [
    {
     "name": "stdout",
     "output_type": "stream",
     "text": [
      "INTERCEPT - W0 is :  22.76876876876877\n",
      "COEFFICIENT - W1 is :  [-0.38533599  1.07418454  0.37631929  0.89927653 -1.80662577  2.64908845\n",
      " -0.12996621 -3.06379849  2.87156628 -2.19483476 -1.84128775  1.00856953\n",
      " -4.23652255]\n"
     ]
    }
   ],
   "source": [
    "print('INTERCEPT - W0 is : ', reg.intercept_)\n",
    "\n",
    "print('COEFFICIENT - W1 is : ', reg.coef_)\n"
   ]
  },
  {
   "cell_type": "code",
   "execution_count": 9,
   "id": "c5dea5f7",
   "metadata": {},
   "outputs": [
    {
     "name": "stdout",
     "output_type": "stream",
     "text": [
      "RMSE:  4.731759654044983\n",
      "RSE :  22.524833710195615\n",
      "R2 Score:  0.7331394355527803\n"
     ]
    }
   ],
   "source": [
    "#num_data = x.shape[0]\n",
    "\n",
    "#y_pred = reg.predict(x)\n",
    "#mse = mean_squared_error(y, y_pred)\n",
    "#rmse = math.sqrt(mse)\n",
    "#rse = mse * num_data\n",
    "#rse /= num_data-2\n",
    "#rse = math.sqrt(rse)\n",
    "#r2_score = reg.score(x,y)\n",
    "\n",
    "ne_rmse = math.sqrt(mean_squared_error(reg.predict(X), y))\n",
    "ne_rse = (ne_rmse ** 2) * X.shape[0]\n",
    "ne_rse /= X.shape[0] - 2\n",
    "\n",
    "print('RMSE: ', ne_rmse)\n",
    "print('RSE : ', ne_rse)\n",
    "print('R2 Score: ', reg.score(X, y))"
   ]
  },
  {
   "cell_type": "code",
   "execution_count": 16,
   "id": "d3bef405",
   "metadata": {},
   "outputs": [
    {
     "data": {
      "text/plain": [
       "SGDRegressor(eta0=0.001, max_iter=100000000)"
      ]
     },
     "execution_count": 16,
     "metadata": {},
     "output_type": "execute_result"
    }
   ],
   "source": [
    "sgd_reg = SGDRegressor(max_iter = 100_000_000, tol = 0.001, eta0 = 1e-3)\n",
    "sgd_reg.fit(X, y)"
   ]
  },
  {
   "cell_type": "code",
   "execution_count": 17,
   "id": "e90aab47",
   "metadata": {},
   "outputs": [
    {
     "name": "stdout",
     "output_type": "stream",
     "text": [
      "INTERCEPT is W0 :  [22.75571018]\n",
      "COEFFICIENT is W1 :  [-0.21717936  0.7426931  -0.16228418  0.95743018 -1.17215142  2.92091012\n",
      " -0.25630747 -2.55722722  1.41265009 -0.73998271 -1.70644611  1.05518903\n",
      " -4.07624436]\n"
     ]
    }
   ],
   "source": [
    "\n",
    "print('INTERCEPT is W0 : ', sgd_reg.intercept_)\n",
    "\n",
    "print('COEFFICIENT is W1 : ', sgd_reg.coef_)"
   ]
  },
  {
   "cell_type": "code",
   "execution_count": 18,
   "id": "371687ae",
   "metadata": {},
   "outputs": [
    {
     "name": "stdout",
     "output_type": "stream",
     "text": [
      "RMSE:  4.778580578224781\n",
      "RSE :  22.972807160367065\n",
      "R2 Score:  0.7331394355527803\n"
     ]
    }
   ],
   "source": [
    "sgd_rmse = math.sqrt(mean_squared_error(sgd_reg.predict(X), y))\n",
    "sgd_rse = (sgd_rmse ** 2) * X.shape[0]\n",
    "sgd_rse /= X.shape[0] - 2\n",
    "\n",
    "print('RMSE: ', sgd_rmse)\n",
    "print('RSE : ', sgd_rse)\n",
    "print('R2 Score: ', reg.score(X, y))"
   ]
  },
  {
   "cell_type": "code",
   "execution_count": null,
   "id": "2d2c00d7",
   "metadata": {},
   "outputs": [],
   "source": [
    "RMSE:  4.778921134015769\n",
    "RSE :  22.976081689765778\n",
    "R2 Score:  0.7331394355527803"
   ]
  },
  {
   "cell_type": "code",
   "execution_count": 28,
   "id": "686c2d93",
   "metadata": {},
   "outputs": [
    {
     "name": "stdout",
     "output_type": "stream",
     "text": [
      "w_values:  [-0.21717936  0.7426931  -0.16228418  0.95743018 -1.17215142  2.92091012\n",
      " -0.25630747 -2.55722722  1.41265009 -0.73998271 -1.70644611  1.05518903\n",
      " -4.07624436]\n"
     ]
    }
   ],
   "source": [
    "w_values = sgd_reg.coef_\n",
    "print('w_values: ', w_values)\n"
   ]
  },
  {
   "cell_type": "code",
   "execution_count": 30,
   "id": "5664acfd",
   "metadata": {},
   "outputs": [
    {
     "name": "stdout",
     "output_type": "stream",
     "text": [
      "w_size:  13\n"
     ]
    }
   ],
   "source": [
    "w_size = w_values.size\n",
    "print('w_size: ', w_size)\n"
   ]
  },
  {
   "cell_type": "code",
   "execution_count": 40,
   "id": "0c5279ce",
   "metadata": {},
   "outputs": [
    {
     "name": "stdout",
     "output_type": "stream",
     "text": [
      "The INTERCEPT W 0 \t value is :\t 22.75571018385164\n",
      " \n",
      " \n",
      "The COEFFICIENT W 1 \tvalue is :\t -0.2171793642544061\n",
      "The COEFFICIENT W 2 \tvalue is :\t 0.7426931032698916\n",
      "The COEFFICIENT W 3 \tvalue is :\t -0.1622841839770976\n",
      "The COEFFICIENT W 4 \tvalue is :\t 0.9574301807067099\n",
      "The COEFFICIENT W 5 \tvalue is :\t -1.1721514196656748\n",
      "The COEFFICIENT W 6 \tvalue is :\t 2.920910124495222\n",
      "The COEFFICIENT W 7 \tvalue is :\t -0.2563074720940116\n",
      "The COEFFICIENT W 8 \tvalue is :\t -2.55722721559029\n",
      "The COEFFICIENT W 9 \tvalue is :\t 1.4126500863796108\n",
      "The COEFFICIENT W 10 \tvalue is :\t -0.7399827138008559\n",
      "The COEFFICIENT W 11 \tvalue is :\t -1.7064461064239842\n",
      "The COEFFICIENT W 12 \tvalue is :\t 1.0551890253129141\n",
      "The COEFFICIENT W 13 \tvalue is :\t -4.076244358721933\n"
     ]
    }
   ],
   "source": [
    "print('The INTERCEPT W 0 \\t value is :\\t', sgd_reg.intercept_[0])\n",
    "print(' \\n ')\n",
    "for index, w_value in enumerate(w_values):\n",
    "    print('The COEFFICIENT W', index+1, '\\tvalue is :\\t', w_value)"
   ]
  },
  {
   "cell_type": "code",
   "execution_count": null,
   "id": "960ecac7",
   "metadata": {},
   "outputs": [],
   "source": []
  }
 ],
 "metadata": {
  "kernelspec": {
   "display_name": "Python 3",
   "language": "python",
   "name": "python3"
  },
  "language_info": {
   "codemirror_mode": {
    "name": "ipython",
    "version": 3
   },
   "file_extension": ".py",
   "mimetype": "text/x-python",
   "name": "python",
   "nbconvert_exporter": "python",
   "pygments_lexer": "ipython3",
   "version": "3.8.8"
  }
 },
 "nbformat": 4,
 "nbformat_minor": 5
}
