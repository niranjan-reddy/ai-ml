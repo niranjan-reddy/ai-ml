{
 "cells": [
  {
   "cell_type": "markdown",
   "id": "798b9a67",
   "metadata": {},
   "source": [
    "# Question No 2\n",
    "\n",
    "## Solve the following matrix using simultaneous equations in Python.\n",
    "\n"
   ]
  },
  {
   "cell_type": "markdown",
   "id": "e623ca3d",
   "metadata": {},
   "source": [
    "x + y + z = 6\n",
    "\n",
    "2y + 5z = -4\n",
    "\n",
    "2x + 5y -z = 27"
   ]
  },
  {
   "cell_type": "code",
   "execution_count": 2,
   "id": "69e109d2",
   "metadata": {},
   "outputs": [
    {
     "name": "stdout",
     "output_type": "stream",
     "text": [
      "[ 5.  3. -2.]\n"
     ]
    }
   ],
   "source": [
    "## To solve the simultaneous equations for the given 3 equations, I prefer to go with the following approach.\n",
    "\n",
    "## Step 01- Derive matrix from the equations\n",
    "\n",
    "## |  1   1   1   |   x  |    6\n",
    "## |  0   2   5   |   y  | =  -4\n",
    "## |  2   5   -1  |   z  |    27\n",
    "\n",
    "\n",
    "## Step 02- Using the required library/ies. Here \"numpy\"\n",
    "\n",
    "## Step 03- identify/define the coefficient and result\n",
    "\n",
    "## Step 04- Linear Algebra function to solve the given problem:\n",
    "\n",
    "import numpy as np\n",
    "coef = np.array([[1, 1, 1], [0, 2, 5], [2, 5, -1]])\n",
    "result = np.array([6, -4, 27])\n",
    "solution = np.linalg.solve(coef, result)\n",
    "print(solution)\n",
    "\n",
    "\n"
   ]
  },
  {
   "cell_type": "markdown",
   "id": "4c5149b0",
   "metadata": {},
   "source": [
    "## Alternate approach:"
   ]
  },
  {
   "cell_type": "code",
   "execution_count": 3,
   "id": "cea87c77",
   "metadata": {},
   "outputs": [
    {
     "name": "stdout",
     "output_type": "stream",
     "text": [
      "[ 5.  3. -2.]\n"
     ]
    }
   ],
   "source": [
    "import numpy as np\n",
    "coef_a = [[1, 1, 1], [0, 2, 5], [2, 5, -1]]\n",
    "result_a = [6, -4, 27]\n",
    "\n",
    "solution_a = np.linalg.inv(coef_a).dot(result_a)\n",
    "print(solution_a)"
   ]
  },
  {
   "cell_type": "markdown",
   "id": "6c7f6454",
   "metadata": {},
   "source": [
    "# Question No 3\n",
    "## Find the intercept, coefficient value and error term for this regression problem in Python. How would you convey (interpret) these results in a business context?\n",
    "\n",
    "N.B.: Question calls out that the dataset size is 31 but I observed the size to be 30. Not sure if I got the right file.\n",
    "\n"
   ]
  },
  {
   "cell_type": "code",
   "execution_count": 7,
   "id": "501672b0",
   "metadata": {},
   "outputs": [
    {
     "data": {
      "text/html": [
       "<div>\n",
       "<style scoped>\n",
       "    .dataframe tbody tr th:only-of-type {\n",
       "        vertical-align: middle;\n",
       "    }\n",
       "\n",
       "    .dataframe tbody tr th {\n",
       "        vertical-align: top;\n",
       "    }\n",
       "\n",
       "    .dataframe thead th {\n",
       "        text-align: right;\n",
       "    }\n",
       "</style>\n",
       "<table border=\"1\" class=\"dataframe\">\n",
       "  <thead>\n",
       "    <tr style=\"text-align: right;\">\n",
       "      <th></th>\n",
       "      <th>YearsExperience</th>\n",
       "      <th>Salary</th>\n",
       "    </tr>\n",
       "  </thead>\n",
       "  <tbody>\n",
       "    <tr>\n",
       "      <th>0</th>\n",
       "      <td>1.1</td>\n",
       "      <td>39343.0</td>\n",
       "    </tr>\n",
       "    <tr>\n",
       "      <th>1</th>\n",
       "      <td>1.3</td>\n",
       "      <td>46205.0</td>\n",
       "    </tr>\n",
       "  </tbody>\n",
       "</table>\n",
       "</div>"
      ],
      "text/plain": [
       "   YearsExperience   Salary\n",
       "0              1.1  39343.0\n",
       "1              1.3  46205.0"
      ]
     },
     "execution_count": 7,
     "metadata": {},
     "output_type": "execute_result"
    }
   ],
   "source": [
    "# The data set consists of exactly 2 input parameters; \"YearsExperience\" and \"Salary\", which can be derived as X and Y. Due to the simple representation of Linear relation the values are directly proportonate to each other. As X increases or decreases, Y follows the same pattern.\n",
    "\n",
    "# The derived formula would be : Y = w0 + w1(x); for the Intercept and Coefficient represented in the form of \"w0\" and \"w1\" and input \"x\"\n",
    "\n",
    "import numpy as np\n",
    "import pandas as pd\n",
    "import matplotlib.pyplot as pypl\n",
    "import seaborn as sns\n",
    "from sklearn.model_selection import train_test_split\n",
    "from sklearn.linear_model import LinearRegression\n",
    "from sklearn.metrics import mean_squared_error, r2_score, metrics\n",
    "\n",
    "ctcdataset = pd.read_csv('C:/Users/niranjans3ln/01 BITS Pilani/Assignments/Regression/Salary_Data.csv')\n",
    "ctcdataset.head(2)\n",
    "\n"
   ]
  },
  {
   "cell_type": "code",
   "execution_count": 8,
   "id": "e72e9234",
   "metadata": {},
   "outputs": [
    {
     "data": {
      "text/plain": [
       "(30, 2)"
      ]
     },
     "execution_count": 8,
     "metadata": {},
     "output_type": "execute_result"
    }
   ],
   "source": [
    "ctcdataset.shape\n"
   ]
  },
  {
   "cell_type": "code",
   "execution_count": 9,
   "id": "a57cee4a",
   "metadata": {},
   "outputs": [
    {
     "data": {
      "text/plain": [
       "Index(['YearsExperience', 'Salary'], dtype='object')"
      ]
     },
     "execution_count": 9,
     "metadata": {},
     "output_type": "execute_result"
    }
   ],
   "source": [
    "ctcdataset.columns"
   ]
  },
  {
   "cell_type": "code",
   "execution_count": 12,
   "id": "b3558619",
   "metadata": {},
   "outputs": [
    {
     "data": {
      "text/plain": [
       "<bound method DataFrame.info of     YearsExperience    Salary\n",
       "0               1.1   39343.0\n",
       "1               1.3   46205.0\n",
       "2               1.5   37731.0\n",
       "3               2.0   43525.0\n",
       "4               2.2   39891.0\n",
       "5               2.9   56642.0\n",
       "6               3.0   60150.0\n",
       "7               3.2   54445.0\n",
       "8               3.2   64445.0\n",
       "9               3.7   57189.0\n",
       "10              3.9   63218.0\n",
       "11              4.0   55794.0\n",
       "12              4.0   56957.0\n",
       "13              4.1   57081.0\n",
       "14              4.5   61111.0\n",
       "15              4.9   67938.0\n",
       "16              5.1   66029.0\n",
       "17              5.3   83088.0\n",
       "18              5.9   81363.0\n",
       "19              6.0   93940.0\n",
       "20              6.8   91738.0\n",
       "21              7.1   98273.0\n",
       "22              7.9  101302.0\n",
       "23              8.2  113812.0\n",
       "24              8.7  109431.0\n",
       "25              9.0  105582.0\n",
       "26              9.5  116969.0\n",
       "27              9.6  112635.0\n",
       "28             10.3  122391.0\n",
       "29             10.5  121872.0>"
      ]
     },
     "execution_count": 12,
     "metadata": {},
     "output_type": "execute_result"
    }
   ],
   "source": [
    "ctcdataset.info"
   ]
  },
  {
   "cell_type": "code",
   "execution_count": 13,
   "id": "9cdf8a34",
   "metadata": {},
   "outputs": [
    {
     "name": "stdout",
     "output_type": "stream",
     "text": [
      "<class 'pandas.core.frame.DataFrame'>\n",
      "RangeIndex: 30 entries, 0 to 29\n",
      "Data columns (total 2 columns):\n",
      " #   Column           Non-Null Count  Dtype  \n",
      "---  ------           --------------  -----  \n",
      " 0   YearsExperience  30 non-null     float64\n",
      " 1   Salary           30 non-null     float64\n",
      "dtypes: float64(2)\n",
      "memory usage: 608.0 bytes\n"
     ]
    }
   ],
   "source": [
    "ctcdataset.info()"
   ]
  },
  {
   "cell_type": "code",
   "execution_count": 14,
   "id": "33de4666",
   "metadata": {},
   "outputs": [
    {
     "name": "stdout",
     "output_type": "stream",
     "text": [
      " X : [[ 1.1]\n",
      " [ 1.3]\n",
      " [ 1.5]\n",
      " [ 2. ]\n",
      " [ 2.2]\n",
      " [ 2.9]\n",
      " [ 3. ]\n",
      " [ 3.2]\n",
      " [ 3.2]\n",
      " [ 3.7]\n",
      " [ 3.9]\n",
      " [ 4. ]\n",
      " [ 4. ]\n",
      " [ 4.1]\n",
      " [ 4.5]\n",
      " [ 4.9]\n",
      " [ 5.1]\n",
      " [ 5.3]\n",
      " [ 5.9]\n",
      " [ 6. ]\n",
      " [ 6.8]\n",
      " [ 7.1]\n",
      " [ 7.9]\n",
      " [ 8.2]\n",
      " [ 8.7]\n",
      " [ 9. ]\n",
      " [ 9.5]\n",
      " [ 9.6]\n",
      " [10.3]\n",
      " [10.5]]\n",
      " Y : [ 39343.  46205.  37731.  43525.  39891.  56642.  60150.  54445.  64445.\n",
      "  57189.  63218.  55794.  56957.  57081.  61111.  67938.  66029.  83088.\n",
      "  81363.  93940.  91738.  98273. 101302. 113812. 109431. 105582. 116969.\n",
      " 112635. 122391. 121872.]\n"
     ]
    }
   ],
   "source": [
    "x = ctcdataset.iloc[:, :-1].values\n",
    "y = ctcdataset.iloc[:, 1].values\n",
    "\n",
    "print(' X :', x)\n",
    "print(' Y :', y)"
   ]
  },
  {
   "cell_type": "code",
   "execution_count": 16,
   "id": "06df5e4a",
   "metadata": {},
   "outputs": [
    {
     "name": "stdout",
     "output_type": "stream",
     "text": [
      " X :     YearsExperience\n",
      "0               1.1\n",
      "1               1.3\n",
      "2               1.5\n",
      "3               2.0\n",
      "4               2.2\n",
      "5               2.9\n",
      "6               3.0\n",
      "7               3.2\n",
      "8               3.2\n",
      "9               3.7\n",
      "10              3.9\n",
      "11              4.0\n",
      "12              4.0\n",
      "13              4.1\n",
      "14              4.5\n",
      "15              4.9\n",
      "16              5.1\n",
      "17              5.3\n",
      "18              5.9\n",
      "19              6.0\n",
      "20              6.8\n",
      "21              7.1\n",
      "22              7.9\n",
      "23              8.2\n",
      "24              8.7\n",
      "25              9.0\n",
      "26              9.5\n",
      "27              9.6\n",
      "28             10.3\n",
      "29             10.5\n",
      " Y :       Salary\n",
      "0    39343.0\n",
      "1    46205.0\n",
      "2    37731.0\n",
      "3    43525.0\n",
      "4    39891.0\n",
      "5    56642.0\n",
      "6    60150.0\n",
      "7    54445.0\n",
      "8    64445.0\n",
      "9    57189.0\n",
      "10   63218.0\n",
      "11   55794.0\n",
      "12   56957.0\n",
      "13   57081.0\n",
      "14   61111.0\n",
      "15   67938.0\n",
      "16   66029.0\n",
      "17   83088.0\n",
      "18   81363.0\n",
      "19   93940.0\n",
      "20   91738.0\n",
      "21   98273.0\n",
      "22  101302.0\n",
      "23  113812.0\n",
      "24  109431.0\n",
      "25  105582.0\n",
      "26  116969.0\n",
      "27  112635.0\n",
      "28  122391.0\n",
      "29  121872.0\n"
     ]
    }
   ],
   "source": [
    "x = ctcdataset[['YearsExperience']]\n",
    "y = ctcdataset[['Salary']]\n",
    "\n",
    "print(' X :', x)\n",
    "print(' Y :', y)"
   ]
  },
  {
   "cell_type": "code",
   "execution_count": 43,
   "id": "2a79f218",
   "metadata": {},
   "outputs": [
    {
     "name": "stdout",
     "output_type": "stream",
     "text": [
      "<matplotlib.collections.PathCollection object at 0x0000020A4F8BB670>\n",
      "[<matplotlib.lines.Line2D object at 0x0000020A4F8E9C40>]\n"
     ]
    },
    {
     "data": {
      "image/png": "[encoded data removed]",
      "text/plain": [
       "<Figure size 432x288 with 1 Axes>"
      ]
     },
     "metadata": {
      "needs_background": "light"
     },
     "output_type": "display_data"
    }
   ],
   "source": [
    "\n",
    "print(pypl.scatter(x, y))\n",
    "print(pypl.plot(x, results, color='red'))"
   ]
  },
  {
   "cell_type": "code",
   "execution_count": 20,
   "id": "760e5c86",
   "metadata": {},
   "outputs": [],
   "source": [
    "target_model = LinearRegression().fit(x, y)"
   ]
  },
  {
   "cell_type": "code",
   "execution_count": 21,
   "id": "3dc68918",
   "metadata": {},
   "outputs": [
    {
     "name": "stdout",
     "output_type": "stream",
     "text": [
      "Model:  LinearRegression()\n"
     ]
    }
   ],
   "source": [
    "print(\"Model: \", target_model)"
   ]
  },
  {
   "cell_type": "code",
   "execution_count": 23,
   "id": "314ad08b",
   "metadata": {},
   "outputs": [
    {
     "name": "stdout",
     "output_type": "stream",
     "text": [
      "Model > Intercept:  [25792.20019867]\n"
     ]
    }
   ],
   "source": [
    "print(\"Model > Intercept: \", target_model.intercept_)"
   ]
  },
  {
   "cell_type": "code",
   "execution_count": 24,
   "id": "bd243bd9",
   "metadata": {},
   "outputs": [
    {
     "name": "stdout",
     "output_type": "stream",
     "text": [
      "Model > Coefficient:  [[9449.96232146]]\n"
     ]
    }
   ],
   "source": [
    "print(\"Model > Coefficient: \", target_model.coef_)"
   ]
  },
  {
   "cell_type": "code",
   "execution_count": 28,
   "id": "6e11a450",
   "metadata": {},
   "outputs": [],
   "source": [
    "results = target_model.predict(x)"
   ]
  },
  {
   "cell_type": "code",
   "execution_count": null,
   "id": "9da208e9",
   "metadata": {},
   "outputs": [],
   "source": [
    "\n",
    "\n"
   ]
  },
  {
   "cell_type": "markdown",
   "id": "36af7de6",
   "metadata": {},
   "source": [
    "Mean Squared Error (MSE) = numpy.sum((result -y) ** 2)\n",
    "\n",
    "Root Mean Square Error (RMSE) : numpy.sqrt(MSE / Training Data)\n",
    "\n",
    "RMSE = numpy.sqrt(MSE / n), where n = 30 records"
   ]
  },
  {
   "cell_type": "code",
   "execution_count": 31,
   "id": "624ac8d2",
   "metadata": {},
   "outputs": [
    {
     "name": "stdout",
     "output_type": "stream",
     "text": [
      "Error Term: RMSE:  5592.043608760662\n"
     ]
    }
   ],
   "source": [
    "rmse = np.sqrt(mean_squared_error(y, results))\n",
    "\n",
    "print(\"Error Term: RMSE: \", rmse)"
   ]
  },
  {
   "cell_type": "code",
   "execution_count": 32,
   "id": "e54ef686",
   "metadata": {},
   "outputs": [],
   "source": [
    "r2 = r2_score(y, results)"
   ]
  },
  {
   "cell_type": "code",
   "execution_count": 33,
   "id": "4c432e1a",
   "metadata": {},
   "outputs": [
    {
     "name": "stdout",
     "output_type": "stream",
     "text": [
      "Coefficient of determination is  0.9569566641435086\n"
     ]
    }
   ],
   "source": [
    "print('Coefficient of determination is ', r2)"
   ]
  },
  {
   "cell_type": "markdown",
   "id": "1511e1c5",
   "metadata": {},
   "source": [
    "Businessand Mathematical Understanding:\n",
    "\n",
    "The employee-wise salary dataset contains salary (y) for each individual employee based on their years of experience (x)\n",
    "\n",
    "The dataset depicts a single variable linear relation between x and y.\n",
    "i.e., as the years of experience increases, so will the salary of the employee.\n",
    "\n",
    "As x and y are Linearly Related, let's assume this to be of the form: y = w0 + w1(x), where w0 = INTERCEPT and w1 = COEFFICIENT\n",
    "\n",
    "Size f dataset (30, 2)\n",
    "Column names "
   ]
  },
  {
   "cell_type": "code",
   "execution_count": 42,
   "id": "cc657a5c",
   "metadata": {},
   "outputs": [],
   "source": [
    "# END OF FIRST METHOD (Mixed with Method Two in some places)"
   ]
  },
  {
   "cell_type": "code",
   "execution_count": 35,
   "id": "7a5063e3",
   "metadata": {},
   "outputs": [
    {
     "name": "stdout",
     "output_type": "stream",
     "text": [
      "Intercept:  [26777.3913412]\n"
     ]
    },
    {
     "data": {
      "text/html": [
       "<div>\n",
       "<style scoped>\n",
       "    .dataframe tbody tr th:only-of-type {\n",
       "        vertical-align: middle;\n",
       "    }\n",
       "\n",
       "    .dataframe tbody tr th {\n",
       "        vertical-align: top;\n",
       "    }\n",
       "\n",
       "    .dataframe thead th {\n",
       "        text-align: right;\n",
       "    }\n",
       "</style>\n",
       "<table border=\"1\" class=\"dataframe\">\n",
       "  <thead>\n",
       "    <tr style=\"text-align: right;\">\n",
       "      <th></th>\n",
       "      <th>Coefficient</th>\n",
       "    </tr>\n",
       "  </thead>\n",
       "  <tbody>\n",
       "    <tr>\n",
       "      <th>YearsExperience</th>\n",
       "      <td>9360.261286</td>\n",
       "    </tr>\n",
       "  </tbody>\n",
       "</table>\n",
       "</div>"
      ],
      "text/plain": [
       "                 Coefficient\n",
       "YearsExperience  9360.261286"
      ]
     },
     "execution_count": 35,
     "metadata": {},
     "output_type": "execute_result"
    }
   ],
   "source": [
    "# SECOND METHOD BEGINS\n",
    "\n",
    "x_train, x_test, y_train, y_test = train_test_split(x, y, test_size = 0.3, random_state = 0)\n",
    "\n",
    "lm = LinearRegression()\n",
    "\n",
    "lm.fit(x_train, y_train)\n",
    "\n",
    "print('Intercept: ', lm.intercept_)\n",
    "\n",
    "coeff_df = pd.DataFrame(lm.coef_, x.columns, columns = ['Coefficient'])\n",
    "coeff_df\n",
    "\n"
   ]
  },
  {
   "cell_type": "code",
   "execution_count": 37,
   "id": "11fce3c5",
   "metadata": {},
   "outputs": [
    {
     "data": {
      "image/png": "[encoded data removed]",
      "text/plain": [
       "<Figure size 432x288 with 1 Axes>"
      ]
     },
     "metadata": {
      "needs_background": "light"
     },
     "output_type": "display_data"
    }
   ],
   "source": [
    "from sklearn import metrics\n",
    "\n",
    "predictions = lm.predict(x_test)\n",
    "\n",
    "pypl.scatter(x_train, y_train, color = 'red')\n",
    "pypl.plot(x_train, lm.predict(x_train), color = 'blue')\n",
    "pypl.title('Salary vs Experience Training Dataset')\n",
    "pypl.xlabel('Years of Experience')\n",
    "pypl.ylabel('Cost to Company')\n",
    "pypl.show()"
   ]
  },
  {
   "cell_type": "code",
   "execution_count": 38,
   "id": "4e72742b",
   "metadata": {},
   "outputs": [
    {
     "data": {
      "image/png": "[encoded data removed]",
      "text/plain": [
       "<Figure size 432x288 with 1 Axes>"
      ]
     },
     "metadata": {
      "needs_background": "light"
     },
     "output_type": "display_data"
    }
   ],
   "source": [
    "pypl.scatter(x_test, y_test, color = 'red')\n",
    "pypl.plot(x_train, lm.predict(x_train), color = 'blue')\n",
    "pypl.title('Salary vs Experience Test Dataset')\n",
    "pypl.xlabel('Years of Experience')\n",
    "pypl.ylabel('Cost to Company')\n",
    "pypl.show()"
   ]
  },
  {
   "cell_type": "code",
   "execution_count": 40,
   "id": "29a94a8f",
   "metadata": {},
   "outputs": [
    {
     "name": "stdout",
     "output_type": "stream",
     "text": [
      "MSE:  23370078.800832972\n",
      "RMSE:  4834.260936361728\n",
      "MAE:  3737.4178618788987\n"
     ]
    }
   ],
   "source": [
    "print('MSE: ', metrics.mean_squared_error(y_test, predictions))\n",
    "print('RMSE: ', np.sqrt(metrics.mean_squared_error(y_test, predictions)))\n",
    "print('MAE: ', metrics.mean_absolute_error(y_test, predictions))"
   ]
  },
  {
   "cell_type": "markdown",
   "id": "1ea1091b",
   "metadata": {},
   "source": [
    "Business Context:\n",
    "Here we have built a model to predict the salary based on years of experience\n",
    "1. The y intercept value is 26777 which means even if there is zero years of experience, the minimum salary will be 26,777.\n",
    "2. The coefficient is 9360 which means with every year increase in year of experience, the salary will rise by 9360.\n",
    "3. Mean Squared Error: It shows how fit our Regression Model is, the lower the number, the better the model. The formula to calculate is MSE = 1 / n ((summation of square of(yi - y^i)) where i = 1 to n and yi is the actual value as y^i is predicted value.\n"
   ]
  },
  {
   "cell_type": "code",
   "execution_count": 41,
   "id": "7f2e84f1",
   "metadata": {},
   "outputs": [],
   "source": [
    "## END OF SECOND METHOD"
   ]
  },
  {
   "cell_type": "code",
   "execution_count": null,
   "id": "fd5564b1",
   "metadata": {},
   "outputs": [],
   "source": []
  }
 ],
 "metadata": {
  "kernelspec": {
   "display_name": "Python 3",
   "language": "python",
   "name": "python3"
  },
  "language_info": {
   "codemirror_mode": {
    "name": "ipython",
    "version": 3
   },
   "file_extension": ".py",
   "mimetype": "text/x-python",
   "name": "python",
   "nbconvert_exporter": "python",
   "pygments_lexer": "ipython3",
   "version": "3.8.8"
  }
 },
 "nbformat": 4,
 "nbformat_minor": 5
}
