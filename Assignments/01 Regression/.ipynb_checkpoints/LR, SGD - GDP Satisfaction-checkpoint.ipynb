{
 "cells": [
  {
   "cell_type": "code",
   "execution_count": 1,
   "id": "99327b74",
   "metadata": {},
   "outputs": [],
   "source": [
    "import pandas as pd\n",
    "import numpy as np\n",
    "import matplotlib.pyplot as plt\n",
    "from sklearn.linear_model import SGDRegressor, LinearRegression\n",
    "from sklearn.metrics import mean_squared_error\n",
    "import math\n",
    "\n",
    "dataset = pd.read_csv('GDP_Satisfaction.csv')\n"
   ]
  },
  {
   "cell_type": "code",
   "execution_count": 2,
   "id": "798cde6b",
   "metadata": {},
   "outputs": [
    {
     "data": {
      "text/html": [
       "<div>\n",
       "<style scoped>\n",
       "    .dataframe tbody tr th:only-of-type {\n",
       "        vertical-align: middle;\n",
       "    }\n",
       "\n",
       "    .dataframe tbody tr th {\n",
       "        vertical-align: top;\n",
       "    }\n",
       "\n",
       "    .dataframe thead th {\n",
       "        text-align: right;\n",
       "    }\n",
       "</style>\n",
       "<table border=\"1\" class=\"dataframe\">\n",
       "  <thead>\n",
       "    <tr style=\"text-align: right;\">\n",
       "      <th></th>\n",
       "      <th>GDP</th>\n",
       "      <th>Satisfaction</th>\n",
       "    </tr>\n",
       "  </thead>\n",
       "  <tbody>\n",
       "    <tr>\n",
       "      <th>0</th>\n",
       "      <td>39343</td>\n",
       "      <td>1.1</td>\n",
       "    </tr>\n",
       "    <tr>\n",
       "      <th>1</th>\n",
       "      <td>46205</td>\n",
       "      <td>1.3</td>\n",
       "    </tr>\n",
       "    <tr>\n",
       "      <th>2</th>\n",
       "      <td>37731</td>\n",
       "      <td>1.5</td>\n",
       "    </tr>\n",
       "    <tr>\n",
       "      <th>3</th>\n",
       "      <td>43525</td>\n",
       "      <td>2.0</td>\n",
       "    </tr>\n",
       "    <tr>\n",
       "      <th>4</th>\n",
       "      <td>39891</td>\n",
       "      <td>2.2</td>\n",
       "    </tr>\n",
       "  </tbody>\n",
       "</table>\n",
       "</div>"
      ],
      "text/plain": [
       "     GDP  Satisfaction\n",
       "0  39343           1.1\n",
       "1  46205           1.3\n",
       "2  37731           1.5\n",
       "3  43525           2.0\n",
       "4  39891           2.2"
      ]
     },
     "execution_count": 2,
     "metadata": {},
     "output_type": "execute_result"
    }
   ],
   "source": [
    "dataset.head()"
   ]
  },
  {
   "cell_type": "code",
   "execution_count": 3,
   "id": "58c5bbf8",
   "metadata": {},
   "outputs": [
    {
     "data": {
      "text/plain": [
       "<bound method DataFrame.info of        GDP  Satisfaction\n",
       "0    39343           1.1\n",
       "1    46205           1.3\n",
       "2    37731           1.5\n",
       "3    43525           2.0\n",
       "4    39891           2.2\n",
       "5    56642           2.9\n",
       "6    60150           3.0\n",
       "7    54445           3.2\n",
       "8    64445           3.2\n",
       "9    57189           3.7\n",
       "10   63218           3.9\n",
       "11   55794           4.0\n",
       "12   56957           4.0\n",
       "13   57081           4.1\n",
       "14   61111           4.5\n",
       "15   67938           4.9\n",
       "16   66029           5.1\n",
       "17   83088           5.3\n",
       "18   81363           5.9\n",
       "19   93940           6.0\n",
       "20   91738           6.8\n",
       "21   98273           7.1\n",
       "22  101302           7.9\n",
       "23  113812           8.2\n",
       "24  109431           8.7\n",
       "25  105582           9.0\n",
       "26  116969           9.5\n",
       "27  112635           9.6\n",
       "28  122391          10.3\n",
       "29  121872          10.5>"
      ]
     },
     "execution_count": 3,
     "metadata": {},
     "output_type": "execute_result"
    }
   ],
   "source": [
    "dataset.info"
   ]
  },
  {
   "cell_type": "code",
   "execution_count": 7,
   "id": "0a328d48",
   "metadata": {},
   "outputs": [
    {
     "name": "stdout",
     "output_type": "stream",
     "text": [
      "0     3.934300e-12\n",
      "1     4.620500e-12\n",
      "2     3.773100e-12\n",
      "3     4.352500e-12\n",
      "4     3.989100e-12\n",
      "5     5.664200e-12\n",
      "6     6.015000e-12\n",
      "7     5.444500e-12\n",
      "8     6.444500e-12\n",
      "9     5.718900e-12\n",
      "10    6.321800e-12\n",
      "11    5.579400e-12\n",
      "12    5.695700e-12\n",
      "13    5.708100e-12\n",
      "14    6.111100e-12\n",
      "15    6.793800e-12\n",
      "16    6.602900e-12\n",
      "17    8.308800e-12\n",
      "18    8.136300e-12\n",
      "19    9.394000e-12\n",
      "20    9.173800e-12\n",
      "21    9.827300e-12\n",
      "22    1.013020e-11\n",
      "23    1.138120e-11\n",
      "24    1.094310e-11\n",
      "25    1.055820e-11\n",
      "26    1.169690e-11\n",
      "27    1.126350e-11\n",
      "28    1.223910e-11\n",
      "29    1.218720e-11\n",
      "Name: GDP, dtype: float64\n",
      "[[3.93430e-12]\n",
      " [4.62050e-12]\n",
      " [3.77310e-12]\n",
      " [4.35250e-12]\n",
      " [3.98910e-12]\n",
      " [5.66420e-12]\n",
      " [6.01500e-12]\n",
      " [5.44450e-12]\n",
      " [6.44450e-12]\n",
      " [5.71890e-12]\n",
      " [6.32180e-12]\n",
      " [5.57940e-12]\n",
      " [5.69570e-12]\n",
      " [5.70810e-12]\n",
      " [6.11110e-12]\n",
      " [6.79380e-12]\n",
      " [6.60290e-12]\n",
      " [8.30880e-12]\n",
      " [8.13630e-12]\n",
      " [9.39400e-12]\n",
      " [9.17380e-12]\n",
      " [9.82730e-12]\n",
      " [1.01302e-11]\n",
      " [1.13812e-11]\n",
      " [1.09431e-11]\n",
      " [1.05582e-11]\n",
      " [1.16969e-11]\n",
      " [1.12635e-11]\n",
      " [1.22391e-11]\n",
      " [1.21872e-11]]\n"
     ]
    }
   ],
   "source": [
    "x = dataset['GDP']\n",
    "x /= 10000\n",
    "print(x)\n",
    "x = x.values.reshape(-1,1)\n",
    "print(x)"
   ]
  },
  {
   "cell_type": "code",
   "execution_count": 8,
   "id": "794b9490",
   "metadata": {},
   "outputs": [
    {
     "name": "stdout",
     "output_type": "stream",
     "text": [
      "[[ 1.1]\n",
      " [ 1.3]\n",
      " [ 1.5]\n",
      " [ 2. ]\n",
      " [ 2.2]\n",
      " [ 2.9]\n",
      " [ 3. ]\n",
      " [ 3.2]\n",
      " [ 3.2]\n",
      " [ 3.7]\n",
      " [ 3.9]\n",
      " [ 4. ]\n",
      " [ 4. ]\n",
      " [ 4.1]\n",
      " [ 4.5]\n",
      " [ 4.9]\n",
      " [ 5.1]\n",
      " [ 5.3]\n",
      " [ 5.9]\n",
      " [ 6. ]\n",
      " [ 6.8]\n",
      " [ 7.1]\n",
      " [ 7.9]\n",
      " [ 8.2]\n",
      " [ 8.7]\n",
      " [ 9. ]\n",
      " [ 9.5]\n",
      " [ 9.6]\n",
      " [10.3]\n",
      " [10.5]]\n"
     ]
    }
   ],
   "source": [
    "y = dataset['Satisfaction'].values.reshape(-1,1)\n",
    "print(y)"
   ]
  },
  {
   "cell_type": "code",
   "execution_count": 9,
   "id": "935d08bc",
   "metadata": {},
   "outputs": [
    {
     "name": "stdout",
     "output_type": "stream",
     "text": [
      "W0 / Theta 0 : INTERCEPT:  [-2.38316056]\n",
      "W1 / Theta 1 : COEFFICIENT:  [[1.01265659e+12]]\n"
     ]
    }
   ],
   "source": [
    "lreg = LinearRegression()\n",
    "lreg.fit(x, y)\n",
    "print('W0 / Theta 0 : INTERCEPT: ', lreg.intercept_)\n",
    "print('W1 / Theta 1 : COEFFICIENT: ', lreg.coef_)"
   ]
  },
  {
   "cell_type": "code",
   "execution_count": null,
   "id": "65f769f6",
   "metadata": {},
   "outputs": [],
   "source": []
  },
  {
   "cell_type": "code",
   "execution_count": 11,
   "id": "6b7b2c95",
   "metadata": {},
   "outputs": [
    {
     "name": "stderr",
     "output_type": "stream",
     "text": [
      "C:\\Users\\niranjans3ln\\anaconda3\\lib\\site-packages\\sklearn\\utils\\validation.py:63: DataConversionWarning: A column-vector y was passed when a 1d array was expected. Please change the shape of y to (n_samples, ), for example using ravel().\n",
      "  return f(*args, **kwargs)\n"
     ]
    },
    {
     "data": {
      "text/plain": [
       "SGDRegressor(max_iter=2500, tol=0.0001)"
      ]
     },
     "execution_count": 11,
     "metadata": {},
     "output_type": "execute_result"
    }
   ],
   "source": [
    "# Stochastic Gradient Regression\n",
    "\n",
    "reg = SGDRegressor(max_iter = 2500, tol = 0.0001, eta0 = 1e-2)\n",
    "reg.fit(x, y)\n",
    "\n"
   ]
  },
  {
   "cell_type": "code",
   "execution_count": 12,
   "id": "e7c9601d",
   "metadata": {},
   "outputs": [
    {
     "name": "stdout",
     "output_type": "stream",
     "text": [
      "W0 / Theta 0 : INTERCEPT:  [5.29024039]\n",
      "W0 / Theta 0 : COEFFICIENT:  [7.88699703e-11]\n"
     ]
    }
   ],
   "source": [
    "print('W0 / Theta 0 : INTERCEPT: ', reg.intercept_)\n",
    "print('W0 / Theta 0 : COEFFICIENT: ', reg.coef_)"
   ]
  },
  {
   "cell_type": "code",
   "execution_count": 13,
   "id": "e6aa8c63",
   "metadata": {},
   "outputs": [],
   "source": [
    "num_data = x.shape[0]\n",
    "\n",
    "y_pred = reg.predict(x)\n",
    "mse = mean_squared_error(y, y_pred)\n",
    "rmse = math.sqrt(mse)\n",
    "rse = mse * num_data\n",
    "rse /= num_data-2\n",
    "rse = math.sqrt(rse)\n",
    "r2_score = reg.score(x,y)"
   ]
  },
  {
   "cell_type": "code",
   "execution_count": 14,
   "id": "2556bcb7",
   "metadata": {},
   "outputs": [
    {
     "name": "stdout",
     "output_type": "stream",
     "text": [
      "RMSE - Root Mean Squared Error :  2.7902847237630577\n",
      "RSE - Root Squared Error :  2.888219082941971\n",
      "R^2 - R Square :  -6.85001225886328e-05\n"
     ]
    }
   ],
   "source": [
    "print('RMSE - Root Mean Squared Error : ', rmse)\n",
    "print('RSE - Root Squared Error : ', rse)\n",
    "print('R^2 - R Square : ', r2_score)"
   ]
  },
  {
   "cell_type": "code",
   "execution_count": null,
   "id": "d67bffba",
   "metadata": {},
   "outputs": [],
   "source": []
  },
  {
   "cell_type": "code",
   "execution_count": 15,
   "id": "c08cb2a4",
   "metadata": {},
   "outputs": [],
   "source": [
    "# In case of the Linear Regression the respective values should be as follows\n",
    "\n",
    "y_pred = lreg.predict(x)\n",
    "mse = mean_squared_error(y, y_pred)\n",
    "rmse = math.sqrt(mse)\n",
    "rse = mse * num_data\n",
    "rse /= num_data-2\n",
    "rse = math.sqrt(rse)\n",
    "r2_score = lreg.score(x,y)"
   ]
  },
  {
   "cell_type": "code",
   "execution_count": 16,
   "id": "d6defd3d",
   "metadata": {},
   "outputs": [
    {
     "name": "stdout",
     "output_type": "stream",
     "text": [
      "RMSE - Root Mean Squared Error :  0.578877418174874\n",
      "RSE - Root Squared Error :  0.5991950540452535\n",
      "R^2 - R Square :  0.9569566641435086\n"
     ]
    }
   ],
   "source": [
    "print('RMSE - Root Mean Squared Error : ', rmse)\n",
    "print('RSE - Root Squared Error : ', rse)\n",
    "print('R^2 - R Square : ', r2_score)"
   ]
  },
  {
   "cell_type": "code",
   "execution_count": null,
   "id": "0b3f5407",
   "metadata": {},
   "outputs": [],
   "source": []
  }
 ],
 "metadata": {
  "kernelspec": {
   "display_name": "Python 3",
   "language": "python",
   "name": "python3"
  },
  "language_info": {
   "codemirror_mode": {
    "name": "ipython",
    "version": 3
   },
   "file_extension": ".py",
   "mimetype": "text/x-python",
   "name": "python",
   "nbconvert_exporter": "python",
   "pygments_lexer": "ipython3",
   "version": "3.8.8"
  }
 },
 "nbformat": 4,
 "nbformat_minor": 5
}
