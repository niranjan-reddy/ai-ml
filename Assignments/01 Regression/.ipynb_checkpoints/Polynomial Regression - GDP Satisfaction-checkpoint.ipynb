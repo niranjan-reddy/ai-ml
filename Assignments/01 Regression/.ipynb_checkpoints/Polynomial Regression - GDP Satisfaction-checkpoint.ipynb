{
 "cells": [
  {
   "cell_type": "code",
   "execution_count": 2,
   "id": "30825baf",
   "metadata": {},
   "outputs": [],
   "source": [
    "import pandas as pd\n",
    "import numpy as np\n",
    "import matplotlib.pyplot as plt \n",
    "\n",
    "from sklearn.linear_model import LinearRegression\n",
    "from sklearn.metrics import mean_squared_error\n",
    "from sklearn.preprocessing import PolynomialFeatures\n",
    "from sklearn.model_selection import train_test_split\n",
    "\n",
    "import math\n",
    "\n",
    "df = pd.read_csv('GDP_Satisfaction.csv')"
   ]
  },
  {
   "cell_type": "code",
   "execution_count": 5,
   "id": "d65d5588",
   "metadata": {},
   "outputs": [],
   "source": [
    "x = df['GDP'].values / 10000\n",
    "x = x.reshape(-1, 1)\n",
    "y = df['Satisfaction'].values.reshape(-1, 1)"
   ]
  },
  {
   "cell_type": "code",
   "execution_count": 6,
   "id": "ede7b351",
   "metadata": {},
   "outputs": [],
   "source": [
    "poly = PolynomialFeatures(degree = 3)\n",
    "modified_x = poly.fit_transform(x)"
   ]
  },
  {
   "cell_type": "code",
   "execution_count": 7,
   "id": "ef430704",
   "metadata": {},
   "outputs": [],
   "source": [
    "x_train, x_test, y_train, y_test = train_test_split(modified_x, y, test_size = 0.30, random_state = 1)"
   ]
  },
  {
   "cell_type": "code",
   "execution_count": 8,
   "id": "83295f85",
   "metadata": {},
   "outputs": [
    {
     "data": {
      "text/plain": [
       "LinearRegression()"
      ]
     },
     "execution_count": 8,
     "metadata": {},
     "output_type": "execute_result"
    }
   ],
   "source": [
    "reg = LinearRegression()\n",
    "reg.fit(x_train, y_train)"
   ]
  },
  {
   "cell_type": "code",
   "execution_count": 9,
   "id": "8369e8ba",
   "metadata": {},
   "outputs": [
    {
     "name": "stdout",
     "output_type": "stream",
     "text": [
      "Train RMSE :  0.5831964543366379\n",
      "Test RMSE :  0.5942872115005385\n"
     ]
    }
   ],
   "source": [
    "print('Train RMSE : ', math.sqrt(mean_squared_error(y_train, reg.predict(x_train))))\n",
    "print('Test RMSE : ', math.sqrt(mean_squared_error(y_test, reg.predict(x_test))))\n"
   ]
  },
  {
   "cell_type": "code",
   "execution_count": 15,
   "id": "9828f4cf",
   "metadata": {},
   "outputs": [
    {
     "name": "stdout",
     "output_type": "stream",
     "text": [
      "Training Points:  21\n",
      "Testing Points:  9\n"
     ]
    },
    {
     "data": {
      "image/png": "[encoded data removed]",
      "text/plain": [
       "<Figure size 432x288 with 1 Axes>"
      ]
     },
     "metadata": {
      "needs_background": "light"
     },
     "output_type": "display_data"
    }
   ],
   "source": [
    "train_err = []\n",
    "test_err = []\n",
    "\n",
    "for i in range(1, 11):\n",
    "    poly = PolynomialFeatures(degree = i)\n",
    "    modified_x = poly.fit_transform(x)\n",
    "    \n",
    "    x_train, x_test, y_train, y_test = train_test_split(modified_x, y, test_size = 0.30, random_state = 1)\n",
    "    if i == 1:\n",
    "        print('Training Points: ', x_train.shape[0])\n",
    "        print('Testing Points: ', x_test.shape[0])\n",
    "        \n",
    "    reg = LinearRegression()\n",
    "    reg.fit(x_train, y_train)\n",
    "    \n",
    "    train_err.append(math.sqrt(mean_squared_error(y_train, reg.predict(x_train))))\n",
    "    test_err.append(math.sqrt(mean_squared_error(y_test, reg.predict(x_test))))\n",
    "    \n",
    "plt.xlabel('Polynomial Degree')\n",
    "plt.ylabel('RMSE')\n",
    "plt.plot(np.linspace(1, 11, 10), train_err, 'bo-', label = 'Train')\n",
    "plt.plot(np.linspace(1, 11, 10), test_err, 'ro-', label = 'Test')\n",
    "plt.legend()\n",
    "plt.show()"
   ]
  },
  {
   "cell_type": "code",
   "execution_count": null,
   "id": "a2dc40e3",
   "metadata": {},
   "outputs": [],
   "source": []
  }
 ],
 "metadata": {
  "kernelspec": {
   "display_name": "Python 3",
   "language": "python",
   "name": "python3"
  },
  "language_info": {
   "codemirror_mode": {
    "name": "ipython",
    "version": 3
   },
   "file_extension": ".py",
   "mimetype": "text/x-python",
   "name": "python",
   "nbconvert_exporter": "python",
   "pygments_lexer": "ipython3",
   "version": "3.8.8"
  }
 },
 "nbformat": 4,
 "nbformat_minor": 5
}
