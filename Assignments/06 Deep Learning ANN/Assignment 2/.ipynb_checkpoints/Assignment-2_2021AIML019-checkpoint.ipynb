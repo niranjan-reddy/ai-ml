{
 "cells": [
  {
   "cell_type": "markdown",
   "id": "f84b7acc",
   "metadata": {},
   "source": [
    "Problem Statement: Collection of yoga images covering 5 different poses.\n",
    "\n",
    "DataSet: Comprises of yoga pose images. Use 'train' folder images for training the model and  'test' for reporting the final numbers of F1 Score and the model accuracy.\n",
    "\n",
    "Files: archive.zip Download archive.zip\n",
    "\n",
    "Tasks: (You are free to use python libraries to solve the below tasks)\n",
    "\n",
    "1. Load the images in appropriate data structures in your program, ready to be passed as input to the model for training.  [2 points]\n",
    "\n",
    "2. Configure the CNN model (use keras tensorflow), an indicative (minimal) configuration is as below. Take activation function (A)=relu. Feel free to use standard values for anything that is not mentioned (eg, take pool size 2x2, filter size 3x3, and so on). [3 points]\n",
    "\n",
    "conv --> A --> pool\n",
    "\n",
    "(conv --> A) --> (conv --> A) --> pool\n",
    "\n",
    "full connected layer --> A\n",
    "\n",
    "softmax classifier\n",
    "\n",
    "3. Train the CNN model for E epoch (take E=25), save the train_loss, train_acc, validation_loss, validation_acc for each epoch and plot it after training has finished. [3 points]\n",
    "\n",
    "4. Evaluate the trained CNN model on test data. Print classification results. [1 point]\n",
    "\n",
    "5. Can you try to make changes in any way in the CNN model and improve your test accuracy? Let's call the model constructed as per step-2 above as 'default' and the improvement as 'improved' model.\n",
    "\n",
    "Plot precision and recall for default and improved model in a single bar plot. [2+1 points]\n",
    "\n",
    "Note: All the outputs of above tasks, namely code for Step-1 and Step-2, plots of step-3, step-5, and the print result of step-4  should be in a single notebook."
   ]
  },
  {
   "cell_type": "code",
   "execution_count": null,
   "id": "6f42525d",
   "metadata": {},
   "outputs": [],
   "source": []
  },
  {
   "cell_type": "code",
   "execution_count": null,
   "id": "8c44747c",
   "metadata": {},
   "outputs": [],
   "source": []
  },
  {
   "cell_type": "code",
   "execution_count": null,
   "id": "f5f21ede",
   "metadata": {},
   "outputs": [],
   "source": []
  },
  {
   "cell_type": "code",
   "execution_count": null,
   "id": "db858672",
   "metadata": {},
   "outputs": [],
   "source": []
  },
  {
   "cell_type": "code",
   "execution_count": null,
   "id": "fa9b52fd",
   "metadata": {},
   "outputs": [],
   "source": []
  },
  {
   "cell_type": "code",
   "execution_count": null,
   "id": "d344182a",
   "metadata": {},
   "outputs": [],
   "source": []
  },
  {
   "cell_type": "code",
   "execution_count": null,
   "id": "f32898b0",
   "metadata": {},
   "outputs": [],
   "source": []
  },
  {
   "cell_type": "code",
   "execution_count": null,
   "id": "7d6af220",
   "metadata": {},
   "outputs": [],
   "source": []
  }
 ],
 "metadata": {
  "kernelspec": {
   "display_name": "Python 3",
   "language": "python",
   "name": "python3"
  },
  "language_info": {
   "codemirror_mode": {
    "name": "ipython",
    "version": 3
   },
   "file_extension": ".py",
   "mimetype": "text/x-python",
   "name": "python",
   "nbconvert_exporter": "python",
   "pygments_lexer": "ipython3",
   "version": "3.8.8"
  }
 },
 "nbformat": 4,
 "nbformat_minor": 5
}
