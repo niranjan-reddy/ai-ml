{
 "cells": [
  {
   "cell_type": "code",
   "execution_count": 1,
   "metadata": {},
   "outputs": [],
   "source": [
    "# !pip install nltk\n",
    "# !pip install pandas\n",
    "# !pip install numpy\n",
    "# import nltk\n",
    "# nltk.download('stopwords')\n",
    "# nltk.download('punkt')\n",
    "# # !pip install ipython-autotime\n",
    "\n",
    "# # %load_ext autotime"
   ]
  },
  {
   "cell_type": "code",
   "execution_count": 2,
   "metadata": {},
   "outputs": [],
   "source": [
    "from nltk.corpus import stopwords\n",
    "from nltk.tokenize import word_tokenize\n",
    "from nltk.stem import PorterStemmer\n",
    "from num2words import num2words\n",
    "from collections import Counter\n",
    "from sklearn.manifold import TSNE\n",
    "\n",
    "import nltk\n",
    "import os\n",
    "import string\n",
    "import numpy as np\n",
    "import copy\n",
    "import pandas as pd\n",
    "import pickle\n",
    "import math\n",
    "import matplotlib.pyplot as plt"
   ]
  },
  {
   "cell_type": "code",
   "execution_count": 3,
   "metadata": {},
   "outputs": [],
   "source": [
    "title = \"20_newsgroups\""
   ]
  },
  {
   "cell_type": "code",
   "execution_count": 4,
   "metadata": {},
   "outputs": [],
   "source": [
    "paths = []\n",
    "for (dirpath, dirnames, filenames) in os.walk(str(os.getcwd())+'/'+title+'/rec.motorcycles'):\n",
    "    for i in filenames:\n",
    "        paths.append(str(dirpath)+str(\"/\")+i)\n",
    "for (dirpath, dirnames, filenames) in os.walk(str(os.getcwd())+'/'+title+'/comp.graphics'):\n",
    "    for i in filenames:\n",
    "        paths.append(str(dirpath)+str(\"/\")+i)"
   ]
  },
  {
   "cell_type": "code",
   "execution_count": 5,
   "metadata": {},
   "outputs": [
    {
     "data": {
      "text/plain": [
       "2000"
      ]
     },
     "execution_count": 5,
     "metadata": {},
     "output_type": "execute_result"
    }
   ],
   "source": [
    "len(paths)"
   ]
  },
  {
   "cell_type": "code",
   "execution_count": null,
   "metadata": {},
   "outputs": [],
   "source": []
  },
  {
   "cell_type": "code",
   "execution_count": 6,
   "metadata": {},
   "outputs": [],
   "source": [
    "def print_doc(id):\n",
    "    file = open(paths[id], 'r', encoding='cp1250')\n",
    "    text = file.read().strip()\n",
    "    file.close()\n",
    "    print(text)"
   ]
  },
  {
   "cell_type": "code",
   "execution_count": 7,
   "metadata": {},
   "outputs": [],
   "source": [
    "def convert_numbers(k):\n",
    "    for i in range(len(k)):\n",
    "        try:\n",
    "            k[i] = num2words(int(k[i]))\n",
    "        except:\n",
    "            pass\n",
    "    return k"
   ]
  },
  {
   "cell_type": "code",
   "execution_count": 8,
   "metadata": {},
   "outputs": [],
   "source": [
    "def doc_freq(word):\n",
    "    c = 0\n",
    "    try:\n",
    "        c = DF[word]\n",
    "    except:\n",
    "        pass\n",
    "    return c"
   ]
  },
  {
   "cell_type": "code",
   "execution_count": 9,
   "metadata": {},
   "outputs": [],
   "source": [
    "def cosine_sim(a, b):\n",
    "    cos_sim = np.dot(a, b)/(np.linalg.norm(a)*np.linalg.norm(b))\n",
    "    return cos_sim"
   ]
  },
  {
   "cell_type": "code",
   "execution_count": 10,
   "metadata": {},
   "outputs": [],
   "source": [
    "def preprocess(pd):\n",
    "    pd = pd.str.lower()\n",
    "    pd = pd.str.replace('[{}]'.format('!\"#$%&\\'()*+,-./:;<=>?@[\\\\]^_`{|}~\\n\\t'), ' ')\n",
    "    pd = pd.apply(lambda x: [lemmatizer.lemmatize(w) for w in w_tokenizer.tokenize(x)])\n",
    "    pd = pd.apply(lambda x: convert_numbers(x))\n",
    "    pd = pd.str.join(' ')\n",
    "    pd = pd.str.replace('[{}]'.format(string.punctuation), ' ')\n",
    "    \n",
    "    pd = pd.apply(lambda x: [lemmatizer.lemmatize(w) for w in w_tokenizer.tokenize(x)])    \n",
    "    pd = pd.apply(lambda x: [item for item in x if item not in stop_words])\n",
    "    pd = pd.apply(lambda x: [stemmer.stem(y) for y in x])\n",
    "    return pd"
   ]
  },
  {
   "cell_type": "code",
   "execution_count": null,
   "metadata": {},
   "outputs": [],
   "source": []
  },
  {
   "cell_type": "code",
   "execution_count": 11,
   "metadata": {},
   "outputs": [],
   "source": [
    "stop_words = stopwords.words('english')"
   ]
  },
  {
   "cell_type": "code",
   "execution_count": 12,
   "metadata": {},
   "outputs": [],
   "source": [
    "lemmatizer = nltk.stem.WordNetLemmatizer()\n",
    "stemmer = nltk.stem.PorterStemmer()\n",
    "w_tokenizer = nltk.tokenize.WhitespaceTokenizer()"
   ]
  },
  {
   "cell_type": "code",
   "execution_count": 13,
   "metadata": {},
   "outputs": [
    {
     "name": "stdout",
     "output_type": "stream",
     "text": [
      "0\n",
      "700\n",
      "1400\n"
     ]
    }
   ],
   "source": [
    "doc = 0\n",
    "docs = []\n",
    "\n",
    "for path in paths:\n",
    "    file = open(path, 'r', encoding='cp1250')\n",
    "    text = file.read().strip()\n",
    "    file.close()\n",
    "    \n",
    "    docs.append(text)\n",
    "    \n",
    "    if doc%700 == 0:\n",
    "        print(doc)\n",
    "        \n",
    "    doc += 1\n",
    "docs_pd = pd.DataFrame(docs)\n",
    "docs_pd[0] = preprocess(docs_pd[0])"
   ]
  },
  {
   "cell_type": "code",
   "execution_count": null,
   "metadata": {},
   "outputs": [],
   "source": []
  },
  {
   "cell_type": "code",
   "execution_count": 15,
   "metadata": {},
   "outputs": [],
   "source": [
    "DF = {}\n",
    "\n",
    "n = 0\n",
    "for tokens in docs_pd[0]:\n",
    "    for w in tokens:\n",
    "        try:\n",
    "            DF[w].add(n)\n",
    "        except:\n",
    "            DF[w] = {n}\n",
    "    n += 1\n",
    "for i in DF:\n",
    "    DF[i] = len(DF[i])"
   ]
  },
  {
   "cell_type": "code",
   "execution_count": null,
   "metadata": {},
   "outputs": [],
   "source": []
  },
  {
   "cell_type": "code",
   "execution_count": 16,
   "metadata": {},
   "outputs": [],
   "source": [
    "doc = 0\n",
    "N = docs_pd.shape[0]\n",
    "tf_idf = {}\n",
    "\n",
    "for tokens in docs_pd[0]:\n",
    "    \n",
    "    counter = Counter(tokens)\n",
    "    words_count = len(tokens)\n",
    "    \n",
    "    for token in np.unique(tokens):\n",
    "        \n",
    "        tf = counter[token]/words_count\n",
    "        df = doc_freq(token)\n",
    "        idf = np.log((N+1)/(df+1))\n",
    "        \n",
    "        tf_idf[doc, token] = tf*idf\n",
    "\n",
    "    doc += 1"
   ]
  },
  {
   "cell_type": "code",
   "execution_count": null,
   "metadata": {},
   "outputs": [],
   "source": []
  },
  {
   "cell_type": "code",
   "execution_count": 17,
   "metadata": {},
   "outputs": [],
   "source": [
    "total_vocab_size = len(DF)\n",
    "total_vocab = [x for x in DF]"
   ]
  },
  {
   "cell_type": "code",
   "execution_count": 18,
   "metadata": {},
   "outputs": [],
   "source": [
    "D = np.zeros((N, total_vocab_size))\n",
    "for i in tf_idf:\n",
    "    try:\n",
    "        ind = total_vocab.index(i[1])\n",
    "        D[i[0]][ind] = tf_idf[i]\n",
    "    except:\n",
    "        pass"
   ]
  },
  {
   "cell_type": "code",
   "execution_count": 19,
   "metadata": {},
   "outputs": [
    {
     "data": {
      "text/plain": [
       "(2000, 20787)"
      ]
     },
     "execution_count": 19,
     "metadata": {},
     "output_type": "execute_result"
    }
   ],
   "source": [
    "D.shape"
   ]
  },
  {
   "cell_type": "code",
   "execution_count": 20,
   "metadata": {},
   "outputs": [],
   "source": [
    "def gen_vector(tokens):\n",
    "\n",
    "    Q = np.zeros((len(total_vocab)))\n",
    "    \n",
    "    counter = Counter(tokens)\n",
    "    words_count = len(tokens)\n",
    "\n",
    "    query_weights = {}\n",
    "    \n",
    "    for token in np.unique(tokens):\n",
    "        \n",
    "        tf = counter[token]/words_count\n",
    "        df = doc_freq(token)\n",
    "        idf = math.log((N+1)/(df+1))\n",
    "\n",
    "        try:\n",
    "            ind = total_vocab.index(token)\n",
    "            Q[ind] = tf*idf\n",
    "        except:\n",
    "            pass\n",
    "    return Q"
   ]
  },
  {
   "cell_type": "code",
   "execution_count": 21,
   "metadata": {},
   "outputs": [],
   "source": [
    "def calc_centroid(doc_ids):\n",
    "    vec = [D[i] for i in doc_ids]\n",
    "    return np.array(vec).sum(axis=0)/len(doc_ids)"
   ]
  },
  {
   "cell_type": "code",
   "execution_count": null,
   "metadata": {},
   "outputs": [],
   "source": []
  },
  {
   "cell_type": "code",
   "execution_count": null,
   "metadata": {},
   "outputs": [],
   "source": []
  },
  {
   "cell_type": "code",
   "execution_count": 66,
   "metadata": {},
   "outputs": [],
   "source": [
    "def get_cosines(Q):\n",
    "    d_cosines = []\n",
    "    co = 0\n",
    "    for d in D:\n",
    "        if co not in used_docs:\n",
    "            d_cosines.append(cosine_sim(Q, d))\n",
    "        co += 1\n",
    "    out = np.array(d_cosines).argsort()[-10:][::-1]\n",
    "    return list(out)"
   ]
  },
  {
   "cell_type": "code",
   "execution_count": null,
   "metadata": {},
   "outputs": [],
   "source": []
  },
  {
   "cell_type": "code",
   "execution_count": 109,
   "metadata": {},
   "outputs": [],
   "source": [
    "def get_feedback(out):\n",
    "    \n",
    "    for i in range(len(out)):\n",
    "        print(i, out[i])\n",
    "\n",
    "    n_rel = input(\"Enter Non Relevant Docs: \").split(\" \")\n",
    "    \n",
    "    nr_docs = [out[int(i)] for i in n_rel]\n",
    "    r_docs = list(set(out)-set(nr_docs))\n",
    "    \n",
    "    return r_docs, nr_docs"
   ]
  },
  {
   "cell_type": "code",
   "execution_count": null,
   "metadata": {},
   "outputs": [],
   "source": []
  },
  {
   "cell_type": "code",
   "execution_count": 130,
   "metadata": {},
   "outputs": [],
   "source": [
    "def gen_tsne(Q_r, Q_nr, Q_m):\n",
    "    tsne = TSNE(n_components=2, random_state=0)\n",
    "\n",
    "    feature_vector = []\n",
    "    labels = []\n",
    "\n",
    "    for i in Q_r:\n",
    "        feature_vector.append(D[i])\n",
    "        labels.append(0)\n",
    "    for i in Q_nr:\n",
    "        feature_vector.append(D[i])\n",
    "        labels.append(1)\n",
    "\n",
    "    feature_vector.append(Q_m)\n",
    "    labels.append(2)\n",
    "\n",
    "    transformed_data = tsne.fit_transform(np.array(feature_vector))\n",
    "    k = np.array(transformed_data)\n",
    "    t = (\"Relevant\", \"Non Relevant\", \"Query\")\n",
    "    plt.scatter(k[:, 0], k[:, 1], c=labels, s=60, alpha=0.8, label=\"Violet-R, Aqua-NR\")\n",
    "    plt.title(\"Rocchio Algorithm\")\n",
    "    plt.legend()\n",
    "    plt.grid(True)\n",
    "    plt.show()"
   ]
  },
  {
   "cell_type": "code",
   "execution_count": null,
   "metadata": {},
   "outputs": [],
   "source": []
  },
  {
   "cell_type": "code",
   "execution_count": null,
   "metadata": {
    "scrolled": false
   },
   "outputs": [
    {
     "name": "stdout",
     "output_type": "stream",
     "text": [
      "\n",
      "Iteration 0\n",
      "<class 'set'>\n",
      "0 1360\n",
      "1 1657\n",
      "2 1574\n",
      "3 483\n",
      "4 1326\n",
      "5 1046\n",
      "6 1359\n",
      "7 1307\n",
      "8 465\n",
      "9 59\n",
      "Enter Non Relevant Docs: 1 4 6 7\n",
      "{1360, 465, 483, 1574, 1046, 59} {1657, 1307, 1326, 1359}\n"
     ]
    },
    {
     "data": {
      "image/png": "[encoded data removed]",
      "text/plain": [
       "<Figure size 432x288 with 1 Axes>"
      ]
     },
     "metadata": {
      "needs_background": "light"
     },
     "output_type": "display_data"
    },
    {
     "name": "stdout",
     "output_type": "stream",
     "text": [
      "\n",
      "Iteration 1\n",
      "0 1137\n",
      "1 1542\n",
      "2 1246\n",
      "3 754\n",
      "4 1558\n",
      "5 1893\n",
      "6 1697\n",
      "7 1019\n",
      "8 515\n",
      "9 947\n",
      "Enter Non Relevant Docs: 9 8 7\n",
      "{1697, 483, 1893, 1574, 1542, 1360, 465, 1137, 754, 1046, 1558, 59, 1246} {515, 947, 1019, 1657, 1307, 1326, 1359}\n"
     ]
    },
    {
     "data": {
      "image/png": "[encoded data removed]",
      "text/plain": [
       "<Figure size 432x288 with 1 Axes>"
      ]
     },
     "metadata": {
      "needs_background": "light"
     },
     "output_type": "display_data"
    },
    {
     "name": "stdout",
     "output_type": "stream",
     "text": [
      "\n",
      "Iteration 2\n",
      "0 994\n",
      "1 514\n",
      "2 1001\n",
      "3 1535\n",
      "4 1240\n",
      "5 1206\n",
      "6 1971\n",
      "7 1688\n",
      "8 1550\n",
      "9 1015\n",
      "Enter Non Relevant Docs: 9\n",
      "{514, 1542, 1550, 1360, 465, 1046, 1558, 1688, 1240, 1246, 1697, 994, 483, 1893, 1574, 1001, 1137, 754, 1971, 1206, 59, 1535} {515, 947, 1015, 1019, 1657, 1307, 1326, 1359}\n"
     ]
    },
    {
     "data": {
      "image/png": "[encoded data removed]",
      "text/plain": [
       "<Figure size 432x288 with 1 Axes>"
      ]
     },
     "metadata": {
      "needs_background": "light"
     },
     "output_type": "display_data"
    },
    {
     "name": "stdout",
     "output_type": "stream",
     "text": [
      "\n",
      "Iteration 3\n",
      "0 992\n",
      "1 998\n",
      "2 513\n",
      "3 1961\n",
      "4 1201\n",
      "5 1234\n",
      "6 1542\n",
      "7 582\n",
      "8 376\n",
      "9 1895\n",
      "Enter Non Relevant Docs: 9\n",
      "{513, 514, 1542, 582, 1550, 1360, 465, 1234, 1046, 1558, 1688, 1240, 1246, 992, 1697, 994, 483, 1893, 1574, 998, 1001, 1961, 1137, 754, 1971, 1201, 1206, 376, 59, 1535} {515, 1895, 1326, 1359, 1307, 947, 1015, 1657, 1019}\n"
     ]
    },
    {
     "data": {
      "image/png": "[encoded data removed]",
      "text/plain": [
       "<Figure size 432x288 with 1 Axes>"
      ]
     },
     "metadata": {
      "needs_background": "light"
     },
     "output_type": "display_data"
    },
    {
     "name": "stdout",
     "output_type": "stream",
     "text": [
      "\n",
      "Iteration 4\n",
      "0 987\n",
      "1 993\n",
      "2 511\n",
      "3 1887\n",
      "4 1013\n",
      "5 579\n",
      "6 1524\n",
      "7 560\n",
      "8 70\n",
      "9 530\n",
      "Enter Non Relevant Docs: 9\n",
      "{513, 514, 1542, 511, 1550, 1046, 1558, 1688, 1697, 1574, 1961, 560, 1201, 1971, 1206, 59, 579, 582, 70, 1360, 465, 1234, 1240, 987, 1246, 1887, 992, 993, 994, 483, 1893, 998, 1001, 1137, 754, 1524, 1013, 376, 1535} {515, 1895, 1326, 1359, 1307, 530, 947, 1015, 1657, 1019}\n"
     ]
    },
    {
     "data": {
      "image/png": "[encoded data removed]",
      "text/plain": [
       "<Figure size 432x288 with 1 Axes>"
      ]
     },
     "metadata": {
      "needs_background": "light"
     },
     "output_type": "display_data"
    },
    {
     "name": "stdout",
     "output_type": "stream",
     "text": [
      "\n",
      "Iteration 5\n",
      "0 980\n",
      "1 986\n",
      "2 509\n",
      "3 1005\n",
      "4 1877\n",
      "5 574\n",
      "6 586\n",
      "7 556\n",
      "8 1646\n",
      "9 1515\n"
     ]
    }
   ],
   "source": [
    "query_history = {}\n",
    "used_docs = []\n",
    "\n",
    "def run_query(count, alpha, beta, gamma, question, used_docs):\n",
    "\n",
    "    tokens = preprocess(pd.DataFrame([question])[0])\n",
    "    Q = gen_vector(list(tokens)[0])\n",
    "\n",
    "    for i in range(count):\n",
    "        print(\"\\nIteration\", i)\n",
    "\n",
    "        if hash(question) in query_history:\n",
    "\n",
    "            q_his = query_history[hash(question)]\n",
    "\n",
    "            Q_r, Q_nr, Q_old = q_his[0], q_his[1], q_his[2]\n",
    "\n",
    "            Q_m = (alpha*Q_old) + (beta*calc_centroid(Q_r)) - (gamma*calc_centroid(Q_nr))\n",
    "\n",
    "        else:\n",
    "            Q_m = Q\n",
    "            Q_r = set()\n",
    "            Q_nr = set()\n",
    "            print(type(Q_nr))\n",
    "            \n",
    "        retrieved_docs = get_cosines(Q_m)\n",
    "        \n",
    "        k = get_feedback(retrieved_docs)\n",
    "\n",
    "        Q_r = Q_r | set(k[0])\n",
    "        Q_nr = Q_nr | set(k[1])\n",
    "        \n",
    "        used_docs += Q_r\n",
    "        used_docs += Q_nr\n",
    "\n",
    "        print(Q_r, Q_nr)\n",
    "\n",
    "        gen_tsne(Q_r, Q_nr, Q_m)\n",
    "\n",
    "        query_history[hash(question)] = [Q_r, Q_nr, Q_m]\n",
    "\n",
    "    \n",
    "question = \"I don't know what kind of machine you want it for, but the program Radiance comes with 'C' source\"\n",
    "run_query(10, 0.5, 0.3, 0.2, question, used_docs)"
   ]
  },
  {
   "cell_type": "code",
   "execution_count": null,
   "metadata": {},
   "outputs": [],
   "source": []
  },
  {
   "cell_type": "code",
   "execution_count": null,
   "metadata": {},
   "outputs": [],
   "source": []
  },
  {
   "cell_type": "code",
   "execution_count": null,
   "metadata": {},
   "outputs": [],
   "source": []
  }
 ],
 "metadata": {
  "kernelspec": {
   "display_name": "Python 3",
   "language": "python",
   "name": "python3"
  },
  "language_info": {
   "codemirror_mode": {
    "name": "ipython",
    "version": 3
   },
   "file_extension": ".py",
   "mimetype": "text/x-python",
   "name": "python",
   "nbconvert_exporter": "python",
   "pygments_lexer": "ipython3",
   "version": "3.7.0"
  }
 },
 "nbformat": 4,
 "nbformat_minor": 2
}
