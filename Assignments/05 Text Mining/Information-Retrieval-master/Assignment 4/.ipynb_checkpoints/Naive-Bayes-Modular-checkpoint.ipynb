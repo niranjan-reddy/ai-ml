{
 "cells": [
  {
   "cell_type": "code",
   "execution_count": 1,
   "metadata": {},
   "outputs": [],
   "source": [
    "from nltk.corpus import stopwords\n",
    "from nltk.tokenize import word_tokenize\n",
    "from nltk.stem import PorterStemmer\n",
    "from num2words import num2words\n",
    "from collections import Counter\n",
    "from sklearn.manifold import TSNE\n",
    "\n",
    "import seaborn as sn\n",
    "import operator\n",
    "import nltk\n",
    "import os\n",
    "import string\n",
    "import numpy as np\n",
    "import copy\n",
    "import pandas as pd\n",
    "import pickle\n",
    "import math\n",
    "import matplotlib.pyplot as plt\n",
    "\n",
    "%load_ext autotime"
   ]
  },
  {
   "cell_type": "code",
   "execution_count": null,
   "metadata": {},
   "outputs": [],
   "source": []
  },
  {
   "cell_type": "code",
   "execution_count": 2,
   "metadata": {},
   "outputs": [
    {
     "name": "stdout",
     "output_type": "stream",
     "text": [
      "time: 5.48 ms\n"
     ]
    }
   ],
   "source": [
    "def print_doc(id):\n",
    "    file = open(paths[id], 'r', encoding='cp1250')\n",
    "    text = file.read().strip()\n",
    "    file.close()\n",
    "    print(text)"
   ]
  },
  {
   "cell_type": "code",
   "execution_count": 3,
   "metadata": {},
   "outputs": [
    {
     "name": "stdout",
     "output_type": "stream",
     "text": [
      "time: 4.84 ms\n"
     ]
    }
   ],
   "source": [
    "def convert_numbers(k):\n",
    "    for i in range(len(k)):\n",
    "        try:\n",
    "            k[i] = num2words(int(k[i]))\n",
    "        except:\n",
    "            pass\n",
    "    return k"
   ]
  },
  {
   "cell_type": "code",
   "execution_count": 4,
   "metadata": {},
   "outputs": [
    {
     "name": "stdout",
     "output_type": "stream",
     "text": [
      "time: 2.07 ms\n"
     ]
    }
   ],
   "source": [
    "def doc_freq(word):\n",
    "    c = 0\n",
    "    try:\n",
    "        c = DF[word]\n",
    "    except:\n",
    "        pass\n",
    "    return c"
   ]
  },
  {
   "cell_type": "code",
   "execution_count": null,
   "metadata": {},
   "outputs": [],
   "source": []
  },
  {
   "cell_type": "code",
   "execution_count": 5,
   "metadata": {},
   "outputs": [
    {
     "name": "stdout",
     "output_type": "stream",
     "text": [
      "time: 7.54 ms\n"
     ]
    }
   ],
   "source": [
    "def preprocess(pd):\n",
    "    pd = pd.str.lower()\n",
    "    pd = pd.str.replace('[{}]'.format('!\"#$%&\\'()*+,-./:;<=>?@[\\\\]^_`{|}~\\n\\t'), '')\n",
    "    pd = pd.apply(lambda x: [lemmatizer.lemmatize(w) for w in w_tokenizer.tokenize(x)])\n",
    "   \n",
    "#     pd = pd.apply(lambda x: [w for w in w_tokenizer.tokenize(x)]) \n",
    "    \n",
    "    pd = pd.apply(lambda x: convert_numbers(x))\n",
    "    pd = pd.str.join(' ')\n",
    "#     pd = pd.str.replace('[{}]'.format(string.punctuation), ' ')\n",
    "    \n",
    "#     pd = pd.apply(lambda x: [w for w in w_tokenizer.tokenize(x)])    \n",
    "    pd = pd.apply(lambda x: [lemmatizer.lemmatize(w) for w in w_tokenizer.tokenize(x)])    \n",
    "    pd = pd.apply(lambda x: [item for item in x if item not in stop_words])\n",
    "#     pd = pd.apply(lambda x: [stemmer.stem(y) for y in x])\n",
    "    return pd"
   ]
  },
  {
   "cell_type": "code",
   "execution_count": null,
   "metadata": {},
   "outputs": [],
   "source": []
  },
  {
   "cell_type": "code",
   "execution_count": 6,
   "metadata": {},
   "outputs": [
    {
     "name": "stdout",
     "output_type": "stream",
     "text": [
      "time: 2.36 ms\n"
     ]
    }
   ],
   "source": [
    "def calc_accuracy(predicted, true):\n",
    "    tp_tn = len([1 for i in range(len(predicted)) if predicted[i]==true[i]])\n",
    "    return tp_tn/len(predicted)"
   ]
  },
  {
   "cell_type": "code",
   "execution_count": 7,
   "metadata": {},
   "outputs": [
    {
     "name": "stdout",
     "output_type": "stream",
     "text": [
      "time: 3.69 ms\n"
     ]
    }
   ],
   "source": [
    "def compute_confusion(predicted, true):\n",
    "    confusion = np.zeros((len(unique_labels), len(unique_labels))).astype(int)\n",
    "    for i in range(len(predicted)):\n",
    "        confusion[unique_labels.index(predicted[i])][unique_labels.index(true[i])] += 1\n",
    "    sn.heatmap(pd.DataFrame(confusion), annot=True,cmap='Blues', fmt='g')\n",
    "    return confusion"
   ]
  },
  {
   "cell_type": "code",
   "execution_count": null,
   "metadata": {},
   "outputs": [],
   "source": []
  },
  {
   "cell_type": "code",
   "execution_count": 8,
   "metadata": {},
   "outputs": [
    {
     "name": "stdout",
     "output_type": "stream",
     "text": [
      "time: 10.2 ms\n"
     ]
    }
   ],
   "source": [
    "stop_words = stopwords.words('english')"
   ]
  },
  {
   "cell_type": "code",
   "execution_count": 9,
   "metadata": {},
   "outputs": [
    {
     "name": "stdout",
     "output_type": "stream",
     "text": [
      "time: 2.23 ms\n"
     ]
    }
   ],
   "source": [
    "lemmatizer = nltk.stem.WordNetLemmatizer()\n",
    "stemmer = nltk.stem.PorterStemmer()\n",
    "w_tokenizer = nltk.tokenize.WhitespaceTokenizer()"
   ]
  },
  {
   "cell_type": "code",
   "execution_count": null,
   "metadata": {},
   "outputs": [],
   "source": []
  },
  {
   "cell_type": "code",
   "execution_count": 10,
   "metadata": {},
   "outputs": [
    {
     "name": "stdout",
     "output_type": "stream",
     "text": [
      "time: 2.6 ms\n"
     ]
    }
   ],
   "source": [
    "title = \"20_newsgroups\"\n",
    "unique_labels = ['comp.graphics', 'rec.sport.hockey', 'sci.med', 'sci.space', 'talk.politics.misc']"
   ]
  },
  {
   "cell_type": "code",
   "execution_count": 11,
   "metadata": {},
   "outputs": [
    {
     "name": "stdout",
     "output_type": "stream",
     "text": [
      "time: 8.19 ms\n"
     ]
    }
   ],
   "source": [
    "def generate_corpus_pd():\n",
    "    paths = []\n",
    "    labels = []\n",
    "    for l in unique_labels:\n",
    "        for (dirpath, dirnames, filenames) in os.walk(str(os.getcwd())+'/'+title+'/'+str(l)):\n",
    "            for i in filenames:\n",
    "                paths.append(str(dirpath)+str(\"/\")+i)\n",
    "                labels.append(l)\n",
    "\n",
    "    doc = 0\n",
    "    docs = []\n",
    "\n",
    "    for path in paths:\n",
    "        file = open(path, 'r', encoding='cp1250')\n",
    "        text = file.read().strip()\n",
    "        file.close()\n",
    "\n",
    "        docs.append(text)\n",
    "\n",
    "        if doc%1000 == 0:\n",
    "            print(doc)\n",
    "\n",
    "        doc += 1\n",
    "    docs_pd = pd.DataFrame([docs, labels]).T\n",
    "    docs_pd[0] = preprocess(docs_pd[0])\n",
    "    docs_pd.to_pickle(\"docs_pd\")"
   ]
  },
  {
   "cell_type": "code",
   "execution_count": 12,
   "metadata": {},
   "outputs": [
    {
     "name": "stdout",
     "output_type": "stream",
     "text": [
      "time: 2 ms\n"
     ]
    }
   ],
   "source": [
    "# generate_corpus_pd()"
   ]
  },
  {
   "cell_type": "code",
   "execution_count": null,
   "metadata": {},
   "outputs": [],
   "source": []
  },
  {
   "cell_type": "code",
   "execution_count": 13,
   "metadata": {},
   "outputs": [
    {
     "name": "stdout",
     "output_type": "stream",
     "text": [
      "time: 14.3 ms\n"
     ]
    }
   ],
   "source": [
    "def load_corpus_pd(split):\n",
    "    docs_pd = pd.read_pickle(\"docs_pd\")\n",
    "    a = []\n",
    "    for i in unique_labels:\n",
    "        a.append(docs_pd[docs_pd[1]==i].sample(frac=split,random_state=41))\n",
    "    train = pd.concat([i for i in a])\n",
    "    test = docs_pd.sample(frac=1,random_state=41).drop(train.index)\n",
    "    train = train.reset_index(drop=True)\n",
    "    test = test.reset_index(drop=True)\n",
    "    return train, test"
   ]
  },
  {
   "cell_type": "code",
   "execution_count": null,
   "metadata": {},
   "outputs": [],
   "source": []
  },
  {
   "cell_type": "code",
   "execution_count": 14,
   "metadata": {},
   "outputs": [
    {
     "name": "stdout",
     "output_type": "stream",
     "text": [
      "time: 3.24 ms\n"
     ]
    }
   ],
   "source": [
    "def gen_class_data(train):\n",
    "    m = {}\n",
    "    for i in range(train.shape[0]):\n",
    "        try:\n",
    "            m[train[1][i]] = m[train[1][i]] + train[0][i]\n",
    "        except:\n",
    "            m[train[1][i]] = train[0][i]\n",
    "    return m"
   ]
  },
  {
   "cell_type": "code",
   "execution_count": null,
   "metadata": {},
   "outputs": [],
   "source": []
  },
  {
   "cell_type": "code",
   "execution_count": 15,
   "metadata": {
    "scrolled": true
   },
   "outputs": [
    {
     "name": "stdout",
     "output_type": "stream",
     "text": [
      "time: 26.1 ms\n"
     ]
    }
   ],
   "source": [
    "def run_1(train, test):\n",
    "    m = gen_class_data(train)\n",
    "\n",
    "    unique_words = set()\n",
    "    ck = 0\n",
    "    for i in m:\n",
    "        unique_words = unique_words | set(m[i])\n",
    "        ck += len(m[i])\n",
    "    unique_words_count = len(unique_words)\n",
    "    print(\"Corpus Size\", ck, \"Unique Words\", unique_words_count)\n",
    "\n",
    "    class_frequency = {}\n",
    "    class_count = {}\n",
    "    counter = 0\n",
    "    for i in unique_labels:\n",
    "        current_count = len(Counter(m[i]))\n",
    "        class_count[i] = current_count\n",
    "        counter += current_count\n",
    "        ll = Counter(m[i])\n",
    "        for j in ll:\n",
    "            class_frequency[i, j] = ll[j]\n",
    "\n",
    "    def get_word_freq(word, label):\n",
    "        try:\n",
    "            return class_frequency[label, word], class_count[label]\n",
    "        except:\n",
    "            return 0, class_count[label]\n",
    "\n",
    "    train_class_split = Counter(train[1])\n",
    "    true = []\n",
    "    predicted = []\n",
    "    for i in range(test.shape[0]):\n",
    "        true.append(test[1][i])\n",
    "        classes_words_probability = []\n",
    "        for l in unique_labels:\n",
    "            words_probability = 0\n",
    "            for word in test[0][i]:\n",
    "                fr, cn = get_word_freq(word, l)\n",
    "                pp = (fr + 1)/(cn + unique_words_count)\n",
    "                words_probability += np.log(pp)\n",
    "            words_probability += np.log(train_class_split[l] / train.shape[0])\n",
    "            classes_words_probability.append(words_probability)\n",
    "        predicted.append(unique_labels[np.argmax(classes_words_probability)])\n",
    "\n",
    "    print(compute_confusion(predicted, true))\n",
    "    print(calc_accuracy(predicted, true))"
   ]
  },
  {
   "cell_type": "code",
   "execution_count": null,
   "metadata": {},
   "outputs": [],
   "source": []
  },
  {
   "cell_type": "markdown",
   "metadata": {},
   "source": [
    "# Question 2"
   ]
  },
  {
   "cell_type": "code",
   "execution_count": 16,
   "metadata": {},
   "outputs": [
    {
     "name": "stdout",
     "output_type": "stream",
     "text": [
      "time: 35.3 ms\n"
     ]
    }
   ],
   "source": [
    "def run_2(train, test, percentage):\n",
    "    m = gen_class_data(train)\n",
    "\n",
    "    corpus = []\n",
    "    for i in m:\n",
    "        corpus = corpus + m[i]\n",
    "    \n",
    "    DF = {}\n",
    "\n",
    "    n = 0\n",
    "    for tokens in train[0]:\n",
    "        for w in tokens:\n",
    "            try:\n",
    "                DF[w].add(n)\n",
    "            except:\n",
    "                DF[w] = {n}\n",
    "        n += 1\n",
    "    for i in DF:\n",
    "        DF[i] = len(DF[i])\n",
    "\n",
    "    def doc_freq(word):\n",
    "        c = 0\n",
    "        try:\n",
    "            c = DF[word]\n",
    "        except:\n",
    "            pass\n",
    "        return c\n",
    "\n",
    "    tf_idf = {}\n",
    "    N = train.shape[0]\n",
    "\n",
    "    counter = Counter(corpus)\n",
    "    words_count = len(corpus)\n",
    "\n",
    "    for token in set(corpus):\n",
    "        tf = counter[token]/words_count\n",
    "        df = doc_freq(token)\n",
    "        idf = np.log((N+1)/(df+1))\n",
    "\n",
    "        tf_idf[token] = tf*idf\n",
    "\n",
    "\n",
    "    sorted_x = sorted(tf_idf.items(), key=operator.itemgetter(1), reverse=True)\n",
    "\n",
    "    refined_data = sorted_x[:int(len(sorted_x)*percentage/100)]\n",
    "\n",
    "    refined_data = [i[0] for i in refined_data]\n",
    "\n",
    "    unique_words_count = len(sorted_x[:int(len(sorted_x)*percentage/100)])\n",
    "\n",
    "    print(\"Corpus Size\", words_count, \"Unique Words\", unique_words_count)\n",
    "    class_frequency = {}\n",
    "    class_count = {}\n",
    "    for i in unique_labels:\n",
    "        ll = Counter(m[i])\n",
    "        for j in refined_data:\n",
    "            class_frequency[i, j] = ll[j]\n",
    "            try:\n",
    "                class_count[i] = class_count[i] + ll[j]\n",
    "            except:\n",
    "                class_count[i] = ll[j]\n",
    "\n",
    "    def get_word_freq(word, label):\n",
    "        try:\n",
    "            return class_frequency[label, word], class_count[label]\n",
    "        except:\n",
    "            return 0, class_count[label]\n",
    "\n",
    "    train_class_split = Counter(train[1])\n",
    "    true = []\n",
    "    predicted = []\n",
    "    for i in range(test.shape[0]):\n",
    "        true.append(test[1][i])\n",
    "        classes_words_probability = []\n",
    "        for l in unique_labels:\n",
    "            words_probability = 0\n",
    "            for word in test[0][i]:\n",
    "                fr, cn = get_word_freq(word, l)\n",
    "                pp = (fr + 1) / (cn + unique_words_count)\n",
    "                words_probability += np.log(pp)\n",
    "            words_probability += np.log(train_class_split[l] / train.shape[0])\n",
    "            classes_words_probability.append(words_probability)\n",
    "        predicted.append(unique_labels[np.argmax(classes_words_probability)])\n",
    "\n",
    "    print(compute_confusion(predicted, true))\n",
    "    print(calc_accuracy(predicted, true))"
   ]
  },
  {
   "cell_type": "code",
   "execution_count": 17,
   "metadata": {},
   "outputs": [
    {
     "name": "stdout",
     "output_type": "stream",
     "text": [
      "['comp.graphics', 'rec.sport.hockey', 'sci.med', 'sci.space', 'talk.politics.misc']\n",
      "time: 1.64 ms\n"
     ]
    }
   ],
   "source": [
    "print(unique_labels)"
   ]
  },
  {
   "cell_type": "code",
   "execution_count": null,
   "metadata": {},
   "outputs": [],
   "source": []
  },
  {
   "cell_type": "code",
   "execution_count": 18,
   "metadata": {},
   "outputs": [
    {
     "name": "stdout",
     "output_type": "stream",
     "text": [
      "time: 401 ms\n"
     ]
    }
   ],
   "source": [
    "train, test = load_corpus_pd(0.5)"
   ]
  },
  {
   "cell_type": "code",
   "execution_count": 19,
   "metadata": {},
   "outputs": [
    {
     "name": "stdout",
     "output_type": "stream",
     "text": [
      "Corpus Size 490328 Unique Words 80647\n",
      "[[465   1   7   4   0]\n",
      " [  3 493   4   1   4]\n",
      " [  0   0 459   2   2]\n",
      " [ 14   0  11 478   4]\n",
      " [ 18   6  19  15 490]]\n",
      "0.954\n"
     ]
    },
    {
     "data": {
      "image/png": "[encoded data removed]",
      "text/plain": [
       "<Figure size 432x288 with 2 Axes>"
      ]
     },
     "metadata": {
      "needs_background": "light"
     },
     "output_type": "display_data"
    },
    {
     "name": "stdout",
     "output_type": "stream",
     "text": [
      "time: 14.4 s\n"
     ]
    }
   ],
   "source": [
    "run_1(train, test)"
   ]
  },
  {
   "cell_type": "code",
   "execution_count": null,
   "metadata": {},
   "outputs": [],
   "source": []
  },
  {
   "cell_type": "code",
   "execution_count": 20,
   "metadata": {},
   "outputs": [
    {
     "name": "stdout",
     "output_type": "stream",
     "text": [
      "time: 380 ms\n"
     ]
    }
   ],
   "source": [
    "train, test = load_corpus_pd(0.7)"
   ]
  },
  {
   "cell_type": "code",
   "execution_count": 21,
   "metadata": {},
   "outputs": [
    {
     "name": "stdout",
     "output_type": "stream",
     "text": [
      "Corpus Size 698143 Unique Words 104924\n",
      "[[286   1   5   4   0]\n",
      " [  1 294   2   0   1]\n",
      " [  1   0 275   0   0]\n",
      " [  5   0   5 289   1]\n",
      " [  7   5  13   7 298]]\n",
      "0.9613333333333334\n"
     ]
    },
    {
     "data": {
      "image/png": "[encoded data removed]",
      "text/plain": [
       "<Figure size 432x288 with 2 Axes>"
      ]
     },
     "metadata": {
      "needs_background": "light"
     },
     "output_type": "display_data"
    },
    {
     "name": "stdout",
     "output_type": "stream",
     "text": [
      "time: 17.6 s\n"
     ]
    }
   ],
   "source": [
    "run_1(train, test)"
   ]
  },
  {
   "cell_type": "code",
   "execution_count": null,
   "metadata": {},
   "outputs": [],
   "source": []
  },
  {
   "cell_type": "code",
   "execution_count": 22,
   "metadata": {},
   "outputs": [
    {
     "name": "stdout",
     "output_type": "stream",
     "text": [
      "time: 340 ms\n"
     ]
    }
   ],
   "source": [
    "train, test = load_corpus_pd(0.8)"
   ]
  },
  {
   "cell_type": "code",
   "execution_count": 23,
   "metadata": {},
   "outputs": [
    {
     "name": "stdout",
     "output_type": "stream",
     "text": [
      "Corpus Size 824496 Unique Words 115354\n",
      "[[196   1   3   2   0]\n",
      " [  0 196   2   0   2]\n",
      " [  0   0 189   1   0]\n",
      " [  1   0   1 192   1]\n",
      " [  3   3   5   5 197]]\n",
      "0.97\n"
     ]
    },
    {
     "data": {
      "image/png": "[encoded data removed]",
      "text/plain": [
       "<Figure size 432x288 with 2 Axes>"
      ]
     },
     "metadata": {
      "needs_background": "light"
     },
     "output_type": "display_data"
    },
    {
     "name": "stdout",
     "output_type": "stream",
     "text": [
      "time: 14.9 s\n"
     ]
    }
   ],
   "source": [
    "run_1(train, test)"
   ]
  },
  {
   "cell_type": "code",
   "execution_count": null,
   "metadata": {},
   "outputs": [],
   "source": []
  },
  {
   "cell_type": "code",
   "execution_count": 24,
   "metadata": {},
   "outputs": [
    {
     "name": "stdout",
     "output_type": "stream",
     "text": [
      "time: 346 ms\n"
     ]
    }
   ],
   "source": [
    "train, test = load_corpus_pd(0.9)"
   ]
  },
  {
   "cell_type": "code",
   "execution_count": 25,
   "metadata": {},
   "outputs": [
    {
     "name": "stdout",
     "output_type": "stream",
     "text": [
      "Corpus Size 922036 Unique Words 125066\n",
      "[[97  0  3  1  0]\n",
      " [ 0 97  0  0  0]\n",
      " [ 0  0 95  0  0]\n",
      " [ 1  0  0 95  1]\n",
      " [ 2  3  2  4 99]]\n",
      "0.966\n"
     ]
    },
    {
     "data": {
      "image/png": "[encoded data removed]",
      "text/plain": [
       "<Figure size 432x288 with 2 Axes>"
      ]
     },
     "metadata": {
      "needs_background": "light"
     },
     "output_type": "display_data"
    },
    {
     "name": "stdout",
     "output_type": "stream",
     "text": [
      "time: 15.2 s\n"
     ]
    }
   ],
   "source": [
    "run_1(train, test)"
   ]
  },
  {
   "cell_type": "code",
   "execution_count": null,
   "metadata": {},
   "outputs": [],
   "source": []
  },
  {
   "cell_type": "code",
   "execution_count": 26,
   "metadata": {},
   "outputs": [
    {
     "name": "stdout",
     "output_type": "stream",
     "text": [
      "time: 327 ms\n"
     ]
    }
   ],
   "source": [
    "train, test = load_corpus_pd(0.7)"
   ]
  },
  {
   "cell_type": "code",
   "execution_count": 27,
   "metadata": {},
   "outputs": [
    {
     "name": "stdout",
     "output_type": "stream",
     "text": [
      "Corpus Size 698143 Unique Words 41969\n",
      "[[299   3   8   6   4]\n",
      " [  0 297   2   0   5]\n",
      " [  0   0 284   3   0]\n",
      " [  1   0   5 289   7]\n",
      " [  0   0   1   2 284]]\n",
      "0.9686666666666667\n"
     ]
    },
    {
     "data": {
      "image/png": "[encoded data removed]",
      "text/plain": [
       "<Figure size 432x288 with 2 Axes>"
      ]
     },
     "metadata": {
      "needs_background": "light"
     },
     "output_type": "display_data"
    },
    {
     "name": "stdout",
     "output_type": "stream",
     "text": [
      "time: 16.8 s\n"
     ]
    }
   ],
   "source": [
    "run_2(train, test, 40)"
   ]
  },
  {
   "cell_type": "code",
   "execution_count": 28,
   "metadata": {},
   "outputs": [
    {
     "name": "stdout",
     "output_type": "stream",
     "text": [
      "Corpus Size 698143 Unique Words 52462\n",
      "[[298   3   8   6   3]\n",
      " [  1 297   2   0   5]\n",
      " [  0   0 284   2   0]\n",
      " [  1   0   5 290   7]\n",
      " [  0   0   1   2 285]]\n",
      "0.9693333333333334\n"
     ]
    },
    {
     "data": {
      "image/png": "[encoded data removed]",
      "text/plain": [
       "<Figure size 432x288 with 2 Axes>"
      ]
     },
     "metadata": {
      "needs_background": "light"
     },
     "output_type": "display_data"
    },
    {
     "name": "stdout",
     "output_type": "stream",
     "text": [
      "time: 14.9 s\n"
     ]
    }
   ],
   "source": [
    "run_2(train, test, 50)"
   ]
  },
  {
   "cell_type": "code",
   "execution_count": 29,
   "metadata": {},
   "outputs": [
    {
     "name": "stdout",
     "output_type": "stream",
     "text": [
      "Corpus Size 698143 Unique Words 62954\n",
      "[[298   3   7   6   2]\n",
      " [  1 297   2   0   5]\n",
      " [  0   0 284   2   0]\n",
      " [  1   0   6 290   6]\n",
      " [  0   0   1   2 287]]\n",
      "0.9706666666666667\n"
     ]
    },
    {
     "data": {
      "image/png": "[encoded data removed]",
      "text/plain": [
       "<Figure size 432x288 with 2 Axes>"
      ]
     },
     "metadata": {
      "needs_background": "light"
     },
     "output_type": "display_data"
    },
    {
     "name": "stdout",
     "output_type": "stream",
     "text": [
      "time: 15.6 s\n"
     ]
    }
   ],
   "source": [
    "run_2(train, test, 60)"
   ]
  },
  {
   "cell_type": "code",
   "execution_count": 30,
   "metadata": {
    "scrolled": false
   },
   "outputs": [
    {
     "name": "stdout",
     "output_type": "stream",
     "text": [
      "Corpus Size 698143 Unique Words 73446\n",
      "[[297   3   6   6   1]\n",
      " [  1 296   2   0   5]\n",
      " [  0   0 285   2   0]\n",
      " [  1   0   6 290   6]\n",
      " [  1   1   1   2 288]]\n",
      "0.9706666666666667\n"
     ]
    },
    {
     "data": {
      "image/png": "[encoded data removed]",
      "text/plain": [
       "<Figure size 432x288 with 2 Axes>"
      ]
     },
     "metadata": {
      "needs_background": "light"
     },
     "output_type": "display_data"
    },
    {
     "name": "stdout",
     "output_type": "stream",
     "text": [
      "time: 13.9 s\n"
     ]
    }
   ],
   "source": [
    "run_2(train, test, 70)"
   ]
  },
  {
   "cell_type": "code",
   "execution_count": null,
   "metadata": {},
   "outputs": [],
   "source": []
  },
  {
   "cell_type": "code",
   "execution_count": null,
   "metadata": {},
   "outputs": [],
   "source": []
  },
  {
   "cell_type": "code",
   "execution_count": null,
   "metadata": {},
   "outputs": [],
   "source": []
  },
  {
   "cell_type": "code",
   "execution_count": null,
   "metadata": {},
   "outputs": [],
   "source": []
  },
  {
   "cell_type": "code",
   "execution_count": null,
   "metadata": {},
   "outputs": [],
   "source": []
  },
  {
   "cell_type": "code",
   "execution_count": null,
   "metadata": {},
   "outputs": [],
   "source": []
  },
  {
   "cell_type": "code",
   "execution_count": null,
   "metadata": {},
   "outputs": [],
   "source": []
  },
  {
   "cell_type": "code",
   "execution_count": null,
   "metadata": {},
   "outputs": [],
   "source": []
  },
  {
   "cell_type": "code",
   "execution_count": null,
   "metadata": {},
   "outputs": [],
   "source": []
  },
  {
   "cell_type": "code",
   "execution_count": null,
   "metadata": {},
   "outputs": [],
   "source": []
  }
 ],
 "metadata": {
  "kernelspec": {
   "display_name": "Python 3",
   "language": "python",
   "name": "python3"
  },
  "language_info": {
   "codemirror_mode": {
    "name": "ipython",
    "version": 3
   },
   "file_extension": ".py",
   "mimetype": "text/x-python",
   "name": "python",
   "nbconvert_exporter": "python",
   "pygments_lexer": "ipython3",
   "version": "3.7.0"
  }
 },
 "nbformat": 4,
 "nbformat_minor": 2
}
