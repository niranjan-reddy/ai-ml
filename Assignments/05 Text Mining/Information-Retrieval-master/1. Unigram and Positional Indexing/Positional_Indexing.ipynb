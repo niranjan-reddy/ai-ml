{
 "cells": [
  {
   "cell_type": "code",
   "execution_count": 1,
   "metadata": {
    "scrolled": true
   },
   "outputs": [
    {
     "name": "stdout",
     "output_type": "stream",
     "text": [
      "Requirement already satisfied: nltk in /usr/local/lib/python3.6/dist-packages (3.4)\n",
      "Requirement already satisfied: singledispatch in /usr/local/lib/python3.6/dist-packages (from nltk) (3.4.0.3)\n",
      "Requirement already satisfied: six in /usr/lib/python3/dist-packages (from nltk) (1.11.0)\n",
      "Requirement already satisfied: pandas in /usr/local/lib/python3.6/dist-packages (0.23.4)\n",
      "Requirement already satisfied: pytz>=2011k in /usr/local/lib/python3.6/dist-packages (from pandas) (2018.9)\n",
      "Requirement already satisfied: python-dateutil>=2.5.0 in /usr/local/lib/python3.6/dist-packages (from pandas) (2.7.5)\n",
      "Requirement already satisfied: numpy>=1.9.0 in /usr/local/lib/python3.6/dist-packages (from pandas) (1.16.0)\n",
      "Requirement already satisfied: six>=1.5 in /usr/lib/python3/dist-packages (from python-dateutil>=2.5.0->pandas) (1.11.0)\n",
      "Requirement already satisfied: numpy in /usr/local/lib/python3.6/dist-packages (1.16.0)\n"
     ]
    },
    {
     "name": "stderr",
     "output_type": "stream",
     "text": [
      "[nltk_data] Downloading package stopwords to /root/nltk_data...\n",
      "[nltk_data]   Package stopwords is already up-to-date!\n",
      "[nltk_data] Downloading package punkt to /root/nltk_data...\n",
      "[nltk_data]   Package punkt is already up-to-date!\n"
     ]
    },
    {
     "name": "stdout",
     "output_type": "stream",
     "text": [
      "Requirement already satisfied: ipython-autotime in /usr/local/lib/python3.6/dist-packages (0.1)\r\n"
     ]
    }
   ],
   "source": [
    "!pip install nltk\n",
    "!pip install pandas\n",
    "!pip install numpy\n",
    "import nltk\n",
    "nltk.download('stopwords')\n",
    "nltk.download('punkt')\n",
    "!pip install ipython-autotime\n",
    "\n",
    "%load_ext autotime"
   ]
  },
  {
   "cell_type": "code",
   "execution_count": 2,
   "metadata": {},
   "outputs": [
    {
     "name": "stdout",
     "output_type": "stream",
     "text": [
      "time: 224 ms\n"
     ]
    }
   ],
   "source": [
    "from nltk.corpus import stopwords\n",
    "from nltk.tokenize import word_tokenize\n",
    "from nltk.stem import PorterStemmer\n",
    "\n",
    "import nltk\n",
    "import os\n",
    "import string\n",
    "import numpy as np\n",
    "import copy\n",
    "import pandas as pd\n",
    "import pickle"
   ]
  },
  {
   "cell_type": "code",
   "execution_count": null,
   "metadata": {},
   "outputs": [],
   "source": []
  },
  {
   "cell_type": "code",
   "execution_count": null,
   "metadata": {},
   "outputs": [],
   "source": []
  },
  {
   "cell_type": "markdown",
   "metadata": {},
   "source": [
    "# Data Extraction"
   ]
  },
  {
   "cell_type": "code",
   "execution_count": 3,
   "metadata": {},
   "outputs": [
    {
     "name": "stdout",
     "output_type": "stream",
     "text": [
      "time: 403 µs\n"
     ]
    }
   ],
   "source": [
    "title = \"20_newsgroups\""
   ]
  },
  {
   "cell_type": "code",
   "execution_count": 4,
   "metadata": {},
   "outputs": [
    {
     "name": "stdout",
     "output_type": "stream",
     "text": [
      "time: 3.83 ms\n"
     ]
    }
   ],
   "source": [
    "paths = []\n",
    "for (dirpath, dirnames, filenames) in os.walk(str(os.getcwd())+'/'+title+'/comp.graphics'):\n",
    "    for i in filenames:\n",
    "        paths.append(str(dirpath)+str(\"/\")+i)\n",
    "for (dirpath, dirnames, filenames) in os.walk(str(os.getcwd())+'/'+title+'/rec.motorcycles)'):\n",
    "    for i in filenames:\n",
    "        paths.append(str(dirpath)+str(\"/\")+i)"
   ]
  },
  {
   "cell_type": "code",
   "execution_count": 5,
   "metadata": {},
   "outputs": [
    {
     "data": {
      "text/plain": [
       "'/root/my_project_dir/20_newsgroups/comp.graphics/38970'"
      ]
     },
     "execution_count": 5,
     "metadata": {},
     "output_type": "execute_result"
    },
    {
     "name": "stdout",
     "output_type": "stream",
     "text": [
      "time: 9.6 ms\n"
     ]
    }
   ],
   "source": [
    "paths[0]"
   ]
  },
  {
   "cell_type": "code",
   "execution_count": 6,
   "metadata": {},
   "outputs": [
    {
     "name": "stdout",
     "output_type": "stream",
     "text": [
      "time: 372 µs\n"
     ]
    }
   ],
   "source": [
    "# paths.remove(paths[0]) #my computer is generating a dummy file, removing that!"
   ]
  },
  {
   "cell_type": "code",
   "execution_count": 7,
   "metadata": {},
   "outputs": [
    {
     "data": {
      "text/plain": [
       "1000"
      ]
     },
     "execution_count": 7,
     "metadata": {},
     "output_type": "execute_result"
    },
    {
     "name": "stdout",
     "output_type": "stream",
     "text": [
      "time: 2.62 ms\n"
     ]
    }
   ],
   "source": [
    "len(paths)"
   ]
  },
  {
   "cell_type": "code",
   "execution_count": null,
   "metadata": {},
   "outputs": [],
   "source": []
  },
  {
   "cell_type": "code",
   "execution_count": null,
   "metadata": {},
   "outputs": [],
   "source": []
  },
  {
   "cell_type": "markdown",
   "metadata": {},
   "source": [
    "# Preprocessing"
   ]
  },
  {
   "cell_type": "code",
   "execution_count": 8,
   "metadata": {},
   "outputs": [
    {
     "name": "stdout",
     "output_type": "stream",
     "text": [
      "time: 934 µs\n"
     ]
    }
   ],
   "source": [
    "def remove_header(data):\n",
    "    try:\n",
    "        ind = data.index('\\n\\n')\n",
    "        data = data[ind:]\n",
    "    except:\n",
    "        print(\"No Header\")\n",
    "    return data"
   ]
  },
  {
   "cell_type": "code",
   "execution_count": 9,
   "metadata": {},
   "outputs": [
    {
     "name": "stdout",
     "output_type": "stream",
     "text": [
      "time: 968 µs\n"
     ]
    }
   ],
   "source": [
    "def convert_lower_case(data):\n",
    "    return np.char.lower(data)"
   ]
  },
  {
   "cell_type": "code",
   "execution_count": 10,
   "metadata": {},
   "outputs": [
    {
     "name": "stdout",
     "output_type": "stream",
     "text": [
      "time: 1.15 ms\n"
     ]
    }
   ],
   "source": [
    "def remove_stop_words(data):\n",
    "    stop_words = stopwords.words('english')\n",
    "    words = word_tokenize(str(data))\n",
    "    new_text = \"\"\n",
    "    for w in words:\n",
    "        if w not in stop_words:\n",
    "            new_text = new_text + \" \" + w\n",
    "    return np.char.strip(new_text)"
   ]
  },
  {
   "cell_type": "code",
   "execution_count": 11,
   "metadata": {},
   "outputs": [
    {
     "name": "stdout",
     "output_type": "stream",
     "text": [
      "time: 1.62 ms\n"
     ]
    }
   ],
   "source": [
    "def remove_punctuation(data):\n",
    "    symbols = \"!\\\"#$%&()*+-./:;<=>?@[\\]^_`{|}~\\n\"\n",
    "    for i in range(len(symbols)):\n",
    "        data = np.char.replace(data, symbols[i], ' ')\n",
    "        data = np.char.replace(data, \"  \", \" \")\n",
    "    data = np.char.replace(data, ',', '')\n",
    "    return data"
   ]
  },
  {
   "cell_type": "code",
   "execution_count": 12,
   "metadata": {},
   "outputs": [
    {
     "name": "stdout",
     "output_type": "stream",
     "text": [
      "time: 1.13 ms\n"
     ]
    }
   ],
   "source": [
    "def remove_apostrophe(data):\n",
    "    return np.char.replace(data, \"'\", \"\")"
   ]
  },
  {
   "cell_type": "code",
   "execution_count": 13,
   "metadata": {},
   "outputs": [
    {
     "name": "stdout",
     "output_type": "stream",
     "text": [
      "time: 1.48 ms\n"
     ]
    }
   ],
   "source": [
    "def remove_single_characters(data):\n",
    "    words = word_tokenize(str(data))\n",
    "    new_text = \"\"\n",
    "    for w in words:\n",
    "        if len(w) > 1:\n",
    "            new_text = new_text + \" \" + w\n",
    "    return np.char.strip(new_text)"
   ]
  },
  {
   "cell_type": "code",
   "execution_count": 14,
   "metadata": {},
   "outputs": [
    {
     "name": "stdout",
     "output_type": "stream",
     "text": [
      "time: 2.47 ms\n"
     ]
    }
   ],
   "source": [
    "def convert_numbers(data):\n",
    "    data = np.char.replace(data, \"0\", \" zero \")\n",
    "    data = np.char.replace(data, \"1\", \" one \")\n",
    "    data = np.char.replace(data, \"2\", \" two \")\n",
    "    data = np.char.replace(data, \"3\", \" three \")\n",
    "    data = np.char.replace(data, \"4\", \" four \")\n",
    "    data = np.char.replace(data, \"5\", \" five \")\n",
    "    data = np.char.replace(data, \"6\", \" six \")\n",
    "    data = np.char.replace(data, \"7\", \" seven \")\n",
    "    data = np.char.replace(data, \"8\", \" eight \")\n",
    "    data = np.char.replace(data, \"9\", \" nine \")\n",
    "    return data"
   ]
  },
  {
   "cell_type": "code",
   "execution_count": 15,
   "metadata": {},
   "outputs": [
    {
     "name": "stdout",
     "output_type": "stream",
     "text": [
      "time: 1.5 ms\n"
     ]
    }
   ],
   "source": [
    "def stemming(data):\n",
    "    stemmer= PorterStemmer()\n",
    "    \n",
    "    tokens = word_tokenize(str(data))\n",
    "    new_text = \"\"\n",
    "    for w in tokens:\n",
    "        new_text = new_text + \" \" + stemmer.stem(w)\n",
    "    return np.char.strip(new_text)"
   ]
  },
  {
   "cell_type": "code",
   "execution_count": null,
   "metadata": {},
   "outputs": [],
   "source": []
  },
  {
   "cell_type": "code",
   "execution_count": null,
   "metadata": {},
   "outputs": [],
   "source": []
  },
  {
   "cell_type": "code",
   "execution_count": 16,
   "metadata": {},
   "outputs": [
    {
     "name": "stdout",
     "output_type": "stream",
     "text": [
      "time: 1.54 ms\n"
     ]
    }
   ],
   "source": [
    "def preprocess(data, query):\n",
    "    if not query:\n",
    "        data = remove_header(data)        \n",
    "    data = convert_lower_case(data)\n",
    "    data = convert_numbers(data)\n",
    "    data = remove_punctuation(data) #remove comma seperately\n",
    "    data = remove_apostrophe(data)\n",
    "    data = remove_single_characters(data)\n",
    "    data = stemming(data)\n",
    "    return data"
   ]
  },
  {
   "cell_type": "code",
   "execution_count": null,
   "metadata": {},
   "outputs": [],
   "source": []
  },
  {
   "cell_type": "code",
   "execution_count": null,
   "metadata": {},
   "outputs": [],
   "source": []
  },
  {
   "cell_type": "markdown",
   "metadata": {},
   "source": [
    "# Generating Postings"
   ]
  },
  {
   "cell_type": "code",
   "execution_count": null,
   "metadata": {},
   "outputs": [],
   "source": []
  },
  {
   "cell_type": "code",
   "execution_count": 17,
   "metadata": {
    "scrolled": true
   },
   "outputs": [
    {
     "name": "stdout",
     "output_type": "stream",
     "text": [
      "0\n",
      "100\n",
      "200\n",
      "No Header\n",
      "300\n",
      "400\n",
      "500\n",
      "600\n",
      "700\n",
      "800\n",
      "900\n",
      "No Header\n",
      "time: 1min 16s\n"
     ]
    }
   ],
   "source": [
    "postings = pd.DataFrame()\n",
    "frequency = pd.DataFrame()\n",
    "doc = 0\n",
    "\n",
    "for path in paths:\n",
    "    file = open(path, 'r', encoding='cp1250')\n",
    "    text = file.read().strip()\n",
    "    file.close()\n",
    "    preprocessed_text = preprocess(text, False)\n",
    "    if doc%100 == 0:\n",
    "        print(doc)\n",
    "\n",
    "    tokens = word_tokenize(str(preprocessed_text))\n",
    "    \n",
    "    pos = 0\n",
    "    for token in tokens:\n",
    "        if token in postings:\n",
    "            p = postings[token][0]            \n",
    "\n",
    "            k = [a[0] for a in p]\n",
    "            if doc in k:\n",
    "                for a in p:\n",
    "                    if a[0] == doc:\n",
    "                        a[1].add(pos)\n",
    "            else:\n",
    "                p.append([doc,{pos}])\n",
    "                frequency[token][0] += 1\n",
    "        else:\n",
    "            postings.insert(value=[[[doc, {pos}]]], loc=0, column=token)\n",
    "            frequency.insert(value=[1], loc=0, column=token)\n",
    "\n",
    "        pos += 1\n",
    "    doc += 1"
   ]
  },
  {
   "cell_type": "code",
   "execution_count": 18,
   "metadata": {},
   "outputs": [
    {
     "data": {
      "text/html": [
       "<div>\n",
       "<style scoped>\n",
       "    .dataframe tbody tr th:only-of-type {\n",
       "        vertical-align: middle;\n",
       "    }\n",
       "\n",
       "    .dataframe tbody tr th {\n",
       "        vertical-align: top;\n",
       "    }\n",
       "\n",
       "    .dataframe thead th {\n",
       "        text-align: right;\n",
       "    }\n",
       "</style>\n",
       "<table border=\"1\" class=\"dataframe\">\n",
       "  <thead>\n",
       "    <tr style=\"text-align: right;\">\n",
       "      <th></th>\n",
       "      <th>fishkin</th>\n",
       "      <th>gorgeou</th>\n",
       "      <th>crossdo</th>\n",
       "      <th>stink</th>\n",
       "      <th>aio</th>\n",
       "      <th>wijkstra</th>\n",
       "      <th>marcel</th>\n",
       "      <th>noturn</th>\n",
       "      <th>ppmtopgm</th>\n",
       "      <th>xwdfile</th>\n",
       "      <th>...</th>\n",
       "      <th>not</th>\n",
       "      <th>electron</th>\n",
       "      <th>to</th>\n",
       "      <th>lead</th>\n",
       "      <th>or</th>\n",
       "      <th>inform</th>\n",
       "      <th>me</th>\n",
       "      <th>give</th>\n",
       "      <th>anyon</th>\n",
       "      <th>can</th>\n",
       "    </tr>\n",
       "  </thead>\n",
       "  <tbody>\n",
       "    <tr>\n",
       "      <th>0</th>\n",
       "      <td>[[999, {130, 131}]]</td>\n",
       "      <td>[[998, {174}]]</td>\n",
       "      <td>[[998, {160}]]</td>\n",
       "      <td>[[996, {260}]]</td>\n",
       "      <td>[[996, {243}]]</td>\n",
       "      <td>[[996, {242, 244}]]</td>\n",
       "      <td>[[996, {240, 241}]]</td>\n",
       "      <td>[[996, {99, 132, 125}]]</td>\n",
       "      <td>[[996, {90}]]</td>\n",
       "      <td>[[996, {86}]]</td>\n",
       "      <td>...</td>\n",
       "      <td>[[0, {153, 42, 11}], [5, {57, 229}], [7, {1056...</td>\n",
       "      <td>[[0, {9}], [66, {61, 111}], [154, {137}], [161...</td>\n",
       "      <td>[[0, {167, 8, 104, 106, 55}], [2, {64, 27, 60,...</td>\n",
       "      <td>[[0, {6}], [70, {74}], [78, {28}], [123, {195}...</td>\n",
       "      <td>[[0, {65, 5, 113, 51, 151}], [1, {38}], [2, {2...</td>\n",
       "      <td>[[0, {4, 10, 206, 122, 191}], [5, {170, 151}],...</td>\n",
       "      <td>[[0, {128, 3, 7, 202, 78, 180}], [3, {81, 6}],...</td>\n",
       "      <td>[[0, {2, 179}], [5, {78}], [13, {150}], [41, {...</td>\n",
       "      <td>[[0, {1}], [2, {1}], [14, {37}], [18, {56}], [...</td>\n",
       "      <td>[[0, {0, 178}], [1, {44}], [2, {4}], [3, {3}],...</td>\n",
       "    </tr>\n",
       "  </tbody>\n",
       "</table>\n",
       "<p>1 rows × 11388 columns</p>\n",
       "</div>"
      ],
      "text/plain": [
       "               fishkin         gorgeou         crossdo           stink  \\\n",
       "0  [[999, {130, 131}]]  [[998, {174}]]  [[998, {160}]]  [[996, {260}]]   \n",
       "\n",
       "              aio             wijkstra               marcel  \\\n",
       "0  [[996, {243}]]  [[996, {242, 244}]]  [[996, {240, 241}]]   \n",
       "\n",
       "                    noturn       ppmtopgm        xwdfile  \\\n",
       "0  [[996, {99, 132, 125}]]  [[996, {90}]]  [[996, {86}]]   \n",
       "\n",
       "                         ...                          \\\n",
       "0                        ...                           \n",
       "\n",
       "                                                 not  \\\n",
       "0  [[0, {153, 42, 11}], [5, {57, 229}], [7, {1056...   \n",
       "\n",
       "                                            electron  \\\n",
       "0  [[0, {9}], [66, {61, 111}], [154, {137}], [161...   \n",
       "\n",
       "                                                  to  \\\n",
       "0  [[0, {167, 8, 104, 106, 55}], [2, {64, 27, 60,...   \n",
       "\n",
       "                                                lead  \\\n",
       "0  [[0, {6}], [70, {74}], [78, {28}], [123, {195}...   \n",
       "\n",
       "                                                  or  \\\n",
       "0  [[0, {65, 5, 113, 51, 151}], [1, {38}], [2, {2...   \n",
       "\n",
       "                                              inform  \\\n",
       "0  [[0, {4, 10, 206, 122, 191}], [5, {170, 151}],...   \n",
       "\n",
       "                                                  me  \\\n",
       "0  [[0, {128, 3, 7, 202, 78, 180}], [3, {81, 6}],...   \n",
       "\n",
       "                                                give  \\\n",
       "0  [[0, {2, 179}], [5, {78}], [13, {150}], [41, {...   \n",
       "\n",
       "                                               anyon  \\\n",
       "0  [[0, {1}], [2, {1}], [14, {37}], [18, {56}], [...   \n",
       "\n",
       "                                                 can  \n",
       "0  [[0, {0, 178}], [1, {44}], [2, {4}], [3, {3}],...  \n",
       "\n",
       "[1 rows x 11388 columns]"
      ]
     },
     "execution_count": 18,
     "metadata": {},
     "output_type": "execute_result"
    },
    {
     "name": "stdout",
     "output_type": "stream",
     "text": [
      "time: 233 ms\n"
     ]
    }
   ],
   "source": [
    "postings"
   ]
  },
  {
   "cell_type": "code",
   "execution_count": 19,
   "metadata": {},
   "outputs": [
    {
     "data": {
      "text/html": [
       "<div>\n",
       "<style scoped>\n",
       "    .dataframe tbody tr th:only-of-type {\n",
       "        vertical-align: middle;\n",
       "    }\n",
       "\n",
       "    .dataframe tbody tr th {\n",
       "        vertical-align: top;\n",
       "    }\n",
       "\n",
       "    .dataframe thead th {\n",
       "        text-align: right;\n",
       "    }\n",
       "</style>\n",
       "<table border=\"1\" class=\"dataframe\">\n",
       "  <thead>\n",
       "    <tr style=\"text-align: right;\">\n",
       "      <th></th>\n",
       "      <th>fishkin</th>\n",
       "      <th>gorgeou</th>\n",
       "      <th>crossdo</th>\n",
       "      <th>stink</th>\n",
       "      <th>aio</th>\n",
       "      <th>wijkstra</th>\n",
       "      <th>marcel</th>\n",
       "      <th>noturn</th>\n",
       "      <th>ppmtopgm</th>\n",
       "      <th>xwdfile</th>\n",
       "      <th>...</th>\n",
       "      <th>not</th>\n",
       "      <th>electron</th>\n",
       "      <th>to</th>\n",
       "      <th>lead</th>\n",
       "      <th>or</th>\n",
       "      <th>inform</th>\n",
       "      <th>me</th>\n",
       "      <th>give</th>\n",
       "      <th>anyon</th>\n",
       "      <th>can</th>\n",
       "    </tr>\n",
       "  </thead>\n",
       "  <tbody>\n",
       "    <tr>\n",
       "      <th>0</th>\n",
       "      <td>1</td>\n",
       "      <td>1</td>\n",
       "      <td>1</td>\n",
       "      <td>1</td>\n",
       "      <td>1</td>\n",
       "      <td>1</td>\n",
       "      <td>1</td>\n",
       "      <td>1</td>\n",
       "      <td>1</td>\n",
       "      <td>1</td>\n",
       "      <td>...</td>\n",
       "      <td>379</td>\n",
       "      <td>32</td>\n",
       "      <td>814</td>\n",
       "      <td>23</td>\n",
       "      <td>497</td>\n",
       "      <td>156</td>\n",
       "      <td>346</td>\n",
       "      <td>98</td>\n",
       "      <td>276</td>\n",
       "      <td>422</td>\n",
       "    </tr>\n",
       "  </tbody>\n",
       "</table>\n",
       "<p>1 rows × 11388 columns</p>\n",
       "</div>"
      ],
      "text/plain": [
       "   fishkin  gorgeou  crossdo  stink  aio  wijkstra  marcel  noturn  ppmtopgm  \\\n",
       "0        1        1        1      1    1         1       1       1         1   \n",
       "\n",
       "   xwdfile ...   not  electron   to  lead   or  inform   me  give  anyon  can  \n",
       "0        1 ...   379        32  814    23  497     156  346    98    276  422  \n",
       "\n",
       "[1 rows x 11388 columns]"
      ]
     },
     "execution_count": 19,
     "metadata": {},
     "output_type": "execute_result"
    },
    {
     "name": "stdout",
     "output_type": "stream",
     "text": [
      "time: 17.2 ms\n"
     ]
    }
   ],
   "source": [
    "frequency"
   ]
  },
  {
   "cell_type": "code",
   "execution_count": null,
   "metadata": {},
   "outputs": [],
   "source": []
  },
  {
   "cell_type": "code",
   "execution_count": 20,
   "metadata": {},
   "outputs": [
    {
     "name": "stdout",
     "output_type": "stream",
     "text": [
      "time: 1.73 s\n"
     ]
    }
   ],
   "source": [
    "postings.to_pickle(title + \"_positional_postings\")"
   ]
  },
  {
   "cell_type": "code",
   "execution_count": 21,
   "metadata": {},
   "outputs": [
    {
     "name": "stdout",
     "output_type": "stream",
     "text": [
      "time: 2.37 s\n"
     ]
    }
   ],
   "source": [
    "postings = pd.read_pickle(title + \"_positional_postings\")"
   ]
  },
  {
   "cell_type": "code",
   "execution_count": 22,
   "metadata": {},
   "outputs": [
    {
     "name": "stdout",
     "output_type": "stream",
     "text": [
      "time: 181 ms\n"
     ]
    }
   ],
   "source": [
    "frequency.to_pickle(title + \"_positional_frequency\")"
   ]
  },
  {
   "cell_type": "code",
   "execution_count": 23,
   "metadata": {},
   "outputs": [
    {
     "name": "stdout",
     "output_type": "stream",
     "text": [
      "time: 44.2 ms\n"
     ]
    }
   ],
   "source": [
    "frequency = pd.read_pickle(title + \"_positional_frequency\")"
   ]
  },
  {
   "cell_type": "code",
   "execution_count": null,
   "metadata": {},
   "outputs": [],
   "source": []
  },
  {
   "cell_type": "markdown",
   "metadata": {},
   "source": [
    "# Search Query"
   ]
  },
  {
   "cell_type": "code",
   "execution_count": 24,
   "metadata": {},
   "outputs": [
    {
     "name": "stdout",
     "output_type": "stream",
     "text": [
      "time: 37.5 ms\n"
     ]
    }
   ],
   "source": [
    "def get_word_postings(word):\n",
    "    preprocessed_word = str(preprocess(word, True))\n",
    "    print(preprocessed_word)\n",
    "    print(\"Frequency:\",frequency[preprocessed_word][0])\n",
    "    print(\"Postings List:\",postings[preprocessed_word][0])"
   ]
  },
  {
   "cell_type": "code",
   "execution_count": 25,
   "metadata": {},
   "outputs": [
    {
     "name": "stdout",
     "output_type": "stream",
     "text": [
      "time: 283 ms\n"
     ]
    }
   ],
   "source": [
    "def get_positions(posting_values, doc):\n",
    "    for posting_value in posting_values:\n",
    "        if posting_value[0] == doc:\n",
    "            return posting_value[1]\n",
    "    return {}"
   ]
  },
  {
   "cell_type": "code",
   "execution_count": 26,
   "metadata": {},
   "outputs": [
    {
     "name": "stdout",
     "output_type": "stream",
     "text": [
      "time: 25.7 ms\n"
     ]
    }
   ],
   "source": [
    "def gen_init_set_matchings(word):\n",
    "    init = []\n",
    "    word_postings = postings[word][0]\n",
    "    for word_posting in word_postings:\n",
    "        for positions in word_posting[1]:\n",
    "            init.append((word_posting[0], positions))\n",
    "    return init"
   ]
  },
  {
   "cell_type": "code",
   "execution_count": 27,
   "metadata": {},
   "outputs": [
    {
     "name": "stdout",
     "output_type": "stream",
     "text": [
      "time: 4.05 ms\n"
     ]
    }
   ],
   "source": [
    "def match_positional_index(init, b):\n",
    "    matched_docs = []\n",
    "    for p in init:\n",
    "        doc = p[0]\n",
    "        pos = p[1]\n",
    "\n",
    "        count = 0\n",
    "\n",
    "        for k in b:\n",
    "            pos = pos+1\n",
    "            k_pos = postings[k][0]\n",
    "            docs_list = [z[0] for z in k_pos]\n",
    "            if doc in docs_list:\n",
    "                doc_positions = get_positions(k_pos, doc)\n",
    "                if pos in doc_positions:\n",
    "                    count += 1\n",
    "                else:\n",
    "                    count += 1\n",
    "                    break\n",
    "\n",
    "            if count == len(b):\n",
    "                matched_docs.append(p[0])\n",
    "    return set(matched_docs)"
   ]
  },
  {
   "cell_type": "code",
   "execution_count": 28,
   "metadata": {
    "scrolled": false
   },
   "outputs": [
    {
     "name": "stdout",
     "output_type": "stream",
     "text": [
      "time: 3.84 ms\n"
     ]
    }
   ],
   "source": [
    "def run_query(query):\n",
    "    processed_query = preprocess(query, True)\n",
    "    print(processed_query)\n",
    "\n",
    "    query_tokens = word_tokenize(str(processed_query))\n",
    "    print(query_tokens)\n",
    "    \n",
    "    if len(query_tokens)==1:\n",
    "        print(\"Total Document Mathces\", [a[0] for a in postings[query][0]])\n",
    "        return [a[0] for a in postings[query][0]]\n",
    "    \n",
    "    init_word = query_tokens[0]\n",
    "    init_matches = gen_init_set_matchings(init_word)\n",
    "\n",
    "    query_tokens.pop(0)\n",
    "    total_matched_docs = match_positional_index(init_matches, query_tokens)\n",
    "    print(\"Total Document Matches:\", total_matched_docs)\n",
    "    return total_matched_docs"
   ]
  },
  {
   "cell_type": "code",
   "execution_count": null,
   "metadata": {},
   "outputs": [],
   "source": []
  },
  {
   "cell_type": "code",
   "execution_count": 29,
   "metadata": {},
   "outputs": [
    {
     "name": "stdout",
     "output_type": "stream",
     "text": [
      "time: 2.69 ms\n"
     ]
    }
   ],
   "source": [
    "def print_file(file):\n",
    "    out_file = open(paths[file], 'r', encoding='cp1250')\n",
    "    out_text = out_file.read()\n",
    "    print(out_text)"
   ]
  },
  {
   "cell_type": "code",
   "execution_count": null,
   "metadata": {},
   "outputs": [],
   "source": []
  },
  {
   "cell_type": "code",
   "execution_count": null,
   "metadata": {},
   "outputs": [],
   "source": []
  },
  {
   "cell_type": "code",
   "execution_count": 30,
   "metadata": {},
   "outputs": [
    {
     "name": "stdout",
     "output_type": "stream",
     "text": [
      "welcom\n",
      "Frequency: 24\n",
      "Postings List: [[38, {779, 270}], [141, {6624, 26, 6699}], [167, {168}], [186, {993}], [205, {61}], [223, {213}], [388, {185}], [435, {408, 174}], [441, {204}], [480, {69}], [504, {65}], [529, {196}], [544, {88}], [548, {91}], [603, {281}], [649, {26, 6508, 6583}], [671, {435}], [706, {21}], [749, {3109}], [823, {40}], [890, {173}], [956, {25, 6586, 6661}], [978, {631}], [986, {113}]]\n",
      "time: 9.66 ms\n"
     ]
    }
   ],
   "source": [
    "get_word_postings(\"welcome\")"
   ]
  },
  {
   "cell_type": "code",
   "execution_count": null,
   "metadata": {},
   "outputs": [],
   "source": []
  },
  {
   "cell_type": "code",
   "execution_count": 31,
   "metadata": {},
   "outputs": [
    {
     "name": "stdout",
     "output_type": "stream",
     "text": [
      "time: 1.84 ms\n"
     ]
    }
   ],
   "source": [
    "query = \"not in\""
   ]
  },
  {
   "cell_type": "code",
   "execution_count": 32,
   "metadata": {},
   "outputs": [
    {
     "name": "stdout",
     "output_type": "stream",
     "text": [
      "not in\n",
      "['not', 'in']\n",
      "Total Document Matches: {768, 129, 774, 649, 141, 529, 277, 795, 805, 173, 562, 824, 314, 956, 830, 966, 327, 341, 992, 485, 742, 743, 869, 748, 749, 623, 245}\n",
      "time: 111 ms\n"
     ]
    }
   ],
   "source": [
    "lists = run_query(query)"
   ]
  },
  {
   "cell_type": "code",
   "execution_count": null,
   "metadata": {},
   "outputs": [],
   "source": []
  },
  {
   "cell_type": "code",
   "execution_count": 33,
   "metadata": {},
   "outputs": [
    {
     "name": "stdout",
     "output_type": "stream",
     "text": [
      "Xref: cantaloupe.srv.cs.cmu.edu comp.graphics:38476 comp.sys.amiga.graphics:14031 comp.graphics.animation:3025\n",
      "Path: cantaloupe.srv.cs.cmu.edu!das-news.harvard.edu!noc.near.net!howland.reston.ans.net!usc!zyeh\n",
      "From: zyeh@caspian.usc.edu (zhenghao yeh)\n",
      "Newsgroups: comp.graphics,comp.sys.amiga.graphics,comp.graphics.animation\n",
      "Subject: Re: Newsgroup Split\n",
      "Date: 19 Apr 1993 15:58:31 -0700\n",
      "Organization: University of Southern California, Los Angeles, CA\n",
      "Lines: 18\n",
      "Sender: zyeh@caspian.usc.edu (zhenghao yeh)\n",
      "Distribution: world\n",
      "Message-ID: <lt6bknINNb6l@caspian.usc.edu>\n",
      "References: <C5q0HK.KoD@hawnews.watson.ibm.com> <1993Apr19.144533.6779@cs.ruu.nl> <1993Apr19.193758.12091@unocal.com> <1quvdoINN3e7@srvr1.engin.umich.edu>\n",
      "NNTP-Posting-Host: caspian.usc.edu\n",
      "\n",
      "\n",
      "In article <1quvdoINN3e7@srvr1.engin.umich.edu>, tdawson@engin.umich.edu (Chris Herringshaw) writes:\n",
      "|> Concerning the proposed newsgroup split, I personally am not in favor of\n",
      "|> doing this.  I learn an awful lot about all aspects of graphics by reading\n",
      "|> this group, from code to hardware to algorithms.  I just think making 5\n",
      "|> different groups out of this is a wate, and will only result in a few posts\n",
      "|> a week per group.  I kind of like the convenience of having one big forum\n",
      "|> for discussing all aspects of graphics.  Anyone else feel this way?\n",
      "|> Just curious.\n",
      "|> \n",
      "|> \n",
      "|> Daemon\n",
      "|> \n",
      "\n",
      "I agree with you. Of cause I'll try to be a daemon :-)\n",
      "\n",
      "Yeh\n",
      "USC\n",
      "\n",
      "time: 1.1 ms\n"
     ]
    }
   ],
   "source": [
    "print_file(768)"
   ]
  },
  {
   "cell_type": "code",
   "execution_count": null,
   "metadata": {},
   "outputs": [],
   "source": []
  },
  {
   "cell_type": "code",
   "execution_count": null,
   "metadata": {},
   "outputs": [],
   "source": []
  }
 ],
 "metadata": {
  "kernelspec": {
   "display_name": "Python 3",
   "language": "python",
   "name": "python3"
  },
  "language_info": {
   "codemirror_mode": {
    "name": "ipython",
    "version": 3
   },
   "file_extension": ".py",
   "mimetype": "text/x-python",
   "name": "python",
   "nbconvert_exporter": "python",
   "pygments_lexer": "ipython3",
   "version": "3.7.0"
  }
 },
 "nbformat": 4,
 "nbformat_minor": 2
}
