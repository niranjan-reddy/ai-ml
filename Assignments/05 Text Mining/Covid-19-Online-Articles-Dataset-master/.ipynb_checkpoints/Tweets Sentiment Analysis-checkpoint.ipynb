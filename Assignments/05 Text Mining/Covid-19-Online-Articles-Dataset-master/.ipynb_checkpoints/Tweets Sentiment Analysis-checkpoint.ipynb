{
 "cells": [
  {
   "cell_type": "code",
   "execution_count": 1,
   "metadata": {},
   "outputs": [],
   "source": [
    "from modules import *  #  all classes defined in modules"
   ]
  },
  {
   "cell_type": "code",
   "execution_count": 2,
   "metadata": {},
   "outputs": [],
   "source": [
    "pd.set_option(\"display.max_colwidth\", 220)"
   ]
  },
  {
   "cell_type": "code",
   "execution_count": 3,
   "metadata": {},
   "outputs": [],
   "source": [
    "df = pd.read_csv(\"./covid-19_articles_data.csv\", index_col=0)"
   ]
  },
  {
   "cell_type": "code",
   "execution_count": 4,
   "metadata": {},
   "outputs": [
    {
     "data": {
      "text/html": [
       "<div>\n",
       "<style scoped>\n",
       "    .dataframe tbody tr th:only-of-type {\n",
       "        vertical-align: middle;\n",
       "    }\n",
       "\n",
       "    .dataframe tbody tr th {\n",
       "        vertical-align: top;\n",
       "    }\n",
       "\n",
       "    .dataframe thead th {\n",
       "        text-align: right;\n",
       "    }\n",
       "</style>\n",
       "<table border=\"1\" class=\"dataframe\">\n",
       "  <thead>\n",
       "    <tr style=\"text-align: right;\">\n",
       "      <th></th>\n",
       "      <th>text</th>\n",
       "      <th>sentiment</th>\n",
       "    </tr>\n",
       "  </thead>\n",
       "  <tbody>\n",
       "    <tr>\n",
       "      <th>0</th>\n",
       "      <td>If you've recently heard from an old friend, you're not alone. A communication studies professor says he's not surprised that people are looking to reconnect with others they were once close to. “This is an utter res...</td>\n",
       "      <td>1</td>\n",
       "    </tr>\n",
       "    <tr>\n",
       "      <th>1</th>\n",
       "      <td>Dr. Hall says it makes sense that we would reach out to people we've had strong ties to. That's because if it has to be through phone calls or texts, we'd rather connect with someone we really want to talk to. Mainta...</td>\n",
       "      <td>1</td>\n",
       "    </tr>\n",
       "    <tr>\n",
       "      <th>2</th>\n",
       "      <td>\"Please, if you are going to protest, take care of yourself and stay safe,\" Ogbongbemiga said. Before the news, the Cowboys released a safe return plan for it's football student-athletes and indicted what would happe...</td>\n",
       "      <td>1</td>\n",
       "    </tr>\n",
       "    <tr>\n",
       "      <th>3</th>\n",
       "      <td>The Tulsa Health Department sent 2 Works for You the following statement: The Tulsa Health Department will contact any individual or setting deemed at risk for exposure for all confirmed positive COVID-19 cases among...</td>\n",
       "      <td>1</td>\n",
       "    </tr>\n",
       "    <tr>\n",
       "      <th>4</th>\n",
       "      <td>The industry is one of the hardest hit by the pandemic and it’s looking to Congress for help. Losses for the restaurant industry nationwide are expected to hit $80 billion by the end of the month. Around 8 million re...</td>\n",
       "      <td>0</td>\n",
       "    </tr>\n",
       "    <tr>\n",
       "      <th>...</th>\n",
       "      <td>...</td>\n",
       "      <td>...</td>\n",
       "    </tr>\n",
       "    <tr>\n",
       "      <th>33319</th>\n",
       "      <td>Ferrer again walked through data from the past several months showing surges in coronavirus cases, hospitalizations and deaths following the spate of public gatherings that occurred over the Fourth of July holiday. S...</td>\n",
       "      <td>1</td>\n",
       "    </tr>\n",
       "    <tr>\n",
       "      <th>33320</th>\n",
       "      <td>We actually need to maintain, even more, our vigilance so we can continue to suppress the spread of the virus and get to a place where we can safely reopen additional sectors, particularly our schools. Ferrer announc...</td>\n",
       "      <td>1</td>\n",
       "    </tr>\n",
       "    <tr>\n",
       "      <th>33321</th>\n",
       "      <td>Democrats demanded a far larger bill, including hundreds of billions of dollars for state and local governments, more generous jobless benefits, and help for renters and homeowners, along with other provisions in the...</td>\n",
       "      <td>1</td>\n",
       "    </tr>\n",
       "    <tr>\n",
       "      <th>33322</th>\n",
       "      <td>RELATED: Trump says Americans can expect another round of coronavirus stimulus paymentsMcConnell's bill would provide $105 billion to help schools reopen, enact a shield against lawsuits for businesses and others tha...</td>\n",
       "      <td>1</td>\n",
       "    </tr>\n",
       "    <tr>\n",
       "      <th>33323</th>\n",
       "      <td>2 trillion, and while Trump's negotiators have signaled a willingness to inch further in her direction, a significant gap remains. RELATED: Study: 19% of COVID-19 cases nationwide from last month can be traced back t...</td>\n",
       "      <td>1</td>\n",
       "    </tr>\n",
       "  </tbody>\n",
       "</table>\n",
       "<p>33324 rows × 2 columns</p>\n",
       "</div>"
      ],
      "text/plain": [
       "                                                                                                                                                                                                                              text  \\\n",
       "0      If you've recently heard from an old friend, you're not alone. A communication studies professor says he's not surprised that people are looking to reconnect with others they were once close to. “This is an utter res...   \n",
       "1      Dr. Hall says it makes sense that we would reach out to people we've had strong ties to. That's because if it has to be through phone calls or texts, we'd rather connect with someone we really want to talk to. Mainta...   \n",
       "2      \"Please, if you are going to protest, take care of yourself and stay safe,\" Ogbongbemiga said. Before the news, the Cowboys released a safe return plan for it's football student-athletes and indicted what would happe...   \n",
       "3      The Tulsa Health Department sent 2 Works for You the following statement: The Tulsa Health Department will contact any individual or setting deemed at risk for exposure for all confirmed positive COVID-19 cases among...   \n",
       "4      The industry is one of the hardest hit by the pandemic and it’s looking to Congress for help. Losses for the restaurant industry nationwide are expected to hit $80 billion by the end of the month. Around 8 million re...   \n",
       "...                                                                                                                                                                                                                            ...   \n",
       "33319  Ferrer again walked through data from the past several months showing surges in coronavirus cases, hospitalizations and deaths following the spate of public gatherings that occurred over the Fourth of July holiday. S...   \n",
       "33320  We actually need to maintain, even more, our vigilance so we can continue to suppress the spread of the virus and get to a place where we can safely reopen additional sectors, particularly our schools. Ferrer announc...   \n",
       "33321  Democrats demanded a far larger bill, including hundreds of billions of dollars for state and local governments, more generous jobless benefits, and help for renters and homeowners, along with other provisions in the...   \n",
       "33322  RELATED: Trump says Americans can expect another round of coronavirus stimulus paymentsMcConnell's bill would provide $105 billion to help schools reopen, enact a shield against lawsuits for businesses and others tha...   \n",
       "33323  2 trillion, and while Trump's negotiators have signaled a willingness to inch further in her direction, a significant gap remains. RELATED: Study: 19% of COVID-19 cases nationwide from last month can be traced back t...   \n",
       "\n",
       "       sentiment  \n",
       "0              1  \n",
       "1              1  \n",
       "2              1  \n",
       "3              1  \n",
       "4              0  \n",
       "...          ...  \n",
       "33319          1  \n",
       "33320          1  \n",
       "33321          1  \n",
       "33322          1  \n",
       "33323          1  \n",
       "\n",
       "[33324 rows x 2 columns]"
      ]
     },
     "execution_count": 4,
     "metadata": {},
     "output_type": "execute_result"
    }
   ],
   "source": [
    "df"
   ]
  },
  {
   "cell_type": "code",
   "execution_count": 5,
   "metadata": {},
   "outputs": [],
   "source": [
    "data = df"
   ]
  },
  {
   "cell_type": "code",
   "execution_count": 6,
   "metadata": {},
   "outputs": [
    {
     "data": {
      "text/html": [
       "<div>\n",
       "<style scoped>\n",
       "    .dataframe tbody tr th:only-of-type {\n",
       "        vertical-align: middle;\n",
       "    }\n",
       "\n",
       "    .dataframe tbody tr th {\n",
       "        vertical-align: top;\n",
       "    }\n",
       "\n",
       "    .dataframe thead th {\n",
       "        text-align: right;\n",
       "    }\n",
       "</style>\n",
       "<table border=\"1\" class=\"dataframe\">\n",
       "  <thead>\n",
       "    <tr style=\"text-align: right;\">\n",
       "      <th></th>\n",
       "      <th>text</th>\n",
       "      <th>sentiment</th>\n",
       "    </tr>\n",
       "  </thead>\n",
       "  <tbody>\n",
       "    <tr>\n",
       "      <th>0</th>\n",
       "      <td>If you've recently heard from an old friend, you're not alone. A communication studies professor says he's not surprised that people are looking to reconnect with others they were once close to. “This is an utter res...</td>\n",
       "      <td>1</td>\n",
       "    </tr>\n",
       "    <tr>\n",
       "      <th>1</th>\n",
       "      <td>Dr. Hall says it makes sense that we would reach out to people we've had strong ties to. That's because if it has to be through phone calls or texts, we'd rather connect with someone we really want to talk to. Mainta...</td>\n",
       "      <td>1</td>\n",
       "    </tr>\n",
       "    <tr>\n",
       "      <th>2</th>\n",
       "      <td>\"Please, if you are going to protest, take care of yourself and stay safe,\" Ogbongbemiga said. Before the news, the Cowboys released a safe return plan for it's football student-athletes and indicted what would happe...</td>\n",
       "      <td>1</td>\n",
       "    </tr>\n",
       "    <tr>\n",
       "      <th>3</th>\n",
       "      <td>The Tulsa Health Department sent 2 Works for You the following statement: The Tulsa Health Department will contact any individual or setting deemed at risk for exposure for all confirmed positive COVID-19 cases among...</td>\n",
       "      <td>1</td>\n",
       "    </tr>\n",
       "    <tr>\n",
       "      <th>4</th>\n",
       "      <td>The industry is one of the hardest hit by the pandemic and it’s looking to Congress for help. Losses for the restaurant industry nationwide are expected to hit $80 billion by the end of the month. Around 8 million re...</td>\n",
       "      <td>0</td>\n",
       "    </tr>\n",
       "    <tr>\n",
       "      <th>...</th>\n",
       "      <td>...</td>\n",
       "      <td>...</td>\n",
       "    </tr>\n",
       "    <tr>\n",
       "      <th>33319</th>\n",
       "      <td>Ferrer again walked through data from the past several months showing surges in coronavirus cases, hospitalizations and deaths following the spate of public gatherings that occurred over the Fourth of July holiday. S...</td>\n",
       "      <td>1</td>\n",
       "    </tr>\n",
       "    <tr>\n",
       "      <th>33320</th>\n",
       "      <td>We actually need to maintain, even more, our vigilance so we can continue to suppress the spread of the virus and get to a place where we can safely reopen additional sectors, particularly our schools. Ferrer announc...</td>\n",
       "      <td>1</td>\n",
       "    </tr>\n",
       "    <tr>\n",
       "      <th>33321</th>\n",
       "      <td>Democrats demanded a far larger bill, including hundreds of billions of dollars for state and local governments, more generous jobless benefits, and help for renters and homeowners, along with other provisions in the...</td>\n",
       "      <td>1</td>\n",
       "    </tr>\n",
       "    <tr>\n",
       "      <th>33322</th>\n",
       "      <td>RELATED: Trump says Americans can expect another round of coronavirus stimulus paymentsMcConnell's bill would provide $105 billion to help schools reopen, enact a shield against lawsuits for businesses and others tha...</td>\n",
       "      <td>1</td>\n",
       "    </tr>\n",
       "    <tr>\n",
       "      <th>33323</th>\n",
       "      <td>2 trillion, and while Trump's negotiators have signaled a willingness to inch further in her direction, a significant gap remains. RELATED: Study: 19% of COVID-19 cases nationwide from last month can be traced back t...</td>\n",
       "      <td>1</td>\n",
       "    </tr>\n",
       "  </tbody>\n",
       "</table>\n",
       "<p>33324 rows × 2 columns</p>\n",
       "</div>"
      ],
      "text/plain": [
       "                                                                                                                                                                                                                              text  \\\n",
       "0      If you've recently heard from an old friend, you're not alone. A communication studies professor says he's not surprised that people are looking to reconnect with others they were once close to. “This is an utter res...   \n",
       "1      Dr. Hall says it makes sense that we would reach out to people we've had strong ties to. That's because if it has to be through phone calls or texts, we'd rather connect with someone we really want to talk to. Mainta...   \n",
       "2      \"Please, if you are going to protest, take care of yourself and stay safe,\" Ogbongbemiga said. Before the news, the Cowboys released a safe return plan for it's football student-athletes and indicted what would happe...   \n",
       "3      The Tulsa Health Department sent 2 Works for You the following statement: The Tulsa Health Department will contact any individual or setting deemed at risk for exposure for all confirmed positive COVID-19 cases among...   \n",
       "4      The industry is one of the hardest hit by the pandemic and it’s looking to Congress for help. Losses for the restaurant industry nationwide are expected to hit $80 billion by the end of the month. Around 8 million re...   \n",
       "...                                                                                                                                                                                                                            ...   \n",
       "33319  Ferrer again walked through data from the past several months showing surges in coronavirus cases, hospitalizations and deaths following the spate of public gatherings that occurred over the Fourth of July holiday. S...   \n",
       "33320  We actually need to maintain, even more, our vigilance so we can continue to suppress the spread of the virus and get to a place where we can safely reopen additional sectors, particularly our schools. Ferrer announc...   \n",
       "33321  Democrats demanded a far larger bill, including hundreds of billions of dollars for state and local governments, more generous jobless benefits, and help for renters and homeowners, along with other provisions in the...   \n",
       "33322  RELATED: Trump says Americans can expect another round of coronavirus stimulus paymentsMcConnell's bill would provide $105 billion to help schools reopen, enact a shield against lawsuits for businesses and others tha...   \n",
       "33323  2 trillion, and while Trump's negotiators have signaled a willingness to inch further in her direction, a significant gap remains. RELATED: Study: 19% of COVID-19 cases nationwide from last month can be traced back t...   \n",
       "\n",
       "       sentiment  \n",
       "0              1  \n",
       "1              1  \n",
       "2              1  \n",
       "3              1  \n",
       "4              0  \n",
       "...          ...  \n",
       "33319          1  \n",
       "33320          1  \n",
       "33321          1  \n",
       "33322          1  \n",
       "33323          1  \n",
       "\n",
       "[33324 rows x 2 columns]"
      ]
     },
     "execution_count": 6,
     "metadata": {},
     "output_type": "execute_result"
    }
   ],
   "source": [
    "data"
   ]
  },
  {
   "cell_type": "code",
   "execution_count": 7,
   "metadata": {},
   "outputs": [
    {
     "data": {
      "text/plain": [
       "<AxesSubplot:>"
      ]
     },
     "execution_count": 7,
     "metadata": {},
     "output_type": "execute_result"
    },
    {
     "data": {
      "image/png": "[encoded data removed]",
      "text/plain": [
       "<Figure size 432x288 with 1 Axes>"
      ]
     },
     "metadata": {
      "needs_background": "light"
     },
     "output_type": "display_data"
    }
   ],
   "source": [
    "df.sentiment.hist(bins=2)"
   ]
  },
  {
   "cell_type": "code",
   "execution_count": 8,
   "metadata": {},
   "outputs": [
    {
     "data": {
      "text/plain": [
       "count    33324.000000\n",
       "mean         0.625105\n",
       "std          0.484103\n",
       "min          0.000000\n",
       "25%          0.000000\n",
       "50%          1.000000\n",
       "75%          1.000000\n",
       "max          1.000000\n",
       "Name: sentiment, dtype: float64"
      ]
     },
     "execution_count": 8,
     "metadata": {},
     "output_type": "execute_result"
    }
   ],
   "source": [
    "data.sentiment.describe()"
   ]
  },
  {
   "cell_type": "code",
   "execution_count": 9,
   "metadata": {},
   "outputs": [
    {
     "data": {
      "text/html": [
       "<div>\n",
       "<style scoped>\n",
       "    .dataframe tbody tr th:only-of-type {\n",
       "        vertical-align: middle;\n",
       "    }\n",
       "\n",
       "    .dataframe tbody tr th {\n",
       "        vertical-align: top;\n",
       "    }\n",
       "\n",
       "    .dataframe thead th {\n",
       "        text-align: right;\n",
       "    }\n",
       "</style>\n",
       "<table border=\"1\" class=\"dataframe\">\n",
       "  <thead>\n",
       "    <tr style=\"text-align: right;\">\n",
       "      <th></th>\n",
       "      <th>text</th>\n",
       "      <th>sentiment</th>\n",
       "    </tr>\n",
       "  </thead>\n",
       "  <tbody>\n",
       "    <tr>\n",
       "      <th>0</th>\n",
       "      <td>If you've recently heard from an old friend, you're not alone. A communication studies professor says he's not surprised that people are looking to reconnect with others they were once close to. “This is an utter res...</td>\n",
       "      <td>1</td>\n",
       "    </tr>\n",
       "    <tr>\n",
       "      <th>1</th>\n",
       "      <td>Dr. Hall says it makes sense that we would reach out to people we've had strong ties to. That's because if it has to be through phone calls or texts, we'd rather connect with someone we really want to talk to. Mainta...</td>\n",
       "      <td>1</td>\n",
       "    </tr>\n",
       "    <tr>\n",
       "      <th>2</th>\n",
       "      <td>\"Please, if you are going to protest, take care of yourself and stay safe,\" Ogbongbemiga said. Before the news, the Cowboys released a safe return plan for it's football student-athletes and indicted what would happe...</td>\n",
       "      <td>1</td>\n",
       "    </tr>\n",
       "    <tr>\n",
       "      <th>3</th>\n",
       "      <td>The Tulsa Health Department sent 2 Works for You the following statement: The Tulsa Health Department will contact any individual or setting deemed at risk for exposure for all confirmed positive COVID-19 cases among...</td>\n",
       "      <td>1</td>\n",
       "    </tr>\n",
       "    <tr>\n",
       "      <th>4</th>\n",
       "      <td>The industry is one of the hardest hit by the pandemic and it’s looking to Congress for help. Losses for the restaurant industry nationwide are expected to hit $80 billion by the end of the month. Around 8 million re...</td>\n",
       "      <td>0</td>\n",
       "    </tr>\n",
       "    <tr>\n",
       "      <th>5</th>\n",
       "      <td>We need more flexibility so we can use the time, ramp our operations back up and continue bringing people back through our doors. ”Giving businesses more time to use the money is one change the restaurant industry is...</td>\n",
       "      <td>0</td>\n",
       "    </tr>\n",
       "    <tr>\n",
       "      <th>6</th>\n",
       "      <td>Doctors later discovered his near-death experience was a reaction to the novel coronavirus. Roup Hardowar said his 8-year-old son, Jayden, had been suffering from a fever for several days. His pediatrician was confid...</td>\n",
       "      <td>0</td>\n",
       "    </tr>\n",
       "    <tr>\n",
       "      <th>7</th>\n",
       "      <td>Paramedics arrived and rushed Jayden to Cohen Children’s Medical Center. The 2nd-grader was put on a ventilator for three days as doctors tried to figure out what caused his cardiac arrest. After four negative COVID-...</td>\n",
       "      <td>0</td>\n",
       "    </tr>\n",
       "    <tr>\n",
       "      <th>8</th>\n",
       "      <td>“Some kids have very direct effects on the heart for this inflammatory process, so it can lead to profound heart dysfunction…to cardiac arrest,” said Dr. Schneider. Doctors say parents should look for several symptom...</td>\n",
       "      <td>1</td>\n",
       "    </tr>\n",
       "    <tr>\n",
       "      <th>9</th>\n",
       "      <td>For the CDC’s latest information on this emerging syndrome, click HERE. NEW YORK (AP) — New York City's mayor is rejecting calls to stop having police officers enforce social distancing during the coronavirus crisis....</td>\n",
       "      <td>0</td>\n",
       "    </tr>\n",
       "  </tbody>\n",
       "</table>\n",
       "</div>"
      ],
      "text/plain": [
       "                                                                                                                                                                                                                          text  \\\n",
       "0  If you've recently heard from an old friend, you're not alone. A communication studies professor says he's not surprised that people are looking to reconnect with others they were once close to. “This is an utter res...   \n",
       "1  Dr. Hall says it makes sense that we would reach out to people we've had strong ties to. That's because if it has to be through phone calls or texts, we'd rather connect with someone we really want to talk to. Mainta...   \n",
       "2  \"Please, if you are going to protest, take care of yourself and stay safe,\" Ogbongbemiga said. Before the news, the Cowboys released a safe return plan for it's football student-athletes and indicted what would happe...   \n",
       "3  The Tulsa Health Department sent 2 Works for You the following statement: The Tulsa Health Department will contact any individual or setting deemed at risk for exposure for all confirmed positive COVID-19 cases among...   \n",
       "4  The industry is one of the hardest hit by the pandemic and it’s looking to Congress for help. Losses for the restaurant industry nationwide are expected to hit $80 billion by the end of the month. Around 8 million re...   \n",
       "5  We need more flexibility so we can use the time, ramp our operations back up and continue bringing people back through our doors. ”Giving businesses more time to use the money is one change the restaurant industry is...   \n",
       "6  Doctors later discovered his near-death experience was a reaction to the novel coronavirus. Roup Hardowar said his 8-year-old son, Jayden, had been suffering from a fever for several days. His pediatrician was confid...   \n",
       "7  Paramedics arrived and rushed Jayden to Cohen Children’s Medical Center. The 2nd-grader was put on a ventilator for three days as doctors tried to figure out what caused his cardiac arrest. After four negative COVID-...   \n",
       "8  “Some kids have very direct effects on the heart for this inflammatory process, so it can lead to profound heart dysfunction…to cardiac arrest,” said Dr. Schneider. Doctors say parents should look for several symptom...   \n",
       "9  For the CDC’s latest information on this emerging syndrome, click HERE. NEW YORK (AP) — New York City's mayor is rejecting calls to stop having police officers enforce social distancing during the coronavirus crisis....   \n",
       "\n",
       "   sentiment  \n",
       "0          1  \n",
       "1          1  \n",
       "2          1  \n",
       "3          1  \n",
       "4          0  \n",
       "5          0  \n",
       "6          0  \n",
       "7          0  \n",
       "8          1  \n",
       "9          0  "
      ]
     },
     "execution_count": 9,
     "metadata": {},
     "output_type": "execute_result"
    }
   ],
   "source": [
    "data.iloc[:10]"
   ]
  },
  {
   "cell_type": "code",
   "execution_count": 10,
   "metadata": {},
   "outputs": [
    {
     "data": {
      "text/plain": [
       "\"The industry is one of the hardest hit by the pandemic and it’s looking to Congress for help. Losses for the restaurant industry nationwide are expected to hit $80 billion by the end of the month. Around 8 million restaurant workers have been furloughed or laid off. The National Restaurant Association says more than 40% of restaurants are closed now. It's worried a growing number of them won't be able to reopen in the weeks ahead without assistance from the federal government. Recent Stories from 10news. com PLAY Top Videos San Diego businesses trying to survive the purple tier Video Settings Auto Full Screen About Connatix V78152 Watch More Watch More Watch More Watch More Watch More Watch More 1 min. story Skip 1/1 SPONSORED Visit Advertiser website GO TO PAGE / Coming Next Skip Ad The Paycheck Protection Program has helped small businesses, but the association says the loan terms don't work well for restaurants. “Right now, they have to be used in an 8-week period,” said Sean Kennedy, Executive Vice President of Public Affairs for the National Restaurant Association. “For restaurants who have an uncertain future now and a really uncertain future as we begin to reopen, that's just not enough time.\""
      ]
     },
     "execution_count": 10,
     "metadata": {},
     "output_type": "execute_result"
    }
   ],
   "source": [
    "data.loc[4, 'text']"
   ]
  },
  {
   "cell_type": "code",
   "execution_count": 16,
   "metadata": {},
   "outputs": [],
   "source": [
    "import nltk"
   ]
  },
  {
   "cell_type": "code",
   "execution_count": 11,
   "metadata": {},
   "outputs": [
    {
     "name": "stdout",
     "output_type": "stream",
     "text": [
      "Object loaded successfully.\n"
     ]
    }
   ],
   "source": [
    "\n",
    "# from nltk.corpus import stopwords\n",
    "# nltk.download('stopwords')\n",
    "# nltk.download('punkt')\n",
    "# nltk.download('averaged_perceptron_tagger')\n",
    "\n",
    "# #sw_list = stopwords.words('english')\n",
    "# sw = stopwords.words('english')\n",
    "\n",
    "sw = Stopwords().load(\"stopwords.pkl\") #stopwords20201130204117.pkl"
   ]
  },
  {
   "cell_type": "code",
   "execution_count": 12,
   "metadata": {},
   "outputs": [],
   "source": [
    "negations = [s for s in sw.default_missing() if any(e in s for e in ['not', \"n't\", \"nt\", \"nor\"])]\n",
    "stopwords = sw.stopwords \n",
    "negations.extend([\"cannot\", \"can't\"])\n",
    "replacer = dict(zip(negations + stopwords, [\"<negation>\"] * len(negations) + [\"<stopword>\"] * len(stopwords)))"
   ]
  },
  {
   "cell_type": "code",
   "execution_count": 13,
   "metadata": {},
   "outputs": [
    {
     "data": {
      "text/plain": [
       "20"
      ]
     },
     "execution_count": 13,
     "metadata": {},
     "output_type": "execute_result"
    }
   ],
   "source": [
    "len(negations)"
   ]
  },
  {
   "cell_type": "code",
   "execution_count": 14,
   "metadata": {},
   "outputs": [
    {
     "data": {
      "text/plain": [
       "{\"don't\": '<negation>',\n",
       " \"wouldn't\": '<negation>',\n",
       " \"doesn't\": '<negation>',\n",
       " \"weren't\": '<negation>',\n",
       " \"shan't\": '<negation>',\n",
       " \"haven't\": '<negation>',\n",
       " \"wasn't\": '<negation>',\n",
       " \"mustn't\": '<negation>',\n",
       " \"mightn't\": '<negation>',\n",
       " \"needn't\": '<negation>',\n",
       " \"couldn't\": '<negation>',\n",
       " \"didn't\": '<negation>',\n",
       " \"won't\": '<negation>',\n",
       " \"aren't\": '<negation>',\n",
       " \"hadn't\": '<negation>',\n",
       " \"isn't\": '<negation>',\n",
       " \"hasn't\": '<negation>',\n",
       " \"shouldn't\": '<negation>',\n",
       " 'cannot': '<negation>',\n",
       " \"can't\": '<negation>',\n",
       " 'i': '<stopword>',\n",
       " 'me': '<stopword>',\n",
       " 'my': '<stopword>',\n",
       " 'myself': '<stopword>',\n",
       " 'we': '<stopword>',\n",
       " 'our': '<stopword>',\n",
       " 'ours': '<stopword>',\n",
       " 'ourselves': '<stopword>',\n",
       " 'you': '<stopword>',\n",
       " 'your': '<stopword>',\n",
       " 'yours': '<stopword>',\n",
       " 'yourself': '<stopword>',\n",
       " 'yourselves': '<stopword>',\n",
       " 'he': '<stopword>',\n",
       " 'him': '<stopword>',\n",
       " 'his': '<stopword>',\n",
       " 'himself': '<stopword>',\n",
       " 'she': '<stopword>',\n",
       " 'her': '<stopword>',\n",
       " 'hers': '<stopword>',\n",
       " 'herself': '<stopword>',\n",
       " 'it': '<stopword>',\n",
       " 'its': '<stopword>',\n",
       " 'itself': '<stopword>',\n",
       " 'they': '<stopword>',\n",
       " 'them': '<stopword>',\n",
       " 'their': '<stopword>',\n",
       " 'theirs': '<stopword>',\n",
       " 'themselves': '<stopword>',\n",
       " 'what': '<stopword>',\n",
       " 'which': '<stopword>',\n",
       " 'who': '<stopword>',\n",
       " 'whom': '<stopword>',\n",
       " 'this': '<stopword>',\n",
       " 'that': '<stopword>',\n",
       " 'these': '<stopword>',\n",
       " 'those': '<stopword>',\n",
       " 'am': '<stopword>',\n",
       " 'is': '<stopword>',\n",
       " 'are': '<stopword>',\n",
       " 'was': '<stopword>',\n",
       " 'were': '<stopword>',\n",
       " 'be': '<stopword>',\n",
       " 'been': '<stopword>',\n",
       " 'being': '<stopword>',\n",
       " 'have': '<stopword>',\n",
       " 'has': '<stopword>',\n",
       " 'had': '<stopword>',\n",
       " 'having': '<stopword>',\n",
       " 'do': '<stopword>',\n",
       " 'does': '<stopword>',\n",
       " 'did': '<stopword>',\n",
       " 'doing': '<stopword>',\n",
       " 'a': '<stopword>',\n",
       " 'an': '<stopword>',\n",
       " 'the': '<stopword>',\n",
       " 'and': '<stopword>',\n",
       " 'but': '<stopword>',\n",
       " 'if': '<stopword>',\n",
       " 'or': '<stopword>',\n",
       " 'because': '<stopword>',\n",
       " 'as': '<stopword>',\n",
       " 'until': '<stopword>',\n",
       " 'while': '<stopword>',\n",
       " 'of': '<stopword>',\n",
       " 'at': '<stopword>',\n",
       " 'by': '<stopword>',\n",
       " 'for': '<stopword>',\n",
       " 'with': '<stopword>',\n",
       " 'about': '<stopword>',\n",
       " 'against': '<stopword>',\n",
       " 'between': '<stopword>',\n",
       " 'into': '<stopword>',\n",
       " 'through': '<stopword>',\n",
       " 'during': '<stopword>',\n",
       " 'before': '<stopword>',\n",
       " 'after': '<stopword>',\n",
       " 'above': '<stopword>',\n",
       " 'below': '<stopword>',\n",
       " 'to': '<stopword>',\n",
       " 'from': '<stopword>',\n",
       " 'up': '<stopword>',\n",
       " 'down': '<stopword>',\n",
       " 'in': '<stopword>',\n",
       " 'out': '<stopword>',\n",
       " 'on': '<stopword>',\n",
       " 'off': '<stopword>',\n",
       " 'over': '<stopword>',\n",
       " 'under': '<stopword>',\n",
       " 'again': '<stopword>',\n",
       " 'further': '<stopword>',\n",
       " 'then': '<stopword>',\n",
       " 'once': '<stopword>',\n",
       " 'here': '<stopword>',\n",
       " 'there': '<stopword>',\n",
       " 'when': '<stopword>',\n",
       " 'where': '<stopword>',\n",
       " 'why': '<stopword>',\n",
       " 'how': '<stopword>',\n",
       " 'all': '<stopword>',\n",
       " 'any': '<stopword>',\n",
       " 'both': '<stopword>',\n",
       " 'each': '<stopword>',\n",
       " 'few': '<stopword>',\n",
       " 'more': '<stopword>',\n",
       " 'most': '<stopword>',\n",
       " 'other': '<stopword>',\n",
       " 'some': '<stopword>',\n",
       " 'such': '<stopword>',\n",
       " 'no': '<stopword>',\n",
       " 'nor': '<stopword>',\n",
       " 'not': '<stopword>',\n",
       " 'only': '<stopword>',\n",
       " 'own': '<stopword>',\n",
       " 'same': '<stopword>',\n",
       " 'so': '<stopword>',\n",
       " 'than': '<stopword>',\n",
       " 'too': '<stopword>',\n",
       " 'very': '<stopword>',\n",
       " 's': '<stopword>',\n",
       " 't': '<stopword>',\n",
       " 'can': '<stopword>',\n",
       " 'will': '<stopword>',\n",
       " 'just': '<stopword>',\n",
       " 'don': '<stopword>',\n",
       " 'should': '<stopword>',\n",
       " 'now': '<stopword>',\n",
       " 'd': '<stopword>',\n",
       " 'll': '<stopword>',\n",
       " 'm': '<stopword>',\n",
       " 'o': '<stopword>',\n",
       " 're': '<stopword>',\n",
       " 've': '<stopword>',\n",
       " 'y': '<stopword>',\n",
       " 'ain': '<stopword>',\n",
       " 'aren': '<stopword>',\n",
       " 'couldn': '<stopword>',\n",
       " 'didn': '<stopword>',\n",
       " 'doesn': '<stopword>',\n",
       " 'hadn': '<stopword>',\n",
       " 'hasn': '<stopword>',\n",
       " 'haven': '<stopword>',\n",
       " 'isn': '<stopword>',\n",
       " 'ma': '<stopword>',\n",
       " 'mightn': '<stopword>',\n",
       " 'mustn': '<stopword>',\n",
       " 'needn': '<stopword>',\n",
       " 'shan': '<stopword>',\n",
       " 'shouldn': '<stopword>',\n",
       " 'wasn': '<stopword>',\n",
       " 'weren': '<stopword>',\n",
       " 'won': '<stopword>',\n",
       " 'wouldn': '<stopword>'}"
      ]
     },
     "execution_count": 14,
     "metadata": {},
     "output_type": "execute_result"
    }
   ],
   "source": [
    "replacer"
   ]
  },
  {
   "cell_type": "code",
   "execution_count": 17,
   "metadata": {},
   "outputs": [
    {
     "name": "stderr",
     "output_type": "stream",
     "text": [
      "[nltk_data] Downloading package wordnet to\n",
      "[nltk_data]     C:\\Users\\niranjans3ln\\AppData\\Roaming\\nltk_data...\n",
      "[nltk_data]   Package wordnet is already up-to-date!\n"
     ]
    },
    {
     "data": {
      "text/plain": [
       "True"
      ]
     },
     "execution_count": 17,
     "metadata": {},
     "output_type": "execute_result"
    }
   ],
   "source": [
    "nltk.download('wordnet')"
   ]
  },
  {
   "cell_type": "code",
   "execution_count": 18,
   "metadata": {},
   "outputs": [
    {
     "name": "stdout",
     "output_type": "stream",
     "text": [
      "Extra Abbreviations: ['dr', 'vs', 'mr', 'mrs', 'prof', 'inc', 'i.e']\n"
     ]
    },
    {
     "data": {
      "text/plain": [
       "<TextsPreprocessor>"
      ]
     },
     "execution_count": 18,
     "metadata": {},
     "output_type": "execute_result"
    }
   ],
   "source": [
    "tp = TextsPreprocessor(stopwords=stopwords)\n",
    "print(\"Extra Abbreviations:\", tp.extra_abbreviations)\n",
    "tp.transformation_selection['reconstruct'] = False\n",
    "tp.transformation_selection['remove_stopwords'] = True\n",
    "tp.replacer = replacer\n",
    "tp.fit(data['text'])"
   ]
  },
  {
   "cell_type": "code",
   "execution_count": 19,
   "metadata": {},
   "outputs": [
    {
     "data": {
      "text/plain": [
       "3235     [[Francisco, Martin, ,, 19, ,, took, on, Perry, 's, hit, ``, Teenage, Dream, '', from, Daly, City, ,, California, home, .], [``, You, took, the, chance, of, life, ,, '', judge, Lionel, Richie, told, the, teen, .], [`...\n",
       "25528    [[``, Their, population, has, increased, rapidly, .], [It, has, risen, to, the, point, where, people, ca, n't, take, this, anymore, .], [I, have, been, living, in, this, spot, for, over, 60, years, .], [I, have, grad...\n",
       "21281    [[Crew, has, filed, for, Chapter, 11, bankruptcy, protection, .], [The, pandemic, is, bringing, many, businesses, to, their, knees, ,, with, companies, undergoing, massive, layoffs, ,, posting, record, losses, ,, and...\n",
       "Name: text, dtype: object"
      ]
     },
     "execution_count": 19,
     "metadata": {},
     "output_type": "execute_result"
    }
   ],
   "source": [
    "tp.tokens.sample(3)"
   ]
  },
  {
   "cell_type": "code",
   "execution_count": 20,
   "metadata": {},
   "outputs": [
    {
     "name": "stdout",
     "output_type": "stream",
     "text": [
      "1/10. clean_upper...Completed.\n",
      "2/10. clean_title...Completed.\n",
      "3/10. clean_non_alpha...Completed.\n",
      "4/10. lower...Completed.\n",
      "5/10. remove_stopwords...Completed.\n",
      "6/10. replace_tokens...Completed.\n",
      "7/10. lemmatize...Completed.\n",
      "8/10. stem...Completed.\n",
      "9/10. flatten...Completed.\n",
      "10/10. reconstruct...Skipped.\n"
     ]
    }
   ],
   "source": [
    "X = tp.transform(remove_stopwords=True)"
   ]
  },
  {
   "cell_type": "code",
   "execution_count": 21,
   "metadata": {},
   "outputs": [
    {
     "data": {
      "text/plain": [
       "2194     [contradictori, inform, told, alway, said, hope, vaccin, end, year, begin, next, year, want, make, sure, state, avail, distribut, ad, urgenc, public, health, econom, reason, vaccin, expert, express, concern, speed, v...\n",
       "32475    [deepli, concern, chief, execut, told, radio, interview, lot, meet, lot, govern, depart, simpli, listen, said, industri, still, dark, system, use, custom, declar, sever, remain, tie, well, chang, infrastructur, borde...\n",
       "10472    [billion, stock, market, rut, quot, warn, hell, come, economi, made, substanti, bet, market, latest, ventur, check, compani, began, trade, ticket, rais, billion, per, share, trade, session, unicorn, hunt, season, new...\n",
       "Name: text, dtype: object"
      ]
     },
     "execution_count": 21,
     "metadata": {},
     "output_type": "execute_result"
    }
   ],
   "source": [
    "X.sample(3)"
   ]
  },
  {
   "cell_type": "code",
   "execution_count": 22,
   "metadata": {},
   "outputs": [
    {
     "data": {
      "text/plain": [
       "count    33324.000000\n",
       "mean        90.404633\n",
       "std         26.293526\n",
       "min          0.000000\n",
       "25%         73.000000\n",
       "50%         90.000000\n",
       "75%        107.000000\n",
       "max        261.000000\n",
       "Name: text, dtype: float64"
      ]
     },
     "execution_count": 22,
     "metadata": {},
     "output_type": "execute_result"
    }
   ],
   "source": [
    "X.apply(len).describe()"
   ]
  },
  {
   "cell_type": "code",
   "execution_count": 23,
   "metadata": {},
   "outputs": [
    {
     "data": {
      "image/png": "[encoded data removed]",
      "text/plain": [
       "<Figure size 864x288 with 1 Axes>"
      ]
     },
     "metadata": {},
     "output_type": "display_data"
    }
   ],
   "source": [
    "with plt.style.context('fivethirtyeight'):\n",
    "    plt.figure(figsize=(12, 4))\n",
    "    plt.hist(X.apply(len).values, bins=20, rwidth=0.95, density=False);\n",
    "    plt.xlabel(\"Number Of Tokens\")\n",
    "    plt.ylabel(\"Frequency\")\n",
    "    plt.title(\"Histogram of Tokens\");"
   ]
  },
  {
   "cell_type": "code",
   "execution_count": 24,
   "metadata": {},
   "outputs": [
    {
     "data": {
      "text/plain": [
       "35.0"
      ]
     },
     "execution_count": 24,
     "metadata": {},
     "output_type": "execute_result"
    }
   ],
   "source": [
    "drop_rows_when_tokens_less_than = X.apply(len).quantile(0.015)\n",
    "drop_rows_when_tokens_less_than"
   ]
  },
  {
   "cell_type": "code",
   "execution_count": 25,
   "metadata": {},
   "outputs": [
    {
     "data": {
      "text/plain": [
       "151.0"
      ]
     },
     "execution_count": 25,
     "metadata": {},
     "output_type": "execute_result"
    }
   ],
   "source": [
    "max_review_length = X.apply(len).quantile(0.985)\n",
    "max_review_length"
   ]
  },
  {
   "cell_type": "code",
   "execution_count": 26,
   "metadata": {},
   "outputs": [
    {
     "data": {
      "text/plain": [
       "32858"
      ]
     },
     "execution_count": 26,
     "metadata": {},
     "output_type": "execute_result"
    }
   ],
   "source": [
    "select = X.apply(len) >= drop_rows_when_tokens_less_than\n",
    "sum(select)"
   ]
  },
  {
   "cell_type": "code",
   "execution_count": 27,
   "metadata": {},
   "outputs": [],
   "source": [
    "X = X[select]\n",
    "y = data.sentiment[select]"
   ]
  },
  {
   "cell_type": "code",
   "execution_count": 28,
   "metadata": {},
   "outputs": [
    {
     "data": {
      "text/plain": [
       "(Int64Index([], dtype='int64'), Int64Index([], dtype='int64'))"
      ]
     },
     "execution_count": 28,
     "metadata": {},
     "output_type": "execute_result"
    }
   ],
   "source": [
    "y.index.difference(X.index), X.index.difference(y.index)"
   ]
  },
  {
   "cell_type": "code",
   "execution_count": 29,
   "metadata": {},
   "outputs": [
    {
     "data": {
      "text/plain": [
       "((32858,), (32858,))"
      ]
     },
     "execution_count": 29,
     "metadata": {},
     "output_type": "execute_result"
    }
   ],
   "source": [
    "X.shape, y.shape"
   ]
  },
  {
   "cell_type": "code",
   "execution_count": 30,
   "metadata": {},
   "outputs": [
    {
     "data": {
      "text/plain": [
       "0.6244141457179377"
      ]
     },
     "execution_count": 30,
     "metadata": {},
     "output_type": "execute_result"
    }
   ],
   "source": [
    "y.mean()"
   ]
  },
  {
   "cell_type": "markdown",
   "metadata": {},
   "source": [
    "### Vectorize"
   ]
  },
  {
   "cell_type": "code",
   "execution_count": 31,
   "metadata": {},
   "outputs": [],
   "source": [
    "vector = Vectorizer()"
   ]
  },
  {
   "cell_type": "code",
   "execution_count": 32,
   "metadata": {},
   "outputs": [
    {
     "data": {
      "text/plain": [
       "<TokenTransformer(sequences=(32858,), n_vocabulary=22063)>"
      ]
     },
     "execution_count": 32,
     "metadata": {},
     "output_type": "execute_result"
    }
   ],
   "source": [
    "vector.fit(X)"
   ]
  },
  {
   "cell_type": "code",
   "execution_count": 33,
   "metadata": {},
   "outputs": [
    {
     "data": {
      "text/plain": [
       "said          50242\n",
       "peopl         22064\n",
       "coronaviru    16411\n",
       "state         16363\n",
       "case          15679\n",
       "              ...  \n",
       "swoosh            8\n",
       "investitur        8\n",
       "unclimb           8\n",
       "calfir            8\n",
       "mandarin          8\n",
       "Length: 9171, dtype: int64"
      ]
     },
     "execution_count": 33,
     "metadata": {},
     "output_type": "execute_result"
    }
   ],
   "source": [
    "freq = pd.Series(vector.freq_dist_descending) # 3.300.000 stopwords\n",
    "freq = freq[freq>=8]\n",
    "freq"
   ]
  },
  {
   "cell_type": "code",
   "execution_count": 34,
   "metadata": {},
   "outputs": [
    {
     "data": {
      "text/plain": [
       "said             1.0\n",
       "peopl            2.0\n",
       "coronaviru       3.0\n",
       "state            4.0\n",
       "case             5.0\n",
       "               ...  \n",
       "swoosh        8971.0\n",
       "investitur    8971.0\n",
       "unclimb       8971.0\n",
       "calfir        8971.0\n",
       "mandarin      8971.0\n",
       "Length: 9171, dtype: float64"
      ]
     },
     "execution_count": 34,
     "metadata": {},
     "output_type": "execute_result"
    }
   ],
   "source": [
    "ranker = freq.rank(ascending=False)\n",
    "ranker"
   ]
  },
  {
   "cell_type": "code",
   "execution_count": 35,
   "metadata": {},
   "outputs": [],
   "source": [
    "def get_rank(tokenlist):\n",
    "    return [ranker[t] if t in ranker else 0.0 for t in tokenlist]"
   ]
  },
  {
   "cell_type": "code",
   "execution_count": 36,
   "metadata": {},
   "outputs": [],
   "source": [
    "# X_rank = X.apply(get_rank)\n",
    "X_rank = vector.transform(X)"
   ]
  },
  {
   "cell_type": "code",
   "execution_count": 37,
   "metadata": {},
   "outputs": [],
   "source": [
    "max_review_length = int(X.apply(len).quantile(0.985))\n",
    "X_seq = keras.preprocessing.sequence.pad_sequences(X_rank, maxlen=max_review_length)"
   ]
  },
  {
   "cell_type": "code",
   "execution_count": 38,
   "metadata": {},
   "outputs": [],
   "source": [
    "X_train, X_test, y_train, y_test = train_test_split(X_seq, y, test_size=0.33, random_state=0)"
   ]
  },
  {
   "cell_type": "code",
   "execution_count": 39,
   "metadata": {},
   "outputs": [
    {
     "data": {
      "text/plain": [
       "((22014, 152), (22014,), (10844, 152), (10844,))"
      ]
     },
     "execution_count": 39,
     "metadata": {},
     "output_type": "execute_result"
    }
   ],
   "source": [
    "X_train.shape, y_train.shape, X_test.shape, y_test.shape"
   ]
  },
  {
   "cell_type": "code",
   "execution_count": 40,
   "metadata": {},
   "outputs": [
    {
     "data": {
      "text/plain": [
       "9171"
      ]
     },
     "execution_count": 40,
     "metadata": {},
     "output_type": "execute_result"
    }
   ],
   "source": [
    "len(ranker)"
   ]
  },
  {
   "cell_type": "markdown",
   "metadata": {},
   "source": [
    "###  Models Creation"
   ]
  },
  {
   "cell_type": "code",
   "execution_count": 41,
   "metadata": {},
   "outputs": [],
   "source": [
    "embedding_vector_length = 64\n",
    "\n",
    "embedding = dict(input_dim = vector.n_vocabulary+1, \n",
    "                 output_dim = embedding_vector_length, \n",
    "                 input_length = max_review_length)\n",
    "\n",
    "conv1d = dict(filters=16, \n",
    "              kernel_size=3, \n",
    "              padding='same', \n",
    "              activation='relu')\n",
    "\n",
    "lstm_kw = dict(units=32)\n",
    "\n",
    "callbacks = [keras.callbacks.EarlyStopping(patience=3, restore_best_weights=True, verbose=1)]"
   ]
  },
  {
   "cell_type": "code",
   "execution_count": 42,
   "metadata": {},
   "outputs": [
    {
     "name": "stdout",
     "output_type": "stream",
     "text": [
      "Model: \"sequential\"\n",
      "_________________________________________________________________\n",
      " Layer (type)                Output Shape              Param #   \n",
      "=================================================================\n",
      " embedding (Embedding)       (None, 152, 64)           1412096   \n",
      "                                                                 \n",
      " dropout (Dropout)           (None, 152, 64)           0         \n",
      "                                                                 \n",
      " conv1d (Conv1D)             (None, 152, 16)           3088      \n",
      "                                                                 \n",
      " max_pooling1d (MaxPooling1D  (None, 76, 16)           0         \n",
      " )                                                               \n",
      "                                                                 \n",
      " dropout_1 (Dropout)         (None, 76, 16)            0         \n",
      "                                                                 \n",
      " lstm (LSTM)                 (None, 32)                6272      \n",
      "                                                                 \n",
      " dropout_2 (Dropout)         (None, 32)                0         \n",
      "                                                                 \n",
      " dense (Dense)               (None, 1)                 33        \n",
      "                                                                 \n",
      "=================================================================\n",
      "Total params: 1,421,489\n",
      "Trainable params: 1,421,489\n",
      "Non-trainable params: 0\n",
      "_________________________________________________________________\n"
     ]
    }
   ],
   "source": [
    "create_model(embedding, conv1d, lstm_kw).summary()"
   ]
  },
  {
   "cell_type": "code",
   "execution_count": 43,
   "metadata": {},
   "outputs": [
    {
     "name": "stdout",
     "output_type": "stream",
     "text": [
      "Training batch: 16\n",
      "\t\tlstm_acc: 0.8902618885040283, blstm_acc: 0.8974547982215881\n",
      "Training batch: 32\n",
      "\t\tlstm_acc: 0.8926595449447632, blstm_acc: 0.8914607167243958\n",
      "Training batch: 64\n",
      "\t\tlstm_acc: 0.8896163702011108, blstm_acc: 0.8905385732650757\n",
      "Training batch: 128\n",
      "\t\tlstm_acc: 0.8921062350273132, blstm_acc: 0.8882331252098083\n",
      "Training batch: 256\n",
      "\t\tlstm_acc: 0.8898007869720459, blstm_acc: 0.886480987071991\n",
      "Training batch: 512\n",
      "\t\tlstm_acc: 0.8858354687690735, blstm_acc: 0.8820545673370361\n"
     ]
    }
   ],
   "source": [
    "hl_batch, hb_batch = {}, {}\n",
    "for batch_size in [16, 32, 64, 128, 256, 512]:\n",
    "    print(\"Training batch:\", batch_size)\n",
    "    lstm = create_model(embedding, conv1d, lstm_kw, \n",
    "                        dropout_after_embedding=0.0,\n",
    "                        dropout_after_conv1d=0.0,\n",
    "                        dropout_after_lstm=0.0, \n",
    "                        bidirectional=False)\n",
    "    blstm = create_model(embedding, conv1d, lstm_kw, \n",
    "                         dropout_after_embedding=0.0,\n",
    "                         dropout_after_conv1d=0.0,\n",
    "                         dropout_after_lstm=0.0,\n",
    "                         bidirectional=True)\n",
    "    hl = lstm.fit(X_train, y_train, batch_size=batch_size, epochs=5, validation_data=(X_test, y_test), verbose=0)\n",
    "    hb = blstm.fit(X_train, y_train, batch_size=batch_size, epochs=5, validation_data=(X_test, y_test), verbose=0)  \n",
    "    hl_acc, hb_acc = max(hl.history['val_accuracy']), max(hb.history['val_accuracy'])\n",
    "    hl_batch[batch_size] = hl_acc\n",
    "    hb_batch[batch_size] = hb_acc\n",
    "    print(f\"\\t\\tlstm_acc: {hl_acc}, blstm_acc: {hb_acc}\")"
   ]
  },
  {
   "cell_type": "code",
   "execution_count": 44,
   "metadata": {},
   "outputs": [],
   "source": [
    "pd.to_pickle(hl_batch, 'hl_batch.pkl')\n",
    "pd.to_pickle(hb_batch, 'hb_batch.pkl')"
   ]
  },
  {
   "cell_type": "code",
   "execution_count": 45,
   "metadata": {},
   "outputs": [],
   "source": [
    "hl_batch = pd.Series(hl_batch)\n",
    "hb_batch = pd.Series(hb_batch)"
   ]
  },
  {
   "cell_type": "code",
   "execution_count": 46,
   "metadata": {},
   "outputs": [
    {
     "data": {
      "text/html": [
       "<div>\n",
       "<style scoped>\n",
       "    .dataframe tbody tr th:only-of-type {\n",
       "        vertical-align: middle;\n",
       "    }\n",
       "\n",
       "    .dataframe tbody tr th {\n",
       "        vertical-align: top;\n",
       "    }\n",
       "\n",
       "    .dataframe thead th {\n",
       "        text-align: right;\n",
       "    }\n",
       "</style>\n",
       "<table border=\"1\" class=\"dataframe\">\n",
       "  <thead>\n",
       "    <tr style=\"text-align: right;\">\n",
       "      <th></th>\n",
       "      <th>blstm_acc</th>\n",
       "      <th>lstm_acc</th>\n",
       "      <th>blstm_acc_rollmean3</th>\n",
       "      <th>lstm_acc_rollmean3</th>\n",
       "    </tr>\n",
       "  </thead>\n",
       "  <tbody>\n",
       "    <tr>\n",
       "      <th>16</th>\n",
       "      <td>0.897455</td>\n",
       "      <td>0.890262</td>\n",
       "      <td>NaN</td>\n",
       "      <td>NaN</td>\n",
       "    </tr>\n",
       "    <tr>\n",
       "      <th>32</th>\n",
       "      <td>0.891461</td>\n",
       "      <td>0.892660</td>\n",
       "      <td>NaN</td>\n",
       "      <td>NaN</td>\n",
       "    </tr>\n",
       "    <tr>\n",
       "      <th>64</th>\n",
       "      <td>0.890539</td>\n",
       "      <td>0.889616</td>\n",
       "      <td>0.893151</td>\n",
       "      <td>0.890846</td>\n",
       "    </tr>\n",
       "    <tr>\n",
       "      <th>128</th>\n",
       "      <td>0.888233</td>\n",
       "      <td>0.892106</td>\n",
       "      <td>0.890077</td>\n",
       "      <td>0.891461</td>\n",
       "    </tr>\n",
       "    <tr>\n",
       "      <th>256</th>\n",
       "      <td>0.886481</td>\n",
       "      <td>0.889801</td>\n",
       "      <td>0.888418</td>\n",
       "      <td>0.890508</td>\n",
       "    </tr>\n",
       "    <tr>\n",
       "      <th>512</th>\n",
       "      <td>0.882055</td>\n",
       "      <td>0.885835</td>\n",
       "      <td>0.885590</td>\n",
       "      <td>0.889247</td>\n",
       "    </tr>\n",
       "  </tbody>\n",
       "</table>\n",
       "</div>"
      ],
      "text/plain": [
       "     blstm_acc  lstm_acc  blstm_acc_rollmean3  lstm_acc_rollmean3\n",
       "16    0.897455  0.890262                  NaN                 NaN\n",
       "32    0.891461  0.892660                  NaN                 NaN\n",
       "64    0.890539  0.889616             0.893151            0.890846\n",
       "128   0.888233  0.892106             0.890077            0.891461\n",
       "256   0.886481  0.889801             0.888418            0.890508\n",
       "512   0.882055  0.885835             0.885590            0.889247"
      ]
     },
     "execution_count": 46,
     "metadata": {},
     "output_type": "execute_result"
    }
   ],
   "source": [
    "batch_acc = pd.DataFrame({'blstm_acc':hb_batch, 'lstm_acc':hl_batch})\n",
    "batch_acc = batch_acc.join(batch_acc.rolling(3).mean(), rsuffix='_rollmean3')\n",
    "batch_acc"
   ]
  },
  {
   "cell_type": "code",
   "execution_count": 47,
   "metadata": {},
   "outputs": [
    {
     "data": {
      "image/png": "[encoded data removed]",
      "text/plain": [
       "<Figure size 864x288 with 1 Axes>"
      ]
     },
     "metadata": {
      "needs_background": "light"
     },
     "output_type": "display_data"
    }
   ],
   "source": [
    "plt.figure(figsize=(12, 4))\n",
    "hl_batch.plot(label='lstm', marker='o')\n",
    "hb_batch.plot(label='blstm', marker='*')\n",
    "plt.legend(fancybox=True, shadow=True)\n",
    "plt.grid()\n",
    "plt.xlabel(\"batch size\")\n",
    "plt.ylabel(\"accuracy\")\n",
    "plt.title(\"Batch Size VS Accuracy\");"
   ]
  },
  {
   "cell_type": "code",
   "execution_count": 48,
   "metadata": {},
   "outputs": [
    {
     "name": "stdout",
     "output_type": "stream",
     "text": [
      "Training drop_embed: 0.1\n",
      "\t\tlstm_acc: 0.8904463052749634, blstm_acc: 0.8938583731651306\n",
      "Training drop_embed: 0.25\n",
      "\t\tlstm_acc: 0.8887864351272583, blstm_acc: 0.8933972716331482\n",
      "Training drop_embed: 0.5\n",
      "\t\tlstm_acc: 0.8931206464767456, blstm_acc: 0.8930283784866333\n",
      "Training drop_embed: 0.75\n",
      "\t\tlstm_acc: 0.896348237991333, blstm_acc: 0.8917373418807983\n"
     ]
    }
   ],
   "source": [
    "hl_embed, hb_embed = {}, {}\n",
    "for n_embed in [0.10, 0.25, 0.50, 0.75]:\n",
    "    print(\"Training drop_embed:\", n_embed)\n",
    "    lstm = create_model(embedding, conv1d, lstm_kw, \n",
    "                        dropout_after_embedding=n_embed,\n",
    "                        dropout_after_conv1d=0.0,\n",
    "                        dropout_after_lstm=0.0, \n",
    "                        bidirectional=False)\n",
    "    blstm = create_model(embedding, conv1d, lstm_kw, \n",
    "                         dropout_after_embedding=n_embed,\n",
    "                         dropout_after_conv1d=0.0,\n",
    "                         dropout_after_lstm=0.0,\n",
    "                         bidirectional=True)\n",
    "    hl = lstm.fit(X_train, y_train, batch_size=64, epochs=5, validation_data=(X_test, y_test), verbose=0)\n",
    "    hb = blstm.fit(X_train, y_train, batch_size=64, epochs=5, validation_data=(X_test, y_test), verbose=0)  \n",
    "    hl_acc, hb_acc = max(hl.history['val_accuracy']), max(hb.history['val_accuracy'])\n",
    "    hl_embed[n_embed] = hl_acc\n",
    "    hb_embed[n_embed] = hb_acc\n",
    "    print(f\"\\t\\tlstm_acc: {hl_acc}, blstm_acc: {hb_acc}\")"
   ]
  },
  {
   "cell_type": "code",
   "execution_count": 49,
   "metadata": {},
   "outputs": [],
   "source": [
    "hl_embed = pd.Series(hl_embed, name='lstm_acc')\n",
    "hb_embed = pd.Series(hb_embed, name='blstm_acc')\n",
    "\n",
    "pd.to_pickle(hl_embed, \"hl_embed.pkl\")\n",
    "pd.to_pickle(hb_embed, \"hb_embed.pkl\")"
   ]
  },
  {
   "cell_type": "code",
   "execution_count": 50,
   "metadata": {},
   "outputs": [
    {
     "data": {
      "text/html": [
       "<div>\n",
       "<style scoped>\n",
       "    .dataframe tbody tr th:only-of-type {\n",
       "        vertical-align: middle;\n",
       "    }\n",
       "\n",
       "    .dataframe tbody tr th {\n",
       "        vertical-align: top;\n",
       "    }\n",
       "\n",
       "    .dataframe thead th {\n",
       "        text-align: right;\n",
       "    }\n",
       "</style>\n",
       "<table border=\"1\" class=\"dataframe\">\n",
       "  <thead>\n",
       "    <tr style=\"text-align: right;\">\n",
       "      <th></th>\n",
       "      <th>lstm</th>\n",
       "      <th>blstm</th>\n",
       "    </tr>\n",
       "  </thead>\n",
       "  <tbody>\n",
       "    <tr>\n",
       "      <th>0.10</th>\n",
       "      <td>0.890446</td>\n",
       "      <td>0.893858</td>\n",
       "    </tr>\n",
       "    <tr>\n",
       "      <th>0.25</th>\n",
       "      <td>0.888786</td>\n",
       "      <td>0.893397</td>\n",
       "    </tr>\n",
       "    <tr>\n",
       "      <th>0.50</th>\n",
       "      <td>0.893121</td>\n",
       "      <td>0.893028</td>\n",
       "    </tr>\n",
       "    <tr>\n",
       "      <th>0.75</th>\n",
       "      <td>0.896348</td>\n",
       "      <td>0.891737</td>\n",
       "    </tr>\n",
       "  </tbody>\n",
       "</table>\n",
       "</div>"
      ],
      "text/plain": [
       "          lstm     blstm\n",
       "0.10  0.890446  0.893858\n",
       "0.25  0.888786  0.893397\n",
       "0.50  0.893121  0.893028\n",
       "0.75  0.896348  0.891737"
      ]
     },
     "execution_count": 50,
     "metadata": {},
     "output_type": "execute_result"
    }
   ],
   "source": [
    "pd.DataFrame({'lstm':hl_embed, 'blstm':hb_embed})"
   ]
  },
  {
   "cell_type": "code",
   "execution_count": 51,
   "metadata": {},
   "outputs": [
    {
     "data": {
      "image/png": "[encoded data removed]",
      "text/plain": [
       "<Figure size 864x288 with 1 Axes>"
      ]
     },
     "metadata": {
      "needs_background": "light"
     },
     "output_type": "display_data"
    }
   ],
   "source": [
    "plt.figure(figsize=(12, 4))\n",
    "hl_embed.plot(label='lstm', marker='o')\n",
    "hb_embed.plot(label='blstm', marker='*')\n",
    "plt.legend(fancybox=True, shadow=True)\n",
    "plt.grid()\n",
    "plt.xlabel(\"embedding dropout\")\n",
    "plt.ylabel(\"accuracy\")\n",
    "plt.title(\"Embedding Dropout VS Accuracy\");"
   ]
  },
  {
   "cell_type": "code",
   "execution_count": 52,
   "metadata": {},
   "outputs": [
    {
     "name": "stdout",
     "output_type": "stream",
     "text": [
      "Epoch 1/5\n",
      "344/344 [==============================] - 101s 277ms/step - loss: 0.4545 - accuracy: 0.7769 - val_loss: 0.2837 - val_accuracy: 0.8829\n",
      "Epoch 2/5\n",
      "344/344 [==============================] - 92s 266ms/step - loss: 0.2210 - accuracy: 0.9137 - val_loss: 0.2688 - val_accuracy: 0.8871\n",
      "Epoch 3/5\n",
      "344/344 [==============================] - 92s 267ms/step - loss: 0.1652 - accuracy: 0.9388 - val_loss: 0.2723 - val_accuracy: 0.8917\n",
      "Epoch 4/5\n",
      "344/344 [==============================] - 91s 265ms/step - loss: 0.1227 - accuracy: 0.9547 - val_loss: 0.3062 - val_accuracy: 0.8913\n",
      "Epoch 5/5\n",
      "344/344 [==============================] - 91s 265ms/step - loss: 0.1012 - accuracy: 0.9648 - val_loss: 0.3176 - val_accuracy: 0.8867\n",
      "Epoch 1/5\n",
      "344/344 [==============================] - 121s 327ms/step - loss: 0.4575 - accuracy: 0.7782 - val_loss: 0.2898 - val_accuracy: 0.8795\n",
      "Epoch 2/5\n",
      "344/344 [==============================] - 110s 321ms/step - loss: 0.2258 - accuracy: 0.9123 - val_loss: 0.2630 - val_accuracy: 0.8928\n",
      "Epoch 3/5\n",
      "344/344 [==============================] - 110s 321ms/step - loss: 0.1649 - accuracy: 0.9377 - val_loss: 0.2805 - val_accuracy: 0.8819\n",
      "Epoch 4/5\n",
      "344/344 [==============================] - 111s 323ms/step - loss: 0.1250 - accuracy: 0.9545 - val_loss: 0.3000 - val_accuracy: 0.8851\n",
      "Epoch 5/5\n",
      "344/344 [==============================] - 110s 321ms/step - loss: 0.0993 - accuracy: 0.9650 - val_loss: 0.3257 - val_accuracy: 0.8882\n",
      "Epoch 1/5\n",
      "344/344 [==============================] - 93s 255ms/step - loss: 0.4753 - accuracy: 0.7597 - val_loss: 0.2939 - val_accuracy: 0.8796\n",
      "Epoch 2/5\n",
      "344/344 [==============================] - 88s 255ms/step - loss: 0.2311 - accuracy: 0.9088 - val_loss: 0.2673 - val_accuracy: 0.8910\n",
      "Epoch 3/5\n",
      "344/344 [==============================] - 86s 251ms/step - loss: 0.1705 - accuracy: 0.9344 - val_loss: 0.2694 - val_accuracy: 0.8894\n",
      "Epoch 4/5\n",
      "344/344 [==============================] - 86s 251ms/step - loss: 0.1350 - accuracy: 0.9488 - val_loss: 0.2786 - val_accuracy: 0.8931\n",
      "Epoch 5/5\n",
      "344/344 [==============================] - 86s 251ms/step - loss: 0.1069 - accuracy: 0.9609 - val_loss: 0.3142 - val_accuracy: 0.8840\n",
      "Epoch 1/5\n",
      "344/344 [==============================] - 123s 331ms/step - loss: 0.4896 - accuracy: 0.7595 - val_loss: 0.3291 - val_accuracy: 0.8608\n",
      "Epoch 2/5\n",
      "344/344 [==============================] - 111s 323ms/step - loss: 0.2418 - accuracy: 0.9045 - val_loss: 0.2665 - val_accuracy: 0.8919\n",
      "Epoch 3/5\n",
      "344/344 [==============================] - 112s 325ms/step - loss: 0.1784 - accuracy: 0.9317 - val_loss: 0.2706 - val_accuracy: 0.8888\n",
      "Epoch 4/5\n",
      "344/344 [==============================] - 111s 323ms/step - loss: 0.1345 - accuracy: 0.9503 - val_loss: 0.2980 - val_accuracy: 0.8898\n",
      "Epoch 5/5\n",
      "344/344 [==============================] - 111s 323ms/step - loss: 0.1077 - accuracy: 0.9616 - val_loss: 0.2889 - val_accuracy: 0.8840\n",
      "Epoch 1/5\n",
      "344/344 [==============================] - 94s 258ms/step - loss: 0.4764 - accuracy: 0.7642 - val_loss: 0.3241 - val_accuracy: 0.8633\n",
      "Epoch 2/5\n",
      "344/344 [==============================] - 99s 288ms/step - loss: 0.2433 - accuracy: 0.9029 - val_loss: 0.2727 - val_accuracy: 0.8892\n",
      "Epoch 3/5\n",
      "344/344 [==============================] - 99s 288ms/step - loss: 0.1771 - accuracy: 0.9335 - val_loss: 0.2794 - val_accuracy: 0.8838\n",
      "Epoch 4/5\n",
      "344/344 [==============================] - 99s 289ms/step - loss: 0.1410 - accuracy: 0.9465 - val_loss: 0.3177 - val_accuracy: 0.8809\n",
      "Epoch 5/5\n",
      "344/344 [==============================] - 98s 286ms/step - loss: 0.1196 - accuracy: 0.9553 - val_loss: 0.2901 - val_accuracy: 0.8919\n",
      "Epoch 1/5\n",
      "344/344 [==============================] - 156s 412ms/step - loss: 0.4677 - accuracy: 0.7732 - val_loss: 0.2913 - val_accuracy: 0.8835\n",
      "Epoch 2/5\n",
      "344/344 [==============================] - 131s 381ms/step - loss: 0.2381 - accuracy: 0.9062 - val_loss: 0.2652 - val_accuracy: 0.8963\n",
      "Epoch 3/5\n",
      "344/344 [==============================] - 128s 371ms/step - loss: 0.1776 - accuracy: 0.9315 - val_loss: 0.2583 - val_accuracy: 0.8939\n",
      "Epoch 4/5\n",
      "344/344 [==============================] - 129s 376ms/step - loss: 0.1450 - accuracy: 0.9452 - val_loss: 0.2992 - val_accuracy: 0.8865\n",
      "Epoch 5/5\n",
      "344/344 [==============================] - 129s 375ms/step - loss: 0.1137 - accuracy: 0.9573 - val_loss: 0.3060 - val_accuracy: 0.8855\n",
      "Epoch 1/5\n",
      "344/344 [==============================] - 94s 244ms/step - loss: 0.4815 - accuracy: 0.7583 - val_loss: 0.3139 - val_accuracy: 0.8679\n",
      "Epoch 2/5\n",
      "344/344 [==============================] - 77s 223ms/step - loss: 0.2494 - accuracy: 0.8998 - val_loss: 0.2597 - val_accuracy: 0.8930\n",
      "Epoch 3/5\n",
      "344/344 [==============================] - 75s 218ms/step - loss: 0.1879 - accuracy: 0.9270 - val_loss: 0.2703 - val_accuracy: 0.8923\n",
      "Epoch 4/5\n",
      "344/344 [==============================] - 75s 219ms/step - loss: 0.1495 - accuracy: 0.9442 - val_loss: 0.2947 - val_accuracy: 0.8895\n",
      "Epoch 5/5\n",
      "344/344 [==============================] - 76s 220ms/step - loss: 0.1257 - accuracy: 0.9534 - val_loss: 0.2987 - val_accuracy: 0.8895\n",
      "Epoch 1/5\n",
      "344/344 [==============================] - 102s 267ms/step - loss: 0.4816 - accuracy: 0.7580 - val_loss: 0.2969 - val_accuracy: 0.8775\n",
      "Epoch 2/5\n",
      "344/344 [==============================] - 97s 281ms/step - loss: 0.2526 - accuracy: 0.8966 - val_loss: 0.2856 - val_accuracy: 0.8769\n",
      "Epoch 3/5\n",
      "344/344 [==============================] - 97s 281ms/step - loss: 0.1868 - accuracy: 0.9268 - val_loss: 0.2680 - val_accuracy: 0.8942\n",
      "Epoch 4/5\n",
      "344/344 [==============================] - 97s 282ms/step - loss: 0.1517 - accuracy: 0.9433 - val_loss: 0.2679 - val_accuracy: 0.8931\n",
      "Epoch 5/5\n",
      "344/344 [==============================] - 97s 281ms/step - loss: 0.1255 - accuracy: 0.9534 - val_loss: 0.2947 - val_accuracy: 0.8900\n",
      "Epoch 1/5\n",
      "344/344 [==============================] - 83s 227ms/step - loss: 0.4854 - accuracy: 0.7572 - val_loss: 0.3086 - val_accuracy: 0.8692\n",
      "Epoch 2/5\n",
      "344/344 [==============================] - 77s 225ms/step - loss: 0.2668 - accuracy: 0.8927 - val_loss: 0.2651 - val_accuracy: 0.8866\n",
      "Epoch 3/5\n",
      "344/344 [==============================] - 77s 225ms/step - loss: 0.2028 - accuracy: 0.9206 - val_loss: 0.2665 - val_accuracy: 0.8892\n",
      "Epoch 4/5\n",
      "344/344 [==============================] - 78s 227ms/step - loss: 0.1746 - accuracy: 0.9313 - val_loss: 0.3303 - val_accuracy: 0.8687\n",
      "Epoch 5/5\n",
      "344/344 [==============================] - 79s 228ms/step - loss: 0.1453 - accuracy: 0.9438 - val_loss: 0.3086 - val_accuracy: 0.8832\n",
      "Epoch 1/5\n",
      "344/344 [==============================] - 106s 276ms/step - loss: 0.4980 - accuracy: 0.7442 - val_loss: 0.3007 - val_accuracy: 0.8721\n",
      "Epoch 2/5\n",
      "344/344 [==============================] - 100s 291ms/step - loss: 0.2669 - accuracy: 0.8930 - val_loss: 0.2819 - val_accuracy: 0.8857\n",
      "Epoch 3/5\n",
      "344/344 [==============================] - 109s 318ms/step - loss: 0.2093 - accuracy: 0.9179 - val_loss: 0.2817 - val_accuracy: 0.8923\n",
      "Epoch 4/5\n",
      "344/344 [==============================] - 103s 299ms/step - loss: 0.1706 - accuracy: 0.9370 - val_loss: 0.2767 - val_accuracy: 0.8873\n",
      "Epoch 5/5\n",
      "344/344 [==============================] - 97s 283ms/step - loss: 0.1411 - accuracy: 0.9474 - val_loss: 0.2828 - val_accuracy: 0.8868\n",
      "Epoch 1/5\n",
      "344/344 [==============================] - 92s 246ms/step - loss: 0.5011 - accuracy: 0.7431 - val_loss: 0.3170 - val_accuracy: 0.8687\n",
      "Epoch 2/5\n",
      "344/344 [==============================] - 83s 241ms/step - loss: 0.2853 - accuracy: 0.8822 - val_loss: 0.2874 - val_accuracy: 0.8795\n",
      "Epoch 3/5\n",
      "344/344 [==============================] - 85s 246ms/step - loss: 0.2289 - accuracy: 0.9089 - val_loss: 0.2650 - val_accuracy: 0.8919\n",
      "Epoch 4/5\n",
      "344/344 [==============================] - 86s 251ms/step - loss: 0.1953 - accuracy: 0.9228 - val_loss: 0.2963 - val_accuracy: 0.8786\n",
      "Epoch 5/5\n",
      "344/344 [==============================] - 84s 244ms/step - loss: 0.1751 - accuracy: 0.9293 - val_loss: 0.3225 - val_accuracy: 0.8691\n",
      "Epoch 1/5\n",
      "344/344 [==============================] - 118s 306ms/step - loss: 0.5271 - accuracy: 0.7277 - val_loss: 0.3448 - val_accuracy: 0.8482\n",
      "Epoch 2/5\n",
      "344/344 [==============================] - 99s 288ms/step - loss: 0.2897 - accuracy: 0.8783 - val_loss: 0.3048 - val_accuracy: 0.8726\n"
     ]
    },
    {
     "name": "stdout",
     "output_type": "stream",
     "text": [
      "Epoch 3/5\n",
      "344/344 [==============================] - 102s 296ms/step - loss: 0.2270 - accuracy: 0.9057 - val_loss: 0.2804 - val_accuracy: 0.8831\n",
      "Epoch 4/5\n",
      "344/344 [==============================] - 102s 297ms/step - loss: 0.1883 - accuracy: 0.9262 - val_loss: 0.2979 - val_accuracy: 0.8737\n",
      "Epoch 5/5\n",
      "344/344 [==============================] - 104s 304ms/step - loss: 0.1618 - accuracy: 0.9375 - val_loss: 0.2907 - val_accuracy: 0.8849\n",
      "Epoch 1/5\n",
      "344/344 [==============================] - 88s 240ms/step - loss: 0.5174 - accuracy: 0.7347 - val_loss: 0.3197 - val_accuracy: 0.8665\n",
      "Epoch 2/5\n",
      "344/344 [==============================] - 82s 238ms/step - loss: 0.3099 - accuracy: 0.8708 - val_loss: 0.2751 - val_accuracy: 0.8860\n",
      "Epoch 3/5\n",
      "344/344 [==============================] - 82s 238ms/step - loss: 0.2528 - accuracy: 0.8974 - val_loss: 0.2750 - val_accuracy: 0.8861\n",
      "Epoch 4/5\n",
      "344/344 [==============================] - 81s 236ms/step - loss: 0.2217 - accuracy: 0.9093 - val_loss: 0.2764 - val_accuracy: 0.8875\n",
      "Epoch 5/5\n",
      "344/344 [==============================] - 81s 234ms/step - loss: 0.1943 - accuracy: 0.9215 - val_loss: 0.2816 - val_accuracy: 0.8860\n",
      "Epoch 1/5\n",
      "344/344 [==============================] - 126s 329ms/step - loss: 0.5417 - accuracy: 0.7133 - val_loss: 0.3556 - val_accuracy: 0.8456\n",
      "Epoch 2/5\n",
      "344/344 [==============================] - 129s 376ms/step - loss: 0.3057 - accuracy: 0.8728 - val_loss: 0.2691 - val_accuracy: 0.8922\n",
      "Epoch 3/5\n",
      "344/344 [==============================] - 117s 339ms/step - loss: 0.2396 - accuracy: 0.9027 - val_loss: 0.2898 - val_accuracy: 0.8815\n",
      "Epoch 4/5\n",
      "344/344 [==============================] - 117s 339ms/step - loss: 0.2073 - accuracy: 0.9179 - val_loss: 0.3213 - val_accuracy: 0.8764\n",
      "Epoch 5/5\n",
      "344/344 [==============================] - 118s 344ms/step - loss: 0.1789 - accuracy: 0.9309 - val_loss: 0.2732 - val_accuracy: 0.8897\n"
     ]
    }
   ],
   "source": [
    "hl_conv1d, hb_conv1d = {}, {}\n",
    "for dropout_after_conv1d in [0, 0.10, 0.25, 0.375, 0.50, 0.625, 0.75]:\n",
    "    lstm = create_model(embedding, conv1d, lstm_kw, \n",
    "                        dropout_after_embedding=0.50,\n",
    "                        dropout_after_conv1d=dropout_after_conv1d,\n",
    "                        bidirectional=False)\n",
    "    blstm = create_model(embedding, conv1d, lstm_kw, \n",
    "                         dropout_after_embedding=0.50,\n",
    "                         dropout_after_conv1d=dropout_after_conv1d, \n",
    "                         bidirectional=True)\n",
    "    hl = lstm.fit(X_train, y_train, batch_size=64, epochs=5, validation_data=(X_test, y_test))\n",
    "    hb = blstm.fit(X_train, y_train, batch_size=64, epochs=5, validation_data=(X_test, y_test))\n",
    "    hl_acc, hb_acc = max(hl.history['val_accuracy']), max(hb.history['val_accuracy'])\n",
    "    hl_conv1d[dropout_after_conv1d] = hl_acc\n",
    "    hb_conv1d[dropout_after_conv1d] = hb_acc    "
   ]
  },
  {
   "cell_type": "code",
   "execution_count": 53,
   "metadata": {},
   "outputs": [],
   "source": [
    "hl_conv1d = pd.Series(hl_conv1d, name='lstm_acc')\n",
    "hb_conv1d = pd.Series(hb_conv1d, name='blstm_acc')\n",
    "\n",
    "pd.to_pickle(hl_conv1d, \"hl_conv1d.pkl\")\n",
    "pd.to_pickle(hb_conv1d, \"hb_conv1d.pkl\")"
   ]
  },
  {
   "cell_type": "code",
   "execution_count": 54,
   "metadata": {},
   "outputs": [
    {
     "data": {
      "text/html": [
       "<div>\n",
       "<style scoped>\n",
       "    .dataframe tbody tr th:only-of-type {\n",
       "        vertical-align: middle;\n",
       "    }\n",
       "\n",
       "    .dataframe tbody tr th {\n",
       "        vertical-align: top;\n",
       "    }\n",
       "\n",
       "    .dataframe thead th {\n",
       "        text-align: right;\n",
       "    }\n",
       "</style>\n",
       "<table border=\"1\" class=\"dataframe\">\n",
       "  <thead>\n",
       "    <tr style=\"text-align: right;\">\n",
       "      <th></th>\n",
       "      <th>lstm</th>\n",
       "      <th>blstm</th>\n",
       "    </tr>\n",
       "  </thead>\n",
       "  <tbody>\n",
       "    <tr>\n",
       "      <th>0.000</th>\n",
       "      <td>0.891737</td>\n",
       "      <td>0.892844</td>\n",
       "    </tr>\n",
       "    <tr>\n",
       "      <th>0.100</th>\n",
       "      <td>0.893121</td>\n",
       "      <td>0.891922</td>\n",
       "    </tr>\n",
       "    <tr>\n",
       "      <th>0.250</th>\n",
       "      <td>0.891922</td>\n",
       "      <td>0.896256</td>\n",
       "    </tr>\n",
       "    <tr>\n",
       "      <th>0.375</th>\n",
       "      <td>0.893028</td>\n",
       "      <td>0.894227</td>\n",
       "    </tr>\n",
       "    <tr>\n",
       "      <th>0.500</th>\n",
       "      <td>0.889248</td>\n",
       "      <td>0.892291</td>\n",
       "    </tr>\n",
       "    <tr>\n",
       "      <th>0.625</th>\n",
       "      <td>0.891922</td>\n",
       "      <td>0.884913</td>\n",
       "    </tr>\n",
       "    <tr>\n",
       "      <th>0.750</th>\n",
       "      <td>0.887495</td>\n",
       "      <td>0.892198</td>\n",
       "    </tr>\n",
       "  </tbody>\n",
       "</table>\n",
       "</div>"
      ],
      "text/plain": [
       "           lstm     blstm\n",
       "0.000  0.891737  0.892844\n",
       "0.100  0.893121  0.891922\n",
       "0.250  0.891922  0.896256\n",
       "0.375  0.893028  0.894227\n",
       "0.500  0.889248  0.892291\n",
       "0.625  0.891922  0.884913\n",
       "0.750  0.887495  0.892198"
      ]
     },
     "execution_count": 54,
     "metadata": {},
     "output_type": "execute_result"
    }
   ],
   "source": [
    "pd.DataFrame({'lstm':hl_conv1d, 'blstm':hb_conv1d})"
   ]
  },
  {
   "cell_type": "code",
   "execution_count": 55,
   "metadata": {},
   "outputs": [
    {
     "data": {
      "image/png": "[encoded data removed]",
      "text/plain": [
       "<Figure size 864x288 with 1 Axes>"
      ]
     },
     "metadata": {
      "needs_background": "light"
     },
     "output_type": "display_data"
    }
   ],
   "source": [
    "plt.figure(figsize=(12, 4))\n",
    "hl_conv1d.plot(label='lstm', marker='o')\n",
    "hb_conv1d.plot(label='blstm', marker='*')\n",
    "plt.legend(fancybox=True, shadow=True)\n",
    "plt.grid()\n",
    "plt.xlabel(\"Conv1d dropout\")\n",
    "plt.ylabel(\"accuracy\")\n",
    "plt.title(\"Conv1d Dropout VS Accuracy\");"
   ]
  },
  {
   "cell_type": "code",
   "execution_count": null,
   "metadata": {},
   "outputs": [
    {
     "name": "stdout",
     "output_type": "stream",
     "text": [
      "#########################################################################\n",
      "#########################################################################\n",
      "#########################################################################\n",
      "#########################################################################\n",
      "#########################################################################\n",
      "Epoch 1/7\n",
      "344/344 [==============================] - 96s 262ms/step - loss: 0.4522 - accuracy: 0.7757 - val_loss: 0.2854 - val_accuracy: 0.8788\n",
      "Epoch 2/7\n",
      "344/344 [==============================] - 89s 260ms/step - loss: 0.2288 - accuracy: 0.9096 - val_loss: 0.2645 - val_accuracy: 0.8933\n",
      "Epoch 3/7\n",
      "344/344 [==============================] - 89s 260ms/step - loss: 0.1588 - accuracy: 0.9399 - val_loss: 0.2744 - val_accuracy: 0.8926\n",
      "Epoch 4/7\n",
      "344/344 [==============================] - 89s 259ms/step - loss: 0.1287 - accuracy: 0.9533 - val_loss: 0.2905 - val_accuracy: 0.8856\n",
      "Epoch 5/7\n",
      "344/344 [==============================] - 89s 260ms/step - loss: 0.1072 - accuracy: 0.9599 - val_loss: 0.3240 - val_accuracy: 0.8797\n",
      "Epoch 6/7\n",
      "344/344 [==============================] - 90s 263ms/step - loss: 0.0854 - accuracy: 0.9693 - val_loss: 0.3381 - val_accuracy: 0.8835\n",
      "Epoch 7/7\n",
      "344/344 [==============================] - 92s 268ms/step - loss: 0.0710 - accuracy: 0.9752 - val_loss: 0.3802 - val_accuracy: 0.8809\n",
      "Epoch 1/7\n",
      "344/344 [==============================] - 130s 352ms/step - loss: 0.4772 - accuracy: 0.7633 - val_loss: 0.2968 - val_accuracy: 0.8772\n",
      "Epoch 2/7\n",
      "344/344 [==============================] - 122s 356ms/step - loss: 0.2460 - accuracy: 0.8999 - val_loss: 0.2629 - val_accuracy: 0.8929\n",
      "Epoch 3/7\n",
      "344/344 [==============================] - 124s 360ms/step - loss: 0.1753 - accuracy: 0.9327 - val_loss: 0.2661 - val_accuracy: 0.8912\n",
      "Epoch 4/7\n",
      "344/344 [==============================] - 128s 372ms/step - loss: 0.1417 - accuracy: 0.9470 - val_loss: 0.2770 - val_accuracy: 0.8916\n",
      "Epoch 5/7\n",
      "344/344 [==============================] - 116s 337ms/step - loss: 0.1179 - accuracy: 0.9550 - val_loss: 0.3092 - val_accuracy: 0.8871\n",
      "Epoch 6/7\n",
      "344/344 [==============================] - 116s 337ms/step - loss: 0.0956 - accuracy: 0.9639 - val_loss: 0.3364 - val_accuracy: 0.8840\n",
      "Epoch 7/7\n",
      "344/344 [==============================] - 116s 338ms/step - loss: 0.0779 - accuracy: 0.9719 - val_loss: 0.3551 - val_accuracy: 0.8858\n",
      "#########################################################################\n",
      "#########################################################################\n",
      "#########################################################################\n",
      "#########################################################################\n",
      "#########################################################################\n",
      "Epoch 1/7\n",
      "344/344 [==============================] - 100s 271ms/step - loss: 0.4609 - accuracy: 0.7758 - val_loss: 0.3249 - val_accuracy: 0.8652\n",
      "Epoch 2/7\n",
      "344/344 [==============================] - 92s 266ms/step - loss: 0.2299 - accuracy: 0.9105 - val_loss: 0.2682 - val_accuracy: 0.8890\n",
      "Epoch 3/7\n",
      "344/344 [==============================] - 93s 271ms/step - loss: 0.1718 - accuracy: 0.9345 - val_loss: 0.3178 - val_accuracy: 0.8648\n",
      "Epoch 4/7\n",
      "344/344 [==============================] - 92s 267ms/step - loss: 0.1370 - accuracy: 0.9483 - val_loss: 0.3332 - val_accuracy: 0.8806\n",
      "Epoch 5/7\n",
      "344/344 [==============================] - 93s 269ms/step - loss: 0.1086 - accuracy: 0.9604 - val_loss: 0.3175 - val_accuracy: 0.8892\n",
      "Epoch 6/7\n",
      "344/344 [==============================] - 93s 270ms/step - loss: 0.0915 - accuracy: 0.9657 - val_loss: 0.3418 - val_accuracy: 0.8786\n",
      "Epoch 7/7\n",
      "344/344 [==============================] - 92s 268ms/step - loss: 0.0770 - accuracy: 0.9711 - val_loss: 0.3745 - val_accuracy: 0.8834\n",
      "Epoch 1/7\n",
      "344/344 [==============================] - 128s 342ms/step - loss: 0.4863 - accuracy: 0.7582 - val_loss: 0.3069 - val_accuracy: 0.8761\n",
      "Epoch 2/7\n",
      "344/344 [==============================] - 113s 330ms/step - loss: 0.2510 - accuracy: 0.8992 - val_loss: 0.2751 - val_accuracy: 0.8905\n",
      "Epoch 3/7\n",
      "344/344 [==============================] - 114s 331ms/step - loss: 0.1820 - accuracy: 0.9303 - val_loss: 0.2644 - val_accuracy: 0.8928\n",
      "Epoch 4/7\n",
      "344/344 [==============================] - 119s 346ms/step - loss: 0.1414 - accuracy: 0.9477 - val_loss: 0.2753 - val_accuracy: 0.8918\n",
      "Epoch 5/7\n",
      " 34/344 [=>............................] - ETA: 1:34 - loss: 0.0873 - accuracy: 0.9678"
     ]
    }
   ],
   "source": [
    "hl_lstm, hb_lstm = {}, {}\n",
    "for lstm_dropout in [0, 0.10, 0.25, 0.375, 0.50, 0.625, 0.75]:\n",
    "    for i in range(5):\n",
    "        print(\"#####################################      \", i, \"      ####################################\")\n",
    "    \n",
    "    lstm_kw['dropout'] = lstm_dropout\n",
    "    lstm = create_model(embedding, conv1d, lstm_kw, \n",
    "                        dropout_after_embedding=0.50,\n",
    "                        dropout_after_conv1d=0.10,\n",
    "                        dropout_after_lstm=0.0,\n",
    "                        bidirectional=False)\n",
    "    blstm = create_model(embedding, conv1d, lstm_kw, \n",
    "                         dropout_after_embedding=0.50,\n",
    "                         dropout_after_conv1d=0.25,\n",
    "                         dropout_after_lstm=0.0,\n",
    "                         bidirectional=True)\n",
    "    hl = lstm.fit(X_train, y_train, batch_size=64, epochs=7, validation_data=(X_test, y_test))\n",
    "    hb = blstm.fit(X_train, y_train, batch_size=64, epochs=7, validation_data=(X_test, y_test))\n",
    "    hl_acc, hb_acc = max(hl.history['val_accuracy']), max(hb.history['val_accuracy'])\n",
    "    hl_lstm[lstm_dropout] = hl_acc\n",
    "    hb_lstm[lstm_dropout] = hb_acc "
   ]
  },
  {
   "cell_type": "code",
   "execution_count": 123,
   "metadata": {},
   "outputs": [],
   "source": [
    "hl_lstm = pd.Series(hl_lstm, name='lstm_acc')\n",
    "hb_lstm = pd.Series(hb_lstm, name='blstm_acc')\n",
    "\n",
    "pd.to_pickle(hl_lstm, \"hl_lstm_dropout.pkl\")\n",
    "pd.to_pickle(hb_lstm, \"hb_lstm_dropout.pkl\")"
   ]
  },
  {
   "cell_type": "code",
   "execution_count": 127,
   "metadata": {},
   "outputs": [
    {
     "data": {
      "text/html": [
       "<div>\n",
       "<style scoped>\n",
       "    .dataframe tbody tr th:only-of-type {\n",
       "        vertical-align: middle;\n",
       "    }\n",
       "\n",
       "    .dataframe tbody tr th {\n",
       "        vertical-align: top;\n",
       "    }\n",
       "\n",
       "    .dataframe thead th {\n",
       "        text-align: right;\n",
       "    }\n",
       "</style>\n",
       "<table border=\"1\" class=\"dataframe\">\n",
       "  <thead>\n",
       "    <tr style=\"text-align: right;\">\n",
       "      <th></th>\n",
       "      <th>lstm</th>\n",
       "      <th>blstm</th>\n",
       "    </tr>\n",
       "  </thead>\n",
       "  <tbody>\n",
       "    <tr>\n",
       "      <th>0.000</th>\n",
       "      <td>0.893154</td>\n",
       "      <td>0.892139</td>\n",
       "    </tr>\n",
       "    <tr>\n",
       "      <th>0.100</th>\n",
       "      <td>0.898044</td>\n",
       "      <td>0.903211</td>\n",
       "    </tr>\n",
       "    <tr>\n",
       "      <th>0.250</th>\n",
       "      <td>0.898228</td>\n",
       "      <td>0.896752</td>\n",
       "    </tr>\n",
       "    <tr>\n",
       "      <th>0.375</th>\n",
       "      <td>0.900720</td>\n",
       "      <td>0.891862</td>\n",
       "    </tr>\n",
       "    <tr>\n",
       "      <th>0.500</th>\n",
       "      <td>0.889278</td>\n",
       "      <td>0.889555</td>\n",
       "    </tr>\n",
       "    <tr>\n",
       "      <th>0.625</th>\n",
       "      <td>0.858369</td>\n",
       "      <td>0.889002</td>\n",
       "    </tr>\n",
       "    <tr>\n",
       "      <th>0.750</th>\n",
       "      <td>0.833549</td>\n",
       "      <td>0.881805</td>\n",
       "    </tr>\n",
       "  </tbody>\n",
       "</table>\n",
       "</div>"
      ],
      "text/plain": [
       "           lstm     blstm\n",
       "0.000  0.893154  0.892139\n",
       "0.100  0.898044  0.903211\n",
       "0.250  0.898228  0.896752\n",
       "0.375  0.900720  0.891862\n",
       "0.500  0.889278  0.889555\n",
       "0.625  0.858369  0.889002\n",
       "0.750  0.833549  0.881805"
      ]
     },
     "execution_count": 127,
     "metadata": {},
     "output_type": "execute_result"
    }
   ],
   "source": [
    "pd.DataFrame({'lstm':hl_lstm, 'blstm':hb_lstm})"
   ]
  },
  {
   "cell_type": "code",
   "execution_count": 128,
   "metadata": {},
   "outputs": [
    {
     "data": {
      "image/png": "[encoded data removed]",
      "text/plain": [
       "<Figure size 864x288 with 1 Axes>"
      ]
     },
     "metadata": {
      "needs_background": "light"
     },
     "output_type": "display_data"
    }
   ],
   "source": [
    "plt.figure(figsize=(12, 4))\n",
    "hl_lstm.plot(label='lstm', marker='o')\n",
    "hb_lstm.plot(label='blstm', marker='*')\n",
    "plt.legend(fancybox=True, shadow=True)\n",
    "plt.grid()\n",
    "plt.xlabel(\"lstm dropout\")\n",
    "plt.ylabel(\"accuracy\")\n",
    "plt.title(\"LSTM Internal Dropout VS Accuracy\");"
   ]
  },
  {
   "cell_type": "code",
   "execution_count": 136,
   "metadata": {},
   "outputs": [
    {
     "name": "stderr",
     "output_type": "stream",
     "text": [
      "C:\\Users\\yiorg\\anaconda3\\envs\\dl\\lib\\site-packages\\tensorflow_core\\python\\framework\\indexed_slices.py:433: UserWarning: Converting sparse IndexedSlices to a dense Tensor of unknown shape. This may consume a large amount of memory.\n",
      "  \"Converting sparse IndexedSlices to a dense Tensor of unknown shape. \"\n"
     ]
    },
    {
     "name": "stdout",
     "output_type": "stream",
     "text": [
      "Train on 22003 samples, validate on 10838 samples\n",
      "Epoch 1/5\n",
      "22003/22003 [==============================] - 35s 2ms/step - loss: 0.5334 - accuracy: 0.7229 - val_loss: 0.3310 - val_accuracy: 0.8644\n",
      "Epoch 2/5\n",
      "22003/22003 [==============================] - 34s 2ms/step - loss: 0.3305 - accuracy: 0.8597 - val_loss: 0.2820 - val_accuracy: 0.8873\n",
      "Epoch 3/5\n",
      "22003/22003 [==============================] - 36s 2ms/step - loss: 0.2719 - accuracy: 0.8898 - val_loss: 0.2674 - val_accuracy: 0.8920\n",
      "Epoch 4/5\n",
      "22003/22003 [==============================] - 35s 2ms/step - loss: 0.2224 - accuracy: 0.9103 - val_loss: 0.2984 - val_accuracy: 0.8840\n",
      "Epoch 5/5\n",
      "22003/22003 [==============================] - 33s 2ms/step - loss: 0.1952 - accuracy: 0.9241 - val_loss: 0.3046 - val_accuracy: 0.8770\n"
     ]
    },
    {
     "name": "stderr",
     "output_type": "stream",
     "text": [
      "C:\\Users\\yiorg\\anaconda3\\envs\\dl\\lib\\site-packages\\tensorflow_core\\python\\framework\\indexed_slices.py:433: UserWarning: Converting sparse IndexedSlices to a dense Tensor of unknown shape. This may consume a large amount of memory.\n",
      "  \"Converting sparse IndexedSlices to a dense Tensor of unknown shape. \"\n"
     ]
    },
    {
     "name": "stdout",
     "output_type": "stream",
     "text": [
      "Train on 22003 samples, validate on 10838 samples\n",
      "Epoch 1/5\n",
      "22003/22003 [==============================] - 49s 2ms/step - loss: 0.5032 - accuracy: 0.7487 - val_loss: 0.3052 - val_accuracy: 0.8779\n",
      "Epoch 2/5\n",
      "22003/22003 [==============================] - 48s 2ms/step - loss: 0.2713 - accuracy: 0.8892 - val_loss: 0.2679 - val_accuracy: 0.8854\n",
      "Epoch 3/5\n",
      "22003/22003 [==============================] - 46s 2ms/step - loss: 0.2016 - accuracy: 0.9220 - val_loss: 0.2547 - val_accuracy: 0.8978\n",
      "Epoch 4/5\n",
      "22003/22003 [==============================] - 46s 2ms/step - loss: 0.1663 - accuracy: 0.9358 - val_loss: 0.2558 - val_accuracy: 0.8970\n",
      "Epoch 5/5\n",
      "22003/22003 [==============================] - 48s 2ms/step - loss: 0.1366 - accuracy: 0.9471 - val_loss: 0.2771 - val_accuracy: 0.8920\n"
     ]
    },
    {
     "name": "stderr",
     "output_type": "stream",
     "text": [
      "C:\\Users\\yiorg\\anaconda3\\envs\\dl\\lib\\site-packages\\tensorflow_core\\python\\framework\\indexed_slices.py:433: UserWarning: Converting sparse IndexedSlices to a dense Tensor of unknown shape. This may consume a large amount of memory.\n",
      "  \"Converting sparse IndexedSlices to a dense Tensor of unknown shape. \"\n"
     ]
    },
    {
     "name": "stdout",
     "output_type": "stream",
     "text": [
      "Train on 22003 samples, validate on 10838 samples\n",
      "Epoch 1/5\n",
      "22003/22003 [==============================] - 34s 2ms/step - loss: 0.5478 - accuracy: 0.7151 - val_loss: 0.3210 - val_accuracy: 0.8695\n",
      "Epoch 2/5\n",
      "22003/22003 [==============================] - 34s 2ms/step - loss: 0.3423 - accuracy: 0.8546 - val_loss: 0.2722 - val_accuracy: 0.8908\n",
      "Epoch 3/5\n",
      "22003/22003 [==============================] - 32s 1ms/step - loss: 0.2700 - accuracy: 0.8906 - val_loss: 0.2688 - val_accuracy: 0.8911\n",
      "Epoch 4/5\n",
      "22003/22003 [==============================] - 33s 2ms/step - loss: 0.2240 - accuracy: 0.9117 - val_loss: 0.2776 - val_accuracy: 0.8878\n",
      "Epoch 5/5\n",
      "22003/22003 [==============================] - 32s 1ms/step - loss: 0.1855 - accuracy: 0.9279 - val_loss: 0.2950 - val_accuracy: 0.8817\n"
     ]
    },
    {
     "name": "stderr",
     "output_type": "stream",
     "text": [
      "C:\\Users\\yiorg\\anaconda3\\envs\\dl\\lib\\site-packages\\tensorflow_core\\python\\framework\\indexed_slices.py:433: UserWarning: Converting sparse IndexedSlices to a dense Tensor of unknown shape. This may consume a large amount of memory.\n",
      "  \"Converting sparse IndexedSlices to a dense Tensor of unknown shape. \"\n"
     ]
    },
    {
     "name": "stdout",
     "output_type": "stream",
     "text": [
      "Train on 22003 samples, validate on 10838 samples\n",
      "Epoch 1/5\n",
      "22003/22003 [==============================] - 48s 2ms/step - loss: 0.5355 - accuracy: 0.7253 - val_loss: 0.3569 - val_accuracy: 0.8466\n",
      "Epoch 2/5\n",
      "22003/22003 [==============================] - 44s 2ms/step - loss: 0.3203 - accuracy: 0.8618 - val_loss: 0.3121 - val_accuracy: 0.8646\n",
      "Epoch 3/5\n",
      "22003/22003 [==============================] - 45s 2ms/step - loss: 0.2726 - accuracy: 0.8884 - val_loss: 0.3055 - val_accuracy: 0.8674\n",
      "Epoch 4/5\n",
      "22003/22003 [==============================] - 46s 2ms/step - loss: 0.2290 - accuracy: 0.9076 - val_loss: 0.3051 - val_accuracy: 0.8690\n",
      "Epoch 5/5\n",
      "22003/22003 [==============================] - 47s 2ms/step - loss: 0.2030 - accuracy: 0.9193 - val_loss: 0.3308 - val_accuracy: 0.8560\n"
     ]
    },
    {
     "name": "stderr",
     "output_type": "stream",
     "text": [
      "C:\\Users\\yiorg\\anaconda3\\envs\\dl\\lib\\site-packages\\tensorflow_core\\python\\framework\\indexed_slices.py:433: UserWarning: Converting sparse IndexedSlices to a dense Tensor of unknown shape. This may consume a large amount of memory.\n",
      "  \"Converting sparse IndexedSlices to a dense Tensor of unknown shape. \"\n"
     ]
    },
    {
     "name": "stdout",
     "output_type": "stream",
     "text": [
      "Train on 22003 samples, validate on 10838 samples\n",
      "Epoch 1/5\n",
      "22003/22003 [==============================] - 35s 2ms/step - loss: 0.5567 - accuracy: 0.7048 - val_loss: 0.3808 - val_accuracy: 0.8386\n",
      "Epoch 2/5\n",
      "22003/22003 [==============================] - 34s 2ms/step - loss: 0.3805 - accuracy: 0.8355 - val_loss: 0.3392 - val_accuracy: 0.8583\n",
      "Epoch 3/5\n",
      "22003/22003 [==============================] - 33s 1ms/step - loss: 0.3182 - accuracy: 0.8678 - val_loss: 0.3083 - val_accuracy: 0.8684\n",
      "Epoch 4/5\n",
      "22003/22003 [==============================] - 33s 1ms/step - loss: 0.2834 - accuracy: 0.8818 - val_loss: 0.3232 - val_accuracy: 0.8603\n",
      "Epoch 5/5\n",
      "22003/22003 [==============================] - 33s 1ms/step - loss: 0.2512 - accuracy: 0.8980 - val_loss: 0.3404 - val_accuracy: 0.8507\n"
     ]
    },
    {
     "name": "stderr",
     "output_type": "stream",
     "text": [
      "C:\\Users\\yiorg\\anaconda3\\envs\\dl\\lib\\site-packages\\tensorflow_core\\python\\framework\\indexed_slices.py:433: UserWarning: Converting sparse IndexedSlices to a dense Tensor of unknown shape. This may consume a large amount of memory.\n",
      "  \"Converting sparse IndexedSlices to a dense Tensor of unknown shape. \"\n"
     ]
    },
    {
     "name": "stdout",
     "output_type": "stream",
     "text": [
      "Train on 22003 samples, validate on 10838 samples\n",
      "Epoch 1/5\n",
      "22003/22003 [==============================] - 45s 2ms/step - loss: 0.5174 - accuracy: 0.7369 - val_loss: 0.3087 - val_accuracy: 0.8713\n",
      "Epoch 2/5\n",
      "22003/22003 [==============================] - 43s 2ms/step - loss: 0.2991 - accuracy: 0.8762 - val_loss: 0.2855 - val_accuracy: 0.8822\n",
      "Epoch 3/5\n",
      "22003/22003 [==============================] - 45s 2ms/step - loss: 0.2372 - accuracy: 0.9074 - val_loss: 0.2692 - val_accuracy: 0.8912\n",
      "Epoch 4/5\n",
      "22003/22003 [==============================] - 45s 2ms/step - loss: 0.2021 - accuracy: 0.9221 - val_loss: 0.2718 - val_accuracy: 0.8908\n",
      "Epoch 5/5\n",
      "22003/22003 [==============================] - 45s 2ms/step - loss: 0.1655 - accuracy: 0.9354 - val_loss: 0.2894 - val_accuracy: 0.8905\n"
     ]
    },
    {
     "name": "stderr",
     "output_type": "stream",
     "text": [
      "C:\\Users\\yiorg\\anaconda3\\envs\\dl\\lib\\site-packages\\tensorflow_core\\python\\framework\\indexed_slices.py:433: UserWarning: Converting sparse IndexedSlices to a dense Tensor of unknown shape. This may consume a large amount of memory.\n",
      "  \"Converting sparse IndexedSlices to a dense Tensor of unknown shape. \"\n"
     ]
    },
    {
     "name": "stdout",
     "output_type": "stream",
     "text": [
      "Train on 22003 samples, validate on 10838 samples\n",
      "Epoch 1/5\n",
      "22003/22003 [==============================] - 33s 1ms/step - loss: 0.5692 - accuracy: 0.6987 - val_loss: 0.3823 - val_accuracy: 0.8390\n",
      "Epoch 2/5\n",
      "22003/22003 [==============================] - 31s 1ms/step - loss: 0.3982 - accuracy: 0.8279 - val_loss: 0.3377 - val_accuracy: 0.8583\n",
      "Epoch 3/5\n",
      "22003/22003 [==============================] - 32s 1ms/step - loss: 0.3374 - accuracy: 0.8572 - val_loss: 0.3299 - val_accuracy: 0.8593\n",
      "Epoch 4/5\n",
      "22003/22003 [==============================] - 32s 1ms/step - loss: 0.2916 - accuracy: 0.8783 - val_loss: 0.3449 - val_accuracy: 0.8493\n",
      "Epoch 5/5\n",
      "22003/22003 [==============================] - 32s 1ms/step - loss: 0.2624 - accuracy: 0.8926 - val_loss: 0.3373 - val_accuracy: 0.8541\n"
     ]
    },
    {
     "name": "stderr",
     "output_type": "stream",
     "text": [
      "C:\\Users\\yiorg\\anaconda3\\envs\\dl\\lib\\site-packages\\tensorflow_core\\python\\framework\\indexed_slices.py:433: UserWarning: Converting sparse IndexedSlices to a dense Tensor of unknown shape. This may consume a large amount of memory.\n",
      "  \"Converting sparse IndexedSlices to a dense Tensor of unknown shape. \"\n"
     ]
    },
    {
     "name": "stdout",
     "output_type": "stream",
     "text": [
      "Train on 22003 samples, validate on 10838 samples\n",
      "Epoch 1/5\n",
      "22003/22003 [==============================] - 46s 2ms/step - loss: 0.5461 - accuracy: 0.7168 - val_loss: 0.3444 - val_accuracy: 0.8542\n",
      "Epoch 2/5\n",
      "22003/22003 [==============================] - 43s 2ms/step - loss: 0.3297 - accuracy: 0.8645 - val_loss: 0.2888 - val_accuracy: 0.8815\n",
      "Epoch 3/5\n",
      "22003/22003 [==============================] - 42s 2ms/step - loss: 0.2440 - accuracy: 0.9027 - val_loss: 0.2726 - val_accuracy: 0.8873\n",
      "Epoch 4/5\n",
      "22003/22003 [==============================] - 43s 2ms/step - loss: 0.1981 - accuracy: 0.9225 - val_loss: 0.2789 - val_accuracy: 0.8915\n",
      "Epoch 5/5\n",
      "22003/22003 [==============================] - 44s 2ms/step - loss: 0.1669 - accuracy: 0.9362 - val_loss: 0.2843 - val_accuracy: 0.8910\n"
     ]
    },
    {
     "name": "stderr",
     "output_type": "stream",
     "text": [
      "C:\\Users\\yiorg\\anaconda3\\envs\\dl\\lib\\site-packages\\tensorflow_core\\python\\framework\\indexed_slices.py:433: UserWarning: Converting sparse IndexedSlices to a dense Tensor of unknown shape. This may consume a large amount of memory.\n",
      "  \"Converting sparse IndexedSlices to a dense Tensor of unknown shape. \"\n"
     ]
    },
    {
     "name": "stdout",
     "output_type": "stream",
     "text": [
      "Train on 22003 samples, validate on 10838 samples\n",
      "Epoch 1/5\n",
      "22003/22003 [==============================] - 32s 1ms/step - loss: 0.6017 - accuracy: 0.6690 - val_loss: 0.4301 - val_accuracy: 0.8124\n",
      "Epoch 2/5\n",
      "22003/22003 [==============================] - 31s 1ms/step - loss: 0.4153 - accuracy: 0.8166 - val_loss: 0.3252 - val_accuracy: 0.8658\n",
      "Epoch 3/5\n",
      "22003/22003 [==============================] - 32s 1ms/step - loss: 0.3299 - accuracy: 0.8652 - val_loss: 0.3128 - val_accuracy: 0.8679\n",
      "Epoch 4/5\n",
      "22003/22003 [==============================] - 32s 1ms/step - loss: 0.2745 - accuracy: 0.8914 - val_loss: 0.3135 - val_accuracy: 0.8675\n",
      "Epoch 5/5\n",
      "22003/22003 [==============================] - 31s 1ms/step - loss: 0.2351 - accuracy: 0.9083 - val_loss: 0.3181 - val_accuracy: 0.8674\n"
     ]
    },
    {
     "name": "stderr",
     "output_type": "stream",
     "text": [
      "C:\\Users\\yiorg\\anaconda3\\envs\\dl\\lib\\site-packages\\tensorflow_core\\python\\framework\\indexed_slices.py:433: UserWarning: Converting sparse IndexedSlices to a dense Tensor of unknown shape. This may consume a large amount of memory.\n",
      "  \"Converting sparse IndexedSlices to a dense Tensor of unknown shape. \"\n"
     ]
    },
    {
     "name": "stdout",
     "output_type": "stream",
     "text": [
      "Train on 22003 samples, validate on 10838 samples\n",
      "Epoch 1/5\n",
      "22003/22003 [==============================] - 45s 2ms/step - loss: 0.5617 - accuracy: 0.7075 - val_loss: 0.3599 - val_accuracy: 0.8488\n",
      "Epoch 2/5\n",
      "22003/22003 [==============================] - 44s 2ms/step - loss: 0.3574 - accuracy: 0.8496 - val_loss: 0.2991 - val_accuracy: 0.8770\n",
      "Epoch 3/5\n",
      "22003/22003 [==============================] - 43s 2ms/step - loss: 0.2719 - accuracy: 0.8923 - val_loss: 0.2972 - val_accuracy: 0.8823\n",
      "Epoch 4/5\n",
      "22003/22003 [==============================] - 43s 2ms/step - loss: 0.2361 - accuracy: 0.9076 - val_loss: 0.2837 - val_accuracy: 0.8844\n",
      "Epoch 5/5\n",
      "22003/22003 [==============================] - 43s 2ms/step - loss: 0.2025 - accuracy: 0.9234 - val_loss: 0.2883 - val_accuracy: 0.8799\n"
     ]
    },
    {
     "name": "stderr",
     "output_type": "stream",
     "text": [
      "C:\\Users\\yiorg\\anaconda3\\envs\\dl\\lib\\site-packages\\tensorflow_core\\python\\framework\\indexed_slices.py:433: UserWarning: Converting sparse IndexedSlices to a dense Tensor of unknown shape. This may consume a large amount of memory.\n",
      "  \"Converting sparse IndexedSlices to a dense Tensor of unknown shape. \"\n"
     ]
    },
    {
     "name": "stdout",
     "output_type": "stream",
     "text": [
      "Train on 22003 samples, validate on 10838 samples\n",
      "Epoch 1/5\n",
      "22003/22003 [==============================] - 33s 2ms/step - loss: 0.5995 - accuracy: 0.6775 - val_loss: 0.4080 - val_accuracy: 0.8201\n",
      "Epoch 2/5\n",
      "22003/22003 [==============================] - 32s 1ms/step - loss: 0.4328 - accuracy: 0.8048 - val_loss: 0.3325 - val_accuracy: 0.8559\n",
      "Epoch 3/5\n",
      "22003/22003 [==============================] - 32s 1ms/step - loss: 0.3566 - accuracy: 0.8511 - val_loss: 0.3354 - val_accuracy: 0.8572\n",
      "Epoch 4/5\n",
      "22003/22003 [==============================] - 31s 1ms/step - loss: 0.3005 - accuracy: 0.8796 - val_loss: 0.3285 - val_accuracy: 0.8578\n",
      "Epoch 5/5\n",
      "22003/22003 [==============================] - 32s 1ms/step - loss: 0.2623 - accuracy: 0.8959 - val_loss: 0.3283 - val_accuracy: 0.8630\n"
     ]
    },
    {
     "name": "stderr",
     "output_type": "stream",
     "text": [
      "C:\\Users\\yiorg\\anaconda3\\envs\\dl\\lib\\site-packages\\tensorflow_core\\python\\framework\\indexed_slices.py:433: UserWarning: Converting sparse IndexedSlices to a dense Tensor of unknown shape. This may consume a large amount of memory.\n",
      "  \"Converting sparse IndexedSlices to a dense Tensor of unknown shape. \"\n"
     ]
    },
    {
     "name": "stdout",
     "output_type": "stream",
     "text": [
      "Train on 22003 samples, validate on 10838 samples\n",
      "Epoch 1/5\n",
      "22003/22003 [==============================] - 52s 2ms/step - loss: 0.6108 - accuracy: 0.6667 - val_loss: 0.4234 - val_accuracy: 0.8124\n",
      "Epoch 2/5\n",
      "22003/22003 [==============================] - 50s 2ms/step - loss: 0.4058 - accuracy: 0.8233 - val_loss: 0.3313 - val_accuracy: 0.8544\n",
      "Epoch 3/5\n",
      "22003/22003 [==============================] - 52s 2ms/step - loss: 0.3094 - accuracy: 0.8743 - val_loss: 0.3253 - val_accuracy: 0.8642\n",
      "Epoch 4/5\n",
      "22003/22003 [==============================] - 51s 2ms/step - loss: 0.2598 - accuracy: 0.8993 - val_loss: 0.3154 - val_accuracy: 0.8750\n",
      "Epoch 5/5\n",
      "22003/22003 [==============================] - 50s 2ms/step - loss: 0.2186 - accuracy: 0.9165 - val_loss: 0.3291 - val_accuracy: 0.8739\n"
     ]
    },
    {
     "name": "stderr",
     "output_type": "stream",
     "text": [
      "C:\\Users\\yiorg\\anaconda3\\envs\\dl\\lib\\site-packages\\tensorflow_core\\python\\framework\\indexed_slices.py:433: UserWarning: Converting sparse IndexedSlices to a dense Tensor of unknown shape. This may consume a large amount of memory.\n",
      "  \"Converting sparse IndexedSlices to a dense Tensor of unknown shape. \"\n"
     ]
    },
    {
     "name": "stdout",
     "output_type": "stream",
     "text": [
      "Train on 22003 samples, validate on 10838 samples\n",
      "Epoch 1/5\n",
      "22003/22003 [==============================] - 36s 2ms/step - loss: 0.6276 - accuracy: 0.6480 - val_loss: 0.4840 - val_accuracy: 0.7697\n",
      "Epoch 2/5\n",
      "22003/22003 [==============================] - 34s 2ms/step - loss: 0.4706 - accuracy: 0.7828 - val_loss: 0.3730 - val_accuracy: 0.8376\n",
      "Epoch 3/5\n",
      "22003/22003 [==============================] - 35s 2ms/step - loss: 0.3853 - accuracy: 0.8330 - val_loss: 0.3456 - val_accuracy: 0.8526\n",
      "Epoch 4/5\n",
      "22003/22003 [==============================] - 35s 2ms/step - loss: 0.3185 - accuracy: 0.8688 - val_loss: 0.3474 - val_accuracy: 0.8549\n",
      "Epoch 5/5\n",
      "22003/22003 [==============================] - 35s 2ms/step - loss: 0.2816 - accuracy: 0.8863 - val_loss: 0.3307 - val_accuracy: 0.8643\n"
     ]
    },
    {
     "name": "stderr",
     "output_type": "stream",
     "text": [
      "C:\\Users\\yiorg\\anaconda3\\envs\\dl\\lib\\site-packages\\tensorflow_core\\python\\framework\\indexed_slices.py:433: UserWarning: Converting sparse IndexedSlices to a dense Tensor of unknown shape. This may consume a large amount of memory.\n",
      "  \"Converting sparse IndexedSlices to a dense Tensor of unknown shape. \"\n"
     ]
    },
    {
     "name": "stdout",
     "output_type": "stream",
     "text": [
      "Train on 22003 samples, validate on 10838 samples\n",
      "Epoch 1/5\n",
      "22003/22003 [==============================] - 50s 2ms/step - loss: 0.6477 - accuracy: 0.6290 - val_loss: 0.5031 - val_accuracy: 0.7612\n",
      "Epoch 2/5\n",
      "22003/22003 [==============================] - 50s 2ms/step - loss: 0.4641 - accuracy: 0.7868 - val_loss: 0.3743 - val_accuracy: 0.8395\n",
      "Epoch 3/5\n",
      "22003/22003 [==============================] - 51s 2ms/step - loss: 0.3374 - accuracy: 0.8602 - val_loss: 0.3203 - val_accuracy: 0.8661\n",
      "Epoch 4/5\n",
      "22003/22003 [==============================] - 49s 2ms/step - loss: 0.2600 - accuracy: 0.8968 - val_loss: 0.3041 - val_accuracy: 0.8755\n",
      "Epoch 5/5\n",
      "22003/22003 [==============================] - 51s 2ms/step - loss: 0.2077 - accuracy: 0.9222 - val_loss: 0.3000 - val_accuracy: 0.8806\n"
     ]
    }
   ],
   "source": [
    "hl_lstm_recurr, hb_lstm_recurr = {}, {}\n",
    "for lstm_recurr_dropout in [0, 0.10, 0.25, 0.375, 0.50, 0.625, 0.75]:\n",
    "    for i in range(5):\n",
    "        print(\"#####################################      \", i, \"      ####################################\")\n",
    "        \n",
    "    lstm_kw['recurrent_dropout'] = lstm_recurr_dropout\n",
    "    lstm_kw['dropout'] = 0.375\n",
    "    lstm = create_model(embedding, conv1d, lstm_kw, \n",
    "                        dropout_after_embedding=0.50,\n",
    "                        dropout_after_conv1d=0.10,\n",
    "                        dropout_after_lstm=0.0,\n",
    "                        bidirectional=False)\n",
    "    lstm_kw['dropout'] = 0.10\n",
    "    blstm = create_model(embedding, conv1d, lstm_kw, \n",
    "                         dropout_after_embedding=0.50,\n",
    "                         dropout_after_conv1d=0.25,\n",
    "                         dropout_after_lstm=0.0,\n",
    "                         bidirectional=True)\n",
    "    hl = lstm.fit(X_train, y_train, batch_size=64, epochs=5, validation_data=(X_test, y_test))\n",
    "    hb = blstm.fit(X_train, y_train, batch_size=64, epochs=5, validation_data=(X_test, y_test))\n",
    "    hl_acc, hb_acc = max(hl.history['val_accuracy']), max(hb.history['val_accuracy'])\n",
    "    hl_lstm_recurr[lstm_recurr_dropout] = hl_acc\n",
    "    hb_lstm_recurr[lstm_recurr_dropout] = hb_acc "
   ]
  },
  {
   "cell_type": "code",
   "execution_count": 137,
   "metadata": {},
   "outputs": [
    {
     "data": {
      "text/html": [
       "<div>\n",
       "<style scoped>\n",
       "    .dataframe tbody tr th:only-of-type {\n",
       "        vertical-align: middle;\n",
       "    }\n",
       "\n",
       "    .dataframe tbody tr th {\n",
       "        vertical-align: top;\n",
       "    }\n",
       "\n",
       "    .dataframe thead th {\n",
       "        text-align: right;\n",
       "    }\n",
       "</style>\n",
       "<table border=\"1\" class=\"dataframe\">\n",
       "  <thead>\n",
       "    <tr style=\"text-align: right;\">\n",
       "      <th></th>\n",
       "      <th>lstm</th>\n",
       "      <th>blstm</th>\n",
       "    </tr>\n",
       "  </thead>\n",
       "  <tbody>\n",
       "    <tr>\n",
       "      <th>0.000</th>\n",
       "      <td>0.891954</td>\n",
       "      <td>0.897767</td>\n",
       "    </tr>\n",
       "    <tr>\n",
       "      <th>0.100</th>\n",
       "      <td>0.891124</td>\n",
       "      <td>0.868980</td>\n",
       "    </tr>\n",
       "    <tr>\n",
       "      <th>0.250</th>\n",
       "      <td>0.868426</td>\n",
       "      <td>0.891216</td>\n",
       "    </tr>\n",
       "    <tr>\n",
       "      <th>0.375</th>\n",
       "      <td>0.859291</td>\n",
       "      <td>0.891493</td>\n",
       "    </tr>\n",
       "    <tr>\n",
       "      <th>0.500</th>\n",
       "      <td>0.867872</td>\n",
       "      <td>0.884388</td>\n",
       "    </tr>\n",
       "    <tr>\n",
       "      <th>0.625</th>\n",
       "      <td>0.862982</td>\n",
       "      <td>0.874977</td>\n",
       "    </tr>\n",
       "    <tr>\n",
       "      <th>0.750</th>\n",
       "      <td>0.864274</td>\n",
       "      <td>0.880605</td>\n",
       "    </tr>\n",
       "  </tbody>\n",
       "</table>\n",
       "</div>"
      ],
      "text/plain": [
       "           lstm     blstm\n",
       "0.000  0.891954  0.897767\n",
       "0.100  0.891124  0.868980\n",
       "0.250  0.868426  0.891216\n",
       "0.375  0.859291  0.891493\n",
       "0.500  0.867872  0.884388\n",
       "0.625  0.862982  0.874977\n",
       "0.750  0.864274  0.880605"
      ]
     },
     "execution_count": 137,
     "metadata": {},
     "output_type": "execute_result"
    }
   ],
   "source": [
    "hl_lstm_recurr = pd.Series(hl_lstm_recurr, name='lstm_recurr_acc')\n",
    "hb_lstm_recurr = pd.Series(hb_lstm_recurr, name='blstm_recurr_acc')\n",
    "\n",
    "pd.to_pickle(hl_lstm_recurr, \"hl_lstm_recurr_dropout.pkl\")\n",
    "pd.to_pickle(hb_lstm_recurr, \"hb_lstm_recurr_dropout.pkl\")\n",
    "pd.DataFrame({'lstm':hl_lstm_recurr, 'blstm':hb_lstm_recurr})"
   ]
  },
  {
   "cell_type": "code",
   "execution_count": 138,
   "metadata": {},
   "outputs": [
    {
     "data": {
      "image/png": "[encoded data removed]",
      "text/plain": [
       "<Figure size 864x288 with 1 Axes>"
      ]
     },
     "metadata": {
      "needs_background": "light"
     },
     "output_type": "display_data"
    }
   ],
   "source": [
    "plt.figure(figsize=(12, 4))\n",
    "hl_lstm_recurr.plot(label='lstm', marker='o')\n",
    "hb_lstm_recurr.plot(label='blstm', marker='*')\n",
    "plt.legend(fancybox=True, shadow=True)\n",
    "plt.grid()\n",
    "plt.xlabel(\"dropout\")\n",
    "plt.ylabel(\"accuracy\")\n",
    "plt.title(\"LSTM Recurrent Dropout VS Accuracy\");"
   ]
  },
  {
   "cell_type": "code",
   "execution_count": 140,
   "metadata": {},
   "outputs": [
    {
     "name": "stderr",
     "output_type": "stream",
     "text": [
      "C:\\Users\\yiorg\\anaconda3\\envs\\dl\\lib\\site-packages\\tensorflow_core\\python\\framework\\indexed_slices.py:433: UserWarning: Converting sparse IndexedSlices to a dense Tensor of unknown shape. This may consume a large amount of memory.\n",
      "  \"Converting sparse IndexedSlices to a dense Tensor of unknown shape. \"\n"
     ]
    },
    {
     "name": "stdout",
     "output_type": "stream",
     "text": [
      "Train on 22003 samples, validate on 10838 samples\n",
      "Epoch 1/5\n",
      "22003/22003 [==============================] - 34s 2ms/step - loss: 0.5176 - accuracy: 0.7343 - val_loss: 0.2950 - val_accuracy: 0.8803\n",
      "Epoch 2/5\n",
      "22003/22003 [==============================] - 34s 2ms/step - loss: 0.3058 - accuracy: 0.8718 - val_loss: 0.2529 - val_accuracy: 0.8979\n",
      "Epoch 3/5\n",
      "22003/22003 [==============================] - 33s 2ms/step - loss: 0.2288 - accuracy: 0.9070 - val_loss: 0.2600 - val_accuracy: 0.8920\n",
      "Epoch 4/5\n",
      "22003/22003 [==============================] - 34s 2ms/step - loss: 0.1841 - accuracy: 0.9276 - val_loss: 0.2693 - val_accuracy: 0.8905\n",
      "Epoch 5/5\n",
      "22003/22003 [==============================] - 34s 2ms/step - loss: 0.1553 - accuracy: 0.9401 - val_loss: 0.2929 - val_accuracy: 0.8785\n"
     ]
    },
    {
     "name": "stderr",
     "output_type": "stream",
     "text": [
      "C:\\Users\\yiorg\\anaconda3\\envs\\dl\\lib\\site-packages\\tensorflow_core\\python\\framework\\indexed_slices.py:433: UserWarning: Converting sparse IndexedSlices to a dense Tensor of unknown shape. This may consume a large amount of memory.\n",
      "  \"Converting sparse IndexedSlices to a dense Tensor of unknown shape. \"\n"
     ]
    },
    {
     "name": "stdout",
     "output_type": "stream",
     "text": [
      "Train on 22003 samples, validate on 10838 samples\n",
      "Epoch 1/5\n",
      "22003/22003 [==============================] - 50s 2ms/step - loss: 0.5008 - accuracy: 0.7481 - val_loss: 0.3101 - val_accuracy: 0.8701\n",
      "Epoch 2/5\n",
      "22003/22003 [==============================] - 48s 2ms/step - loss: 0.2515 - accuracy: 0.9006 - val_loss: 0.2466 - val_accuracy: 0.9002\n",
      "Epoch 3/5\n",
      "22003/22003 [==============================] - 46s 2ms/step - loss: 0.1935 - accuracy: 0.9247 - val_loss: 0.2482 - val_accuracy: 0.8981\n",
      "Epoch 4/5\n",
      "22003/22003 [==============================] - 47s 2ms/step - loss: 0.1506 - accuracy: 0.9418 - val_loss: 0.2624 - val_accuracy: 0.8979\n",
      "Epoch 5/5\n",
      "22003/22003 [==============================] - 47s 2ms/step - loss: 0.1201 - accuracy: 0.9557 - val_loss: 0.2888 - val_accuracy: 0.8910\n"
     ]
    },
    {
     "name": "stderr",
     "output_type": "stream",
     "text": [
      "C:\\Users\\yiorg\\anaconda3\\envs\\dl\\lib\\site-packages\\tensorflow_core\\python\\framework\\indexed_slices.py:433: UserWarning: Converting sparse IndexedSlices to a dense Tensor of unknown shape. This may consume a large amount of memory.\n",
      "  \"Converting sparse IndexedSlices to a dense Tensor of unknown shape. \"\n"
     ]
    },
    {
     "name": "stdout",
     "output_type": "stream",
     "text": [
      "Train on 22003 samples, validate on 10838 samples\n",
      "Epoch 1/5\n",
      "22003/22003 [==============================] - 35s 2ms/step - loss: 0.5324 - accuracy: 0.7275 - val_loss: 0.3367 - val_accuracy: 0.8715\n",
      "Epoch 2/5\n",
      "22003/22003 [==============================] - 33s 1ms/step - loss: 0.3131 - accuracy: 0.8701 - val_loss: 0.2809 - val_accuracy: 0.8813\n",
      "Epoch 3/5\n",
      "22003/22003 [==============================] - 32s 1ms/step - loss: 0.2413 - accuracy: 0.9028 - val_loss: 0.2535 - val_accuracy: 0.8980\n",
      "Epoch 4/5\n",
      "22003/22003 [==============================] - 34s 2ms/step - loss: 0.1876 - accuracy: 0.9263 - val_loss: 0.2936 - val_accuracy: 0.8883\n",
      "Epoch 5/5\n",
      "22003/22003 [==============================] - 32s 1ms/step - loss: 0.1585 - accuracy: 0.9391 - val_loss: 0.3327 - val_accuracy: 0.8773\n"
     ]
    },
    {
     "name": "stderr",
     "output_type": "stream",
     "text": [
      "C:\\Users\\yiorg\\anaconda3\\envs\\dl\\lib\\site-packages\\tensorflow_core\\python\\framework\\indexed_slices.py:433: UserWarning: Converting sparse IndexedSlices to a dense Tensor of unknown shape. This may consume a large amount of memory.\n",
      "  \"Converting sparse IndexedSlices to a dense Tensor of unknown shape. \"\n"
     ]
    },
    {
     "name": "stdout",
     "output_type": "stream",
     "text": [
      "Train on 22003 samples, validate on 10838 samples\n",
      "Epoch 1/5\n",
      "22003/22003 [==============================] - 49s 2ms/step - loss: 0.5205 - accuracy: 0.7304 - val_loss: 0.3249 - val_accuracy: 0.8655\n",
      "Epoch 2/5\n",
      "22003/22003 [==============================] - 47s 2ms/step - loss: 0.2949 - accuracy: 0.8792 - val_loss: 0.2806 - val_accuracy: 0.8812\n",
      "Epoch 3/5\n",
      "22003/22003 [==============================] - 48s 2ms/step - loss: 0.2272 - accuracy: 0.9105 - val_loss: 0.2583 - val_accuracy: 0.8897\n",
      "Epoch 4/5\n",
      "22003/22003 [==============================] - 47s 2ms/step - loss: 0.1848 - accuracy: 0.9281 - val_loss: 0.2713 - val_accuracy: 0.8860\n",
      "Epoch 5/5\n",
      "22003/22003 [==============================] - 48s 2ms/step - loss: 0.1558 - accuracy: 0.9411 - val_loss: 0.2928 - val_accuracy: 0.8922\n"
     ]
    },
    {
     "name": "stderr",
     "output_type": "stream",
     "text": [
      "C:\\Users\\yiorg\\anaconda3\\envs\\dl\\lib\\site-packages\\tensorflow_core\\python\\framework\\indexed_slices.py:433: UserWarning: Converting sparse IndexedSlices to a dense Tensor of unknown shape. This may consume a large amount of memory.\n",
      "  \"Converting sparse IndexedSlices to a dense Tensor of unknown shape. \"\n"
     ]
    },
    {
     "name": "stdout",
     "output_type": "stream",
     "text": [
      "Train on 22003 samples, validate on 10838 samples\n",
      "Epoch 1/5\n",
      "22003/22003 [==============================] - 35s 2ms/step - loss: 0.5510 - accuracy: 0.7124 - val_loss: 0.3394 - val_accuracy: 0.8658\n",
      "Epoch 2/5\n",
      "22003/22003 [==============================] - 32s 1ms/step - loss: 0.3329 - accuracy: 0.8585 - val_loss: 0.2775 - val_accuracy: 0.8892\n",
      "Epoch 3/5\n",
      "22003/22003 [==============================] - 33s 2ms/step - loss: 0.2685 - accuracy: 0.8910 - val_loss: 0.2720 - val_accuracy: 0.8879\n",
      "Epoch 4/5\n",
      "22003/22003 [==============================] - 34s 2ms/step - loss: 0.2331 - accuracy: 0.9050 - val_loss: 0.3004 - val_accuracy: 0.8767\n",
      "Epoch 5/5\n",
      "22003/22003 [==============================] - 34s 2ms/step - loss: 0.2020 - accuracy: 0.9213 - val_loss: 0.3150 - val_accuracy: 0.8708\n"
     ]
    },
    {
     "name": "stderr",
     "output_type": "stream",
     "text": [
      "C:\\Users\\yiorg\\anaconda3\\envs\\dl\\lib\\site-packages\\tensorflow_core\\python\\framework\\indexed_slices.py:433: UserWarning: Converting sparse IndexedSlices to a dense Tensor of unknown shape. This may consume a large amount of memory.\n",
      "  \"Converting sparse IndexedSlices to a dense Tensor of unknown shape. \"\n"
     ]
    },
    {
     "name": "stdout",
     "output_type": "stream",
     "text": [
      "Train on 22003 samples, validate on 10838 samples\n",
      "Epoch 1/5\n",
      "22003/22003 [==============================] - 50s 2ms/step - loss: 0.5110 - accuracy: 0.7440 - val_loss: 0.3138 - val_accuracy: 0.8672\n",
      "Epoch 2/5\n",
      "22003/22003 [==============================] - 52s 2ms/step - loss: 0.2663 - accuracy: 0.8925 - val_loss: 0.2503 - val_accuracy: 0.8974\n",
      "Epoch 3/5\n",
      "22003/22003 [==============================] - 50s 2ms/step - loss: 0.1922 - accuracy: 0.9263 - val_loss: 0.2675 - val_accuracy: 0.8980\n",
      "Epoch 4/5\n",
      "22003/22003 [==============================] - 48s 2ms/step - loss: 0.1489 - accuracy: 0.9444 - val_loss: 0.2587 - val_accuracy: 0.8964\n",
      "Epoch 5/5\n",
      "22003/22003 [==============================] - 49s 2ms/step - loss: 0.1276 - accuracy: 0.9532 - val_loss: 0.2781 - val_accuracy: 0.8927\n"
     ]
    },
    {
     "name": "stderr",
     "output_type": "stream",
     "text": [
      "C:\\Users\\yiorg\\anaconda3\\envs\\dl\\lib\\site-packages\\tensorflow_core\\python\\framework\\indexed_slices.py:433: UserWarning: Converting sparse IndexedSlices to a dense Tensor of unknown shape. This may consume a large amount of memory.\n",
      "  \"Converting sparse IndexedSlices to a dense Tensor of unknown shape. \"\n"
     ]
    },
    {
     "name": "stdout",
     "output_type": "stream",
     "text": [
      "Train on 22003 samples, validate on 10838 samples\n",
      "Epoch 1/5\n",
      "22003/22003 [==============================] - 35s 2ms/step - loss: 0.5588 - accuracy: 0.7047 - val_loss: 0.3596 - val_accuracy: 0.8465\n",
      "Epoch 2/5\n",
      "22003/22003 [==============================] - 33s 2ms/step - loss: 0.3372 - accuracy: 0.8582 - val_loss: 0.2713 - val_accuracy: 0.8949\n",
      "Epoch 3/5\n",
      "22003/22003 [==============================] - 33s 2ms/step - loss: 0.2576 - accuracy: 0.8981 - val_loss: 0.2578 - val_accuracy: 0.8963\n",
      "Epoch 4/5\n",
      "22003/22003 [==============================] - 33s 2ms/step - loss: 0.2080 - accuracy: 0.9193 - val_loss: 0.2710 - val_accuracy: 0.8863\n",
      "Epoch 5/5\n",
      "22003/22003 [==============================] - 34s 2ms/step - loss: 0.1781 - accuracy: 0.9336 - val_loss: 0.2807 - val_accuracy: 0.8858\n"
     ]
    },
    {
     "name": "stderr",
     "output_type": "stream",
     "text": [
      "C:\\Users\\yiorg\\anaconda3\\envs\\dl\\lib\\site-packages\\tensorflow_core\\python\\framework\\indexed_slices.py:433: UserWarning: Converting sparse IndexedSlices to a dense Tensor of unknown shape. This may consume a large amount of memory.\n",
      "  \"Converting sparse IndexedSlices to a dense Tensor of unknown shape. \"\n"
     ]
    },
    {
     "name": "stdout",
     "output_type": "stream",
     "text": [
      "Train on 22003 samples, validate on 10838 samples\n",
      "Epoch 1/5\n",
      "22003/22003 [==============================] - 59s 3ms/step - loss: 0.4881 - accuracy: 0.7545 - val_loss: 0.2941 - val_accuracy: 0.8765\n",
      "Epoch 2/5\n",
      "22003/22003 [==============================] - 57s 3ms/step - loss: 0.2565 - accuracy: 0.8983 - val_loss: 0.2479 - val_accuracy: 0.8973\n",
      "Epoch 3/5\n",
      "22003/22003 [==============================] - 56s 3ms/step - loss: 0.1907 - accuracy: 0.9262 - val_loss: 0.2502 - val_accuracy: 0.8949\n",
      "Epoch 4/5\n",
      "22003/22003 [==============================] - 58s 3ms/step - loss: 0.1593 - accuracy: 0.9398 - val_loss: 0.2585 - val_accuracy: 0.8981\n",
      "Epoch 5/5\n",
      "22003/22003 [==============================] - 57s 3ms/step - loss: 0.1315 - accuracy: 0.9536 - val_loss: 0.2777 - val_accuracy: 0.8938\n"
     ]
    },
    {
     "name": "stderr",
     "output_type": "stream",
     "text": [
      "C:\\Users\\yiorg\\anaconda3\\envs\\dl\\lib\\site-packages\\tensorflow_core\\python\\framework\\indexed_slices.py:433: UserWarning: Converting sparse IndexedSlices to a dense Tensor of unknown shape. This may consume a large amount of memory.\n",
      "  \"Converting sparse IndexedSlices to a dense Tensor of unknown shape. \"\n"
     ]
    },
    {
     "name": "stdout",
     "output_type": "stream",
     "text": [
      "Train on 22003 samples, validate on 10838 samples\n",
      "Epoch 1/5\n",
      "22003/22003 [==============================] - 38s 2ms/step - loss: 0.5532 - accuracy: 0.7143 - val_loss: 0.3457 - val_accuracy: 0.8576\n",
      "Epoch 2/5\n",
      "22003/22003 [==============================] - 38s 2ms/step - loss: 0.3347 - accuracy: 0.8612 - val_loss: 0.2731 - val_accuracy: 0.8878\n",
      "Epoch 3/5\n",
      "22003/22003 [==============================] - 37s 2ms/step - loss: 0.2675 - accuracy: 0.8935 - val_loss: 0.2660 - val_accuracy: 0.8920\n",
      "Epoch 4/5\n",
      "22003/22003 [==============================] - 37s 2ms/step - loss: 0.2155 - accuracy: 0.9181 - val_loss: 0.2849 - val_accuracy: 0.8792\n",
      "Epoch 5/5\n",
      "22003/22003 [==============================] - 38s 2ms/step - loss: 0.1867 - accuracy: 0.9308 - val_loss: 0.2893 - val_accuracy: 0.8851\n"
     ]
    },
    {
     "name": "stderr",
     "output_type": "stream",
     "text": [
      "C:\\Users\\yiorg\\anaconda3\\envs\\dl\\lib\\site-packages\\tensorflow_core\\python\\framework\\indexed_slices.py:433: UserWarning: Converting sparse IndexedSlices to a dense Tensor of unknown shape. This may consume a large amount of memory.\n",
      "  \"Converting sparse IndexedSlices to a dense Tensor of unknown shape. \"\n"
     ]
    },
    {
     "name": "stdout",
     "output_type": "stream",
     "text": [
      "Train on 22003 samples, validate on 10838 samples\n",
      "Epoch 1/5\n",
      "22003/22003 [==============================] - 56s 3ms/step - loss: 0.5026 - accuracy: 0.7457 - val_loss: 0.3273 - val_accuracy: 0.8628\n",
      "Epoch 2/5\n",
      "22003/22003 [==============================] - 53s 2ms/step - loss: 0.2772 - accuracy: 0.8887 - val_loss: 0.2771 - val_accuracy: 0.8838\n",
      "Epoch 3/5\n",
      "22003/22003 [==============================] - 54s 2ms/step - loss: 0.2092 - accuracy: 0.9206 - val_loss: 0.2689 - val_accuracy: 0.8917\n",
      "Epoch 4/5\n",
      "22003/22003 [==============================] - 55s 2ms/step - loss: 0.1749 - accuracy: 0.9337 - val_loss: 0.2795 - val_accuracy: 0.8930\n",
      "Epoch 5/5\n",
      "22003/22003 [==============================] - 56s 3ms/step - loss: 0.1453 - accuracy: 0.9457 - val_loss: 0.2850 - val_accuracy: 0.8935\n"
     ]
    },
    {
     "name": "stderr",
     "output_type": "stream",
     "text": [
      "C:\\Users\\yiorg\\anaconda3\\envs\\dl\\lib\\site-packages\\tensorflow_core\\python\\framework\\indexed_slices.py:433: UserWarning: Converting sparse IndexedSlices to a dense Tensor of unknown shape. This may consume a large amount of memory.\n",
      "  \"Converting sparse IndexedSlices to a dense Tensor of unknown shape. \"\n"
     ]
    },
    {
     "name": "stdout",
     "output_type": "stream",
     "text": [
      "Train on 22003 samples, validate on 10838 samples\n",
      "Epoch 1/5\n",
      "22003/22003 [==============================] - 38s 2ms/step - loss: 0.5673 - accuracy: 0.7037 - val_loss: 0.3812 - val_accuracy: 0.8452\n",
      "Epoch 2/5\n",
      "22003/22003 [==============================] - 38s 2ms/step - loss: 0.3626 - accuracy: 0.8457 - val_loss: 0.2939 - val_accuracy: 0.8832\n",
      "Epoch 3/5\n",
      "22003/22003 [==============================] - 38s 2ms/step - loss: 0.3008 - accuracy: 0.8779 - val_loss: 0.3208 - val_accuracy: 0.8620\n",
      "Epoch 4/5\n",
      "22003/22003 [==============================] - 36s 2ms/step - loss: 0.2640 - accuracy: 0.8962 - val_loss: 0.3464 - val_accuracy: 0.8490\n",
      "Epoch 5/5\n",
      "22003/22003 [==============================] - 37s 2ms/step - loss: 0.2333 - accuracy: 0.9084 - val_loss: 0.3428 - val_accuracy: 0.8499\n"
     ]
    },
    {
     "name": "stderr",
     "output_type": "stream",
     "text": [
      "C:\\Users\\yiorg\\anaconda3\\envs\\dl\\lib\\site-packages\\tensorflow_core\\python\\framework\\indexed_slices.py:433: UserWarning: Converting sparse IndexedSlices to a dense Tensor of unknown shape. This may consume a large amount of memory.\n",
      "  \"Converting sparse IndexedSlices to a dense Tensor of unknown shape. \"\n"
     ]
    },
    {
     "name": "stdout",
     "output_type": "stream",
     "text": [
      "Train on 22003 samples, validate on 10838 samples\n",
      "Epoch 1/5\n",
      "22003/22003 [==============================] - 54s 2ms/step - loss: 0.5200 - accuracy: 0.7367 - val_loss: 0.3117 - val_accuracy: 0.8724\n",
      "Epoch 2/5\n",
      "22003/22003 [==============================] - 52s 2ms/step - loss: 0.2803 - accuracy: 0.8883 - val_loss: 0.2622 - val_accuracy: 0.8894\n",
      "Epoch 3/5\n",
      "22003/22003 [==============================] - 52s 2ms/step - loss: 0.2001 - accuracy: 0.9225 - val_loss: 0.2456 - val_accuracy: 0.8989\n",
      "Epoch 4/5\n",
      "22003/22003 [==============================] - 52s 2ms/step - loss: 0.1583 - accuracy: 0.9425 - val_loss: 0.3053 - val_accuracy: 0.8974\n",
      "Epoch 5/5\n",
      "22003/22003 [==============================] - 52s 2ms/step - loss: 0.1308 - accuracy: 0.9523 - val_loss: 0.2797 - val_accuracy: 0.8913\n"
     ]
    },
    {
     "name": "stderr",
     "output_type": "stream",
     "text": [
      "C:\\Users\\yiorg\\anaconda3\\envs\\dl\\lib\\site-packages\\tensorflow_core\\python\\framework\\indexed_slices.py:433: UserWarning: Converting sparse IndexedSlices to a dense Tensor of unknown shape. This may consume a large amount of memory.\n",
      "  \"Converting sparse IndexedSlices to a dense Tensor of unknown shape. \"\n"
     ]
    },
    {
     "name": "stdout",
     "output_type": "stream",
     "text": [
      "Train on 22003 samples, validate on 10838 samples\n",
      "Epoch 1/5\n",
      "22003/22003 [==============================] - 35s 2ms/step - loss: 0.5863 - accuracy: 0.6847 - val_loss: 0.3516 - val_accuracy: 0.8574\n",
      "Epoch 2/5\n",
      "22003/22003 [==============================] - 35s 2ms/step - loss: 0.3649 - accuracy: 0.8504 - val_loss: 0.2748 - val_accuracy: 0.8898\n",
      "Epoch 3/5\n",
      "22003/22003 [==============================] - 35s 2ms/step - loss: 0.2867 - accuracy: 0.8913 - val_loss: 0.2554 - val_accuracy: 0.8969\n",
      "Epoch 4/5\n",
      "22003/22003 [==============================] - 34s 2ms/step - loss: 0.2327 - accuracy: 0.9130 - val_loss: 0.2732 - val_accuracy: 0.8872\n",
      "Epoch 5/5\n",
      "22003/22003 [==============================] - 35s 2ms/step - loss: 0.2057 - accuracy: 0.9277 - val_loss: 0.2931 - val_accuracy: 0.8843\n"
     ]
    },
    {
     "name": "stderr",
     "output_type": "stream",
     "text": [
      "C:\\Users\\yiorg\\anaconda3\\envs\\dl\\lib\\site-packages\\tensorflow_core\\python\\framework\\indexed_slices.py:433: UserWarning: Converting sparse IndexedSlices to a dense Tensor of unknown shape. This may consume a large amount of memory.\n",
      "  \"Converting sparse IndexedSlices to a dense Tensor of unknown shape. \"\n"
     ]
    },
    {
     "name": "stdout",
     "output_type": "stream",
     "text": [
      "Train on 22003 samples, validate on 10838 samples\n",
      "Epoch 1/5\n",
      "22003/22003 [==============================] - 52s 2ms/step - loss: 0.5762 - accuracy: 0.6948 - val_loss: 0.3553 - val_accuracy: 0.8525\n",
      "Epoch 2/5\n",
      "22003/22003 [==============================] - 51s 2ms/step - loss: 0.3254 - accuracy: 0.8704 - val_loss: 0.2676 - val_accuracy: 0.8908\n",
      "Epoch 3/5\n",
      "22003/22003 [==============================] - 51s 2ms/step - loss: 0.2418 - accuracy: 0.9116 - val_loss: 0.2520 - val_accuracy: 0.8955\n",
      "Epoch 4/5\n",
      "22003/22003 [==============================] - 50s 2ms/step - loss: 0.1938 - accuracy: 0.9305 - val_loss: 0.2657 - val_accuracy: 0.8952\n",
      "Epoch 5/5\n",
      "22003/22003 [==============================] - 51s 2ms/step - loss: 0.1579 - accuracy: 0.9442 - val_loss: 0.2840 - val_accuracy: 0.8930\n"
     ]
    }
   ],
   "source": [
    "hl_after_lstm, hb_after_lstm = {}, {}\n",
    "for dropout_after_lstm in [0, 0.10, 0.25, 0.375, 0.50, 0.625, 0.75]:\n",
    "    for i in range(5):\n",
    "        print(\"#####################################      \", i, \"      ####################################\")\n",
    "        \n",
    "    lstm_kw['recurrent_dropout'] = 0.0\n",
    "    lstm_kw['dropout'] = 0.375\n",
    "    lstm = create_model(embedding, conv1d, lstm_kw, \n",
    "                        dropout_after_embedding=0.50,\n",
    "                        dropout_after_conv1d=0.10,\n",
    "                        dropout_after_lstm=dropout_after_lstm,\n",
    "                        bidirectional=False)\n",
    "    lstm_kw['dropout'] = 0.10\n",
    "    blstm = create_model(embedding, conv1d, lstm_kw, \n",
    "                         dropout_after_embedding=0.50,\n",
    "                         dropout_after_conv1d=0.25,\n",
    "                         dropout_after_lstm=dropout_after_lstm,\n",
    "                         bidirectional=True)\n",
    "    hl = lstm.fit(X_train, y_train, batch_size=64, epochs=5, validation_data=(X_test, y_test))\n",
    "    hb = blstm.fit(X_train, y_train, batch_size=64, epochs=5, validation_data=(X_test, y_test))\n",
    "    hl_acc, hb_acc = max(hl.history['val_accuracy']), max(hb.history['val_accuracy'])\n",
    "    hl_after_lstm[dropout_after_lstm] = hl_acc\n",
    "    hb_after_lstm[dropout_after_lstm] = hb_acc "
   ]
  },
  {
   "cell_type": "code",
   "execution_count": 141,
   "metadata": {},
   "outputs": [
    {
     "data": {
      "text/html": [
       "<div>\n",
       "<style scoped>\n",
       "    .dataframe tbody tr th:only-of-type {\n",
       "        vertical-align: middle;\n",
       "    }\n",
       "\n",
       "    .dataframe tbody tr th {\n",
       "        vertical-align: top;\n",
       "    }\n",
       "\n",
       "    .dataframe thead th {\n",
       "        text-align: right;\n",
       "    }\n",
       "</style>\n",
       "<table border=\"1\" class=\"dataframe\">\n",
       "  <thead>\n",
       "    <tr style=\"text-align: right;\">\n",
       "      <th></th>\n",
       "      <th>lstm</th>\n",
       "      <th>blstm</th>\n",
       "    </tr>\n",
       "  </thead>\n",
       "  <tbody>\n",
       "    <tr>\n",
       "      <th>0.000</th>\n",
       "      <td>0.897859</td>\n",
       "      <td>0.900166</td>\n",
       "    </tr>\n",
       "    <tr>\n",
       "      <th>0.100</th>\n",
       "      <td>0.897952</td>\n",
       "      <td>0.892231</td>\n",
       "    </tr>\n",
       "    <tr>\n",
       "      <th>0.250</th>\n",
       "      <td>0.889186</td>\n",
       "      <td>0.897952</td>\n",
       "    </tr>\n",
       "    <tr>\n",
       "      <th>0.375</th>\n",
       "      <td>0.896291</td>\n",
       "      <td>0.898136</td>\n",
       "    </tr>\n",
       "    <tr>\n",
       "      <th>0.500</th>\n",
       "      <td>0.892047</td>\n",
       "      <td>0.893523</td>\n",
       "    </tr>\n",
       "    <tr>\n",
       "      <th>0.625</th>\n",
       "      <td>0.883189</td>\n",
       "      <td>0.898874</td>\n",
       "    </tr>\n",
       "    <tr>\n",
       "      <th>0.750</th>\n",
       "      <td>0.896937</td>\n",
       "      <td>0.895460</td>\n",
       "    </tr>\n",
       "  </tbody>\n",
       "</table>\n",
       "</div>"
      ],
      "text/plain": [
       "           lstm     blstm\n",
       "0.000  0.897859  0.900166\n",
       "0.100  0.897952  0.892231\n",
       "0.250  0.889186  0.897952\n",
       "0.375  0.896291  0.898136\n",
       "0.500  0.892047  0.893523\n",
       "0.625  0.883189  0.898874\n",
       "0.750  0.896937  0.895460"
      ]
     },
     "execution_count": 141,
     "metadata": {},
     "output_type": "execute_result"
    }
   ],
   "source": [
    "hl_after_lstm = pd.Series(hl_after_lstm, name='lstm_drop_after_lstm')\n",
    "hb_after_lstm = pd.Series(hb_after_lstm, name='blstm_drop_after_lstm')\n",
    "\n",
    "pd.to_pickle(hl_after_lstm, \"hl_dropout_after_lstm.pkl\")\n",
    "pd.to_pickle(hb_after_lstm, \"hb_dropout_after_lstm.pkl\")\n",
    "pd.DataFrame({'lstm':hl_after_lstm, 'blstm':hb_after_lstm})"
   ]
  },
  {
   "cell_type": "code",
   "execution_count": 142,
   "metadata": {},
   "outputs": [
    {
     "data": {
      "image/png": "[encoded data removed]",
      "text/plain": [
       "<Figure size 864x288 with 1 Axes>"
      ]
     },
     "metadata": {
      "needs_background": "light"
     },
     "output_type": "display_data"
    }
   ],
   "source": [
    "plt.figure(figsize=(12, 4))\n",
    "hl_after_lstm.plot(label='lstm', marker='o')\n",
    "hb_after_lstm.plot(label='blstm', marker='*')\n",
    "plt.legend(fancybox=True, shadow=True)\n",
    "plt.grid()\n",
    "plt.xlabel(\"dropout\")\n",
    "plt.ylabel(\"accuracy\")\n",
    "plt.title(\"LSTM Recurrent Dropout VS Accuracy\");"
   ]
  },
  {
   "cell_type": "code",
   "execution_count": null,
   "metadata": {},
   "outputs": [],
   "source": []
  },
  {
   "cell_type": "code",
   "execution_count": null,
   "metadata": {},
   "outputs": [],
   "source": []
  }
 ],
 "metadata": {
  "kernelspec": {
   "display_name": "Python 3",
   "language": "python",
   "name": "python3"
  },
  "language_info": {
   "codemirror_mode": {
    "name": "ipython",
    "version": 3
   },
   "file_extension": ".py",
   "mimetype": "text/x-python",
   "name": "python",
   "nbconvert_exporter": "python",
   "pygments_lexer": "ipython3",
   "version": "3.8.8"
  }
 },
 "nbformat": 4,
 "nbformat_minor": 4
}
